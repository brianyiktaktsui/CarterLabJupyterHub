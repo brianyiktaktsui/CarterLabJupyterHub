{
 "cells": [
  {
   "cell_type": "markdown",
   "metadata": {},
   "source": [
    "# Example analysis: Simple differential expression analysis between B-Cells and T-Lymphocytes\n",
    "\n",
    "README: Run this notebook trying to see how we can use the unified metadata and the reprocessed RNAseq data to extract thousands of reprocessed sequening runs to generate publication-ready figures in <1 minute. "
   ]
  },
  {
   "cell_type": "markdown",
   "metadata": {},
   "source": [
    "### Input: Query\n",
    "\n",
    "### Feel free to change the query in the cell below and see what happens, the query is the class label to regular expression query dictionary. \n",
    "\n",
    "Input: {\"user-defined class labels\":\"Regular expression to match in meta data\" }\n",
    "\n",
    "Output: Matrix with fully annotated columns\n",
    "\n",
    "`ls /home/jovyan/efs/all_seq/rnaseq_merged/` to see all available species\n"
   ]
  },
  {
   "cell_type": "code",
   "execution_count": 1,
   "metadata": {},
   "outputs": [],
   "source": [
    "\"\"\"\n",
    "\"\"\"\n",
    "queryLabelToRegexDict={\"B-Cell\":'B-Cell|B-Lymphocyte',\"T-Lymphocyte\":'T-Lymphocyte|T-Cell',\n",
    "                      # 'Liver':'Hepatocyte|Liver' #uncomment this line to see changes\n",
    "                      }\n",
    "\n",
    "querySpecie='Homo_sapiens' #Check files in baseDir directory for more species"
   ]
  },
  {
   "cell_type": "markdown",
   "metadata": {},
   "source": [
    "# Data loading"
   ]
  },
  {
   "cell_type": "markdown",
   "metadata": {},
   "source": [
    "### load in SRS biospecieman annotations"
   ]
  },
  {
   "cell_type": "code",
   "execution_count": 2,
   "metadata": {},
   "outputs": [
    {
     "name": "stdout",
     "output_type": "stream",
     "text": [
      "CPU times: user 5.63 s, sys: 464 ms, total: 6.09 s\n",
      "Wall time: 6.09 s\n"
     ]
    }
   ],
   "source": [
    "%matplotlib notebook\n",
    "\n",
    "import pandas as pd\n",
    "import numpy as np\n",
    "\n",
    "allSRS_pickle_dir='/home/jovyan/efs/all_seq/meta_data/allSRS.with_processed_data.pickle.gz'\n",
    "%time allSRS=pd.read_pickle(allSRS_pickle_dir)\n",
    "allSRS.index.names=['SRS','Attrib']"
   ]
  },
  {
   "cell_type": "markdown",
   "metadata": {},
   "source": [
    "### load in technical metadata"
   ]
  },
  {
   "cell_type": "code",
   "execution_count": 3,
   "metadata": {},
   "outputs": [
    {
     "name": "stdout",
     "output_type": "stream",
     "text": [
      "CPU times: user 4 s, sys: 1.34 s, total: 5.33 s\n",
      "Wall time: 5.34 s\n"
     ]
    }
   ],
   "source": [
    "sra_dump_pickle_dir='/home/jovyan/efs/all_seq/meta_data/sra_dump.fastqc.bowtie_algn.pickle'\n",
    "%time technical_meta_data_df=pd.read_pickle(sra_dump_pickle_dir)\n",
    "technical_meta_data_df[('SRAmeta','Run')]=technical_meta_data_df.index"
   ]
  },
  {
   "cell_type": "markdown",
   "metadata": {},
   "source": [
    "### load the expression matrix\n",
    "\n",
    "Check files in baseDir directory for more species"
   ]
  },
  {
   "cell_type": "code",
   "execution_count": 4,
   "metadata": {},
   "outputs": [
    {
     "name": "stdout",
     "output_type": "stream",
     "text": [
      "CPU times: user 132 ms, sys: 8 ms, total: 140 ms\n",
      "Wall time: 162 ms\n"
     ]
    }
   ],
   "source": [
    "def loadDf(fname,mmap_mode='r'):\n",
    "    with open(fname+'.index.txt') as f:\n",
    "        myIndex=map(lambda s:s.replace(\"\\n\",\"\"), f.readlines())\n",
    "    with open(fname+'.columns.txt') as f:\n",
    "        myColumns=map(lambda s:s.replace(\"\\n\",\"\"), f.readlines())\n",
    "    tmpMatrix=np.load(fname+\".npy\",mmap_mode=mmap_mode)\n",
    "    tmpDf=pd.DataFrame(tmpMatrix,index=myIndex,columns=myColumns)\n",
    "    tmpDf.columns.name='Run'\n",
    "    return tmpDf\n",
    "baseDir='/home/jovyan/efs/all_seq/rnaseq_merged/' #Base directory\n",
    "expression_metric='tpm' #offer Kallisto expression metric: [\"tpm\",\"est_counts\"]\n",
    "data_matrix_dir=baseDir+'/{specie}.gene_symbol.{expression_metric}'.format(specie=querySpecie,\n",
    "                                            expression_metric=expression_metric)\n",
    "\n",
    "%time rnaseqDf=loadDf(data_matrix_dir)"
   ]
  },
  {
   "cell_type": "markdown",
   "metadata": {},
   "source": [
    "# Find the relevent SRS (Sample  IDs)  \n"
   ]
  },
  {
   "cell_type": "code",
   "execution_count": 5,
   "metadata": {},
   "outputs": [
    {
     "name": "stdout",
     "output_type": "stream",
     "text": [
      "CPU times: user 4.28 s, sys: 112 ms, total: 4.4 s\n",
      "Wall time: 3.8 s\n",
      "CPU times: user 4.09 s, sys: 44 ms, total: 4.14 s\n",
      "Wall time: 3.54 s\n"
     ]
    }
   ],
   "source": [
    "myL=[]\n",
    "for  queryRegex in queryLabelToRegexDict.values():\n",
    "    %time hitSrsS=allSRS[allSRS.str.contains(queryRegex,case=False)]\n",
    "    myL.append(hitSrsS)\n",
    "\n",
    "queryLabel='queryLabel'\n",
    "mergeS=pd.concat(myL,keys=queryLabelToRegexDict.keys(),names=[queryLabel])\n",
    "mergeS_noDup=mergeS.groupby(['SRS','queryLabel','Attrib']).first()\n",
    "unqiueHitMask=mergeS_noDup.groupby('SRS').size()==1\n",
    "unqiueHitSrs=unqiueHitMask.index[unqiueHitMask]\n",
    "mergeS_noDup_unique=mergeS_noDup[mergeS_noDup.index.get_level_values('SRS').isin(unqiueHitSrs)]"
   ]
  },
  {
   "cell_type": "markdown",
   "metadata": {},
   "source": [
    "Number of SRS per query class"
   ]
  },
  {
   "cell_type": "code",
   "execution_count": 6,
   "metadata": {},
   "outputs": [
    {
     "data": {
      "text/plain": [
       "queryLabel\n",
       "B-Cell          1105\n",
       "T-Lymphocyte    1060\n",
       "dtype: int64"
      ]
     },
     "execution_count": 6,
     "metadata": {},
     "output_type": "execute_result"
    }
   ],
   "source": [
    "mergeS_noDup_unique.groupby(queryLabel).size()"
   ]
  },
  {
   "cell_type": "code",
   "execution_count": 7,
   "metadata": {},
   "outputs": [],
   "source": [
    "srsToClasses_all=mergeS_noDup_unique.reset_index().set_index(['SRS'])['queryLabel']\n",
    "\n",
    "srsToClasses=srsToClasses_all"
   ]
  },
  {
   "cell_type": "markdown",
   "metadata": {},
   "source": [
    "### map SRS Ids to SRR Ids"
   ]
  },
  {
   "cell_type": "code",
   "execution_count": 8,
   "metadata": {},
   "outputs": [
    {
     "name": "stderr",
     "output_type": "stream",
     "text": [
      "/opt/conda/envs/skymap/lib/python3.6/site-packages/ipykernel/__main__.py:5: SettingWithCopyWarning: \n",
      "A value is trying to be set on a copy of a slice from a DataFrame.\n",
      "Try using .loc[row_indexer,col_indexer] = value instead\n",
      "\n",
      "See the caveats in the documentation: http://pandas.pydata.org/pandas-docs/stable/indexing.html#indexing-view-versus-copy\n"
     ]
    }
   ],
   "source": [
    "m_SRAMeta=technical_meta_data_df[('SRAmeta','Sample')].isin(srsToClasses.index)\n",
    "technical_meta_data_df_hit=technical_meta_data_df[m_SRAMeta]\n",
    "\n",
    "SRAMetasrsCorrespondingQuery=srsToClasses.loc[technical_meta_data_df_hit[('SRAmeta','Sample')]].values\n",
    "technical_meta_data_df_hit[('SRAmeta',queryLabel)]=SRAMetasrsCorrespondingQuery\n",
    "relevantMetaColsL=[('SRAmeta',queryLabel),('SRAmeta','Study'),('SRAmeta','Sample'),('SRAmeta','Run'),('SRAmeta','ScientificName')]\n",
    "technical_meta_data_df_sub=technical_meta_data_df_hit[relevantMetaColsL]\n",
    "designDf=technical_meta_data_df_sub['SRAmeta']"
   ]
  },
  {
   "cell_type": "markdown",
   "metadata": {},
   "source": [
    "Top species with reprocessed data"
   ]
  },
  {
   "cell_type": "code",
   "execution_count": 9,
   "metadata": {
    "scrolled": true
   },
   "outputs": [
    {
     "data": {
      "text/plain": [
       "Homo_sapiens                      17564\n",
       "Mus_musculus                        203\n",
       "Geobacter_sulfurreducens_KN400        0\n",
       "Geodermatophilus_aquaeductus          0\n",
       "Geodermatophilus_amargosae            0\n",
       "Name: ScientificName, dtype: int64"
      ]
     },
     "execution_count": 9,
     "metadata": {},
     "output_type": "execute_result"
    }
   ],
   "source": [
    "designDf['ScientificName'].value_counts().head(n=5)"
   ]
  },
  {
   "cell_type": "code",
   "execution_count": 10,
   "metadata": {
    "scrolled": true
   },
   "outputs": [
    {
     "name": "stdout",
     "output_type": "stream",
     "text": [
      "CPU times: user 40 ms, sys: 0 ns, total: 40 ms\n",
      "Wall time: 36.7 ms\n"
     ]
    }
   ],
   "source": [
    "%time designDf_specie=designDf[(designDf['ScientificName']==querySpecie)&(designDf.Run.isin(rnaseqDf.columns))]\n",
    "#designDf_subsampled=designDf_specie.sample(n=designDf_specie.shape[0]).groupby(queryLabel).head(n=2)\n",
    "queryDesignDf=designDf_specie"
   ]
  },
  {
   "cell_type": "markdown",
   "metadata": {},
   "source": [
    "Number of samples per query class with data"
   ]
  },
  {
   "cell_type": "code",
   "execution_count": 11,
   "metadata": {},
   "outputs": [
    {
     "data": {
      "text/plain": [
       "queryLabel\n",
       "B-Cell          459\n",
       "T-Lymphocyte    904\n",
       "dtype: int64"
      ]
     },
     "execution_count": 11,
     "metadata": {},
     "output_type": "execute_result"
    }
   ],
   "source": [
    "designDf_specie.groupby(queryLabel).size()"
   ]
  },
  {
   "cell_type": "code",
   "execution_count": 12,
   "metadata": {},
   "outputs": [
    {
     "name": "stdout",
     "output_type": "stream",
     "text": [
      "CPU times: user 1.96 s, sys: 244 ms, total: 2.2 s\n",
      "Wall time: 2.2 s\n"
     ]
    }
   ],
   "source": [
    "%time hitDf=pd.DataFrame( list(map( lambda srrId: rnaseqDf[srrId],queryDesignDf.Run))).T\n",
    "hitDf.columns=queryDesignDf.set_index(queryDesignDf.columns.tolist()).index\n",
    "#float16=2**6\n",
    "#from numpy import inf\n",
    "#hitDf.as_matrix()[hitDf.as_matrix()==inf]=float16"
   ]
  },
  {
   "cell_type": "markdown",
   "metadata": {},
   "source": [
    "### Output:  fully annnotated matrix matrix\n",
    "\n",
    "Example layout is listed in the cell below"
   ]
  },
  {
   "cell_type": "code",
   "execution_count": 13,
   "metadata": {},
   "outputs": [
    {
     "data": {
      "text/html": [
       "<div>\n",
       "<style scoped>\n",
       "    .dataframe tbody tr th:only-of-type {\n",
       "        vertical-align: middle;\n",
       "    }\n",
       "\n",
       "    .dataframe tbody tr th {\n",
       "        vertical-align: top;\n",
       "    }\n",
       "\n",
       "    .dataframe thead tr th {\n",
       "        text-align: left;\n",
       "    }\n",
       "</style>\n",
       "<table border=\"1\" class=\"dataframe\">\n",
       "  <thead>\n",
       "    <tr>\n",
       "      <th>queryLabel</th>\n",
       "      <th colspan=\"9\" halign=\"left\">B-Cell</th>\n",
       "      <th colspan=\"3\" halign=\"left\">T-Lymphocyte</th>\n",
       "      <th colspan=\"2\" halign=\"left\">B-Cell</th>\n",
       "      <th colspan=\"7\" halign=\"left\">T-Lymphocyte</th>\n",
       "    </tr>\n",
       "    <tr>\n",
       "      <th>Study</th>\n",
       "      <th colspan=\"2\" halign=\"left\">SRP015715</th>\n",
       "      <th colspan=\"2\" halign=\"left\">SRP045500</th>\n",
       "      <th colspan=\"4\" halign=\"left\">SRP077016</th>\n",
       "      <th>SRP072506</th>\n",
       "      <th>SRP075608</th>\n",
       "      <th>...</th>\n",
       "      <th>SRP108237</th>\n",
       "      <th colspan=\"2\" halign=\"left\">SRP007461</th>\n",
       "      <th colspan=\"7\" halign=\"left\">SRP019939</th>\n",
       "    </tr>\n",
       "    <tr>\n",
       "      <th>Sample</th>\n",
       "      <th>SRS362251</th>\n",
       "      <th>SRS362252</th>\n",
       "      <th>SRS684342</th>\n",
       "      <th>SRS684323</th>\n",
       "      <th>SRS1523416</th>\n",
       "      <th>SRS1523415</th>\n",
       "      <th>SRS1523414</th>\n",
       "      <th>SRS1523413</th>\n",
       "      <th>SRS1366402</th>\n",
       "      <th>SRS1464366</th>\n",
       "      <th>...</th>\n",
       "      <th>SRS2237774</th>\n",
       "      <th colspan=\"2\" halign=\"left\">SRS281643</th>\n",
       "      <th colspan=\"3\" halign=\"left\">SRS403486</th>\n",
       "      <th>SRS403487</th>\n",
       "      <th colspan=\"3\" halign=\"left\">SRS403488</th>\n",
       "    </tr>\n",
       "    <tr>\n",
       "      <th>Run</th>\n",
       "      <th>SRR567561</th>\n",
       "      <th>SRR567562</th>\n",
       "      <th>SRR1551103</th>\n",
       "      <th>SRR1551084</th>\n",
       "      <th>SRR3714038</th>\n",
       "      <th>SRR3714037</th>\n",
       "      <th>SRR3714036</th>\n",
       "      <th>SRR3714035</th>\n",
       "      <th>SRR3309374</th>\n",
       "      <th>SRR3579131</th>\n",
       "      <th>...</th>\n",
       "      <th>SRR5626834</th>\n",
       "      <th>SRR768411</th>\n",
       "      <th>SRR768412</th>\n",
       "      <th>SRR791578</th>\n",
       "      <th>SRR791579</th>\n",
       "      <th>SRR791580</th>\n",
       "      <th>SRR791583</th>\n",
       "      <th>SRR791584</th>\n",
       "      <th>SRR791585</th>\n",
       "      <th>SRR791586</th>\n",
       "    </tr>\n",
       "    <tr>\n",
       "      <th>ScientificName</th>\n",
       "      <th>Homo_sapiens</th>\n",
       "      <th>Homo_sapiens</th>\n",
       "      <th>Homo_sapiens</th>\n",
       "      <th>Homo_sapiens</th>\n",
       "      <th>Homo_sapiens</th>\n",
       "      <th>Homo_sapiens</th>\n",
       "      <th>Homo_sapiens</th>\n",
       "      <th>Homo_sapiens</th>\n",
       "      <th>Homo_sapiens</th>\n",
       "      <th>Homo_sapiens</th>\n",
       "      <th>...</th>\n",
       "      <th>Homo_sapiens</th>\n",
       "      <th>Homo_sapiens</th>\n",
       "      <th>Homo_sapiens</th>\n",
       "      <th>Homo_sapiens</th>\n",
       "      <th>Homo_sapiens</th>\n",
       "      <th>Homo_sapiens</th>\n",
       "      <th>Homo_sapiens</th>\n",
       "      <th>Homo_sapiens</th>\n",
       "      <th>Homo_sapiens</th>\n",
       "      <th>Homo_sapiens</th>\n",
       "    </tr>\n",
       "  </thead>\n",
       "  <tbody>\n",
       "    <tr>\n",
       "      <th>TRDD2</th>\n",
       "      <td>0.0</td>\n",
       "      <td>0.0</td>\n",
       "      <td>0.0</td>\n",
       "      <td>0.0</td>\n",
       "      <td>0.0</td>\n",
       "      <td>0.0</td>\n",
       "      <td>0.0</td>\n",
       "      <td>0.0</td>\n",
       "      <td>0.0</td>\n",
       "      <td>0.0</td>\n",
       "      <td>...</td>\n",
       "      <td>0.0</td>\n",
       "      <td>0.0</td>\n",
       "      <td>0.0</td>\n",
       "      <td>0.0</td>\n",
       "      <td>0.0</td>\n",
       "      <td>0.0</td>\n",
       "      <td>0.0</td>\n",
       "      <td>0.0</td>\n",
       "      <td>0.0</td>\n",
       "      <td>0.0</td>\n",
       "    </tr>\n",
       "    <tr>\n",
       "      <th>TRDD1</th>\n",
       "      <td>0.0</td>\n",
       "      <td>0.0</td>\n",
       "      <td>0.0</td>\n",
       "      <td>0.0</td>\n",
       "      <td>0.0</td>\n",
       "      <td>0.0</td>\n",
       "      <td>0.0</td>\n",
       "      <td>0.0</td>\n",
       "      <td>0.0</td>\n",
       "      <td>0.0</td>\n",
       "      <td>...</td>\n",
       "      <td>0.0</td>\n",
       "      <td>0.0</td>\n",
       "      <td>0.0</td>\n",
       "      <td>0.0</td>\n",
       "      <td>0.0</td>\n",
       "      <td>0.0</td>\n",
       "      <td>0.0</td>\n",
       "      <td>0.0</td>\n",
       "      <td>0.0</td>\n",
       "      <td>0.0</td>\n",
       "    </tr>\n",
       "    <tr>\n",
       "      <th>TRDD3</th>\n",
       "      <td>0.0</td>\n",
       "      <td>0.0</td>\n",
       "      <td>0.0</td>\n",
       "      <td>0.0</td>\n",
       "      <td>0.0</td>\n",
       "      <td>0.0</td>\n",
       "      <td>0.0</td>\n",
       "      <td>0.0</td>\n",
       "      <td>0.0</td>\n",
       "      <td>0.0</td>\n",
       "      <td>...</td>\n",
       "      <td>0.0</td>\n",
       "      <td>0.0</td>\n",
       "      <td>0.0</td>\n",
       "      <td>0.0</td>\n",
       "      <td>0.0</td>\n",
       "      <td>0.0</td>\n",
       "      <td>0.0</td>\n",
       "      <td>0.0</td>\n",
       "      <td>0.0</td>\n",
       "      <td>0.0</td>\n",
       "    </tr>\n",
       "    <tr>\n",
       "      <th>IGHD4-17</th>\n",
       "      <td>0.0</td>\n",
       "      <td>0.0</td>\n",
       "      <td>0.0</td>\n",
       "      <td>0.0</td>\n",
       "      <td>0.0</td>\n",
       "      <td>0.0</td>\n",
       "      <td>0.0</td>\n",
       "      <td>0.0</td>\n",
       "      <td>0.0</td>\n",
       "      <td>0.0</td>\n",
       "      <td>...</td>\n",
       "      <td>0.0</td>\n",
       "      <td>0.0</td>\n",
       "      <td>0.0</td>\n",
       "      <td>0.0</td>\n",
       "      <td>0.0</td>\n",
       "      <td>0.0</td>\n",
       "      <td>0.0</td>\n",
       "      <td>0.0</td>\n",
       "      <td>0.0</td>\n",
       "      <td>0.0</td>\n",
       "    </tr>\n",
       "    <tr>\n",
       "      <th>IGHD4-4</th>\n",
       "      <td>0.0</td>\n",
       "      <td>0.0</td>\n",
       "      <td>0.0</td>\n",
       "      <td>0.0</td>\n",
       "      <td>0.0</td>\n",
       "      <td>0.0</td>\n",
       "      <td>0.0</td>\n",
       "      <td>0.0</td>\n",
       "      <td>0.0</td>\n",
       "      <td>0.0</td>\n",
       "      <td>...</td>\n",
       "      <td>0.0</td>\n",
       "      <td>0.0</td>\n",
       "      <td>0.0</td>\n",
       "      <td>0.0</td>\n",
       "      <td>0.0</td>\n",
       "      <td>0.0</td>\n",
       "      <td>0.0</td>\n",
       "      <td>0.0</td>\n",
       "      <td>0.0</td>\n",
       "      <td>0.0</td>\n",
       "    </tr>\n",
       "  </tbody>\n",
       "</table>\n",
       "<p>5 rows × 1363 columns</p>\n",
       "</div>"
      ],
      "text/plain": [
       "queryLabel           B-Cell                                         \\\n",
       "Study             SRP015715                 SRP045500                \n",
       "Sample            SRS362251    SRS362252    SRS684342    SRS684323   \n",
       "Run               SRR567561    SRR567562   SRR1551103   SRR1551084   \n",
       "ScientificName Homo_sapiens Homo_sapiens Homo_sapiens Homo_sapiens   \n",
       "TRDD2                   0.0          0.0          0.0          0.0   \n",
       "TRDD1                   0.0          0.0          0.0          0.0   \n",
       "TRDD3                   0.0          0.0          0.0          0.0   \n",
       "IGHD4-17                0.0          0.0          0.0          0.0   \n",
       "IGHD4-4                 0.0          0.0          0.0          0.0   \n",
       "\n",
       "queryLabel                                                          \\\n",
       "Study             SRP077016                                          \n",
       "Sample           SRS1523416   SRS1523415   SRS1523414   SRS1523413   \n",
       "Run              SRR3714038   SRR3714037   SRR3714036   SRR3714035   \n",
       "ScientificName Homo_sapiens Homo_sapiens Homo_sapiens Homo_sapiens   \n",
       "TRDD2                   0.0          0.0          0.0          0.0   \n",
       "TRDD1                   0.0          0.0          0.0          0.0   \n",
       "TRDD3                   0.0          0.0          0.0          0.0   \n",
       "IGHD4-17                0.0          0.0          0.0          0.0   \n",
       "IGHD4-4                 0.0          0.0          0.0          0.0   \n",
       "\n",
       "queryLabel                  T-Lymphocyte     ...                    \\\n",
       "Study             SRP072506    SRP075608     ...         SRP108237   \n",
       "Sample           SRS1366402   SRS1464366     ...        SRS2237774   \n",
       "Run              SRR3309374   SRR3579131     ...        SRR5626834   \n",
       "ScientificName Homo_sapiens Homo_sapiens     ...      Homo_sapiens   \n",
       "TRDD2                   0.0          0.0     ...               0.0   \n",
       "TRDD1                   0.0          0.0     ...               0.0   \n",
       "TRDD3                   0.0          0.0     ...               0.0   \n",
       "IGHD4-17                0.0          0.0     ...               0.0   \n",
       "IGHD4-4                 0.0          0.0     ...               0.0   \n",
       "\n",
       "queryLabel           B-Cell              T-Lymphocyte               \\\n",
       "Study             SRP007461                 SRP019939                \n",
       "Sample            SRS281643                 SRS403486                \n",
       "Run               SRR768411    SRR768412    SRR791578    SRR791579   \n",
       "ScientificName Homo_sapiens Homo_sapiens Homo_sapiens Homo_sapiens   \n",
       "TRDD2                   0.0          0.0          0.0          0.0   \n",
       "TRDD1                   0.0          0.0          0.0          0.0   \n",
       "TRDD3                   0.0          0.0          0.0          0.0   \n",
       "IGHD4-17                0.0          0.0          0.0          0.0   \n",
       "IGHD4-4                 0.0          0.0          0.0          0.0   \n",
       "\n",
       "queryLabel                                                          \\\n",
       "Study                                                                \n",
       "Sample                         SRS403487    SRS403488                \n",
       "Run               SRR791580    SRR791583    SRR791584    SRR791585   \n",
       "ScientificName Homo_sapiens Homo_sapiens Homo_sapiens Homo_sapiens   \n",
       "TRDD2                   0.0          0.0          0.0          0.0   \n",
       "TRDD1                   0.0          0.0          0.0          0.0   \n",
       "TRDD3                   0.0          0.0          0.0          0.0   \n",
       "IGHD4-17                0.0          0.0          0.0          0.0   \n",
       "IGHD4-4                 0.0          0.0          0.0          0.0   \n",
       "\n",
       "queryLabel                   \n",
       "Study                        \n",
       "Sample                       \n",
       "Run               SRR791586  \n",
       "ScientificName Homo_sapiens  \n",
       "TRDD2                   0.0  \n",
       "TRDD1                   0.0  \n",
       "TRDD3                   0.0  \n",
       "IGHD4-17                0.0  \n",
       "IGHD4-4                 0.0  \n",
       "\n",
       "[5 rows x 1363 columns]"
      ]
     },
     "execution_count": 13,
     "metadata": {},
     "output_type": "execute_result"
    }
   ],
   "source": [
    "hitDf.head()"
   ]
  },
  {
   "cell_type": "markdown",
   "metadata": {},
   "source": [
    "#  Example Analysis with output matrix\n"
   ]
  },
  {
   "cell_type": "code",
   "execution_count": 14,
   "metadata": {},
   "outputs": [],
   "source": [
    "inputAnalyzeDf=np.log2(hitDf+1)"
   ]
  },
  {
   "cell_type": "markdown",
   "metadata": {},
   "source": [
    "### PCA to show samples are grouped in the higher dimensional space"
   ]
  },
  {
   "cell_type": "code",
   "execution_count": 27,
   "metadata": {},
   "outputs": [
    {
     "data": {
      "text/plain": [
       "<seaborn.axisgrid.PairGrid at 0x7f50f3cc6e10>"
      ]
     },
     "execution_count": 27,
     "metadata": {},
     "output_type": "execute_result"
    },
    {
     "data": {
      "image/png": "[encoded data removed]",
      "text/plain": [
       "<Figure size 466.625x360 with 6 Axes>"
      ]
     },
     "metadata": {
      "needs_background": "light"
     },
     "output_type": "display_data"
    }
   ],
   "source": [
    "\n",
    "inPcaDf=inputAnalyzeDf.T\n",
    "%matplotlib inline\n",
    "from sklearn import decomposition\n",
    "import seaborn as sns\n",
    "PCA=decomposition.PCA(n_components=3)\n",
    "pcaM=PCA.fit_transform((inPcaDf))\n",
    "pcaDf=pd.DataFrame( data=pcaM,index=inPcaDf.index)\n",
    "plotPcs=[1,2]\n",
    "sns.pairplot(data=pcaDf.reset_index()[plotPcs+[queryLabel]],hue=queryLabel,plot_kws={'alpha':0.2})"
   ]
  },
  {
   "cell_type": "markdown",
   "metadata": {},
   "source": [
    "### Volcano plot with t-test"
   ]
  },
  {
   "cell_type": "code",
   "execution_count": 16,
   "metadata": {},
   "outputs": [],
   "source": [
    "from scipy import stats\n",
    "import matplotlib.pyplot as plt"
   ]
  },
  {
   "cell_type": "code",
   "execution_count": 36,
   "metadata": {},
   "outputs": [
    {
     "name": "stderr",
     "output_type": "stream",
     "text": [
      "/opt/conda/envs/skymap/lib/python3.6/site-packages/ipykernel/__main__.py:8: RuntimeWarning: divide by zero encountered in log10\n"
     ]
    },
    {
     "data": {
      "application/javascript": [
       "/* Put everything inside the global mpl namespace */\n",
       "window.mpl = {};\n",
       "\n",
       "\n",
       "mpl.get_websocket_type = function() {\n",
       "    if (typeof(WebSocket) !== 'undefined') {\n",
       "        return WebSocket;\n",
       "    } else if (typeof(MozWebSocket) !== 'undefined') {\n",
       "        return MozWebSocket;\n",
       "    } else {\n",
       "        alert('Your browser does not have WebSocket support.' +\n",
       "              'Please try Chrome, Safari or Firefox ≥ 6. ' +\n",
       "              'Firefox 4 and 5 are also supported but you ' +\n",
       "              'have to enable WebSockets in about:config.');\n",
       "    };\n",
       "}\n",
       "\n",
       "mpl.figure = function(figure_id, websocket, ondownload, parent_element) {\n",
       "    this.id = figure_id;\n",
       "\n",
       "    this.ws = websocket;\n",
       "\n",
       "    this.supports_binary = (this.ws.binaryType != undefined);\n",
       "\n",
       "    if (!this.supports_binary) {\n",
       "        var warnings = document.getElementById(\"mpl-warnings\");\n",
       "        if (warnings) {\n",
       "            warnings.style.display = 'block';\n",
       "            warnings.textContent = (\n",
       "                \"This browser does not support binary websocket messages. \" +\n",
       "                    \"Performance may be slow.\");\n",
       "        }\n",
       "    }\n",
       "\n",
       "    this.imageObj = new Image();\n",
       "\n",
       "    this.context = undefined;\n",
       "    this.message = undefined;\n",
       "    this.canvas = undefined;\n",
       "    this.rubberband_canvas = undefined;\n",
       "    this.rubberband_context = undefined;\n",
       "    this.format_dropdown = undefined;\n",
       "\n",
       "    this.image_mode = 'full';\n",
       "\n",
       "    this.root = $('<div/>');\n",
       "    this._root_extra_style(this.root)\n",
       "    this.root.attr('style', 'display: inline-block');\n",
       "\n",
       "    $(parent_element).append(this.root);\n",
       "\n",
       "    this._init_header(this);\n",
       "    this._init_canvas(this);\n",
       "    this._init_toolbar(this);\n",
       "\n",
       "    var fig = this;\n",
       "\n",
       "    this.waiting = false;\n",
       "\n",
       "    this.ws.onopen =  function () {\n",
       "            fig.send_message(\"supports_binary\", {value: fig.supports_binary});\n",
       "            fig.send_message(\"send_image_mode\", {});\n",
       "            if (mpl.ratio != 1) {\n",
       "                fig.send_message(\"set_dpi_ratio\", {'dpi_ratio': mpl.ratio});\n",
       "            }\n",
       "            fig.send_message(\"refresh\", {});\n",
       "        }\n",
       "\n",
       "    this.imageObj.onload = function() {\n",
       "            if (fig.image_mode == 'full') {\n",
       "                // Full images could contain transparency (where diff images\n",
       "                // almost always do), so we need to clear the canvas so that\n",
       "                // there is no ghosting.\n",
       "                fig.context.clearRect(0, 0, fig.canvas.width, fig.canvas.height);\n",
       "            }\n",
       "            fig.context.drawImage(fig.imageObj, 0, 0);\n",
       "        };\n",
       "\n",
       "    this.imageObj.onunload = function() {\n",
       "        fig.ws.close();\n",
       "    }\n",
       "\n",
       "    this.ws.onmessage = this._make_on_message_function(this);\n",
       "\n",
       "    this.ondownload = ondownload;\n",
       "}\n",
       "\n",
       "mpl.figure.prototype._init_header = function() {\n",
       "    var titlebar = $(\n",
       "        '<div class=\"ui-dialog-titlebar ui-widget-header ui-corner-all ' +\n",
       "        'ui-helper-clearfix\"/>');\n",
       "    var titletext = $(\n",
       "        '<div class=\"ui-dialog-title\" style=\"width: 100%; ' +\n",
       "        'text-align: center; padding: 3px;\"/>');\n",
       "    titlebar.append(titletext)\n",
       "    this.root.append(titlebar);\n",
       "    this.header = titletext[0];\n",
       "}\n",
       "\n",
       "\n",
       "\n",
       "mpl.figure.prototype._canvas_extra_style = function(canvas_div) {\n",
       "\n",
       "}\n",
       "\n",
       "\n",
       "mpl.figure.prototype._root_extra_style = function(canvas_div) {\n",
       "\n",
       "}\n",
       "\n",
       "mpl.figure.prototype._init_canvas = function() {\n",
       "    var fig = this;\n",
       "\n",
       "    var canvas_div = $('<div/>');\n",
       "\n",
       "    canvas_div.attr('style', 'position: relative; clear: both; outline: 0');\n",
       "\n",
       "    function canvas_keyboard_event(event) {\n",
       "        return fig.key_event(event, event['data']);\n",
       "    }\n",
       "\n",
       "    canvas_div.keydown('key_press', canvas_keyboard_event);\n",
       "    canvas_div.keyup('key_release', canvas_keyboard_event);\n",
       "    this.canvas_div = canvas_div\n",
       "    this._canvas_extra_style(canvas_div)\n",
       "    this.root.append(canvas_div);\n",
       "\n",
       "    var canvas = $('<canvas/>');\n",
       "    canvas.addClass('mpl-canvas');\n",
       "    canvas.attr('style', \"left: 0; top: 0; z-index: 0; outline: 0\")\n",
       "\n",
       "    this.canvas = canvas[0];\n",
       "    this.context = canvas[0].getContext(\"2d\");\n",
       "\n",
       "    var backingStore = this.context.backingStorePixelRatio ||\n",
       "\tthis.context.webkitBackingStorePixelRatio ||\n",
       "\tthis.context.mozBackingStorePixelRatio ||\n",
       "\tthis.context.msBackingStorePixelRatio ||\n",
       "\tthis.context.oBackingStorePixelRatio ||\n",
       "\tthis.context.backingStorePixelRatio || 1;\n",
       "\n",
       "    mpl.ratio = (window.devicePixelRatio || 1) / backingStore;\n",
       "\n",
       "    var rubberband = $('<canvas/>');\n",
       "    rubberband.attr('style', \"position: absolute; left: 0; top: 0; z-index: 1;\")\n",
       "\n",
       "    var pass_mouse_events = true;\n",
       "\n",
       "    canvas_div.resizable({\n",
       "        start: function(event, ui) {\n",
       "            pass_mouse_events = false;\n",
       "        },\n",
       "        resize: function(event, ui) {\n",
       "            fig.request_resize(ui.size.width, ui.size.height);\n",
       "        },\n",
       "        stop: function(event, ui) {\n",
       "            pass_mouse_events = true;\n",
       "            fig.request_resize(ui.size.width, ui.size.height);\n",
       "        },\n",
       "    });\n",
       "\n",
       "    function mouse_event_fn(event) {\n",
       "        if (pass_mouse_events)\n",
       "            return fig.mouse_event(event, event['data']);\n",
       "    }\n",
       "\n",
       "    rubberband.mousedown('button_press', mouse_event_fn);\n",
       "    rubberband.mouseup('button_release', mouse_event_fn);\n",
       "    // Throttle sequential mouse events to 1 every 20ms.\n",
       "    rubberband.mousemove('motion_notify', mouse_event_fn);\n",
       "\n",
       "    rubberband.mouseenter('figure_enter', mouse_event_fn);\n",
       "    rubberband.mouseleave('figure_leave', mouse_event_fn);\n",
       "\n",
       "    canvas_div.on(\"wheel\", function (event) {\n",
       "        event = event.originalEvent;\n",
       "        event['data'] = 'scroll'\n",
       "        if (event.deltaY < 0) {\n",
       "            event.step = 1;\n",
       "        } else {\n",
       "            event.step = -1;\n",
       "        }\n",
       "        mouse_event_fn(event);\n",
       "    });\n",
       "\n",
       "    canvas_div.append(canvas);\n",
       "    canvas_div.append(rubberband);\n",
       "\n",
       "    this.rubberband = rubberband;\n",
       "    this.rubberband_canvas = rubberband[0];\n",
       "    this.rubberband_context = rubberband[0].getContext(\"2d\");\n",
       "    this.rubberband_context.strokeStyle = \"#000000\";\n",
       "\n",
       "    this._resize_canvas = function(width, height) {\n",
       "        // Keep the size of the canvas, canvas container, and rubber band\n",
       "        // canvas in synch.\n",
       "        canvas_div.css('width', width)\n",
       "        canvas_div.css('height', height)\n",
       "\n",
       "        canvas.attr('width', width * mpl.ratio);\n",
       "        canvas.attr('height', height * mpl.ratio);\n",
       "        canvas.attr('style', 'width: ' + width + 'px; height: ' + height + 'px;');\n",
       "\n",
       "        rubberband.attr('width', width);\n",
       "        rubberband.attr('height', height);\n",
       "    }\n",
       "\n",
       "    // Set the figure to an initial 600x600px, this will subsequently be updated\n",
       "    // upon first draw.\n",
       "    this._resize_canvas(600, 600);\n",
       "\n",
       "    // Disable right mouse context menu.\n",
       "    $(this.rubberband_canvas).bind(\"contextmenu\",function(e){\n",
       "        return false;\n",
       "    });\n",
       "\n",
       "    function set_focus () {\n",
       "        canvas.focus();\n",
       "        canvas_div.focus();\n",
       "    }\n",
       "\n",
       "    window.setTimeout(set_focus, 100);\n",
       "}\n",
       "\n",
       "mpl.figure.prototype._init_toolbar = function() {\n",
       "    var fig = this;\n",
       "\n",
       "    var nav_element = $('<div/>')\n",
       "    nav_element.attr('style', 'width: 100%');\n",
       "    this.root.append(nav_element);\n",
       "\n",
       "    // Define a callback function for later on.\n",
       "    function toolbar_event(event) {\n",
       "        return fig.toolbar_button_onclick(event['data']);\n",
       "    }\n",
       "    function toolbar_mouse_event(event) {\n",
       "        return fig.toolbar_button_onmouseover(event['data']);\n",
       "    }\n",
       "\n",
       "    for(var toolbar_ind in mpl.toolbar_items) {\n",
       "        var name = mpl.toolbar_items[toolbar_ind][0];\n",
       "        var tooltip = mpl.toolbar_items[toolbar_ind][1];\n",
       "        var image = mpl.toolbar_items[toolbar_ind][2];\n",
       "        var method_name = mpl.toolbar_items[toolbar_ind][3];\n",
       "\n",
       "        if (!name) {\n",
       "            // put a spacer in here.\n",
       "            continue;\n",
       "        }\n",
       "        var button = $('<button/>');\n",
       "        button.addClass('ui-button ui-widget ui-state-default ui-corner-all ' +\n",
       "                        'ui-button-icon-only');\n",
       "        button.attr('role', 'button');\n",
       "        button.attr('aria-disabled', 'false');\n",
       "        button.click(method_name, toolbar_event);\n",
       "        button.mouseover(tooltip, toolbar_mouse_event);\n",
       "\n",
       "        var icon_img = $('<span/>');\n",
       "        icon_img.addClass('ui-button-icon-primary ui-icon');\n",
       "        icon_img.addClass(image);\n",
       "        icon_img.addClass('ui-corner-all');\n",
       "\n",
       "        var tooltip_span = $('<span/>');\n",
       "        tooltip_span.addClass('ui-button-text');\n",
       "        tooltip_span.html(tooltip);\n",
       "\n",
       "        button.append(icon_img);\n",
       "        button.append(tooltip_span);\n",
       "\n",
       "        nav_element.append(button);\n",
       "    }\n",
       "\n",
       "    var fmt_picker_span = $('<span/>');\n",
       "\n",
       "    var fmt_picker = $('<select/>');\n",
       "    fmt_picker.addClass('mpl-toolbar-option ui-widget ui-widget-content');\n",
       "    fmt_picker_span.append(fmt_picker);\n",
       "    nav_element.append(fmt_picker_span);\n",
       "    this.format_dropdown = fmt_picker[0];\n",
       "\n",
       "    for (var ind in mpl.extensions) {\n",
       "        var fmt = mpl.extensions[ind];\n",
       "        var option = $(\n",
       "            '<option/>', {selected: fmt === mpl.default_extension}).html(fmt);\n",
       "        fmt_picker.append(option)\n",
       "    }\n",
       "\n",
       "    // Add hover states to the ui-buttons\n",
       "    $( \".ui-button\" ).hover(\n",
       "        function() { $(this).addClass(\"ui-state-hover\");},\n",
       "        function() { $(this).removeClass(\"ui-state-hover\");}\n",
       "    );\n",
       "\n",
       "    var status_bar = $('<span class=\"mpl-message\"/>');\n",
       "    nav_element.append(status_bar);\n",
       "    this.message = status_bar[0];\n",
       "}\n",
       "\n",
       "mpl.figure.prototype.request_resize = function(x_pixels, y_pixels) {\n",
       "    // Request matplotlib to resize the figure. Matplotlib will then trigger a resize in the client,\n",
       "    // which will in turn request a refresh of the image.\n",
       "    this.send_message('resize', {'width': x_pixels, 'height': y_pixels});\n",
       "}\n",
       "\n",
       "mpl.figure.prototype.send_message = function(type, properties) {\n",
       "    properties['type'] = type;\n",
       "    properties['figure_id'] = this.id;\n",
       "    this.ws.send(JSON.stringify(properties));\n",
       "}\n",
       "\n",
       "mpl.figure.prototype.send_draw_message = function() {\n",
       "    if (!this.waiting) {\n",
       "        this.waiting = true;\n",
       "        this.ws.send(JSON.stringify({type: \"draw\", figure_id: this.id}));\n",
       "    }\n",
       "}\n",
       "\n",
       "\n",
       "mpl.figure.prototype.handle_save = function(fig, msg) {\n",
       "    var format_dropdown = fig.format_dropdown;\n",
       "    var format = format_dropdown.options[format_dropdown.selectedIndex].value;\n",
       "    fig.ondownload(fig, format);\n",
       "}\n",
       "\n",
       "\n",
       "mpl.figure.prototype.handle_resize = function(fig, msg) {\n",
       "    var size = msg['size'];\n",
       "    if (size[0] != fig.canvas.width || size[1] != fig.canvas.height) {\n",
       "        fig._resize_canvas(size[0], size[1]);\n",
       "        fig.send_message(\"refresh\", {});\n",
       "    };\n",
       "}\n",
       "\n",
       "mpl.figure.prototype.handle_rubberband = function(fig, msg) {\n",
       "    var x0 = msg['x0'] / mpl.ratio;\n",
       "    var y0 = (fig.canvas.height - msg['y0']) / mpl.ratio;\n",
       "    var x1 = msg['x1'] / mpl.ratio;\n",
       "    var y1 = (fig.canvas.height - msg['y1']) / mpl.ratio;\n",
       "    x0 = Math.floor(x0) + 0.5;\n",
       "    y0 = Math.floor(y0) + 0.5;\n",
       "    x1 = Math.floor(x1) + 0.5;\n",
       "    y1 = Math.floor(y1) + 0.5;\n",
       "    var min_x = Math.min(x0, x1);\n",
       "    var min_y = Math.min(y0, y1);\n",
       "    var width = Math.abs(x1 - x0);\n",
       "    var height = Math.abs(y1 - y0);\n",
       "\n",
       "    fig.rubberband_context.clearRect(\n",
       "        0, 0, fig.canvas.width, fig.canvas.height);\n",
       "\n",
       "    fig.rubberband_context.strokeRect(min_x, min_y, width, height);\n",
       "}\n",
       "\n",
       "mpl.figure.prototype.handle_figure_label = function(fig, msg) {\n",
       "    // Updates the figure title.\n",
       "    fig.header.textContent = msg['label'];\n",
       "}\n",
       "\n",
       "mpl.figure.prototype.handle_cursor = function(fig, msg) {\n",
       "    var cursor = msg['cursor'];\n",
       "    switch(cursor)\n",
       "    {\n",
       "    case 0:\n",
       "        cursor = 'pointer';\n",
       "        break;\n",
       "    case 1:\n",
       "        cursor = 'default';\n",
       "        break;\n",
       "    case 2:\n",
       "        cursor = 'crosshair';\n",
       "        break;\n",
       "    case 3:\n",
       "        cursor = 'move';\n",
       "        break;\n",
       "    }\n",
       "    fig.rubberband_canvas.style.cursor = cursor;\n",
       "}\n",
       "\n",
       "mpl.figure.prototype.handle_message = function(fig, msg) {\n",
       "    fig.message.textContent = msg['message'];\n",
       "}\n",
       "\n",
       "mpl.figure.prototype.handle_draw = function(fig, msg) {\n",
       "    // Request the server to send over a new figure.\n",
       "    fig.send_draw_message();\n",
       "}\n",
       "\n",
       "mpl.figure.prototype.handle_image_mode = function(fig, msg) {\n",
       "    fig.image_mode = msg['mode'];\n",
       "}\n",
       "\n",
       "mpl.figure.prototype.updated_canvas_event = function() {\n",
       "    // Called whenever the canvas gets updated.\n",
       "    this.send_message(\"ack\", {});\n",
       "}\n",
       "\n",
       "// A function to construct a web socket function for onmessage handling.\n",
       "// Called in the figure constructor.\n",
       "mpl.figure.prototype._make_on_message_function = function(fig) {\n",
       "    return function socket_on_message(evt) {\n",
       "        if (evt.data instanceof Blob) {\n",
       "            /* FIXME: We get \"Resource interpreted as Image but\n",
       "             * transferred with MIME type text/plain:\" errors on\n",
       "             * Chrome.  But how to set the MIME type?  It doesn't seem\n",
       "             * to be part of the websocket stream */\n",
       "            evt.data.type = \"image/png\";\n",
       "\n",
       "            /* Free the memory for the previous frames */\n",
       "            if (fig.imageObj.src) {\n",
       "                (window.URL || window.webkitURL).revokeObjectURL(\n",
       "                    fig.imageObj.src);\n",
       "            }\n",
       "\n",
       "            fig.imageObj.src = (window.URL || window.webkitURL).createObjectURL(\n",
       "                evt.data);\n",
       "            fig.updated_canvas_event();\n",
       "            fig.waiting = false;\n",
       "            return;\n",
       "        }\n",
       "        else if (typeof evt.data === 'string' && evt.data.slice(0, 21) == \"data:image/png;base64\") {\n",
       "            fig.imageObj.src = evt.data;\n",
       "            fig.updated_canvas_event();\n",
       "            fig.waiting = false;\n",
       "            return;\n",
       "        }\n",
       "\n",
       "        var msg = JSON.parse(evt.data);\n",
       "        var msg_type = msg['type'];\n",
       "\n",
       "        // Call the  \"handle_{type}\" callback, which takes\n",
       "        // the figure and JSON message as its only arguments.\n",
       "        try {\n",
       "            var callback = fig[\"handle_\" + msg_type];\n",
       "        } catch (e) {\n",
       "            console.log(\"No handler for the '\" + msg_type + \"' message type: \", msg);\n",
       "            return;\n",
       "        }\n",
       "\n",
       "        if (callback) {\n",
       "            try {\n",
       "                // console.log(\"Handling '\" + msg_type + \"' message: \", msg);\n",
       "                callback(fig, msg);\n",
       "            } catch (e) {\n",
       "                console.log(\"Exception inside the 'handler_\" + msg_type + \"' callback:\", e, e.stack, msg);\n",
       "            }\n",
       "        }\n",
       "    };\n",
       "}\n",
       "\n",
       "// from http://stackoverflow.com/questions/1114465/getting-mouse-location-in-canvas\n",
       "mpl.findpos = function(e) {\n",
       "    //this section is from http://www.quirksmode.org/js/events_properties.html\n",
       "    var targ;\n",
       "    if (!e)\n",
       "        e = window.event;\n",
       "    if (e.target)\n",
       "        targ = e.target;\n",
       "    else if (e.srcElement)\n",
       "        targ = e.srcElement;\n",
       "    if (targ.nodeType == 3) // defeat Safari bug\n",
       "        targ = targ.parentNode;\n",
       "\n",
       "    // jQuery normalizes the pageX and pageY\n",
       "    // pageX,Y are the mouse positions relative to the document\n",
       "    // offset() returns the position of the element relative to the document\n",
       "    var x = e.pageX - $(targ).offset().left;\n",
       "    var y = e.pageY - $(targ).offset().top;\n",
       "\n",
       "    return {\"x\": x, \"y\": y};\n",
       "};\n",
       "\n",
       "/*\n",
       " * return a copy of an object with only non-object keys\n",
       " * we need this to avoid circular references\n",
       " * http://stackoverflow.com/a/24161582/3208463\n",
       " */\n",
       "function simpleKeys (original) {\n",
       "  return Object.keys(original).reduce(function (obj, key) {\n",
       "    if (typeof original[key] !== 'object')\n",
       "        obj[key] = original[key]\n",
       "    return obj;\n",
       "  }, {});\n",
       "}\n",
       "\n",
       "mpl.figure.prototype.mouse_event = function(event, name) {\n",
       "    var canvas_pos = mpl.findpos(event)\n",
       "\n",
       "    if (name === 'button_press')\n",
       "    {\n",
       "        this.canvas.focus();\n",
       "        this.canvas_div.focus();\n",
       "    }\n",
       "\n",
       "    var x = canvas_pos.x * mpl.ratio;\n",
       "    var y = canvas_pos.y * mpl.ratio;\n",
       "\n",
       "    this.send_message(name, {x: x, y: y, button: event.button,\n",
       "                             step: event.step,\n",
       "                             guiEvent: simpleKeys(event)});\n",
       "\n",
       "    /* This prevents the web browser from automatically changing to\n",
       "     * the text insertion cursor when the button is pressed.  We want\n",
       "     * to control all of the cursor setting manually through the\n",
       "     * 'cursor' event from matplotlib */\n",
       "    event.preventDefault();\n",
       "    return false;\n",
       "}\n",
       "\n",
       "mpl.figure.prototype._key_event_extra = function(event, name) {\n",
       "    // Handle any extra behaviour associated with a key event\n",
       "}\n",
       "\n",
       "mpl.figure.prototype.key_event = function(event, name) {\n",
       "\n",
       "    // Prevent repeat events\n",
       "    if (name == 'key_press')\n",
       "    {\n",
       "        if (event.which === this._key)\n",
       "            return;\n",
       "        else\n",
       "            this._key = event.which;\n",
       "    }\n",
       "    if (name == 'key_release')\n",
       "        this._key = null;\n",
       "\n",
       "    var value = '';\n",
       "    if (event.ctrlKey && event.which != 17)\n",
       "        value += \"ctrl+\";\n",
       "    if (event.altKey && event.which != 18)\n",
       "        value += \"alt+\";\n",
       "    if (event.shiftKey && event.which != 16)\n",
       "        value += \"shift+\";\n",
       "\n",
       "    value += 'k';\n",
       "    value += event.which.toString();\n",
       "\n",
       "    this._key_event_extra(event, name);\n",
       "\n",
       "    this.send_message(name, {key: value,\n",
       "                             guiEvent: simpleKeys(event)});\n",
       "    return false;\n",
       "}\n",
       "\n",
       "mpl.figure.prototype.toolbar_button_onclick = function(name) {\n",
       "    if (name == 'download') {\n",
       "        this.handle_save(this, null);\n",
       "    } else {\n",
       "        this.send_message(\"toolbar_button\", {name: name});\n",
       "    }\n",
       "};\n",
       "\n",
       "mpl.figure.prototype.toolbar_button_onmouseover = function(tooltip) {\n",
       "    this.message.textContent = tooltip;\n",
       "};\n",
       "mpl.toolbar_items = [[\"Home\", \"Reset original view\", \"fa fa-home icon-home\", \"home\"], [\"Back\", \"Back to previous view\", \"fa fa-arrow-left icon-arrow-left\", \"back\"], [\"Forward\", \"Forward to next view\", \"fa fa-arrow-right icon-arrow-right\", \"forward\"], [\"\", \"\", \"\", \"\"], [\"Pan\", \"Pan axes with left mouse, zoom with right\", \"fa fa-arrows icon-move\", \"pan\"], [\"Zoom\", \"Zoom to rectangle\", \"fa fa-square-o icon-check-empty\", \"zoom\"], [\"\", \"\", \"\", \"\"], [\"Download\", \"Download plot\", \"fa fa-floppy-o icon-save\", \"download\"]];\n",
       "\n",
       "mpl.extensions = [\"eps\", \"pdf\", \"png\", \"ps\", \"raw\", \"svg\"];\n",
       "\n",
       "mpl.default_extension = \"png\";var comm_websocket_adapter = function(comm) {\n",
       "    // Create a \"websocket\"-like object which calls the given IPython comm\n",
       "    // object with the appropriate methods. Currently this is a non binary\n",
       "    // socket, so there is still some room for performance tuning.\n",
       "    var ws = {};\n",
       "\n",
       "    ws.close = function() {\n",
       "        comm.close()\n",
       "    };\n",
       "    ws.send = function(m) {\n",
       "        //console.log('sending', m);\n",
       "        comm.send(m);\n",
       "    };\n",
       "    // Register the callback with on_msg.\n",
       "    comm.on_msg(function(msg) {\n",
       "        //console.log('receiving', msg['content']['data'], msg);\n",
       "        // Pass the mpl event to the overridden (by mpl) onmessage function.\n",
       "        ws.onmessage(msg['content']['data'])\n",
       "    });\n",
       "    return ws;\n",
       "}\n",
       "\n",
       "mpl.mpl_figure_comm = function(comm, msg) {\n",
       "    // This is the function which gets called when the mpl process\n",
       "    // starts-up an IPython Comm through the \"matplotlib\" channel.\n",
       "\n",
       "    var id = msg.content.data.id;\n",
       "    // Get hold of the div created by the display call when the Comm\n",
       "    // socket was opened in Python.\n",
       "    var element = $(\"#\" + id);\n",
       "    var ws_proxy = comm_websocket_adapter(comm)\n",
       "\n",
       "    function ondownload(figure, format) {\n",
       "        window.open(figure.imageObj.src);\n",
       "    }\n",
       "\n",
       "    var fig = new mpl.figure(id, ws_proxy,\n",
       "                           ondownload,\n",
       "                           element.get(0));\n",
       "\n",
       "    // Call onopen now - mpl needs it, as it is assuming we've passed it a real\n",
       "    // web socket which is closed, not our websocket->open comm proxy.\n",
       "    ws_proxy.onopen();\n",
       "\n",
       "    fig.parent_element = element.get(0);\n",
       "    fig.cell_info = mpl.find_output_cell(\"<div id='\" + id + \"'></div>\");\n",
       "    if (!fig.cell_info) {\n",
       "        console.error(\"Failed to find cell for figure\", id, fig);\n",
       "        return;\n",
       "    }\n",
       "\n",
       "    var output_index = fig.cell_info[2]\n",
       "    var cell = fig.cell_info[0];\n",
       "\n",
       "};\n",
       "\n",
       "mpl.figure.prototype.handle_close = function(fig, msg) {\n",
       "    var width = fig.canvas.width/mpl.ratio\n",
       "    fig.root.unbind('remove')\n",
       "\n",
       "    // Update the output cell to use the data from the current canvas.\n",
       "    fig.push_to_output();\n",
       "    var dataURL = fig.canvas.toDataURL();\n",
       "    // Re-enable the keyboard manager in IPython - without this line, in FF,\n",
       "    // the notebook keyboard shortcuts fail.\n",
       "    IPython.keyboard_manager.enable()\n",
       "    $(fig.parent_element).html('<img src=\"' + dataURL + '\" width=\"' + width + '\">');\n",
       "    fig.close_ws(fig, msg);\n",
       "}\n",
       "\n",
       "mpl.figure.prototype.close_ws = function(fig, msg){\n",
       "    fig.send_message('closing', msg);\n",
       "    // fig.ws.close()\n",
       "}\n",
       "\n",
       "mpl.figure.prototype.push_to_output = function(remove_interactive) {\n",
       "    // Turn the data on the canvas into data in the output cell.\n",
       "    var width = this.canvas.width/mpl.ratio\n",
       "    var dataURL = this.canvas.toDataURL();\n",
       "    this.cell_info[1]['text/html'] = '<img src=\"' + dataURL + '\" width=\"' + width + '\">';\n",
       "}\n",
       "\n",
       "mpl.figure.prototype.updated_canvas_event = function() {\n",
       "    // Tell IPython that the notebook contents must change.\n",
       "    IPython.notebook.set_dirty(true);\n",
       "    this.send_message(\"ack\", {});\n",
       "    var fig = this;\n",
       "    // Wait a second, then push the new image to the DOM so\n",
       "    // that it is saved nicely (might be nice to debounce this).\n",
       "    setTimeout(function () { fig.push_to_output() }, 1000);\n",
       "}\n",
       "\n",
       "mpl.figure.prototype._init_toolbar = function() {\n",
       "    var fig = this;\n",
       "\n",
       "    var nav_element = $('<div/>')\n",
       "    nav_element.attr('style', 'width: 100%');\n",
       "    this.root.append(nav_element);\n",
       "\n",
       "    // Define a callback function for later on.\n",
       "    function toolbar_event(event) {\n",
       "        return fig.toolbar_button_onclick(event['data']);\n",
       "    }\n",
       "    function toolbar_mouse_event(event) {\n",
       "        return fig.toolbar_button_onmouseover(event['data']);\n",
       "    }\n",
       "\n",
       "    for(var toolbar_ind in mpl.toolbar_items){\n",
       "        var name = mpl.toolbar_items[toolbar_ind][0];\n",
       "        var tooltip = mpl.toolbar_items[toolbar_ind][1];\n",
       "        var image = mpl.toolbar_items[toolbar_ind][2];\n",
       "        var method_name = mpl.toolbar_items[toolbar_ind][3];\n",
       "\n",
       "        if (!name) { continue; };\n",
       "\n",
       "        var button = $('<button class=\"btn btn-default\" href=\"#\" title=\"' + name + '\"><i class=\"fa ' + image + ' fa-lg\"></i></button>');\n",
       "        button.click(method_name, toolbar_event);\n",
       "        button.mouseover(tooltip, toolbar_mouse_event);\n",
       "        nav_element.append(button);\n",
       "    }\n",
       "\n",
       "    // Add the status bar.\n",
       "    var status_bar = $('<span class=\"mpl-message\" style=\"text-align:right; float: right;\"/>');\n",
       "    nav_element.append(status_bar);\n",
       "    this.message = status_bar[0];\n",
       "\n",
       "    // Add the close button to the window.\n",
       "    var buttongrp = $('<div class=\"btn-group inline pull-right\"></div>');\n",
       "    var button = $('<button class=\"btn btn-mini btn-primary\" href=\"#\" title=\"Stop Interaction\"><i class=\"fa fa-power-off icon-remove icon-large\"></i></button>');\n",
       "    button.click(function (evt) { fig.handle_close(fig, {}); } );\n",
       "    button.mouseover('Stop Interaction', toolbar_mouse_event);\n",
       "    buttongrp.append(button);\n",
       "    var titlebar = this.root.find($('.ui-dialog-titlebar'));\n",
       "    titlebar.prepend(buttongrp);\n",
       "}\n",
       "\n",
       "mpl.figure.prototype._root_extra_style = function(el){\n",
       "    var fig = this\n",
       "    el.on(\"remove\", function(){\n",
       "\tfig.close_ws(fig, {});\n",
       "    });\n",
       "}\n",
       "\n",
       "mpl.figure.prototype._canvas_extra_style = function(el){\n",
       "    // this is important to make the div 'focusable\n",
       "    el.attr('tabindex', 0)\n",
       "    // reach out to IPython and tell the keyboard manager to turn it's self\n",
       "    // off when our div gets focus\n",
       "\n",
       "    // location in version 3\n",
       "    if (IPython.notebook.keyboard_manager) {\n",
       "        IPython.notebook.keyboard_manager.register_events(el);\n",
       "    }\n",
       "    else {\n",
       "        // location in version 2\n",
       "        IPython.keyboard_manager.register_events(el);\n",
       "    }\n",
       "\n",
       "}\n",
       "\n",
       "mpl.figure.prototype._key_event_extra = function(event, name) {\n",
       "    var manager = IPython.notebook.keyboard_manager;\n",
       "    if (!manager)\n",
       "        manager = IPython.keyboard_manager;\n",
       "\n",
       "    // Check for shift+enter\n",
       "    if (event.shiftKey && event.which == 13) {\n",
       "        this.canvas_div.blur();\n",
       "        event.shiftKey = false;\n",
       "        // Send a \"J\" for go to next cell\n",
       "        event.which = 74;\n",
       "        event.keyCode = 74;\n",
       "        manager.command_mode();\n",
       "        manager.handle_keydown(event);\n",
       "    }\n",
       "}\n",
       "\n",
       "mpl.figure.prototype.handle_save = function(fig, msg) {\n",
       "    fig.ondownload(fig, null);\n",
       "}\n",
       "\n",
       "\n",
       "mpl.find_output_cell = function(html_output) {\n",
       "    // Return the cell and output element which can be found *uniquely* in the notebook.\n",
       "    // Note - this is a bit hacky, but it is done because the \"notebook_saving.Notebook\"\n",
       "    // IPython event is triggered only after the cells have been serialised, which for\n",
       "    // our purposes (turning an active figure into a static one), is too late.\n",
       "    var cells = IPython.notebook.get_cells();\n",
       "    var ncells = cells.length;\n",
       "    for (var i=0; i<ncells; i++) {\n",
       "        var cell = cells[i];\n",
       "        if (cell.cell_type === 'code'){\n",
       "            for (var j=0; j<cell.output_area.outputs.length; j++) {\n",
       "                var data = cell.output_area.outputs[j];\n",
       "                if (data.data) {\n",
       "                    // IPython >= 3 moved mimebundle to data attribute of output\n",
       "                    data = data.data;\n",
       "                }\n",
       "                if (data['text/html'] == html_output) {\n",
       "                    return [cell, data, j];\n",
       "                }\n",
       "            }\n",
       "        }\n",
       "    }\n",
       "}\n",
       "\n",
       "// Register the function which deals with the matplotlib target/channel.\n",
       "// The kernel may be null if the page has been refreshed.\n",
       "if (IPython.notebook.kernel != null) {\n",
       "    IPython.notebook.kernel.comm_manager.register_target('matplotlib', mpl.mpl_figure_comm);\n",
       "}\n"
      ],
      "text/plain": [
       "<IPython.core.display.Javascript object>"
      ]
     },
     "metadata": {},
     "output_type": "display_data"
    },
    {
     "data": {
      "text/html": [
       "<img src=\"data:image/png;base64,iVBORw0KGgoAAAANSUhEUgAABDgAAALQCAYAAAB118BaAAAgAElEQVR4XuzdC7xVZZ3/8a9wuMglPSQpcUsQNZWUbQI1crK8RtkE3ZxMc7RgYmia6aI1OpU50HS1SaNgkjCk6Sba2N9LQdrRSrAOGmVKinqC0FBBUTxc1P/rOayN+xz23uv2rLWfZ+3Pfr16mZ61nsv7tyz29zzPs/YTHwQQQAABBBBAAAEEEEAAAQQQQMBzgf08Hz/DRwABBBBAAAEEEEAAAQQQQAABBETAwUOAAAIIIIAAAggggAACCCCAAALeCxBweF9CJoAAAggggAACCCCAAAIIIIAAAgQcPAMIIIAAAggggAACCCCAAAIIIOC9AAGH9yVkAggggAACCCCAAAIIIIAAAgggQMDBM4AAAggggAACCCCAAAIIIIAAAt4LEHB4X0ImgAACCCCAAAIIIIAAAggggAACBBw8AwgggAACCCCAAAIIIIAAAggg4L0AAYf3JWQCCCCAAAIIIIAAAggggAACCCBAwMEzgAACCCCAAAIIIIAAAggggAAC3gsQcHhfQiaAAAIIIIAAAggggAACCCCAAAIEHDwDCCCAAAIIIIAAAggggAACCCDgvQABh/clZAIIIIAAAggggAACCCCAAAIIIEDAwTOAAAIIIIAAAggggAACCCCAAALeCxBweF9CJoAAAggggAACCCCAAAIIIIAAAgQcPAMIIIAAAggggAACCCCAAAIIIOC9AAGH9yVkAggggAACCCCAAAIIIIAAAgggQMDBM4AAAggggAACCCCAAAIIIIAAAt4LEHB4X0ImgAACCCCAAAIIIIAAAggggAACBBw8AwgggAACCCCAAAIIIIAAAggg4L0AAYf3JWQCCCCAAAIIIIAAAggggAACCCBAwMEzgAACCCCAAAIIIIAAAggggAAC3gsQcHhfQiaAAAIIIIAAAggggAACCCCAAAIEHDwDCCCAAAIIIIAAAggggAACCCDgvQABh/clZAIIIIAAAggggAACCCCAAAIIIEDAwTOAAAIIIIAAAggggAACCCCAAALeCxBweF9CJoAAAggggAACCCCAAAIIIIAAAgQcPAMIIIAAAggggAACCCCAAAIIIOC9AAGH9yVkAggggAACCCCAAAIIIIAAAgggQMDBM4AAAggggAACCCCAAAIIIIAAAt4LEHB4X0ImgAACCCCAAAIIIIAAAggggAACBBw8AwgggAACCCCAAAIIIIAAAggg4L0AAYf3JWQCCCCAAAIIIIAAAggggAACCCBAwMEzgAACCCCAAAIIIIAAAggggAAC3gsQcHhfQiaAAAIIIIAAAggggAACCCCAAAIEHDwDCCCAAAIIIIAAAggggAACCCDgvQABh/clZAIIIIAAAggggAACCCCAAAIIIEDAwTOAAAIIIIAAAggggAACCCCAAALeCxBweF9CJoAAAggggAACCCCAAAIIIIAAAgQcPAMIIIAAAggggAACCCCAAAIIIOC9AAGH9yVkAggggAACCCCAAAIIIIAAAgggQMDBM4AAAggggAACCCCAAAIIIIAAAt4LEHB4X0ImgAACCCCAAAIIIIAAAggggAACBBw8AwgggAACCCCAAAIIIIAAAggg4L0AAYf3JWQCCCCAAAIIIIAAAggggAACCCBAwMEzgAACCCCAAAIIIIAAAggggAAC3gsQcHhfQiaAAAIIIIAAAggggAACCCCAAAIEHDwDCCCAAAIIIIAAAggggAACCCDgvQABh/clZAIIIIAAAggggAACCCCAAAIIIEDAwTOAAAIIIIAAAggggAACCCCAAALeCxBweF9CJoAAAggggAACCCCAAAIIIIAAAgQcPAMIIIAAAggggAACCCCAAAIIIOC9AAGH9yVkAggggAACCCCAAAIIIIAAAgggQMDBM4AAAggggAACCCCAAAIIIIAAAt4LEHB4X0ImgAACCCCAAAIIIIAAAggggAACBBw8AwgggAACCCCAAAIIIIAAAggg4L0AAYf3JWQCCCCAAAIIIIAAAggggAACCCBAwMEzgAACCCCAAAIIIIAAAggggAAC3gsQcHhfQiaAAAIIIIAAAggggAACCCCAAAIEHDwDCCCAAAIIIIAAAggggAACCCDgvQABh/clZAIIIIAAAggggAACCCCAAAIIIEDAwTOAAAIIIIAAAggggAACCCCAAALeCxBweF9CJoAAAggggAACCCCAAAIIIIAAAgQcPAMIIIAAAggggAACCCCAAAIIIOC9AAGH9yVkAggggAACCCCAAAIIIIAAAgggQMDBM4AAAggggAACCCCAAAIIIIAAAt4LEHB4X0ImgAACCCCAAAIIIIAAAggggAACBBw8AwgggAACCCCAAAIIIIAAAggg4L0AAYf3JWQCCCCAAAIIIIAAAggggAACCCBAwMEzgAACCCCAAAIIIIAAAggggAAC3gsQcHhfQiaAAAIIIIAAAggggAACCCCAAAIEHDwDCCCAAAIIIIAAAggggAACCCDgvQABh/clZAIIIIAAAggggAACCCCAAAIIIEDAwTOAAAIIIIAAAggggAACCCCAAALeCxBweF9CJoAAAggggAACCCCAAAIIIIAAAgQcPAMIIIAAAggggAACCCCAAAIIIOC9AAGH9yVkAggggAACCCCAAAIIIIAAAgggQMDBM4AAAggggAACCCCAAAIIIIAAAt4LEHB4X0ImgAACCCCAAAIIIIAAAggggAACBBw8AwgggAACCCCAAAIIIIAAAggg4L0AAYf3JWQCCCCAAAIIIIAAAggggAACCCBAwMEzgAACCCCAAAIIIIAAAggggAAC3gsQcHhfQiaAAAIIIIAAAggggAACCCCAAAIEHDwDCCCAAAIIIIAAAggggAACCCDgvQABh/clzGwCL2bWMg0jgAACCCCAAAIIIIAAAv4I8L3Zk1pRKE8K1YBhEnA0AJ0uEUAAAQQQQAABBBBAwDkBvjc7V5LqA6JQnhSqAcPsDjhefJGcowH2dIkAAggggAACCCCAAAINFthvv71fl/ne3OBaRO2eQkWVar7rCDiar+bMGAEEEEAAAQQQQAABBAIBAg7/HgUCDv9qlteICTjykqYfBBBAAAEEEEAAAQQQcE6AgMO5koQOiIAjlKhpLyDgaNrSM3EEEEAAAQQQQAABBBAg4PDvGSDg8K9meY2YgCMvafpBAAEEEEAAAQQQQAAB5wQIOJwrSeiACDhCiZr2AgKOpi09E0cAAQQQQAABBBBAAAECDv+eAQIO/2qW14gJOPKSph8EEEAAAQQQQAABBBBwToCAw7mShA6IgCOUqGkvIOBo2tIzcQQQQAABBBBAAAEEECDg8O8ZIODwr2Z5jZiAIy9p+kEAAQQQQAABBBBAAAHnBAg4nCtJ6IAIOEKJmvYCAo6mLT0TRwABBBBAAAEEEEAAAQIO/54BAg7/apbXiAk48pKmHwQQQAABBBBAAAEEEHBOgIDDuZKEDoiAI5SoaS8g4Gja0jNxBBBAAAEEEEAAAQQQIODw7xkg4PCvZnmNmIAjL2n6QQABBBBAAAEEEEAAAecECDicK0nogAg4Qoma9gICjqYtPRNHAAEEEEAAAQQQQAABAg7/ngECDv9qlteICTjykqYfBBBAAAEEEEAAAQQQcE6AgMO5koQOiIAjlKhpLyDgaNrSM3EEEEAAAQQQQAABBBAg4PDvGSDg8K9meY2YgCMvafpBAAEEEEAAAQQQQAAB5wQIOJwrSeiACDhCiZr2AgKOpi09E0cAAQQQQAABBJpDYFvXLq3p3KpnduzWkAEtKo1t7f4rHwSMAAGHf88BAYd/NctrxAQceUnTDwIIIIAAAggggECuAn95crsWtj+o6zo26tmdz+/te3D/vppRGqnZbeM1etigXMdEZ+4JEHC4V5OwERFwhAk1788JOJq39swcAQQQQAABBBAorEBH5xadv+Qubd2+q+YcDxzUT4vPO0GlMa2FdWBi4QIEHOFGrl1BwOFaRdwZDwGHO7VgJAgggAACCCCAAAIWBMzKjTOvvKNuuFHuxoQcN8w9MdZKDra8WCiSQ00QcDhUjIhDIeCICNWElxFwNGHRmTICCCCAAAIIIFBkgUuuX6tr7uyMPMVzpo7VZW8/JvR6tryEEnl5AQGHf2Uj4PCvZnmNmIAjL2n6QQABBBBAAAEEEMhcwKyumDp/ZY8zN8I6NWdyrLr4lLoHj7LlJUzR358TcPhXOwIO/2qW14gJOPKSph8EEEAAAQQQQACBzAXa123WuYtXx+5n6QWTNW3C8Kr3Zb3lJfZgucGqAAGHVc5cGiPgyIXZy04IOLwsG4NGAAEEEEAAAQQQqCZw49pNmrOsIzbOgrNLmj5xRNX7stryEnuQ3JCJAAFHJqyZNkrAkSmv140TcHhdPgaPAAIIIIAAAgggUClgewVHVlteqJo7AgQc7tQi6kgIOKJKNd91BBzNV3NmjAACCCCAAAIIFFbgmR27NWXeCmtncNgOTAoL7/HECDj8Kx4Bh381y2vEBBx5SdMPAggggAACCCCAQC4CNreUZLHlJRcEOoksQMARmcqZCwk4nCmFcwMh4HCuJAwIAQQQQAABBBBAII2AzUNBWcGRphJ+3EvA4UedKkdJwOFfzfIaMQFHXtL0gwACCCCAAAIIIJCbgK3Xutre8pIbAB1FFiDgiEzlzIUEHM6UwrmBEHA4VxIGhAACCCCAAAIIIGBDwKzkWNS+Xss7NvQ4k2Nw/76aWRqlWW3jNHrYoNCubG55Ce2MC3IXIODInTx1hwQcqQkL2wABR2FLy8QQQAABBBBAAAEEjIBZhbGmc4u2de3W0IEtmjSmVUMGtETGsbnlJXKnXJibAAFHbtTWOiLgsEZZuIYIOApXUiaEAAIIIIAAAgggYFvA1pYX2+OivfQCBBzpDfNugYAjb3F/+iPg8KdWjBQBBBBAAAEEEECggQK2trw0cAp0XUWAgMO/x4KAw7+a5TViAo68pOkHAQQQQAABBBBAoBACabe8FAKhQJMg4PCvmAQc/tUsrxETcOQlTT8IIIAAAggggAACCCDgnAABh3MlCR0QAUcoUdNeQMDRtKVn4ggggAACCCCAAAIIIEDA4d8zQMARrWYlSWdKOl7S4ZKGS3qZpKcl3SfpRknflPRkneYOlnShpLdKGiPpOUl/lHS1pKskdQcKdT7jg/tPkzQi6HuNpEWSro02jVhXEXDE4uJiBBBAAAEEEEAAAQQQKJIAAYd/1STgiFazKyX9c8WlXZJ2SRpa8c8el/Q2Sb+p0qQJRm6R9PLgZ89IGiip/A6qnwX37qgxnOmSfiSp/DJuE6wMkdQnuP47ki6IEJJEm+2eqwg44mhxLQIIIIAAAggggAACCBRKgIDDv3IScESr2bmSXiHpjmDFxtbgNhMyvEPSl4JVHX8LVng8VdHsAcE9hwR/PUfSbyX1l/RBSZdL6hesAJlTZTiHSlorabCkX0k6X9K6IOD4hKRPB/dcJOmL0aYT6SoCjkhMXIQAAggggAACCCCAAAJFFCDg8K+qBBx2ama2jZgVGubzPknLKpq9TNIlwZaUoyU91KvLT0maL+l5SUcF4UXlJUuDNh+V9GpJ5XClfM1CSbOCLSuvkrTFzpRYwWHJkWYQQAABBBBAAAEEEEDAQwECDv+KRsBhp2bmPI7yqo1PSvpCRbOPBGdumG0kZvVF749ZBbIpWJHxOUmfqbjArNrYLGn/4J+bn/f+mFCjHJqY9k0/Nj6s4LChSBsIIIAAAggggAACCCDgpQABh39lI+CwU7O3SPpp0NS7JP04+O9HBNtSzN++OzhHo1qP5pDSN0u6U9LrKi44XdLNwd9PlnRXjeHeG6zu+L6kf7AzJVZwWHKkGQQQQAABBBBAAAEEEPBQgIDDv6IRcCSv2YDgbSbmrShmZUWrpAckHSOpfFioOZ+jHHaY7Sd/qtGdOTvDnKdhDg81Z3aUPx+T9OXgb8xqju017v+hJBOsmLM6XpN8Sj3uZAWHJUiaQQABBBBAAAEEEEAAAf8ECDg8rJl/Q274iM0bVEy40ftjDgB9r6TOih98WNLXg783wYUJMKp9PiLpa8EPzJtZzFtWzOcrkj4anKsxrM7MzUGl/yrpCUkHWRIi4LAESTMIIIAAAggggAACCCDgnwABh4c182/IDR/xw8ErXs3ZGWZVhfncKunC4O0olQP8d0nzgn9g3pSyu8bozdtUFgU/e2VwJof5W/PPzM82ShpVZ+amD9PXzhrhS7VbuwOMsM+LL0a6LKwZfo4AAggggAACCCCAAAIIeCVAwOFVuboHyxaVdDUzr441r329WNKBkv6z4rWtpmUCjnS+3I0AAggggAACCCCAAAIINESAgKMh7Kk6JeBIxbf3ZnMA6G8k9ZF0ZsWBo2xRseNLKwgggAACCCCAAAIIIIBArgIEHLlyW+mMgMMKY3cjv5TUJukGSW8LmuWQUXu+tIQAAggggAACCCCAAAII5CZAwJEbtbWOCDisUep7wStazZtSzBtTzIfXxNrzpSUEEEAAAQQQQAABBBBAIDcBAo7cqK11RMBhjVJ3SpoiaXXw13LLj0gaI2mxpAuqdGcOKn1Ukjm01Lxu9jMV15ifbZa0f3C2x2VV7h8ryRx8aj7nS/qOpSnxFhVLkDSDAAIIIIAAAggggAAC/gkQcHhYM/+GnPuI+0p6QVK914mcLOnnwaGtX5R0UcUoTShxiaTtko6uCCPKl5i3r3xB0vPByo91vWa4VNL7gjervFrSU71+vkDShyRtk2TCji2WhAg4LEHSDAIIIIAAAggggAACCPgnQMDhYc38G3LuI36VpOslfTMIMR6qCDtGSzo7CDDMaosngxDDrMgofw6QdJ+kQyTdK+lcSb+T1D9Y0fG14L+b9udUmd2hktYGr6S9Pbjnz8Hff0zSZ4NgxYQqJlyx9SHgsCVJOwgggAACCCCAAAIIIOCdAAGHdyXjNbERSmYCDhNqlD87JT0dbBsxoUb5Y64xh4quqdLm8ZJukfTy4GdmtcVASf2Cv/9ZcDDpjhrjmS7pR5IGBT83qzjMlhazusR8lgTbU+qtMokw1R6XEHDEFeN6BBBAAAEEEEAAAQQQKIwAAYd/peQMjvCamZUWfy/ppOBsjRGSDgq2lJjzMe6R9BOp+5DR5+o0d3CwdeWtkszKjy5Jf5B0dXA+h9kGU+8zPrj/VEmvDLakdEhaKOna8GnEvoKAIzYZNyCAAAIIIIAAAggggEBRBAg4/KskAYd/NctrxAQceUnTDwIIIIAAAggggEBqgW1du7Smc6ue2bFbQwa0qDS2tfuvfBBIKkDAkVSucfcRcDTO3vWeCThcrxDjQwABBBBAAAEEENBfntyuhe0P6rqOjXp2pzm3f89ncP++mlEaqdlt4zV6WHmnN2AIRBcg4Ihu5cqVBByuVMK9cRBwuFcTRoQAAggggAACCCBQIdDRuUXnL7lLW7fvquly4KB+WnzeCSqNacUOgVgCBByxuJy4mIDDiTI4OQgCDifLwqAQQAABBBBAAAEEjIBZuXHmlXfUDTfKUibkuGHuiazk4NGJJUDAEYvLiYsJOJwog5ODIOBwsiwMCgEEEEAAAQQQQMAIXHL9Wl1zZ2dkjHOmjtVlbz8m8vVciAABh3/PAAGHfzXLa8QEHHlJ0w8CCCCAAAIIIIBALAFzoOjU+St7nLkR1oA5k2PVxadw8GgYFD/fK0DA4d/DQMDhX83yGjEBR17S9IMAAggggAACCCAQS6B93Wadu3h1rHvMxUsvmKxpE4bHvo8bmlOAgMO/uhNw+FezvEZMwJGXNP0ggAACCCCAAAIIxBK4ce0mzVnWEesec/GCs0uaPnFE7Pu4oTkFCDj8qzsBh381y2vEBBx5SdMPAggggAACCCCAQCwBVnDE4uLihAIEHAnhGngbAUcD8R3vmoDD8QIxPAQQQAABBBBAoFkFntmxW1PmreAMjmZ9AHKaNwFHTtAWuyHgsIhZsKYIOApWUKaDAAIIIIAAAggUSYC3qBSpmm7OhYDDzbrUGxUBh381y2vEBBx5SdMPAggggAACCCCAQGyBvzy5XWdeeYe2bt8Veu+Bg/rphrknavSwQaHXcgECZQECDv+eBQIO/2qW14gJOPKSph8EEEAAAQQQQACBRAIdnVt0/pK76oYcJtxYfN4JKo1pTdQHNzWvAAGHf7Un4PCvZnmNmIAjL2n6QQABBBBAAAEEEEgsYFZyLGpfr+UdG3qcyTG4f1/NLI3SrLZxzq3c2Na1S2s6t8qcJTJkQItKY1u7/8rHLQECDrfqEWU0BBxRlJrzGgKO5qw7s0YAAQQQQAABBLwUMGHBms4t2ta1W0MHtmjSGPdCAxPGLGx/UNd1bNwnjJlRGqnZbeOdC2O8fBgsDZqAwxJkjs0QcOSI7VlXBByeFYzhIoAAAggggAACCLgrwHYad2tTa2QEHB7WzL8hM+KcBAg4coKmGwQQQAABBBBAAIFiC3Agqp/1JeDwr26s4PCvZnmNmIAjL2n6QQABBBBAAAEEECi0AK+09bO8BBz+1Y2Aw7+a5TViAo68pOkHAQQQQAABBBBAoLAC5kDRqfNX9jhzI2yy5oDUVRefwsGjYVAZ/5yAI2PgDJon4MgAtSBNEnAUpJBMAwEEEEAAAQQQQKBxAu3rNuvcxatjD2DpBZM1bcLw2Pdxgz0BAg57lnm1RMCRl7R//RBw+FczRowAAggggAACCCDgmMCNazdpzrKO2KNacHZJ0yeOiH0fN9gTIOCwZ5lXSwQceUn71w8Bh381Y8QIIIAAAggggAACjgmwgsOxgsQYDgFHDCxHLiXgcKQQDg6DgMPBojAkBBBAAAEEEEAAgfwFzDkaazq36pkdu7vPxSiNbY18Poa5Z8q8FZzBkX/ZUvdIwJGaMPcGCDhyJ/emQwIOb0rFQBFAAAEEEEAAAQSyEDCvd13Y/qCu69jYI6Awh4DOKI3U7LbxGj1sUGjXvEUllMjJCwg4nCxL3UERcPhXs7xGTMCRlzT9IIAAAggggAACCDgn0NG5RecvuUtbt++qObYDB/XT4vNOUGlMa93xm6DkzCvvqNtWuQHT5g1zT4wUnDiHVrABEXD4V1ACDv9qlteICTjykqYfBBBAAAEEEEAAAacEsggkbAYmTmEVeDAEHP4Vl4DDv5rlNWICjryk6QcBBBBAAAEEEEDAKYGstpSY4GRR+3ot79iwz5aXmaVRmtU2jpUbDj0JBBwOFSPiUAg4IkI14WUEHE1YdKaMAAIIIIAAAgg0u4A5UHTq/JWZHgpqDh5d07lF27p2a+jAFk0aE/3Q0mavT57zJ+DIU9tOXwQcdhyL2AoBRxGrypwQQAABBBBAAAEE6grwWlcekLIAAYd/zwIBh381y2vEBBx5SdMPAggggAACCCCAgDMCN67dpDnLOmKPZ8HZJU2fOCL2fdzgrgABh7u1qTUyAg7/apbXiAk48pKmHwQQQAABBBBAAAFnBFjB4UwpGj4QAo6GlyD2AAg4YpM1zQ0EHE1TaiaKAAIIIIAAAgggUBYw52NMmbci0zM40PZDgIDDjzpVjpKAw7+a5TViAo68pOkHAQQQQAABBBBAwCmBrN6i4tQkGUyoAAFHKJFzFxBwOFcSZwZEwOFMKRgIAggggAACCCCAQJ4C5nWuZ155h7Zu3xXa7YGD+umGuSfyetdQKf8uIODwsGb+DZkR5yRAwJETNN0ggAACCCCAAAIIuCfQ0blF5y+5q27IYcKNxeedoNKYVvcmwIhSCxBwpCbMvQFWcORO7k2HBBzelIqBIoAAAggggAACCGQhYFZyLGpfr+UdG3qcyTG4f1/NLI3SrLZxrNzIAt6RNgk4HClEjGEQcMTAarJLCTiarOBMFwEEEEAAAQQQQKC6gDl4dE3nFm3r2q2hA1s0aUyrhgxogavgAgQc/hWYgMO/muU1YgKOvKTpBwEEEEAAAQQQQAABBJwTIOBwriShAyLgCCVq2gsIOJq29EwcAQQQQAABBBBojMC2rl1a07lVZsWEWSFRGstKicZUgl6NAAGHf88BAYd/NctrxAQceUnTDwIIIIAAAggg0OQC5qyLhe0P6rqOjfucdTGjNFKz28Zz1kWTPyONmD4BRyPU0/VJwJHOr8h3E3AUubrMDQEEEEAAAQSaVsC1VRK8raRpH0XnJ07A4XyJ9hkgAYd/NctrxAQceUnTDwIIIIAAAgggkIOAi6skzJjOvPKOuq9iLdOYV7LeMPdEVnLk8KzQxR4BAg7/ngQCDv9qlteICTjykqYfBBBAAAEEEEAgYwFXV0lccv1aXXNnZ+TZnzN1rC57+zGRr+dCBNIIEHCk0WvMvQQcjXH3oVcCDh+qxBgRQAABBBBAAIEQAVdXSZitMlPnr+xx5kZYMQf376tVF5/CK1rDoPi5FQECDiuMuTZCwJErt1edEXB4VS4GiwACCCCAAAIIVBdwdZVE+7rNOnfx6thlW3rBZE2bMDz2fdyAQFwBAo64Yo2/noCj8TVwdQQEHK5WhnEhgAACCCCAAAIRBVxeJXHj2k2as6wj4kxeumzB2SVNnzgi9n3cgEBcAQKOuGKNv56Ao/E1cHUEBByuVoZxIYAAAggggAACEQVcXiXh8tgi8nJZwQUIOPwrMAGHfzXLa8QEHHlJ0w8CCCCAAAIIIJCRgMurJJ7ZsVtT5q3gDI6Mak+z6QUIONIb5t0CAUfe4v70R8DhT60YKQIIIIAAAgggUFXA9VUSrp4PwuOEgBEg4PDvOSDg8K9meY2YgCMvafpBAAEEEEAAAQQyEnB9lYSrb3jJqBw065kAAYdnBTOhlH9DZsQ5CRBw5ARNNwgggAACCCCAQJYCrq+S6OjcovOX3KWt23fVZDhwUD8tPu8Elca0ZklF2wj0ECDg8O+BIODwr2Z5jZiAIy9p+kEAAQQQQAABBDIU8GGVhBnjovb1Wt6xoceZHIP799XM0ijNahun0U1qA0cAACAASURBVMMGZahE0wjsK0DA4d9TQcDhX83yGjEBR17S9IMAAggggAACCGQs4MsqCbOlZk3nFm3r2q2hA1s0aUyrhgxoyViH5hGoLkDA4d+TQcDhX83yGjEBR17S9IMAAggggAACCOQgwCqJ7JG3de3Sms6tMkGNCWZKYwloslfPrgcCjuxss2qZgCMrWf/bJeDwv4bMAAEEEEAAAQQQ2EeAVRL2HwoTHi1sf1DXdWzcZ4vNjNJIzW4b3/RbbHwMfwg47P+7knWLBBxZC/vbPgGHv7Vj5AgggAACCCCAAAI5Cfiy/Scnjn268Tn8IeBo1FOTvF8CjuR2Rb+TgKPoFWZ+CCCAAAIIIIAAAqkEfDjANdUEU97se/hDwJHyAWjA7QQcDUD3pEsCDk8KxTARQAABBBBAAAEEGiPg+it4G6Oyp9cihD8EHI18gpL1TcCRzK0Z7iLgaIYqM0cEEEAAAQQQQACBRALmTImp81f2OHMjrCHz2ttVF5/SFG+GKUL4Q8AR9kS793MCDvdq4sqICDhcqQTjQAABBBBAAAEEHBBw9ZDIRo2rfd1mnbt4dezKLL1gsqZNGB77Pp9uKEr4Q8Dh01O3Z6wEHP7VLK8RE3DkJU0/CCCAAAIIIICAwwKuHhLZ6HHduHaT5izriF25BWeXNH3iiNj3+XRDUcIfAg6fnjoCjjjVermkt0k6WVJJ0lhJLZI2S/qtpKslXVejwfMkfSdCZ6dKWlHnuvGSLpR0miTzv4hPS1ojaZGkayO0H/cSAo64YlyPAAIIIIAAAggUTMDVQyJdGFdRvsRn8cgWJfwh4Mji6ci2TVZwRPPdFQQa5au7JD0vaXDF7TdJeqek7b2aLAccLwSBSK0e3yXp9ho/nC7pR5IGBT834cYQSX2CvzcBygWSukMJSx8CDkuQNIMAAggggAACCPgo4Oohka6M65kduzVl3grO4KjycBcl/CHg8O9/uQg4otXMfNk3G+yWSLpF0vrgtldJuiQIF8w/ukbSOTUCjkckmevjfg6VtDYIU34l6XxJ64KA4xOSPh00eJGkL8ZtvM71BBwWMWkKAQQQQAABBBDwTcDVQyJdGpdLY3Hp+SpK+EPA4dJTFW0sBBzRnN4o6dY6l35L0uzg52PMW5Eqri2v4EgacCyV9D5Jj0p6taStvcaxUNKsYMuKCVC2RJtS6FUEHKFEXIAAAggggAACCBRTwNVDIl0blyurSVx8CosQ/hBwuPhk1R8TAYedmp0QrPAwrc3sdR5HmoDDbIEx53zsL+kzkj5XZbgm1Hgo+OdmdUeU8z6izJqAI4oS1yCAAAIIIIAAAgUUcHWLgYvjcuE8EBcfwSKEPwQcLj5ZBBx5VGWipN8HHZmzNH5c0WmagON0STcHbU2WdFeNydwbrO74vqR/sDRhAg5LkDSDAAIIIIAAAgj4JuDqIZGujst8mV/Uvl7LOzb0OJNjcP++mlkapVlt4zR6WPk4Pd+ehuTj9T38IeBIXvtG3ckKDjvyH5b09aCpIyXdXyXgMIeP3ifpCEl9JW2S9GtJ35Z0W41hfEzSl4OfmdUcvQ8wLd/2Q0kmWDFndbzGzpT2HFj64os2zy21NDKaQQABBBBAAAEEEMhUwMWVEmbCro6rXAxz9sSazi3a1rVbQwe2aNKYVg0ZYF6+2Lwfn8MfAg7/nlsCjvQ1O1CSWUFhXt1q3oLS1qvJ3q+JNWdkmLCif8V1ZluJOUdjd697vyLpo8G5GsPqDPVySf8q6QlJB6WfUncLBByWIGkGAQQQQAABBBDwTcDVQyJdHZdv9W3EeH0Mfwg4GvGkpOuTgCOdn3lN608kvVXSDklTJN3Tq8nTJL1e0vJgZYe5zqzgMNdeKumU4PorJZmVIJWfRZI+KGmjpFF1hjpP0r9L2ilpQMQpRVqawQqOiJpchgACCCCAAAIIFEzA1UMiXR1XwcrPdCQRcPj3GBBwpKvZFZLmBk1cIGlxzOZMQGKCj7+X9IIks73lzxVtEHDEBOVyBBBAAAEEEEAAATsCrh4S6eq47KjTiksCBBwuVSPaWAg4ojlVu8qcjWHOyDCff5P0tYRNHVYRapj2vlrRDltUEqJyGwIIIIAAAggggEB6AVcPiXR1XOnFacElAQIOl6oRbSwEHNGcel/1RUmfCP6h+Wv5INBkre15Faw5O+MbFStCTFscMppUlPsQQAABBBBAAAEErAi4ekikq+Oygk4jTggQcDhRhliDIOCIxdV98ZckfTy47cLg7+O30vOOWgEHr4lNK8v9CCCAAAIIIIAAAlYEXD0k0tVxWUGnkYYKEHA0lD9R5wQc8dgqt6XYCjfGS3ogGIYJTsy2lPLHvG3FhB/7S/q0pMuqDHespIeDf36+JPNGFhsf3qJiQ5E2EEAAAQQQQAABBBBAwEsBAg7/ykbAEb1mleFG7yCiVivGt97bSszPr5U0Izhk9KjgTSuV7S2V9D5JmyS9WtJTvTpbIOlDkrZJMmGHeQ2tjQ8Bhw1F2kAAAQQQQAABBBBAAAEvBQg4/CsbAUe0mn1BklmxYT4flXR5tNv0Kkk/lHSVpJ9LeigIPMzbUyZL+qwksw3FfL4paU6Vdg+VtFaSWc1xuyTzthbzphXz9+aMDtOGqeNFkszZILY+BBy2JGkHAQQQQAABBBBoAoFtXbu0pnOrzJaRIQNaVBrb2v1XPgj4KkDA4V/lCDjCazZG0iPBZeZVrmbLSL2PWelRPnTUBBwm1Ch/dgQrLYZKGlDxz822klmSdtdoeLqkH0kaFPzcrOIYIqlv8PdLJJntKfVWi4TPtOcVBBxxxbgeAQQQQAABBBBoQgFz2OfC9gd1XcdGPbvz+b0Cg/v31YzSSM1uG6/Rw8p/jM0eiKAle+Nm6YGAw79KE3CE16x3SBF2x6XBqgpznTk7w6y4eJ2k4yQNl9QqqUvSBkm/lrRY0q/CGpVkzuowqzROlfTKICjpkLQw2OYSoYlYlxBwxOLiYgQQQAABBBBAoPkEXHpdq2tBS/M9DcWbMQGHfzUl4PCvZnmNmIAjL2n6QQABBBBAAAEEPBQwgcKZV96hrdt3hY7+wEH9dMPcEzNbyeFS0BKKwQXeCBBweFOqvQMl4PCvZnmNmIAjL2n6QQABBBBAAAEEPBS45Pq1uubOzsgjP2fqWF329mMiXx/1QpeClqhj5jo/BAg4/KhT5SgJOPyrWV4jJuDIS5p+EEAAAQQQQAABzwTMORdT56/sceZG2BTMmRyrLj7F+sGjrgQtYfPn5/4JEHB4WDP/hsyIcxIg4MgJmm4QQAABBBBAAAHfBNrXbda5i1fHHvbSCyZr2gRzLJ2dj0tBi50Z0YpLAgQcLlUj2lhYwRHNqRmvIuBoxqozZwQQQAABBBBAIILAjWs3ac4yc959vM+Cs0uaPnFEvJvqXO1K0GJtQjTklAABh1PliDQYAo5ITE15EQFHU5adSSOAAAIIIIAAAuECrgQLrgQt4WJc4aMAAYd/VSPg8K9meY2YgCMvafpBAAEEEEAAAQQ8E3hmx25Nmbei4WdwuBK0eFY+hhtRgIAjIpRDlxFwOFQMx4ZCwOFYQRgOAggggAACCCDgkoALh3u6ErS4VBfGYk+AgMOeZV4tEXDkJe1fPwQc/tWMESOAAAIIIIAAArkJuPJ6VheCltzQ6ShXAQKOXLmtdEbAYYWxkI0QcBSyrEwKAQQQQAABBBCwJ9DRuUXnL7lLW7fvqtnogYP6afF5J6g0ptVexxUtuRK0ZDI5Gm2oAAFHQ/kTdU7AkYitKW4i4GiKMjNJBBBAAAEEEEAgnYAJGBa1r9fyjg09zuQY0NJHJx52kC48/QgdMeJl6ToJuduFoCXTCdJ4QwQIOBrCnqpTAo5UfIW+mYCj0OVlcggggAACCCCAgF2B+x/dpi/efJ/ueOBx7dj9wt7GB/fvqxmlkZrdNl6jhw2y22lFa7WCFtP/zNIozWobl2n/mU2MhhsmQMDRMPrEHRNwJKYr/I0EHIUvMRNEAAEEEEAAAQTsCLi0gsIcPLqmc4u2de3W0IEtmjSmVUMGtNiZKK00lQABh3/lJuDwr2Z5jZiAIy9p+kEAAQQQQAABBDwW4AwMj4vH0OsKEHD494AQcPhXs7xGTMCRlzT9IIAAAggggAACHgvwFhOPi8fQCTgK9gwQcBSsoBanQ8BhEZOmEEAAAQQQQACBIgps69qlqfNX9jhcNGye5kyMVRef4s22ETPHNZ1bZba+mK0upbFseQmrcVF+zgoO/ypJwOFfzfIaMQFHXtL0gwACCCCAAAIIeCrQvm6zzl28Ovbol14wWdMmDI99X543mK03C9sf1HUdG3sEOHkdmprnXOmrugABh39PBgGHfzXLa8QEHHlJ0w8CCCCAAAIIIOCpwI1rN2nOso7Yo19wdknTJ46IfV9eN7h0aGpec6affQUIOPx7Kgg4/KtZXiMm4MhLmn4QQAABBBBAAAFPBYq4goNDUz19GDMYNgFHBqgZN0nAkTGwx80TcHhcPIaOAAIIIIAAAgjkIWDOpZgyb0WhzuDg0NQ8npw9fbh+vgkBR37Pgq2eCDhsSRavHQKO4tWUGSGAAAIIIIAAAtYFihQINMOhqdYfgAQN+nK+CQFHguI2+BYCjgYXwOHuCTgcLg5DQwABBBBAAAEEXBEo0paOIm65ceU5KY/Dp/NNCDhce3rCx0PAEW7UrFcQcDRr5Zk3AggggAACCCAQU8CnL631plbUQ1NjljOzy30Lwwg4MnsUMmuYgCMzWu8bJuDwvoRMAAEEEEAAAQQQyE/AfHld1L5eyzs27PNa1ZmlUZrVNk6jhw3Kb0AJemIFRwK0GLf4tp2JgCNGcR25lIDDkUI4OAwCDgeLwpAQQAABBBBAAAHXBczBo2s6t2hb124NHdiiSWNaNWRAi+vD7h5fEQ9NdQXex/NNCDhceXqij4OAI7pVs11JwNFsFWe+CCCAAAIIIIAAAvJtlYEvJfNxdQwBhy9P10vjJODwr2Z5jZiAIy9p+kEAAQQQQAABBBBwRsC3cyKcgQsZiI/nmxBw+PJ0EXD4V6n8R0zAkb85PSKAAAIIIIAAAgg4IFCUQ1MdoNw7BFZwuFSN4o6FFRzFrW3amRFwpBXkfgQQQAABBBBAAAGZsxfWdG7tPt/CnMVRGuvHmRxFODTVpcfPx/NNWMHh0hMUbSwEHNGcmvEqAo5mrDpzRgABBBBAAAEELAmYgGBh+4O6rmPjPm9VmVEaqdlt451/q4qh8PnQVEultNaMb+ebEHBYK31uDRFw5EbtXUcEHN6VjAEjgAACCCCAAAJuCLDFw406uDYK3843IeBw7QkKHw8BR7hRs15BwNGslWfeCCCAAAIIIIBACgHfvsSmmCq3JhDwKfwi4EhQ4AbfQsDR4AI43D0Bh8PFYWgIIIAAAggggICrAr5tQ8jT0dfzSGwb+XK+CQGH7cpn3x4BR/bGvvZAwOFr5Rg3AggggAACCCDQIAHzBX7q/JU9ztwIG8rg/n216uJTug8gLeqnKOeR2K6P6+ebEHDYrnj27RFwZG/saw8EHL5WjnEjgAACCCCAAAINEvDxVaBZU/m0JSNrC9/aJ+DwrWISAYd/NctrxAQceUnTDwIIIIAAAgggUBCBG9du0pxlHbFns+DskqZPHBH7Ptdv4DwS1ytUf3wEHP7Vj4DDv5rlNWICjryk6QcBBBBAAAEEECiIACs4ehaS80j8frAJOPyrHwGHfzXLa8QEHHlJ0w8CCCCAAAIIIFAQAXOmwpR5KziDQxLnkfj/UBNw+FdDAg7/apbXiAk48pKmHwQQQAABBBBAoEACrFrYU0xWs/j/UBNw+FdDAg7/apbXiAk48pKmHwQQQAABBBBAoEACLp070cjXsnIeif8PNQGHfzUk4PCvZnmNmIAjL2n6QQABBBBAAAEECibQ6DeHuPBaVlZw+P9QE3D4V0MCDv9qlteICTjykqYfBBBAAAEEEECggAImZFjUvl7LOzb0OJNjcP++mlkapVlt4zR62CDrM290uFKeEOeRWC9t7g0ScOROnrpDAo7UhIVtgICjsKVlYggggAACCCCAQH4C5ov+ms4t2ta1W0MHtmjSmFYNGdCSyQBc2h5jJsh5JJmUObdGCThyo7bWEQGHNcrCNUTAUbiSMiEEEEAAAQQQQKDYAq4FCq4FLsWuvv3ZEXDYN826RQKOrIX9bZ+Aw9/aMXIEEEAAAQQQQKDpBFx9LasrW2aa7oGwMGECDguIOTdBwJEzuEfdEXB4VCyGigACCCCAAAIINLuAy4d6Nuo8kmZ/JtLOn4AjrWD+9xNw5G/uS48EHL5UinEigAACCCCAAAIIyIfXsuZ5HgmPRHoBAo70hnm3QMCRt7g//RFw+FMrRooAAggggAACBREw2yzWdG6V+SJsDuIsjc3uQM6CkO2dhssrOIpm3SzzIeDwr9IEHP7VLK8RE3DkJU0/CCCAAAIIIND0AmYLw8L2B3Vdx8Z9Xqk6ozRSs9vGZ/JK1SLB81rWIlXTjbkQcLhRhzijIOCIo9Vc1xJwNFe9mS0CCCCAAAIINEiAQyjtwbv2FhV7M6OlRggQcDRCPV2fBBzp/Ip8NwFHkavL3BBAAAEEEEDACQHXXyPq25YZ1z2deOgYRGQBAo7IVM5cSMDhTCmcGwgBh3MlYUAIIIAAAgggUDQBV1cc+LxlhhUxRfu3pHHzIeBonH3Sngk4ksoV/z4CjuLXmBkigAACCCCAQAMFzOqIqfNX9jhzI2w4g/v31aqLT+k+gDSrTxECAl7LmtXT0VztEnD4V28CDv9qlteICTjykqYfBBBAAAEEEGhKARff+lG0LR68lrUp/9WyNmkCDmuUuTVEwJEbtXcdEXB4VzIGjAACCCCAAAI+Cdy4dpPmLOuIPeQFZ5c0feKI2PdFucHVLTNRxs41CNgWIOCwLZp9ewQc2Rv72gMBh6+VY9wIIIAAAggg4IVAmhUcx40+UGs6t8qsUDDbVUpjW1NvW3F1y4wXxbQ8SN8Od7U8fWeaI+BwphSRB0LAEZmq6S4k4Gi6kjNhBBBAAAEEELApEPYl1YQTU+atiHUGx/79+uptx43QT+/Z1OM+czbHjNJIzW4br9HDBiWaRprAZdqE4Yn65KaeAj4f7lrEWhJw+FdVAg7/apbXiAk48pKmHwQQQAABBBAolECcL6lxt4T0b+mjnbtfqOl14KB+WnzeCSqNaY1t6uKWmdiT8PiGIhzu6jF/1aETcPhXUQIO/2qW14gJOPKSph8EEEAAAQQQcFYgbBVG74HH/ZIa51BP8wf37j+ghXxMyHHD3BNjr+RgBUeYbHY/j/McJK1vdqMvbssEHP7VloDDv5rlNWICjryk6QcBBBBAAAEEnBOIswqjPPikX1KjhCJhKzd6A77ntaP1lteMiHVGR5ItM3m8tta5hyODAcVdyXPO1LG67O3HZDASmqwUIODw73kg4PCvZnmNmIAjL2n6QQABBBBAAAGnBKIEDtW2gqT5kmrCkUXt67W8Y8M+Z2u89dhX6v/u3qjndtXemhIGGPWMjjRzCBsDP68uwOGu7j4ZBBzu1qbWyAg4otXs5ZLeJulkSSVJYyW1SNos6beSrpZ0XUhTQyV9TNI7JB0q6XlJ6yR9X9IVknaG3H+wpAslvVXSGEnPSfpj0PdVEVcsRpvtnqsIOOJocS0CCCCAAAIIFEIg6SoMW19SzSqKNZ1btK1rt4YObNGkMa3qeGSLzl282opv2BkdSedvZXBN2ghbg9wtPAGHu7Uh4EhXm11BoFFupSsIKAZXNHuTpHdK2l6lKxOI3CbpVcHPzDV9JQ0I/n5NEJ5sqTHM4yXdIskELebzjKSBFWP6WRDA7Eg3zR53E3BYxKQpBBBAAAEEEPBDIOkKhiy/pCY9/LOWeNgZDklXsNiucNzzT2z3n1d7Seu74OySpk8ckdcwm7IfAg7/ys4Kjmg1M1/2TWy+JAga1ge3mcDiEkkXBH9/jaRzejVpggwTYEyUtEnSuZJWSOoj6V2S/keSWd1hApLpVYZzgKT7JB0S/NW0b1aN9Jf0QUmXS+on6ZuS5kSbTqSrCDgiMXERAggggAACCBRFIM0qDBNwzFnWEZsiypfUpOFJvcGEneFQb8vMzNIozWobF/sQ06g4Sc4/idq2i9clre/SCyaL1/NmW1ECjmx9s2idgCOa6hsl3Vrn0m9Jmh383Gwf+UvFtSb8+Hbw96+X9Jte7fyDpO8F/+wUSSt7/fyyIEQxW1KOlvRQr59/StL8YEXJUcG2l2izqn8VAYcNRdpAAAEEEEAAAW8E0nzRfPFFJdpGEuVLapLDP8PQox4OWm3LzJABZqd2Nh9XVo9kM7vqrSapb9T65TmPIvZFwOFfVQk47NTshGCFh2ltZq/zONolTQsCkjdV6c7U4MHgXI7vSnp/r2seCc7c+I6k86vcPyRYGWL++jlJn7EzJc7gsORIMwgggAACCCDgiUCarQJthw/XlHkrehwQGmXat3xkmo4Y8bLQS+NunQltUFKUcCVKO7auaebzP+LWN2wFjq2aNHs7BBz+PQEEHHZqZraf/D5oymw7+XHw3wdJ2hZsRzEHhH6pRncLJH1I0qOSKjfSHRFsSzG3vVvSj2rcf6OkN0u6U9Lr7EyJgMOSI80ggAACCCCAgCcCaVZwmK0Ccb+kGpaoX1TjfPmPyh1le0zUtmxcF9cvqp2NsWXdRpz6hp2hkvVYm6l9Ag7/qk3AYadmH5b09aCpIyXdH/x3czioOS/DfMz5GuacjWofc3bGN4IfmINEnwz+u3njSjksMdtP/lTj/i9K+oSkpyWZMztsfNiiYkORNhBAAAEEEEDAG4G0WwXu2/S0zvjv22PNN85WgyjbN+J07tIKjjTnn2S5ZSaOZ9pro9Q37C04acfA/T0FCDj8eyIIONLX7EBJ9wYrL8z/o7VVNHmmpP8L/v7YilUevXv9e0nXB//QrAb5Q/DfK4MTE1yYAKPa5yOSvhb8wBxYat6yEvbpDjDCPi+aDaV8EEAAAQQQQACBJhFIs4og7QqQKMS1Dv+Mcm/lNXGClbhtJ7k+D7sk48r7nkYe7pr3XH3oj4DDhyr1HCMBR7qamTeh/ETSWyWZV7ROkXRPRZPvlbQs+PsJkh6o0d2pksyrXs2n8iDSf5c0L/jn5k0pu2vcb96msij42SuDMznCZhYpuSDgCGPk5wgggAACCCBQJIE0WwXSnOER93WfvQ///OnvN+kHd1Wec1+/Kq5t78jTzofnNe/DXX0wacQYCTgaoZ6uTwKOdH5XSJobNGHelrK4V3MuBxxhM2eLSpgQP0cAAQQQQACBQgok3SrQyFUIaYIZF4rYSDsX5s8Y3BQg4HCzLvVGRcCRvGZflvSx4PZ/q9giUtmiy1tUwmZOwBEmxM8RQAABBBBAoLACSbYKpD3DIy1m0mAmbb827m+0nY050EbxBAg4/KspAUeympUP9TR3m8M9TdhR7cMho8l8uQsBBBBAAAEEELAiYA6vXNO5VeYLtDmMsjS2tfuvUT/VtgqYLby12kxzhkfUMdW7LkkwY6NfG2002s7GHGijWAIEHP7Vk4Ajfs3Mq14/HtxW79Wv5hJeExvflzsQQAABBBBAAIHUAuaL/sL2B3Vdx0Y9u/P5ve2ZwzVnlEZqdtt4jR5m/qgW/ROlTdPamVfeoa3bd4U2nOXrPn08w8H3bTahBecC7wQIOLwrmQg44tWscltKWLhRbrld0jRJv5B0cpXuTA3M4aPjJH1X0vt7XfOIpDHB+R7mnI/en8GSHpU0RNLnJH0m3pRqXs0WFUuQNIMAAggggAAC+QpksVUjTptmtucvuatuyMHrPqs/E3GcS2Na832w6K3pBAg4/Cs5AUf0mlWGG2YFx1ci3mpCiW9LMoHB6ySt6nXfuyX9IPhnp0ha2evnl0m6RNJ2SUdLerjXz03Q8gVJ5lcTR0laF3FcYZcRcIQJ8XMEEEAAAQQQcE4gi1UASdo0MIva12t5x4Z9VpDMLI3SrLZxsVeQOIed0YB83maTEUlTNfvZz35Wl156afec673R8S9/+YuWLFmiW2+9VevWrdMTTzzRfc+wYcP06le/Wq973es0c+ZMTZo0qarfSSedpF/+8pd6wxveoNtuu63qNRUBxz9K+k5w0aFVvpOZ72hjg59vlTRCUledwh0iaYOkvsE1v5R0UlMVOqPJEnBEgzUBggkSzOejki6Pdlv3VWaTZ4ekiZI2Bis0TIhhXjH7jiD8eJmkmyRNr9LuAZLuk2T+JbhX0rmSfiepvyQTnnwt+O/flDQnxrjCLiXgCBPi5wgggAACCCDgjED5rI3/uX29bv/z45HHFeV1qWnOhvBxq0hkvIwvjGuX9ryVjKdD8xEFwgKOnTt36qKLLtI3vvEN7dr10lawQYMGqX///nrqqad6BCPTpk3T0qVLNXZsOX/YM5AMAw7TvHmb5v/WmfJFkv6r4ucEHBGfj7DLCDjChPZsDzHbRMznBUmbQ24xKz16Hzr6Kkm3SjJ/NR+zGsMEHAODv18TbF/ZUqNtc1jpLZJeHvx8W3Bvv+DvfybpbZJ2hE8n8hUEHJGpuBABBBBAAAEEGiVQ61yMqOMxZ3KsuviUmgePmi/NU+ev7LEKI6ztsDbD7ufn8QSinI0S97yVeCOwe3WzBzX1Ao4dO3botNNOU3u7OQVA3f997ty5amtr0wEHmN8LS7t379bdd9+tm2++WQsXLtSGDRt000036YwzzuhRqIwCDrOSw3zn+7kZXp0n40+SjgxWgpjrCTgs/WtEwBEOaR64h8Iv23uFWU/12SrXDw0OJ50pySxrMmGJ2U5ikr0rJO0M6eNgSSbpe6uk0cGSpz9Iujo4n8O0Z/NDwGFTk7YQQAABBBBAwLpAlPMaonS69ILJmjZheNVL29dt1rmLV0dppsc19dqM3Rg31BSI8gz4ct5JOw40ywAAIABJREFU0YKapI9tvYDjAx/4gK666qrupq+44orucKPex4QdX/nKVzR16tTurSiVn4wCDnOMwT9J2j/4ztdZZXyvl/Sr4Dvm7cEKfQKOpA9Mr/sIOCxBFrAZAo4CFpUpIYAAAgggUBSBOOdihM15wdklTZ9otszv+7lx7SbNWWZ2G8f71GszXktcXUsgzjOQ5RtrbFSoSEFNWo9aAcfatWt17LHHdm8/+dCHPqQFCxak6iqjgMP8stvshTlP0qclmfMUe3/M+YzmqAHzcgjzognzkgkCjlTVfOlmAg5LkAVshoCjgEVlSggggAACCBRFIO65GPXmzQoOP5+KuM9AlPNWGiFRpKDGhl+tgMOEGt/61rfU0tKihx9+WCNHjkzVXYYBh3l7pgks1ks6LHjZRHms5t3U5TdgmlX9JhAh4EhVyZ43E3BYxCxYUwQcBSso00EAAQQQQKAoAknOxag197DzMsxBl1PmreAMDsceniTPQFitGzXFogQ1tvxqBRyHH364/vznP2vy5Mlatar3iynj955hwGGOK/hzEG68UVLlK1pMmLFE0gpJpwb/nYAjfvlq3kHAYRGzYE0RcBSsoEwHAQQQQACBoggkPRej2vyj/Fbf9y+gRTy0Mukz4NrZKEUKamz970u1gMOcpdGv3573K8yaNav78NC0n3LAYdo1r5at9nnsscfK//hpSebNl+ZT7zWx5fMYL5b0n5K+G6zQKLdjVna0STpb0vcIONJWcd/7CTjsmxalRQKOolSSeSCAAAIIIFAwgaTnYvRmiHouQ5wtBEMHtujGf5mmRr+1w3xx/tkfH9P1d2/UXQ89qa7dL51Hb1YyzCiN1Oy28XXH6XIwkvQZcO1slKIENTb/J6ZawGGChkMOOaS7m09+8pP6/Oc/X7XLf/qnf9L111+/z89e//rXa/ny5T3+eTngSDD2KAHHqOBNnF2SzMDNWzDHBys7TFhi/pn5mVnNwQqOBEWodYuPAUeLJHPMtfmPec3qE8GrW82DwseeAAGHPUtaQgABBBBAAAGLAkm/FFYOIe6bNcwhkOdetUrP7Hi+7kyGDGjRdy+YrNKYVoszjt5U+U0cP/7thh6hRrUWahnUe5vHW18zQpMPfbn279+3+9W6pbGtNV+xG33U8a9M+gy4toKjKEFN/ArWviNNwHHWWWfpBz/4wT6Nmzeo3HZb5U4RKeMtKmYMN0s6XdIHJZmDRc2KDrOy41uSPhQMkoDD5sMjyZeAw7zTx7y42Pz1eEkm5Oj92STJvBDZLPv5cRB8WOZqquYIOJqq3Okm6/JveNLNjLsRQAABBFwUSHIuRnkeZvXCzNIozWobF2uVhfnS/5av366nu3aHkkRdGRLaUMwLoryJo3eTvccat42oq0FiTiX08iTPgItncBQlqAktWIwLbG5ROe+883T11Vd3vyK2AQHHuyWZtOXXkqZJeljSaEmTJd1FwBHjoYhxqcsBh9nj9AGzzUrShGBOUcZrvpjvlGTWIH1T0h0xPLj0JQECDp6GUAHe1x5KxAUIIIAAAhkJxD0Xo23CQfpg2zhNGrNnxUHccD5uf1HO9rBJE2cbTe9+y2NN00bcFTG9xxC3HuZ+12sSpb5FCWqizLXWNb1rf/N3r9Dn5+15u6p5JWz5k+SQ0QYHHAMk/VWSOeDjI5L+W9IfJR1TYcEKjjQPT5V7owQGlrsMbc6szvhn879ZwcNgxmj2LK2WZI7LXSPpcUlPSnouuMY8NGYv1JTgP0cEvZh/I8zSoE9Iuje0Zy6oFCDg4HmoKxDlNzxp/7BDCRBAAAEEEKglEOfLeOUqhSThvA8HQcb9sl/pWl7Z8F83/UnX3NmZ+KFLsnIlST3KA0z6DCSeYEY3xq1d3uFZRtNWrdo/+5v/1ePty/YJOJK8JrbBAYeZw5XBd1vzC/j+kj4u6SsEHFk9VW5uUVkXHMBi1v/dKOkaSTcEqzKiSpgVH++T9N6gLbNZ8nxJS6M2wHUi4OAhqClQlD9QUGIEEEAAAb8F4obtca8v67i+jSBJANO78gvPOV4f/cHdsV6HW+3pifPlO2k9Kvu10Uaj/y1oxj9X1avb1juW6alf/W93WX73yJN7z7NZu3atjj322O5VHSbsWLBgQWjpHAg4SmYawUDN99uRkv5GwBFausQXuLiCY4ekxZLmS/pL4pm9dON7JP2HpB9K+pyF9pqlCQKOZql0gnk2628aElBxCwIIIIBAxgLmy+Gi9vVa3rGhx5fz3mdtpPkS6fpBkEkDmMrSzH3jYbry1gdSVyvqORdJ6mFWiKzp3CqzraPygNOoz0DqyWXYQBGCmqg8YbWvDDiOvfQW3TD3xL3n5XzgAx/QVVdd1d3VFVdcoblz59bt1oGAw4zv08ErZs0ZHGZFR+WHLSpRH5yI17kYcJiDV2wEG5UEZp6vlLQxoguXiRUcPATVBZL8lijqH3YwRwABBBBAIKmA+dK7pnOLtnXtlnlVa/msjXJ7acL5pAFCXm/sSBrAVFp/+E2H6YpfpA84TJtR5h23HocfPEQbtzy3T4hV+brbsGcg6bOV131FCGqiWIXVvjLgGHvRT1W5Kqirq0unn3662tvNuyWk0047rTvkaGtr0wEHHND9z1544QU98MAD+slPfqIvfelL2rx5c6MOGY3CQcARRSnGNS4GHDGGz6UZCrCCI0Ncn5t2/Q95PtsydgQQQKDoAkkOkrRhkjacd/0gyKT/31y2Nb+I+Op7jtPspeWV9OnUF5xd0vSJI2o2kqQe9UZUtDO/fA9q6tUqSu17Bxy9f1G2c+dOXXjhhd1bVHbt2rW3u8GDB2v//ffX008/LXNN+TNt2jR99atf1Wtf+9oeQ8vhNbFR/kUi4IiiFOMaAo4YWE12KQFHkxU86nST/pYo7A87UfvnOgQQQAAB/wTSHCRpY7ZJA4DKlQhhv3XuPc44Z1GknWOSAKayTzPWi958pKbMW5H6DA7TbtgKjqT1CAs5KrcypDXl/mwEotS+d8BR65nq7OzUkiVLul//ev/99+uJJ57Qfvvtp9bWVh155JGaOnWqzjrrLL3mNa+pOhkCjmxq3OhWfQ44xkp6RQBoDmp5pNGYBeufgKNgBbU1nSj/x1Str7A/7NgaH+0ggAACCLgl4MLZAjbC+bBzAyrVk7xNJG3V4gYw5f4qx5q0jcqxR9mWmrQeYUZ5hkphY+Hn1QWS1r5RvygzgUnw8fl7c1M9jr4Vypyj8SlJ5uDQl/eqlHlt7PclfUHShqaqYjaTJeDIxtX7VpP8lijKH3a8h2ECCCCAAAL7CLgSCtgK510Ia2o9ZnGsK8ONxeedsPctFUna6D2eKCFD0nqE/SvGnzfChBr/86S1b9Qvygg4Gv/MxB2BTwHHaZJ+EJxAW2vc5kv5NklnSbo5LgbX9xAg4OCBqCkQ9zc8Uf6wAzcCCCCAQPEEXPn/C5vhvMsHQUYJYMxTNrBfH73r+NGa1TZu79spyk9f1DaqPa1RV64kqUfUfzsa9UU46via/boktW9kcEXA4d8T60vAcYSkNeZ/jyWZlRrfkvSLireimPcJv1HSbEkHSeqSNEnS/f6VxJkRE3A4Uwr3BhLnNzxR/7Dj3iwZEQIIIIBAGoEohwn2bj/JF5moB5faDltcPQiyVgAzsKWPJh86TG+fNFKnHX1I92tWa31qtVHveYh70GfcekR9Fhu1lSHq+LhOilv7Rv6ijIDDvyfWl4DjGknvlfR7SadK2lyD2oQbKyRNlPQ9Sef4VxJnRkzA4Uwp3BxIlN/wxP3DjpszZVQIIIAAAkkEsl6KHvfgUnP9m/+7Xc/seD50OkMG9NVNH2nbZ3VD6I0OXWAjgKlso2vX81r90JO64Z6/7vOq1pmlUVVXg9TjiPPLkjisrOCIo9WYa+PUvtG/KCPgaMwzkqZXXwKOTcGBolMk/TZkwidIWiXpMUm130+VRq057iXgaI46p5qly8t0U02MmxFAAAEEUgtkeZhgkpB9T8Bxu8yX9rCPWd1w00emeR1whM0x7s/LK2Uef2aHHn2qS4ccMFDDhw7QpDGtdVeD1OsnSh3jjDPJCqA47XOtPYEotXfhF2UEHPZqnldLvgQcz0kyLzM+ICLM05L6Sdo/4vVctq8AAQdPRWQBG78litwZFyKAAAIIeCGQ1QqOpL/99WlZvEsFjrtSJu7Y6/2yZGTr/lr32DORm2zkVobIgwwujLq1Km67Pl3vwy/KCDh8eqL2jNWXgGN9sIJjSERi87+E5tWx4yJez2UEHDwDCCCAAAIIIGBRIKvDBJMEFReecYSmzl/ZY2tF2FRZDSDl+Vv2ar8s2fLsTp155R3aun1XWLkUZytDI8OFrAOjUCgHL3D5F2UEHA4+MCFD8iXguFLSh4LzN8zhovU+J0v6uSRzz7/4VxJnRswKDmdKwUAQQAABBBDwUyBJGHHZ24+pOdmkB5d+9T3HafbS38VG/MjJh+moVx6g5194sXsbRmls8u0YsTtv8A1JV8rYHrbNkKXR4YLNudh2pr3qAgQc/j0ZvgQcB0u6O3g7yumS1tWgniDpFkkDgreomFUcfJIJEHAkc+MuBBBAAAEEEAgEbH9JTrrt5cNvOkxX/OKB1HUxqzpmlEZqdtv4wp/PYTucSoNvYytDo8MF2/8upPHk3ugCBBzRrVy50peAoy3YbnJ58KrYH1W8JtZ8ER8VvCb2XUEI8lFJZltLtU+7K/iOj4OAw/ECMTwEEEAAAQR8ELD5xTLpwaVz33SYrrQQcJS9XTj8MMvaJ10ps+riUxIfOBplPkm3MrgQLrgUGEWx5po9AgQc/j0JvgQcL0jq/sKd8mPaqP3S75SNF+x2Ao6CFZTpIIAAAggg0CgBG7+BN2NPuoJj0TnH699+cHesMzjCrMLOfKh3zkMjz4AIm1ca56xf0ZrUrdHhgquBUZRnodmvIeDw7wnwKeCwpdvHVkMFb4eAo+AFZnoIIIAAAgjkLZD0N/DlcaY5uPS/bvqTrrmz0+qUq721o945D6ceZXZdSz+/97EeYYtrW1+SrpRZcHZJ0yeOsGpsGktzdoYL4ULSYC7rwMh6oQrYIAGHf0X1JeDwT9b/ERNw+F9DZoAAAggggEDhBJL+Nj7ONoWoaL3ftBJlO069tl3Z+uLSF/IopvXcXJiLa4FR1Oeb69ii4uMzQMDhY9XyGTMBRz7O9IIAAggggAACMQTiBBW9t5FE+bIcYyjdl5Z/yx5nXGEhxw1zT2zoIaZpVsqYt83Y+sQxrbVlyIVwwYWQxVZNmq0dVnD4V3ECDv9qlteICTjykqYfBBBAAAEEEIglECWoqPVb/dUPPaFLrv+D1j32TKw+a11c3pYRd2VJvc6rbX2xMtgYjcSdTxZjtjEGF8IFVwKjGOXn0kCAgMO/R4GAw7+a5TViAo68pOkHAQQQQAABBGILJDm4NEowEncgZgXHcaMP1NT5K60dYtp760vcMdm43sbqiTTjsHV2hivhgo2wJo0n9yYTIOBI5tbIu1wMOD4u6RuSnrMIc4KkgyTdZLHNojdFwFH0CjM/BBBAAAEECiAQ9eDSOF/Yo7KUg4iOR7bo3MWro94W6TqbB0wmfftIlEAoq3NDbK68cCFciPP8hb2hJ9IDxEVWBAg4rDDm2oiLAYd5Jexjkr4o6TuStqYQOVHSJyW9WdKlkj6Xoq1mu5WAo9kqznwRQAABBBDwXKDeF/m4X3KjUJS3ZSQ956FeHzbeSJLm7SPlsSVZKRPFLuyapKbV3FwJFxoZGIV58/PqAgQc/j0ZLgYc/ynp3yQNlLRT0v+T9L+Sbpf0txDifpKOk/Q2Se+V9CpJZo4mUp8l6ff+lahhIybgaBg9HSOAAAIIIIBAHIGwL/LvmzJW7/jmr61tITFjq/wte9LVBvXmmHYFh+0v01FXysSpW71rk5rWcrPtkXSejQqMko632e8j4PDvCXAx4DCKIyXND0KKvpK6v2yb12BLukfSZklPStohqVXSMEnjJB0rqX9wrZnbg5L+Q9L3/StNw0dMwNHwEjAABBBAAAEEEAgTiPLFdfCAvnp2x/NhTUX+ee9tGUnOeajXWdozOFxZsRAZtMqFSUzD3FwKF/IOjNLUopnvJeDwr/quBhxlyVcGKy/OlzSqgrcceFSKl+eyO1j1sVDSLRXhiH/VaeyICTga60/vCCCAAAIIIBAiEOeLvA1M8wV6ZmmUZrWN2+c1rja3wMw4bqQuP8ssSk72iTuWLN6AkmzkPe/Kah6ECzaq0xxtEHD4V2fXA45K0WMktUmaIskEH8ODbSxPBCs67pXULulXkrb5VwrnRkzA4VxJGBACCCCAAAIIVArE/QIcV+9fT5mgo0a8TLtfeFFDB7Zo0phWDRnQUrUZm2HLjEkjdfl7kgUctt4+Etcqi+vjmHIwZxYVoE0CDv+eAZ8CDv90/R4xAYff9WP0CCCAAAIIFFogyRf5OCBh2x2qtRVlu0yUMSTpu9yu7bMroow3y2uimGb1Jpcs50XbfggQcPhRp8pREnD4V7O8RkzAkZc0/SCAAAIIIIBAbIGkX+SjdpR020atcx6i9lu+LukhozbfPhJ3zFGuT/LKWpfOzogyR64pjgABh3+1JODwr2Z5jZiAIy9p+kEAAQQQQACB2AJJv8hH6cjGdofyOQ+/XLdZ3779oSjd9rgm6WtikwY/SQOVqBMLe9PN7Lbx+5xr0rttzs6Iqs11tgQIOGxJ5teOTwHHAEmvDs7fGBoQmbM2/irpT8EbVfKTK35PBBzFrzEzRAABBBBAwFuBpF/kw96o0r+lj75+1nE645gRVmySjjNp4JDF20fSQrDNJK0g9zdKgICjUfLJ+3U94DDjO0/SuZJOlNSnxlRfkHSHpKuD/1R7y0pypea8k4CjOevOrBFAAAEEEPBCIOkX+XkzjtGF167Vzt3mj4/VPzbPdEg6zlUXn1LzQNOwAsU9fDVsO06SbSXlMXJQaFi1+LnLAgQcLlen+thcDjhGS7pB0kRJUcdpvpT/XtLbJP3Fv3I4NWICDqfKwWAQQAABBBBAoLdA3C/y5u0kt97/N23dvisU08Y2lXInccdZL3CIEjbYChVsbCuxOffQonEBApYFCDgsg+bQXNTgIIeh9OhiiKS1ksYG//Q2STdJ+oOkjZK2B/98kKSRkswrZM+Q9Mbgn5uNjsdKeibvgReoPwKOAhWTqSCAAAIIIFBEgbhf5E86fLiuv9vsbo72CVvZEK0VafVDT+h9V62uu2qk3FatYCVu2JB2W0ja+818krzpJs0bZKLWg+sQiCpAwBFVyp3rXA04Pivp08H5Gu+UdGdEsimSrpVkNk1eKulzEe/jsn0FCDh4KhBAAAEEEEDAeYGoX8Sv/IdJmr30d3p25/OR52Tjy3aU8VWGG4vPO0GlMa09xhiljWrbapK+fSRucHTD3BOrHhCa9/kjkQvLhQhEFCDgiAjl0GWuBhxmm8nRkk6TtDKm18mSfh6sADGrOPgkEyDgSObGXQgggAACCCCQs8B9m57Wl265X3c88Lh2VJytYQKKmaVRmtU2Tg89/qzOXbw69siSHvZpOooTFLT02U9Xvf+1esMRr+gxxjht1Fr9EfftI7a2lVzbsUEf++E9sc2TvkEmdkfcgECIAAGHf4+IqwGHeTuK+ZTflhJX1mxNMV/Qk94ft78iXk/AUcSqMicEEEAAAQQKJFBr28aAlj468bCX68LTj9QRI17WPeOkr5Wt9mU7yjkYps+4QYEJOc6aPFqVr0yN20babTU2tpWU6/Lj325QV53DXGs9imlCpQI93kzFAQECDgeKEHMIrgYcWyX1l2TO2Ij7MXN6VtJOSQfGvZnr9woQcPAwIIAAAggggICzAnG3bdjYLhHnHIwkQUEZu7zdZMIrhmjq/JW5bqtJ6xSlLvUeKhvbgpx9aBmYdwIEHN6VLPLbSfKemVk/eLykdwdnasTp35zZ8UNJv5U0Oc6NXNtDgICDBwIBBBBAAIEmF4i6UiFvpiTbNloH99eUeSsShwVRvrhXnoORNCioDDn+4y1H6WM/ir/FI80KiDQrXSaOPEBnXnlHpLfU1Hpm0q5AyftZpL9iCxBw+FdfV1dwfFTSlyU9JWmWpB9FpDXhxv9IMmsRPy7p8oj3cdm+AgQcPBUIIIAAAgg0qUCclQqNIEq6bWP20t/qlj8+FnnI5S/bSQKVtRuf0pxlHZH7qnZh24SD1P7nx2O3keYMi6TBjAlVbvnjo7rmzs7Y460MdWodWJq4UW5EIIUAAUcKvAbd6mrA0U/SKknHBWdprJd0c8hrYk+XNF7qXpVi/t9kqqTdDXItQrcEHEWoInNAAAEEEEAgpkDclQoxm099eZKtH2bbw/IPvV7vXPgbbeuK9sfDlw1s0f/7l2ndbweJG6icfOQr9O4TRne/tSXNZ2BLH2tnWJRX42ze1qVHn96hEQcM1EFDBqg0tlVDBrTsHaY5kDTJSpeVHztJJ3/ltlgrZCptqr0FJo0d9yJgQ4CAw4Zivm24GnAYBXN+xvcknRGQdH/hrvMpz+UmSWdLMud48EkuQMCR3I47EUAAAQQQ8FIgyUoFEwDk+Um6wuDkI4dr5X2bIw/1jKMP0bfOOV5JAhXTyf79+mrH7uf1QtifYENG1K/PftoVo5HeZ1iUV+Nc+7uNem7Xvq/I3b9fH73j+FGpDzY99aiDE72lxoQ473rt6O433eT9LEV+GLiwaQUIOPwrvcsBR1nzTZLeL+lUSYfUIH40eDXs1ZJ+4V8ZnBwxAYeTZWFQCCCAAAIIZCcQd6VCI85LSHpGhHmzSuUrZMMUy0FBxyNbEn1xD2s/q59X1iTKapzyOCpXUJhQ5C1fv11PR1jtUn41bdItOV9997Hdr/Llg4CLAgQcLlal/ph8CDgqZ9AqaWTF61/N62Q3StriH73zIybgcL5EDBABBBBAAAF7AklWKjTijRdJV3AkkTLnSpgtLWnP0kjSd5J7KrfVxFmNUxlymDMwNj+zQ+detUrP7Nh3xUfluMzWlu9eMFmlMa1KWpc0B6ImMeIeBOIIEHDE0XLjWt8CDjfUmmMUBBzNUWdmiQACCCCAQLeAL19Qk5wREXf1RvmRMId1PvpUlz7303u9eEqGDOir714wpTtwiLsapzzBGceN1K3r/hbpTShDB7boxuCckiR1aURA5kUhGaQzAgQczpQi8kAIOCJTNd2FBBxNV3ImjAACCCDQzAJJt36keWNHUu+4X95HHri/Nm59LnZ3ZvvEpTfcq6ee2xX73kbdYLaMfP+DU/WOb/460YGfLX320+4YZ35UbomJW5dGbHFqVF3o108BAg7/6kbA4V/N8hoxAUde0vSDAAIIIICAAwK+rOAwVEm2XyQhHnfQYK1//Nkktzb0HvMWl5X3/S2XMVSuwohTl/LZHRwsmkuZ6CShAAFHQrgG3lbEgMO8fWWNpBeC18Y2kNfrrgk4vC4fg0cAAQQQQCCeQKO2GJRfX2r6N2c69H5taa1ZxDlAM56E/1cn3ZKTdOaV52hEqQuvhE0qzX15CxBw5C2evr8iBhwvl2TeAWa+oPdNT9S0LRBwOF76pH8gbNS0fBtvo5zoFwEEEGikQJ5bDMqvL72uY2OPrRRmRcCM0sgery2tZWLauODqu7TusWcaydb0fffepmTqsqh9vZZ3bNintuaNKbwStukfGW8ACDi8KdXegRJw+FezvEZMwJGXdMx+bPyBMGaXqS73bbypJsvNCCCAgOcCeW0xsPVb/iRvfvG8RE4Ov9abUMyqnDWdW7rfRGMOJJ00prV7lQ4fuwL8EsmuZ2VrBBzZ2WbVMgFHVrL+t0vA4WANbf2BMK+p+TbevFzoBwEEEHBZIOv/7bYZolz7uw362I/ucZnTu7HFPWSUN6E0rsT8Eil7ewKO7I1t9+BqwPGLFBPtJ+nvLG9RGSTpDZKOl1QK/jomGOOlkj5bZ7zmZ5+JMJ8Jkh6oc53p96OSTpI0XNKTku6UdIWkNF61uiTgiFC0PC+x+QfCPMbt23jzMKEPBBBAwBeBLLcY2NoGY4KYc769KtGbQlyoQ/+WPtq52xwZ587HnI1x0uHDdf3df408KN6EEpnK6oVZB5FWB+txYwQc/hXP1YDD/K+9+YKdZnw2z+AwocKtNcobNeAw7xczoUStz1RJD9f44QckfVNSeU3fU5JeVuETNoYkTyYBRxK1DO+x9QfCDIfYo2nfxpuXC/0ggAACPgnY3mKQZEvJ/v366q5LTumxtSFOiO6itwkSFp1zvG64Z9M+51Q0arzlgz+HDxmgM6+8Q1u3h78alzehNKZacZ5/apSuRgQc6fwacXeaACHL8Zr/Re0j6WeSHo3Z0QBJZ1lewWECjuWSOir+c7mkQySFhQvlFRy/DFZfxJyOXifp9uDA1OslfVjSBknmMNV5kmYHDb5H0g/jNl7negIOi5hpm0ryB8JGLhn1bbxp68P9CCCAAALRBJK+ivbTZx6l8//u0L2dxA3Ro40un6t6v0Gkd4jUZ7/99M/f64gUMNgacduEgzRvxkSVX9nK6gBbstm0E/f5Z5VN8joQcCS3a9SdrgYcayUdJemDkhbHxMniLSrmbSzP9xqHWW0xNoeAw4QbJ0oyJmaLTO84/WZJp0t6JHgtbu9xxuTbezkBR1K5DO5L+gfCWod+ZTDEHk36Nt6sPWgfAQQQQGCPwI1rN2nOMvP7onifQf376pZ/bev+Am5C9MnzVuq5Xbb+yBNvLEmvNr94qPcGkcqDIp/b+bzuevhJ3XDPX3PZglPtzwtZblNKash96n7+p85fGeu5aOQvvXyvGQGHfxV0NeBYIukcSd+S9M8xWbMIOKoNIY+AY5ykB4PO3y/pu1UGYs4GuS3452+qs5UmJmP3FiG9+GL3X/g0WCDpHwh7v7Ytr2n4Nt68XOgHAQQQaHaBpAG4cSv/FnrxHQ/pcz+91xvKD78ZEt16AAAgAElEQVTpME0+dFjNN4jUOyjytKMP1vChA/XCiy/KrOxYdufDenan3XM7wr782t6mlGXhmuFtIkn/HWrUL72yrHcebRNw5KFstw9XA45/kfS14BDN18eccpECDrP9xIQ85nOwpL9VsTCrS7ZIGirpvyR9KqZXrcsJOCxB2mjGt/8z8228NmpEGwgggAAC4QLmy/KUeSti/fa53Kr5Ir58zt9pxoJfaftOP1ZvhIUHUbaChKumu6II2xea6W0i/BIp3fMe924Cjrhijb/e1YDDbMlol7Q9+OIeZxnBYEnfCM7g+McMieOu4Hhc0mMV20g2BnNcIGlNjXGaN6TMDYINE3DU+qyWdIKkGyS9zdKcCTgsQdpoJskfCMP+UGVjXLXa8G28WVrQNgIIIIBAT4G45wdU3n3yka/Qyvuq/b7HTeV64UGcgyKzml0RDqCMEhL1PvckK8882uWXSHkov9QHAUe+3jZ6czXgsDG3rNuIG3CY8Zg1hVuDN6CU34higoT5ki6pMuBrJc0MAhDzmthan+skvV3S7yS9NuLEI4VGbFGJqJnDZXH/QNjo38j4Nt4cSkgXCCCAAAKSzBf7M77WnmgVx4CWPtrh2KtVaxU1LDyI+/+Tth+e3l/6fdzeESckCquHbd+s2uOXSFnJVm+XgCNfbxu9EXAkV4wacJwt6ZWSfiLpoeCQ0P7BG1VMsGEODjWfj0v6Sq/hmLfInCrpV8FBo7VGu0zSeyWtk3RExCkRcESEcuUy3/5P3LfxulJnxoEAAgg0g0De52j03U96PtKffOzpn370wbrkLUftfTNJZctJDopMOrKB/fqoa9dL53YMbOnTfSbI3x83Uqcfc4i2PLtTC9sf1HUdG3uETmYl6IzSSM1uG191DknHY/O+uCFRo3/5Y2vuzTpvW35x2iHgiKPlxrUEHMnrEDXgqNfDwGCbitle8oykUZKeqrghy4AjbOZsUQkTasDPfVuG6dt4G1BSukQAAQSaUsD8FvqE//y5nqv44l1EiFpbI5JuM0hi9NV3H9t923VrNuquh55UV8UKGBN2mOhjZ51VMa5u70gSEjVy+26S2tW6h18i2dSs3xYBR37Wtnoi4EguaSPgML2fIunnwTDeIWl5xZCy3KISNnMCjjChBv3ct9e2+TbeBpWVbhFAAIGmE4j7W2hfgaptjUh6UGQSg8+ceZT+e+WftXX7riS3d9/j4vaOpCFRUd4mwi+REj/OsW4k4IjF5cTFBBzJy2Ar4DCHoprVG+bzCUlfrhgSh4wmr0/h7/TptW2mGL6Nt/APEBNEAAEEGiyw+qEn9L6rVtddPdDgIVrrvvfWiKRfzuMOaP9+fdS/pa+eei55uFHu07XtHUlDogVnlzR94oi4lE5ezy+Rsi8LAUf2xrZ78CXgiPsusB3BYZ5/lHSTpO8Er1K16ZdHwFH5mthXSNpcZQK8JtZmVWkLAQQQQAABBDIXML99/sfv3GXli3fmg7XQQe+tEUkOikwyjMMPHqJ1j5V/j5akhZfuyXp7R9xDTpOGREVZwVFZTX6JlO7Zrnc3AUd2tlm17EvA8dLJSPElzFYL8z6xd0u6Pf7tNe+wFXCcLGlF0Ms7JZltKeXPOEkPBn9zrqSlVUbTJumXwT9/k6RbLc2RLSqWIGkGAQQQQAABBF4SaKaVG5V17/3FOustOgfs36Kdu1/Uc7vi/p6w9tOaRThgViEkOeQ0SUiUdUjDv+fFEyDg8K+mvgQcb5D0KklflTRI0g8l3SZpoyQzB/OWkpOCEONZSR+V9LQkc3jnBZLM6gfzetajJW2yVKYoAYcZW70zuwcE4cQUSWbc5pBRM87KjwllTpR0TzCf3msMb5T0ZkmPSBovydb/ixFwWHpQaAYBBBBAAAEE9giYlRtnLbqzKbal9K55760RcQ6KjPv8mDenfOTkCfrCzffHvbXu9ba3d6Q9RyJuSOTaNhurxaGxTAQIODJhzbRRXwKO4ZLulmS2npwRvA61GswESTdLapFUkvSEJHNvu6TDJX1R0qcSirZKMttByp8OSaMlfSlot/zPuyrO1DDBzH9IWhIEMhuCi/pJMisvPh+EFuYfX/T/2XsXsKuKsv//+5wfznEGOYOCZ+VRATXxgKJpHsC3tINmWvBGZaYp79vrW2bp3zQryzSpzAR7PSRa+jPxHOIh0AcUMUAUJRARkDM8R57/Ndu9cT+bvfeamTVr9sxa33VdXQZ71sx9f+5h77W+c889Of1k+js6nXkixhYFSC9NCzs9APwEwDfSDc9LCz+a7u11GwUOUyTZDwmQAAmQAAmQAMQL/Wd//Ty27GpJJI182Q8yL/i6sKorytHUGiYJeu+RTWZwqAg8hYqcmuhDly/vSwYBChz+xdkXgeNXAL4J4BQAzwRgFts0xJaPXwC4It32dACPprMgRmuGKZOxEXT7nwBclG4kskqyt4zsSmdqdAMgRA5xiV+eGwD8T5GOvwbg9rRwI5qJLA/RRyZ+PwJwTZBhip9T4FAExuYkQAIkQAIkQAKFCaiutseJZU1lOX71hdE4dt9e6Fwj1uE+uQoVinTNf9PbO1TnQ6HsCxmRyNWjbl2LMe3ZmwAFDv9mhS8Ch6hD0Q+AOHFE5hLVlD4AsG+6cXU6q2KnOOlKpoM8bXQEjp5psUNkYRwCoBeArgCEHSvTmRkzACyWsElkpAjBRmSFiKyUTQBeAiBOWgkSfSS636sJBQ4daryHBEiABEiABEhgLwKigOS465/GjiZTO2n9hCxEgkl1AzB1/AgM6iF2XX9yZReKbGhuxfyVH+GR1953hpnJ7R0686GYwMLTRPz89+CD1RQ4fIhSext9EThE5kNTOmtBhvIWAELU6JDVeENaIMn+O5m+ktqGAkdSI0+/SYAESIAESMAwAd0TLwybUbS7TjUV2NFoR4CRzSjIiB7/XPkRbn1mhU0c7cYqtEVE1yDd+RC0RYaniehGhPcVIkCBw7+54YvAIQqDikKhR6RrcRQjfbioYZU+OUVkfYhL1K8QtTHWpQt5+hcp+xZT4LDPnCOSAAmQAAmQQCwJPLZ4LabdIx7P3L1OO6gfXl65EZt35tZzj8ZmFdGglPyCxBjV410FTV1/TBc5jSay7DVOBChw+BdNXwSOe9MnpLySrsMhMjTyXaIuxZNpIeQBAOenG4nTRd4CsACAOLGEVzABChzBjNiCBEiABEiABEhAgoDuir1E18aaiC0Qs6cdi1kvv4fZ9avbbQ2prSxHQ4vZgp3CcNltH1Hzq64sR3kZ0ND8iY+Cx+S6gZgyfvhe22mE7brHu4p7df0JyuAwNhnYEQmkCVDg8G8q+CJwHAzg1XSRzQ8B3JY+GeX99DGsmWNi/zNdq0NI70dm1bYQJ5SIE0tuBnClf2EqicUUOEqCnYOSAAmQAAmQQPwIiK0DY697ypl6EoUIZ16gc7c6rN/WiMvvf814YGQLd0bFL1vE6N6pGgtXbcK2hhZ0qa3E6MHd9yqImgEQtrCnjj+yrIwHiR0mmgAFDv/C74vAIchOAjATgKjIlHr5znMJf0S9jgsBPJj1+bcBDE8f12r+18m/uMtYTIFDhhLbkAAJkAAJkAAJtCNQaMuC6qkZ4pjT/z59f/TtWotZL72HF9/ZGDnpQlsgdDMOZAy+44Ij0KGqAuKlX5ywUjckv7Cgyi9o7KtOG4ULjx5aUMQodL+po1lV/ZHNdgnym5+TgAoBChwqtNxo65PAIYgNSx+nOjnPaSji6NTZAK4H8I4beL22ggKH1+Gj8SRAAiRAAiRgl0DQloWzDtsHU2a+Kl3j4ifnHIQvjxsKnRM3dD0vtAVCJ+NA1gZxhGxj1vYX8WdxnOz00/bHqH5d9nSjIizIjK1bz8KUMKHij0q9Ehnf2YYEZAlQ4JAl5U473wSObHIiI0Mclyp8ENtWKGqYnVcUOMzyZG8kQAIkQAIkEFsCslsWphw3HDfNWVYwFTcbULcOVXj025/Gyg07cOGd85XZVZWXoXl3oaTfvbsL2gKh+mKvbHCeG049qC+uPuPAPTUwZDjLjqtTz0JHbCrGVcafoCKnsv6yHQnoEKDAoUOttPf4LHCUllz8R6fAEf8Y00MSIAESIAESCEVAvPA+sWQd/vevb2BnU/ARq6KYZZNCsc6RfTvjy+OG4Ad/XaJs53H79cLzb22Qvi9oC4RKxoH0oBINRT2MP108BnWDu6daCztmzH0Hf3n139iVVRRUoqs9TYLEnEJ96W7VyYgp+bYvbdrRlPInt7BrUJFTFX/ZlgR0CVDg0CVXuvsocJSOvesjU+BwPUK0jwRIgARIgARKRKDQdpQozOlYXY6dTeonmPz884fh2kfflNoSI7sFQibjIAoG+ewT22YeeOXf+NmcZcrFW4PEnEI+6B7veu3ZB2H5um14qH5NO1uFiPHZQ/tjzLCeKCsDPtjSgH7datG7S03RIqdRMGafJJCPAAUO/+aFbwKHsFcUG/1C+pSUPumCo+vTR8D+GcBfixQh9S9CpbOYAkfp2HNkEiABEiABEnCWQKle8lWAdKgqx4KrT0m9VF9814KiIofqFohMBkW+jIM+XWuwcsNOFVOl2xYSJYQ9P39yOR5auEaqL1kxJ19nuhkcnWoqsKMxOMNHjClEj0l1AzB1/Ii8x9NKOclGJGCIAAUOQyAtduOTwNEXwF8AHJPmk2t7ZpPlCwA+D+ADixzjOBQFjjhGlT6RAAmQAAmQQB4ChU4+yW1aqm0aqkETW2HunTIuta0jJQA8sRyPvL4GubtjKsvLUhkEV0wcpfwynXuU7H59OmPCzf9QzqaQ9S1oW8kLKzZgysxXigoJQmiYccGRqSKmOleUxVZz7VEVnnT84T3REpD9XonWinC9U+AIx68Ud/sicFQDENWlDkkXFRX//0kAq9PQBgI4GcDYdPbG6+n/31QKqDEZkwJHTAJJN0iABEiABEigEIGgk09yV9FLUWhTN3qZTIUl72/BpfcuKlr7Q/dlOvsFThRDFQVUo7yCCoMWyi7JtilshoTNORAm2yTKOLDv4gRUv1dc5kmBw+Xo5LfNF4HjOwB+AWArgC8DeLQA6tMBiG0q4kyt7wL4lX8hccZiChzOhIKGkAAJkAAJkIB5AjJbTbJf/HVO0DBttci4aFE4GeX4kb0wd/kGqVNbhK/3fn0cPtzWCJGp0LmmEnVDuqf+m3vZrEGSPfbXjhuG8fv1zmtXttjy3sYd+PUzbxWtXZIr6siuttvO4tGtF2J67rE/OQKq3ytyvZauFQWO0rHXHdkXgUNsOxkH4EIA9wQ4+yUAMwG8BOBYXTC87+NngbY2+ePVyIwESIAESIAESMBtApmX2Hc37sBPH18qVRchs4que1yrSSLVFeVoalUvOCprQ66Aki/bQeYFTnY83XbCrjMO7Y+xw3piZ1MLnl22Hi+/s1HqJJvsMUVsZ1xwBP722vt5C4AWqoUhw0Cl7kYxDkFbc3QZ8j7zBFTEL1+ycyhwmJ8nUffoi8DxEYCOADoDaAmAImT27QBEhaceUQOMcf8UOGIcXBXXZFd0VPpkWxIgARIgAbsEwmYciFX0o0f0xLR76kMbrnpUbOgBDXSQyXbo3bkGZ946T+pkFgPDWukiKB6Ftu8UK7Y6uW4gxBG//6txvG8+p4O25lgBxUECCahuX/IhO4cCR2DYnWvgi8CxC4D4n6xgIQSRDun/OQfdE4MocHgSqKjMjNP+yagYsV8SIAES8IGAzGp7kB9iFf3n5x2OqTNfDWpa9HPxsnzD5ENw1V9ex9aGoDWr9l3VVJajMbdKaChr1G4Wtp8wsjceXvS+2o0xaF1stT232OrowR9v69E9cSUfrtu+VIfTD+kfA5LxdUFnC5sP2TkUOPybs74IHO8CGARgGIBVAZiHAngn3U78f156BJwTOJhJoBdInbtkHoZ1C7Lp2MN7SIAESIAE9AiopIwHjSC2Mnz3vkXap4RkxI15KzbgwVfXYFez3LGhGbsm7N8HTy/9MMjMSD+vKANaE7p7V3W13eSJK8zgiHRaG+lcV9ByPbYUOIxMD6ud+CJw3J0uLvoQgP9In5SSD5Tw50EAZwOYBeArVmnGazBnBA5mEtidWCoPw77sn7RLkKORAAmQgDsEVFPGi1kuVtFffHsDZr0ctNa0dy+itsUxI3pi0b83K2duiN7E7819Xx+Hybe/qC2wuBMVPy3RWW03Mf90xvWTsN9WP7Z4rdYWNtezcyhw+DcvfRE4DgeQyYl8HsCPAcwF0JxGXgXgeABXAxgPQFSfOhLAIv9C4ozFTggczCSwPx9UH0ZUV3Tse8QRSYAESCCZBHRSxouREiutogbFub99Uao4qSnq2RmDqr9RpmxgPx8TUF1tF4smp//qeWxT3I6UzZvPGX7MPmZw+BGnJFjpi8AhYnEZgJ9nZW+IjZsb0n/uDUAUF834czmAXyYhgBH6WHKBg5kEEUa3QNc6D8NcWbEfJ45IAiRAAjIEdF848vXdoaocZx0+AI++9r61DArx+yKKVU4ZPxyDeoha84DKs4EMIxttzj58H/w1JnU7dFbbp858BXOWrNNCLU5imX7a/hjas1PBI3u1OuZNxgnobEny4RmSGRzGp0rkHfokcAgYnwXwUwAHFCDzJoDpAP5f5OTiP0DJBQ7VVRoq/OEnpe7DcL4VHdZMCR8P9kACJEACYQjopoznGzPopI0wdua7t7aqHP+48kT07Vq718ey2Z1DenTEa6u3mDZNqT9TxVmVBo2wsWoGh87CSSHz8x3ZG6Gr7FqDQByf3SlwaEyEEt/im8CRwXVIegtKn/RfiIpTrwBYXGKecRq+pAKHzg+iDyqw6xNE92E4e0WHNVNcjzLtIwESSAoBXdE6l494WCxFXc1CL9PiGeGJJevw10VrMH/lR2jIOlklO+tDfHbFA6+VNNxi8WX6Z/bH2Ouespb5EpXDOs9ZpuZgtk8sch5VhMP3q5Jh5UsdNwoc4eeF7R58FThsc0rieCUVOHR/EFVXFpIY2GI+h+Uuu6p250VHoW5wd+InARIgARKIkIBIGT/8R0+gZXcp5InwjuVuhygkoNdWluOoYT0wafQATDyoX+qIUnEJ/4/8yZNoaBal2exf2S9wqivbNqxVzcpRyZTNZHHOfWs9fv/8SuPu+PJybNxxDzqM27MgBQ4PJl2OiRQ4/IuZLYtLKnCYyCSwBSpO44TZP7lpRxPOvHUeNu/M1P4tTIYPJnGaNfSFBEjAVQLiJXP0tU96K3BkL1rovjSVSljIzTJQWdmOej5lslzOPKw/psx8Vep3W9h0zuH74IqJo/bUQ8lnZyERKgqfVASXKMZnn4UJiHkwY+47mF2/ul3mUr66Oq5zpMDheoT2to8Ch38xs2VxSQWOsJkEtiDFcRzVh8HMA4bufXFkSJ9IgARIwAUCur+lLtievR1CRRzIFdBV7jXhd7EXuMffWItvzKq3vt2nW4cqXHbyfql6Jl1qKzF6cPc9WS4ywlE2l2LbQ1T7CstbZ8tM2DF5vxoBsXC2cNWm1Ck6uXNPrafStabAUTr2uiO7KHA8o+tMzn3iBX2Cob6S2E1JBY4wmQSZ1NQkBs2EzyoPg5kHSfHfcdc/rbS/mA8mJqLFPkiABEigMAHdbEgXmGavzqsK6OcdOQhnHNo/tUVFPBNUlJfhm3+ul85UUPG/Y3UFfnne4aksmaAXOFU/MnZUlpehra0NrRo7jcS2nanjh+PDbY17eNQN+UTgEGOI3/2fP7kcDy1cI+V6vixMlWcHqUEkG3FrsiQoNtMmQIFDG13JbnRR4DC1UVL8DFSUjKz/A5dU4BD4VB8EmKpobtLJrMJkr+LorhLywcRczNgTCZAACeQS0P1uLjXJbPH8xRUbcem9C9GYVUhU1T4hqJ9yYF+IFxUh+oTpK3ds2WcPneLpqn5mtxfHq153zsF45b1NeKh+zV7bBCbVCeFjxJ7tJmGfuVTvD+Nb9r03f+5Q9O5SW1C8MTUO+0kuAQoc/sXeRYHjhwYx/shgX0nrquQCh8pqAGs6mJ+eKvsndVcJcwvImfeCPZIACZBAcgnoZEOWmlbqxfzsg/HKqr1fzMPaJopqtu3eDVM1R2WePTLFNue/+xFufWZFWBcC789skTl23574r9mLi2atZBYq9uvTOVQWpm3xJhuCKDCbe4pOrngTCI0NSKAIAQoc/k0PFwUO/yjG0+KSCxwCq2omQTxDUVqvZPZP6q4SMoOjtLHl6CRAAvEnYHtlPehkDrGN49h9e+H55euVtjW6Fqmgo0ptFtvMsJlwQB/ccv5oqBb9/t8zDtQ6TnfGBUegtqoidVTvrc9GL96ozIGg+Kj0xbbJJkCBw7/4U+DwL2a2LHZC4BDOqmQS2ILDcdoT0FklZA0OziISIAESiJ6ASjZkWGvES6V46X3ktbWBpye8sGIDpsx8BTsaW8MOG9n95WWAEGyyj5kVNTfOrRuIKeOHFzxNRGZxJgqjM7+rN/z9X5j18irpIcbv1wtz39og3T7TsKay3Oh2H2UDAm6QybAxPSb7ix8BChz+xdR3gWM+gJ4ARviH3nmLnRE4MqRkMgmcpxpjA1VXCWX3LccYGV0jARIgASsEbLxw566YF/vNtim6hAFcUQ5UV5RjV9aelo5V5Zh8xMB29Suyxyi1b3dccAQuv2+RUnZM7jaPMMxcu5fPGq5FxD97KHB4GDP/TG5n8VoAfVhMNJIoOidwROIlOzVGQOWhjqsqxrCzIxIgAY8JZOozZE77yD3dwqRr4jv6mr8twdNLPzTZLcQq/uePHFQ0oyF3QFVB3KjBhjortAWi1L5968R9tbaLxFXkYLaooQmf4G4ocPgXfN8zOChwRDfnKHBExza2PcusEnJfbGzDT8dIgAQkCRSqzyBexqIskKhbELqYW2JLysSD+hX1PFvIqSgDvnvfIuw0VelTknkUzXLF+lIW28z4J46EvWPuO8ruHrdfLzyvsU1FeaAQN+iKMKz3FQI6b02dvpS+fH9vTkw0fQ8UBY7opioFjujYxrpn1kyJdXjpHAmQQEgCpRSCdQtCF3I5aHW8FIU2Q4ZH+fbsLRCm+SobA6CqHFqnxFx9xv649dm3i566omOPiXumjB+GT3WoxgdbG3D3S+8pd8kT25SR8YYsAhQ4/JsOFDj8i5ktiylw2CId03FYMyWmgaVbJEAC2gRKvZVPpyB0MWeL1TeQEXK0QTp0oyg6+ovzDkfr7ja8uXarlaNgo3C/W4dK/NdnDsBPH1/qnMgRtpgpMziimDHJ6ZMCh3+xpsDhX8xsWUyBwxZpjkMCJEACJJAIAqr1GaIokKhqQ6HAFKulpCLkJCLwnjhZ7BScsCKDyPYZN7yn8RowQWiDsoyC7ufnJECBw7854LvAMRtAdwAn+ofeeYspcDgfIhpIAiRAAiTgCwGd+gxRvJyZEB+CaimZElF8iW2Udp52UD/MW7EBIvvGxpUR1XKzMHc2tWLqzFeVTfj2SftizLAeGD1YPK4DY697SumEF+UBc26IQiQMaxPv94sABQ6/4iWs9V3g8I+4PxZT4PAnVrSUBEiABEjAcQK69RmiSK8X20cu+MM/saOxVZnahAP64JozD8KgHh3z3qsj5CgbkZAbMhkVl/zpFWxrsCNwFBLVdLY35evLpvjFE9sS8g8lYjcpcEQMOILuKXBEADUmXVLgiEkg6QYJkAAJkEDpCeieYBJVgcS7X3oXP/jrEmUwQfboCjnKhsT8hurKcvzq/MNT2RuzXl5l1dtCopqqOJEve8JEBpEMjKAsI5k+2IYEBAEKHP7NAwoc/sXMlsVOCxzZR851rqlE3ZDuEP/lRQIkQAIkQAIuEtB98Y8ig0Pw0bVHbDk4amiPgr+7ukKOizErtU3dOlShsbkVDS27rZpSSMRSESeKZU9EWYBWZI1MrhuIKeOHF8wysgqTg3lPgAKHfyGkwOFfzGxZ7KTAUejIOfGDNqluAKaOH8EfNFszhOOQAAmQAAlIEzCV4i89YEDDD7Y04PibnkWj5stzod9dXeHElF/sJzyBYqKajDghkz1R6Eh53WKmXztuGI4f2TtV64MLXuHnAHv4hAAFDv9mAwUO/2Jmy2LnBA5TP6q2AHIcEiABEiABEsgmYCLFPyzRQgsFuv3mvszqCDm6Y0dxnzj2VRTUTOrVoaocC64+pahIUEic0MmeMFXMNKpMp6TOA/pNgcPnOUCBw+foRWu7UwKHqbTIaJGxdxIgARIgARIoTMDWb1mhbZwyCwU68cvdjqAq5KiOGdWRo8KPS0/aD9c++qaqSc62Fw/6qQc6yUvU/rh3yjjUpU89KXZbrjhhIntC9HnUT57Ermb5bTlRnDYkiYvNEkCAGRz+BZkCh38xs2WxUwKH6sMSjwWzNU04DgmQAAmQgAoBGZFBJsU/35jFtnGecmBfPL30w8hO48j+3RV2nHbLXK1TWvL51aWmAt+dOAr9utaiS21lahuC2Aoz7Z56FfSptgf074KVG3agIesFOjvzoHunautHmSo7EfENpTx9RPz7OH/Gy2hS2DrFZ76IJ0TCu6fA4d8EoMDhX8xsWeyMwKFz5BzVfFvTJPw4LBgbniF7IAES8IuAyRT/jOcywkmUlHJ/d3/z7ArcNGeZkSEnHT4Avzj/8HZ9PfjqalzxwGvK/YutDEIgWbhqU0rsyQgm2XUbVBdVlI3w4IZSiAYqGU4ZhKUUYzwII000QIAChwGIlrugwGEZuEfDOSNw6BYs435Mt2cbC8a6HR9aRwIkED0BUyn+Oi+GUXiX/bur+9udz658ixbTH3wd9y34t5IbsosfrvBUcs5w4w5VFVhw9clWC3aqCksq22kM42F3CSJAgcO/YFPg8C9mtix2RuDQPXKu0DFntgBynMIEZFYadVO0yZ0ESIAEkkZA9cUwKj7fOmlfHNi/a+qleFS/LjjpZ89hh6GCndniiWW+g4EAACAASURBVE5mp/D5/KMG4YZzD5VyX+Z3Sqojjxv94MwDcfGxwwp6YDIDUyempRBhPA4nTdckQIFDE1wJb6PAUUL4jg/tjMChuwrEDA43Z5jKyhhTT92MIa0iARJwh4DOi6EN60W2xIDuHbB83XYjwwnx5D+PH5EST3SfC37++cMwuW6gtD2FthJVlAGtKpU7pUd0q6E4UWbOZeMxqEfHdoZFkYGpG1M+67k1Z+JoDQUO/6JKgcO/mNmy2BmBQ+fIOdk0VFswOc4nBFRXGkuxD5jxIgESIAFfCOi+GNryT/UUj2J2id/2SXUDMLJvF/zgr0uUXcjN7MyXgdDW1oaFqzZDPHsIMaVuSPfUOC+s2IAnl6zDI6+/j0aFApjKRjp2Q+5vsExmi04GJrN1HQs8zdlDgAKHf5OBAod/MbNlsTMCh3CYL8W2wh7tODorjRSroo0JeycBEnCPgErqv+6LoU2vTYocwu5ONRVaJ7RkVvsLZSBUlpeljlRt3f1JekaHqvJUBsOqj3a2O3nFJr9SjpX9GxxlBqauUMcMjlLOjmSMTYHDvzhT4PAvZrYsdkrgiPJH1RZQjgPttGI+wHD2kAAJJIGATuq/7ouhbZ4j+3bGmk27jNXkULU/86K+fN02XHzXAmze2azaRWLbZ36Do1xsYrZuYqeX845T4HA+RHsZSIHDv5jZstgpgUM4HVVapC2gHAfQXWl0uWCsykor5wAJkAAJFCKg+xun82JYiigIgeGZ750AITAIUeZ3z6+0asaE/fvghFG9ccPjS7WyP6wa69hg4jf4uP16Ydz1TysJVKoZmFEKKI4hpTkeEaDA4VGw0qZS4PAvZrYsdk7gEI4XKvglfkRF4bAp44fvVQzLFjCOE0xAd6XRxQwOnZXWYEJsQQIkkEQCYbMUVV8MS8VYfJcP7dkJZ946jxkUpQqCxrhXnToKI/p0xtSZryrfrfL7HfbfgbJxvIEEJAhQ4JCA5FgTChyOBcQhc5wUODJ8xIrVwlWbsK2hBV1qKzF6cHerZ7U7FCevTNFZacysAOUr/CYKwJXi0l1pLYWtHJMESMB9AqoCRW7hR5UXw1LSuPlzh+Ivr67BS+9sLKUZHFuDQE1luVZxVdUMTP6+agSHt0RKgAJHpHgj6ZwCRyRYY9Gp0wJHLAgn1AnVB/lJowekCso9VL+mXWpsppr+1PEjrGbtqLxI8JjbhE5yuk0CCgRMFV+WeTFUMCuSplXlQPPuSLpmp44SyGRwqGznZLauo8FMqFkUOPwLPAUO/2Jmy2IKHLZIJ2wcFYFAZGiUlSGVqVPo0jmOLgxyVYGGx9yGoc17SSD+BExu3Vu6ditumrMMzy1bj9a2T04CiT9FeugiAbEQMXvasZj58rtaixTM1nUxqsmziQKHfzGnwOFfzGxZTIHDFukEjiOz0ti1thK729qwvbE1kJCtTAlTK62BDrEBCZBAYgiYKL5cqCZQYiDSUScJnHZQP7y8cmPReiu2FymcBEWjnCZAgcPp8OQ1jgKHfzGzZTEFDlukEzpOUAqqEBMeXvS+NB0bmRImV1qlHWNDEiCBWBMI+70iIxjHGmCCnCsvA3Z7kpgj6qOJl4ytRTIwM6GztUiRoKlCVw0SoMBhEKalrihwWALt4TAUODwMmo8m50tBFQVFoz6OToeViZVWnXF5DwmQQHwJhCm+vGlHE08kie/U8NYzIViMHdYDc5ask/bBxiKFtDFsSAJZBChw+DcdKHD4FzNbFlPgsEWa4+xFIOyKZlRIXbUrKn/ZLwmQgBwBlQKK+XrUre2jep+cN2xFAvoEqivLMeOCOnzznoXtCoMH9Zg5Ma1Up6MF2cfPk0uAAod/safAIRezjgCOB3AEgLr0fwenb/0RgGskuukL4CoAnwUg7t0FYAmAPwH4A4CgpMMR6fsnAugvsv4ALAQwA8CDEuOrNqHAoUqM7UMTyLwkzH1rPX7//Erl/lSPo1MdIMxKKx/aVGmzPQm4T6BQ7QvVU55Uii9XV5TjylNHoUenKnz/oTe0ju50nywt9JnAhP374OmlHyq7kDlxRflG3kACERKgwBEh3Ii6psAhB/YEAM8WaCojcAhhZA6Anuk+tgOoBVCZ/vMTAM4C0FhgjNMBPABACC3iEuJGZwDl6T//EcAlEiKJnLcft6LAoUKLbUMRMFUgz8bDkeqKKdNuQ00N3kwCzhKQqX2hUkBRpj9nYdAwEsgiUFNZriW8Rb1IwSCRgA4BChw61Ep7DwUOOf5C4JgNoD7rf78A0A9AkMDRDcDSdFvx3wsAvAKgGsDXAYh+qgDcDmBaHnOGAVgMoBOAFwBcDGB5WuC4EsAP0vdMB3CjnDtSrShwSGFio7AETD3U20pvVVlpZeG0sLOD95OAmwSi+h6Yv3IjvvyH+Whq2e2m44pWVZaXocWXqpiKvvnY3PV42Fik8DFutLm0BChwlJa/zugUOOSoVQDIPavyXQBDJASOHwO4Or0l5SAAuXn3/w3g+nT/B6bFi2yrZgL4MoAPABwAYHOOyXcAmJLO6hgKYJOcS4GtKHAEImKDsARUXhKCxrKZKSEjyqis3Ab5xs9JgATcIhBVJpdqv25RaW+N+A48YWRvpdOwXPYnDrbZFDhUszhsLVLEIY70wS4BChx2eZsYjQKHPkVZgeO9dM0NsY1EZF/kXmKrydp0Rsa1AH6Y1UBkbawH0CH99+Lz3EuIGhnRRPQvxjFxUeAwQZF9FCVg6mG+FJkSQcfcThk/HIN6ZHaVcSKQAAnEhYCoFRTFKU+i3zHXPYVdzaXL3ujTtQYfbi20W1Y+ghmBt3fnGpz8839obVeQH839lp2ry9HaVoZdzblrZfZsr64oQ1NrULk3c/ao1uGwuUhhzkv2lAQCFDj8izIFDv2YyQgco9LbU8Qon0/X0cg34mMAPgPgZQBHZzU4FcDj6T+PAbCggLlvprM77gXwBX2X2t1JgcMQSHaTn4DOS0K+nkqdKZHvmFsWFOWsJ4H4EojqNKU7563EtY+Kn3N/L7EKP7luILIF3tufW4GfPr7MX6cMWC5+E0b164JX3zOVZKtuVP9utVi7pUH9Ro07xDyYPe1YnDfjJWze2RzYQykWKQKNYgMSSBOgwOHfVKDAoR8zGYHjXAB/SQ8htp/8q8BwonaGqKchioeKmh2Z6woAP0v/QWRz7Cxw//0APpeu1XGovkvt7qTAYQgku8lPQPclIdNbvgdpsiYBEiCBqAk8tngtpt0jSnKpXcUKKIqMsNN+OVfpWE210aNvLTIExg3vgZMP7IehPTuhbkh3iBd7IQIf/qMnEl+Lo0NVRckyOLrWirF3o9lSBkcmG4PbOaP7dxf2aOroLItfzxQ4/IspBQ79mMkIHN8G8Kv0EEK4EAJGvus7AH6Z/qALAHHKirhuBnB5uq5GjyKmikKllwHYCKCXvkvt7qTAYQgku8lPQPcl4WvHDcPxI3tj9OCPH555kQAJkIBNArribLECiqa269nkEDRW9lG5Nz+xjLU4goBF9HlFGVBeXqYlblSVAx1rqrBlV3AWRsb83GwMU9s5+UL/MWFTR1NHNN1i2S0FDv/CSoFDP2YyAsf3AVyXHkKclNJSYDhxmsqM9Gf7pGtyiD+KvxOfrQEwsIipYgwxVhOAGkmXpDZitrVJNZMcks1I4BMCUbwkkC8JkAAJRE1AZCSMve4ppWyLYgUUTW3Xi9pv3f6F75d8ehhue24FYnI4jC4K7+4rLwPOOmwflKEMf1+yFg0B9WGKbRkttJ0zSLjgC/0n04YZMaX5J0SBozTcw4xKgUOfHgUOfXa8kwRSacsmXxKIlARIgARsEVDNuChWQFFX7LXlq6lxRDZAKeqnigddLtWEi6IQLn7zxTqs29qAhxeuwfyVH6EhS63S2TIqI1ys396Ii+9aULSOR6nrcIUjK3+3yqlzrGkiz1WmJQUOGUputaHAoR8PGYGDW1T0+fLOBBAw+ZKQAFx0kQRIwBECJl82dLfrOYLCaTN6da7Ghu0iuZVXWALZL81hi2vLZCJ0ra3E7rY2bG8MPnkmCS/0fF4KO4P176fAoc+uVHdS4NAnLyNwsMioPl/emQACJl8SEoCLLpIACThEQOYlTWZ1OSkZHA6FjqZoEjBxlKvK776KmSZsUxnPZludbWzFtsXZtD0OY1Hg8C+KFDj0YyYjcPCYWH2+vDMhBEy9JCQEF90kARJwiICJAoo62/UcQkBTEkTAxEuzaiaCLF4TtsmOZbudrgharLCxbR98Ho8Ch3/Ro8ChHzMZgUP0/h6AwQDuBHBJnuHE8a8fAOgM4FoAP8xqIz5bD6ADgB8A+HGe+4cAELaI62IAf9R3qd2dPEXFEEh2E0zAxEtC8ChsQQIkQALREAibsh/VS1803rLXJBMI89Ksk4mgwjqMbSrj2G6ru42t2NHUtn3weTwKHP5FjwKHfsxkBQ4hSlwNYCeAg7LEiMzIVwH4KQCxyfBAAMtzTJoJ4Mvpk1UOALAl5/PbAHwDwDYAQuzYpO8SBQ5D7NiNJoGwLwmaw/I2EiABEigpgfkrN+K8O15mMcySRsGPwcUx6f9YLta+SnPpvjQLcePul97DTXOWRWa4rm2RGWSoY2ZwGAKp2Q0FDk1wJbyNAoc8/O4AKrKa1wMYBOAmADdm/X0DgO1Zf+4GYCmAfgDeBHAhgFcBVKczOn6Z/v+3A5iWx5xhABYDENkcz6fveSv95ysAXANAxHF6jh3ynuVvyQyOsAR5f8kIBB07VzLDODAJkAAJ5CHADA5OCxkCYhvG7GnH4rwZLxU9WUSmL902qlkShU5L0R2/2H2qtkVhQxR96mxji/OWnSgYF+uTAodt4uHHo8AhzzCTsRF0x58AXJTT6AgAcwD0TP+9yLaoBVCV/vMTAM4C0Fig89MBPACgY/pzkcUhtrRkBJe70ttTTJ6ERoEjKNL83DkCMsfODeqR+WfknPk0iARIIEEEMkLs+m0N+P5Db6Ax69jNBGGgqwoEzq0bgJs/fzhkalcpdCvdVPWl2aadqrZJO+1IQ1URNM5FV22HhAKHbeLhx6PAIc8wjMAhRumbzrL4bDrzQ2R6vAFACCKiPsfuAFNGpO8/BcA+6S0pIovkDgAPyrsh3ZIChzQqNtQlYDLTQuZBSuZEA11feB8JkAAJyBCwuaItYw/b+EOgqqIM5x01CFPHj8DaLbtw9cNvYPm67KThaH1ReWmO6rSUQh6q2BYtpWh6V+GZhGNzo6Gcv1cKHDZpmxmLAocZjnHshQJHHKPqiE+mMy34w+9IYGkGCZBAUQIyQiwRkkAQgc41IoG3DGLrgq1L9aVZNeMgjB+qtoUZq5T3ynx/cCHHfIQocJhnGnWPFDiiJuxv/xQ4/I2d05ZH8QOt+iAV95UepycAjSOBhBJQEWITiohuO0qgW4cq/PGrR6FusChHF3yZOi2lc00lysqAbQ2FhZykvdDz1Lng+We6BQUO00Sj748CR/SMfR2BAoevkXPYbpUHfNkVGZ0Hqbjv1XV4CtA0EkgsAVUhNrGg6LhTBMSLwuOXjceofl2k7dI99SN7gIxw0btzDWbMfQez61djR5M4cPDjS/yOT64biCnjhyOJtbV46pz0dAzdkAJHaITWO6DAYR25NwNS4PAmVP4YqvqAL5NpofsgFddq6/7MBlpKAskhoCPEJocOPXWdgOrv5WOL12LaPaJMnPpVSLjgC706S95hhgAFDjMcbfZCgcMmbb/GosDhV7yct1bnAV8m00L3Qeq2L9Xh9EP6O88tjgaaLC4bRz70KX4EdIXY+JGgRz4SUP291J3vV502ChcePRRiawovEnCFAAUOVyIhbwcFDnlWSWtJgSNpEY/YX90HnqCVo6j6jRhHIrs3XVw2kRDptJcEdIVYL52l0bEjcNWpozC0V6eU8FA3pHugACGyLcZe91S7LSVBUGQWNIL64OckEAUBChxRUI22Twoc0fL1uXcKHD5Hz0HbdR/wg1aO+CDlYLDzmBRFcVk/PKeVcSUgm4kk2t390nu4ac6yuKKgXwkiIISIMw7tj7HDeqJDdUVB0SOKLakJwkxXHSJAgcOhYEiaQoFDElQCm1HgSGDQo3Q5ykwLPkhFGbnwfUdRXDa8VeyBBPQIFMpE6lhVjnEjeuKEUX0wtGcn9O1Sg5n/fA8P1a9RWsnWs4p3kUB+ApXlZWjZnXqki+wSosekugGYOn7EnoKf4t/JZ255XuooW5EZ8vfvHJfIYqGRBYUdGyNAgcMYSmsdUeCwhtq7gShweBcytw2OMtMi7i/QsivFtmaAqj0mBSjVsW0x4TjJICCTiZQMEvTSFwIVZUBrtPrGHhTZR7Z+LHDMxfbGT04+KcSsc00F/v6d8RQ4fJlUCbOTAod/AafA4V/MbFlMgcMW6QSNY/JFNxebzItH9sOXD9hdq1mhY4+p4rI6Y/sQY9roDwEVIdUfr2gpCZglkDni/Y65b2PWy6ukO5c5NU26MzYkAYMEKHAYhGmpKwoclkB7OAwFDg+D5rrJKi8ImYcklfPtRf8z5r6D2fWr26WEFzp2zmVergk2uvaY2JqkO7bL8aVt/hFQFWj985AWk4AZAucdNQiPvva+0tYsFhk1w569mCdAgcM806h7pMARNWF/+6fA4W/snLbcxsuq2A6zcNUmbGtoQZfaSoweHFz13SVoUQtBqr6GsSdscdkwY6v6yfYkUIiATiYSaZJAUgnUVpajoWW3svtBp6Ypd8gbSMAAAQocBiBa7oICh2XgHg1HgcOjYPlmapwyLaJgr7pSHHVqbxh7wmZwhBk7itiwz2QS0J3HyaRFr0lAj0DQqWl6vfIuEghHgAJHOH6luJsCRymo+zEmBQ4/4uS1lbmZFvv16Yzl67anqq6Lqup1Q/zKvDARDJ2V4ihTe8PaE6a4bFtbG8Zd/zTTnE1MLPahTUAIst9/aDGef2uDdh+8kQRIIJgAMziCGbGFfQIUOOwzDzsiBY6wBON7PwWO+MbWOc9YQPKTkOiuFKs8GKqcRGLCHt0sDBNjOzfZaZBXBGS21HnlEI0lgQIEhFB+5mH74K+L1mBXs/r2ktxuVbepRCnUM+gkEIYABY4w9EpzLwWO0nD3YVQKHD5EKQY2yrxA+Hb6SZiwhK1ZUWxsHSHJhD26dTRMjB0mFrw32QRU5m2ySdF73wlcddooXHj00FTmpKognc93IVZ89rD+uG/Bamk0UW+1lDaEDUkghwAFDv+mBAUO/2Jmy2IKHLZIJ3gclRcInVNVfESrm7Vw1amjMLRXp4Jbe3SFJF17cjNKdMY3NbaP84A2l56AiRe90ntBC0igOIHK8jIs+uHE1G+HuFR+lwv1LMSKKeOH48xb52HzzubAECTl9z0QBBs4SYACh5NhKWoUBQ7/YmbLYgoctkgneBzVF4gkrPAsW7sVZ/x6Hlp2p/4Jal1i9WxS3QBMHT8C4phdlQfW3AfNMDU0Mg/MGSdUi8uaHFsLJG9KLAGd2jOJhUXHvSaQK3AIZ2QE6UJOZ/+GyPSTpAxNrydKgo2nwOFf8Clw+BczWxZT4LBFOqHj6LxAxH2PrszDoMp0yTw4zq5fjVkvr5K+NVdIMi1EqRzja3psaQhsmGgCutlDiYZG570lkK+GUyFBupiT+cQKVWHbW4g0PLYEKHD4F1oKHP7FzJbFFDhskU7oOLovECrFNH1Cq5JloeJX19pKNLfuVioalyskqdhmOtW4lGOrcGbbeBHQrf8SLwr0JikEih3Pmi1INzS3Yv7Kj/DIa++3O91K/GZMrhuY2pYisgbzXSrCdlK4008/CFDg8CNO2VZS4PAvZrYspsBhi3RCx9F9gSj2IOYzStVMhah9NVFDw5SNMpktTHM2RZv9CAK6AizpkYCPBFQXDihW+Bhl2qxLgAKHLrnS3UeBo3TsXR+ZAofrEfLcPt0XCNUHMR8w6WzXidqvfEJSKVONSzl21KzZv3sEdOq/uOcFLSKBYAJVFWWYN/0k9O1aG9yYLUgggQQocPgXdAoc/sXMlsUUOGyRTug4Oi8Qca3BoSv2RDl1iglJpVy9K+XYUfJm3+4RcC2ryj1CtCguBHILU8fFL/pBAiYIUOAwQdFuHxQ47PL2aTQKHD5Fy1NbVV8g4nqKiu52najCHhchSWTGLFy1GUIUESe61A3pvucoxKjYsd/4EFCp/xIfr+lJkgmobPXj92uSZ0qyfKfA4V+8KXD4FzNbFlPgsEU6weOovECYLl7pEnbXMjh8F5LEvLpj7tt4qH7NXoXwso/PdWkO0BY3CcjUf8lneW1lORpadrvpFK0igSIEgn5r+f3K6ZM0AhQ4/Is4BQ7/YmbLYgoctkgnfByZFwiVVSVXcRZb7dLZrhOVn0EPt1GNa6rfpMwnU7zYTzCBTP2X/5u/Ci27Uz+NUpd4wJJvLdUlG5GAFQKFRG5+v1rBz0EcI0CBw7GASJhDgUMCUkKbUOBIaOBL4XacC0jKrnapbteJIk6+C0nMCIpiVrBPQUAIlGOvfxo7m1qlgVSUl6FVQRCR7pgNSSBiAvm2KfL7NWLo7N5ZAhQ4nA1NQcMocPgXM1sWU+CwRZrj7CEQtwKSKqtdvTvX4Mxb52HzzubIZ0RtVTkamj9JnxcPs5PrBmLK+OEY1KNj5ONHNYCqSOT7VpyoOLLfvQm4to2MMSKBqAnkFprm92vUxNm/qwQocLgamcJ2UeDwL2a2LKbAYYs0x4klAZ3VrvXbG3HxXQsiFTmEmPHM907A8nXbsK2hBWKVWVxipdnnQpw6R+3GpZhqLP8BOeaUa4WAHcNDc2JIIPuocH6/xjDAdEmaAAUOaVTONKTA4UwonDOEAodzIaFBPhHQXe0qtF3HlO+ZrAXZrTOmxtXtR7ZSv+4Ke7HjcHVt5n3xI6A7v+JHgh4lhUD2d6Pu/Of3a1JmS7z9pMDhX3wpcPgXM1sWU+CwRZrjxI6Azn793GwCsV3n7hffxY1zlhnjkykgKpMpUup6HKoCjO4Ke/YqpTHQ7Ch2BFwqBBw7uHTIOQK5v0f8fnUuRDTIIgEKHBZhGxqKAochkDHshgJHDINKl6InIF7Mf/i3N/DM0vXKg+Wuduk+VOYbOCNYqNT6KNWJKiq1S+oGd0+5yxVG5enGGxQJqGZlKXbP5iTgDIHc+kT8fnUmNDSkBAQocJQAesghKXCEBBjj2ylwxDi4dC0aAjIv5sVGzs0m0H2ozB4jt4Co6kua7UKcOrVLRGFUnRV21uCI5t9BXHtVmZtxZUC/4k8gn7DN79f4x50eFiZAgcO/2UGBw7+Y2bKYAoct0hwnFgRMvPzkZnDoPFQKmB2ryzHtxH1x2MBPYfTg7qnioeLyoVBcGAEmzL2xmIR0InICYUXMyA3kACRQgID4HSgrE78DLQUZFduayO9XTq2kEqDA4V/kKXD4FzNbFlPgsEWa48SCgOrDX67T4ujWV64+ZY8Ykflctd+RfTvjD185Ku9xr7oZIbYKxYUVYFREplJtv4nFZE+4E/NXbsR371uENZsbEk6C7vtCIHuL4oy572B2/WrsaGrdY77MUeH8fvUl2rTTNAEKHKaJRt8fBY7oGfs6AgUOXyNHu60T0HkxzzWyurIcT19+/F7ChMpDZbcOVXj025/OK26I8XRrehy3Xy9cP+mQgv2aAm5CgJFZYS91AVVTvNiPfQIy88u+VRyRBPIT6FhdgXPrBmLK+OHtvr9FduDCVZtS2RxdaivbZfoVYykz//n9ytkYNwIUOPyLKAUO/2Jmy2IKHLZIcxzvCei+mOc6XqjehYmHSiHC3P3Se7hJ81QWGw+tugJMbu2SQkftyqxSej8Z6UBkBMS8OuNXz2NrkRT/yAZnxySgSGDC/n1wyxdG75UVKNNNseO5w3y/yh77LWMj25CALQIUOGyRNjcOBQ5zLOPWEwWOuEWU/kRGQPfFPNegYkUvdR8qCx23qgOjU00Fpp+2P4b27IS6IZ/U9tDpK989ukJRoS00uquUpvxhP/EicOGd/8Tc5Rvi5RS9iSUBkZXx2KXHKWfdqRzPrfL9qtJvLANCp7wmQIHDv/BR4PAvZrYspsBhizTH8Z6A7ot5PseD6l2oPFTKZH7owhdizKS6AZg6fkS7h+gwK3Q6RVV5EopuBHmfICA7Xx+qX43v3v8aoZGAFwREQdG7LxmDzDHaMkbL/F7oZPJF1a+MT2xDAiYIUOAwQdFuHxQ47PL2aTQKHD5Fi7aWlIDOi3khg3O3W+g6plK7Q3cMcV928bo75r6Nh+rX7FW8LlsICXqhVC2qavsY2zCseK87BFRWlEXbE3/2HFp2p34WeZGAFwRExt3s/zwGo/p3DbRX5feiW4dK/OCzB6FDdUVq+0uxbD6Vfln4OTBMbFAiAhQ4SgQ+xLAUOELAi/mtFDhiHmC6Z5aA6ot5odGDMjhkrBYiwnfuXYhnlq6XaR66jczxgyJl+pgRPTHvrQ1FBRA+EIcOBzsIIKC6ojz9L6/hvldWkysJeEegsrwM548ZtFemXa4jYX6/CmXziTFU+6Vg7d0US4TBFDj8CzMFDv9iZstiChy2SHOcWBBQeTEv5HDY7RaZVenZ9WuwM+sIQB8AZ6c+q76A+uAfbXSDgMq/UzEn7/36OJx16zw0tTJ7w40I0godAsW2lpg4BUzYlDuGTr9hfwN12PAeEggiQIEjiJB7n1PgcC8mrlhEgcOVSNAObwjIvJgXcyZM1fuwY7sAOTtFWbeoqgt+0AZ3CaiuKB85pDteeW+Tuw7RMhKQJFBoC4jJGlLZY+j2ayKLURIJm5GAFAEKHFKYnGpEgcOpcDhlDAUOp8JBY3whUOjFXNb+Yum+hfpQWZWWtaNU7XJTlFWKqpbKZo7rBwGdFWU/PKOVJCBHIN8WEFOngGUsyIyh26+pOlRyRNiKBIIJUOAIZuRaCwocrkXEHXsocLgTC1riIYHMi/nrq7fg9udW1SAZ8QAAIABJREFUYHtjq5IXKtXqVVellQyx3JgpypaBJ2g43RXlBCGiqzEnkO/71fS/i8wY9e9twoV3zlcmygwOZWS8IWICFDgiBhxB9xQ4IoAaky4pcMQkkHSj9AR0szpkqsrHcVWaD7iln7NxtEB3RTmOLOhTcgnkfr+aPAUsQ1WMMXpwd4y97ql2RaWDqFPgDiLEz0tBgAJHKaiHG5MCRzh+cb6bAkeco0vfSkJAPEh+5/8W4umlH0qPH1RV3tTqW3VlOZpadkvbFWVDpihHSTe5fZv6t5JcgvQ8DgTyfb+azgLMjKHab9DvXRz40wf/CFDg8DBm/plMiy0RoMBhCTSHSQ4BnWyLoBUtE6vSIlNkxgVH4JHX1mJ2/WqlFbcooscMjiioss8oVqpJlQR8I5Dv+9V0HafMGCr9ymQs+saa9saDAAUO/+LIDA7/YmbLYgoctkhznMQQ0F1BLvbCr9tnBrrI3Lh3yjjUDe6e+qtM7ZB3N+zATx9fqlw7JGwwgwSdsP3z/mQTUF1RTjYteh83AsW+X02dxJU7hky/KjWn4hYT+uM+AQoc7sco10IKHP7FzJbFFDhskeY4iSGgm21RbMtG2FXpDlXlWHD1KehcU7lXHGQeTLvWVqa2tjQY2t7CFOXE/HMoiaMqK8olMZCDkkCEBIK+X3XrRWWbnG8MHvsdYVDZdeQEKHBEjtj4ABQ4jCONTYcUOGITSjriCgHdbIugLRthV6UL9S8eSm9+YhkefX0tWnanvhL2XJXlZTjz0H1w+cSRePLNdbj20TdDY7aZoiy2Cy1ctTmVsSLEnboh3fOKPKGdSndgezxTdsexHyHcffn3/8TOJrWTjeLIgj4lh4DK92v28dwNza340SNvYsuu5kBYQWPw2O9AhGzgIAEKHA4GJcAkChz+xcyWxRQ4bJHmOIkhoJNtEbRlQ7w4P7FkHX7w1ze0a2fkyxCRyd7IpBWP7NsFR/3kKexq1n9htJWiLESbO+a+jYfq17TjJThPqhuAqeNHYFCPjsbmpO3xjBke844efHU1rnjgtZh7SfdI4GMCYb9fVX4PMtsdyZ4E4kKAAod/kaTA4V/MbFlMgcMWaY6TKAKq2RaFUooLvTjrwMzN4FBJ48+s2AnRYNbLq5SHF8LC5LqBmDJ+uFFhIZ8hth/SbY+nDD/BN+iIjQnGRdc9JWDy+5XbTDydBDQ7NAEKHKERWu+AAod15N4MSIHDm1DRUJ8I6IgHuRkFMi/OskzyZYjoiDBCoDjz1nnYvDM4jblzTQWmn7Y/hvbqhNGDo90akuFggrssU9HO9ngqtrHtxwRU5zm5kYAvBDpWV+An5xyMiQf1M771jttMfJkFtNMUAQocpkja64cChz3Wvo1EgcO3iNFebwjICBSFUopVXpxlgORmiIQ5ynb5um24+K4FRUWOsKnSMj7la6P6MhtUjC/IDtvjBdnDz/cmYPrfEhmTgAsEOtVUYOYlY/ecjOWCTbSBBHwmQIHDv+hR4PAvZrYspsBhizTHSSQB3XRf1RfnYnDzFYQLWwhV168oJ0EY0Sbf6TJBttoeL8gefl6YgIzYSH4k4BOBa88+CBcePdQnk2krCThNgAKH0+HJaxwFDv9iZstiChy2SHOcRBNQSffVeXEuBLdQJoWpo2xV/Ip6AoQVbVTtsz2eqn1s356AEOWuuH8R5r+7iWhIwHsCQaduee8gHSABywQocFgGbmA4ChwGIMa0CwocMQ0s3fKXgO6Lc7bHQUXndMdw+aHalGgjO3NsjydrF9vlJ8BjYzkz4kTgn9+fgL5da+PkEn0hgZISoMBRUvxag1Pg0MKWiJsocCQizHTSJwK6L87fPmlfHNC/K7rUVgYW9RSZF2Ouewo7m+SPfA06yraUjMXq/A//9gaeWbpe2Qxd0SaOIpEyPE9uEPPjM7c8DzHveZFAHAjofm/FwXf6QAJREKDAEQXVaPukwBEtX597p8Dhc/RoeywJRPXiLLa+LFy1Ge9u3IHnln0IMU7LbnmEYQtyyo9UvGXGD/GyKmpnVJSX4Zt/rpc62SW35zCijc4RpGHGM8Uvif1cdu9CPLzo/SS6Tp9jSuC2L9Xh9EP6x9Q7ukUC9glQ4LDPPOyIFDjCEozv/RQ44htbeuYpAdMvzmL1+o65b+Oh+jXYoZCxkY0vX6HSILy5QkTdkHBHxZrwI9fmsKKNajHYsOMFMefnexMQ83D0tU+iZXfq544XCcSCwFWnjsKFxww1fjxsLODQCRLQIECBQwNaiW+hwGEnABcB+KPEUKcAeKpAuxEArgIwEYCQ5rcCWAhgBoAHJfpWbUKBQ5UY25OABQKmXpxNnB6heuRrISFCZC9MqhuAqeNHYFCPjkoUTfiRO6COaJPbh8oRpCbGU4LGxikCc95Yi6mz6kmDBGJHIMx3auxg0CESCEmAAkdIgCW4nQKHHegZgUMkfRfbCP45AM/nMel0AA8AyDz5C3GjM4DydFshnlwCwOQyFAUOO3ODo5CAEgETL84qfRQybmTfzvjJOQdjzLCeqSZBWRkyQoSOYHLmrfO0tqAU8kvVhmLBi8JnpcnCxkUJ/GzOMtz67ApSIoHYEjD5fRZbSHSMBAIIUODwb4pQ4LATs4zA8R4A1cPJhwFYDKATgBcAXAxgeVrguBLAD9IuTAdwo0F3KHAYhMmuSMAkgbAvzqpZIMXEgBsmH4J5Kzbstc0lewVR3C8rRKhkM5jyI+PfhAP64JozD1LOIikWWyEmzZj7DmbXr263DSjoNBuT84V95SfwsyeW4dZnKHBwfsSbgMp3arxJ0DsS0CNAgUOPWynvosBhh34YgWMmgC8D+ADAAQA255h8B4Ap6S0rQjzZZMglChyGQLIbEoiCgO6Ls8i0GHf909o1N3J9ET8ixVLHxMP12GE9MGfJOmkMMvUoTPshjIuyOJ+on7Jw1SZsa2iROs1GGhYbahOYs+QDTJ35qvb9vJEEfCEg853qiy+0kwRsE6DAYZt4+PEocIRnKNODrsAhsjbElpYOAH4I4No8gwlRY2X670V2h0ytDxmbKXDIUGIbEtAkELSlQ7Zb1Rdn3ZNYZO0x0U7mRJEo/ODxiiai508f4t/OIT+cY3Rvpz/e09IkEZD5Tk0SD/pKAioEKHCo0HKjLQUOO3HQFThOBfB42sQxABYUMPfNdHbHvQC+YMglChyGQLIbEsgmEEWhTRXCjy1ei2n3uF9YMUhsMO0HXwBUZpG/bbOFxYqyMky751W0mqxe5S8aWh5zAkHfqWHdNyXah7WD95OAaQIUOEwTjb4/ChzRMxYjZASOnQCWAhgFoALAWgAvAvg9gOfymHIFgJ+l/15kc4j78133AxAFSkWtjkMNuUSBwxBIdkMCGQJha2eYIBlF5oMJu3L7CNouYtoPpnBHEUV3+oziKGF3vKMlJBBMIOg7NbiH/C1KLdrr2s37SECWAAUOWVLutKPAYScWucfEijoZQrCozhpebC0RtTRasv7uZgCXp+tq9Chi6i8AXAZgI4BehlyiwGEIJLshAUFA5eSSKIvCibT8sdc9ZawGR1TRnXHBEZh4UL+C3Zv0o2N1BX589sE49eB+6FxTGZVL7LdEBGSExRKZxmFJwBoBlQwO2WwMmX9bPMnFWog5UEQEKHBEBDbCbilwRAg3q+uJAI4BMBvAMgCN6QyOsQB+BODkdNtbAXw7674ZAL4OYA2AgUVMvQ7A9wE0AaiRdEkqKbetTaqZ5JBsRgLJJaB64keUGQWqtpQiajWV5fjckQMxdfyIgqeamPYj++SXQT0yp3KXwvvgMWVfQIJ7incLFWEx3iToXZIJyG7BU8nGUPm3FaVon+S40nc7BChw2OFschQKHCZp6vVVnhY+zgawG8D+AN5Kd0WBQ48p7yIBpwjonPgh+0Cq46jKg6lO/ybvybf6l3m5f3fjDlz32L/Q2Cy+Os1dLq84qryAmCPib0+mRTB/SdDyJBOQEcxVszFU/23J2JDkGNF3dwlQ4HA3NoUso8DhRsz2zRI1RN2Nn6fN4hYVN+JDK0ggFAHdehEqKcWqBso8zKr2GVX7zOqf6P+OuW/jofo1kW+xcXHFUSZmLoszUc2PQv3qCIu2beR4JBA1AZnvMhXRW/R379fH4dzbX1T6Ho5StI+aIftPNgEKHP7FnwKHOzETx8GK+hm/AfCttFksMupOfGgJCWgT0D3xI6qicBlHxEPtjLnvYHb96nYPqrVV5WjZ3YYWh46XOO2gfnh55UZs3tmsHQfVG/OtOGayR9Zvb8QHWxrQv1stenWuQd2Q7sbrd2RvQ9nV1IprH30TW3YF+y/zQqPKwsf2usKij77SZhLIR0BW8FTNxpiwfx88vfRDZehRivbKxvAGEpAkQIFDEpRDzShwuBOMfAIHj4l1Jz60hAS0Cei+aImHwcMHfQoLV22GKKopCmBG8SIt+l64ahO2NbSgS20lRg/ujuXrtuHiuxZYFRS0AUd0Y/aKY2ZryIOvrsauPFtiOlRV4NwjBhStGSJrpokTP5gODugKi7JxYjsScIHAyQf0wUtvb2wnUovvrsl1AzFl/PCCNYwytutkOokaSY0t6lsDoxbtXYgHbYgfAQoc/sWUAocbMRsBYEXalO8BEFtTxCVOWhHCRwcAPwDw4zzmDgHwbvrvLwYgTmMxcfEUFRMU2QcJAClxQvXkkg5V5Tjr8AF49LX393pwnVRn5kU6KDiZDI8H61djZ1NrUPNYfi5Epk41ldJij+yKaSFYMttQZEAzHRzQFRZl+LINCbhAYNLhA/CL8w9P/cbkitSyJ0LZ/HfCDA4XZg1tUCVAgUOVWOnbU+CIPgaCcbGjSMTnDwKYlC4yemD6pJWMZTMBfBnAWgAHANiSY/JtAL4BYBsAIXaII2hNXBQ4TFBkHySQJqCaAlxdWY6mIitkYV+kVQIzZ8kHmDrzVZVbYtP22rMPws+fXK6UyaK7RURlH7wM4KS/TIiXviN+/KTWSrMMX7YhgVIS0P2eybVZN9NJNYuDomspZwvHDkOAAkcYeqW5lwJH9NyHArgfwB8APAlgZVrwEKenjAFwDQCxFUVctwOYlmPSMACL09kczwO4JF2QVGR3iBod4n4Rx+kAbjToDgUOgzDZFQmovLwGqaIZmqYecLOjk+/4UbHCN+2e+kQGccL+vfH0UpFIp3bpbBFRFcGCLGI6OHDxXfPxjEb8gtjycxIoJQGTArduBodqHQ6d78RSMubYJJAhQIHDv7lAgSP6mAmBQ4gamasxnW3RBUBN1t+LrSVTALTkMel0AA8A6Jj+TGRxdAZQkf7zXQDE9pRimSKqnlLgUCXG9iQQQEBm+0FQ5kbuEKYeGosdPzp2eE88o1FQzvcJ0bG6Amhrw06NY2hVVyt19sEH8U16Bofgs2ztVpx6i1gb4EUCfhEQAsLL7+jX1pD1VmcLpfh+mz3tWJw34yWp7LYoxHhZ/9iOBMISoMARlqD9+ylwRM9c1M8QWRdHAzgcQG8A3QE0AFgN4EUAdwJ4IcAUUadDZGmcAmCftEgillTvSG9xMe0JBQ7TRNkfCQAodHKJeGD87KH74G+vvY9dzfL1LlRfpPMFQUZ4SWLwVFcocxmpCAy6q6iF4mJiXsQl5lNnvoI5S9bFxR36kRACIgNr/Mje2rU1VDCpZo9lhHWZ3w6T2SYqPrEtCZgiQIHDFEl7/VDgsMfat5EocPgWMdrrFYF8ReHq39uEC++cr+yHyot0bucqW2eUDfP4hk41FTj1wL6YvfB9bS9Utojo7oMvZFym+KC28TG6UczxM371PLY25EuQjJGjdCVWBMJ8r6uCUPkdyM3GKCbay57komov25OATQIUOGzSNjMWBQ4zHOPYCwWOOEaVPjlNQPclV+VFOheA6sqdbYDiYXrssB5ersDnvqDkq2+SOenAdAZH19pK3HXxGNQNFgmDvGRWmkmJBFwhUIoMLJl/I8WyMcKc5OIKd9pBAvkIUODwb15Q4PAvZrYspsBhizTHIYE0Ad2XXN2VvijqPpgM5vj9euG6SYekujzz1nlSe71Njh+mr+wXlGL1TTJH/nbvVK18lHCQfdz33p6QiMP0B1/Hi29vDELHz0mgpARM1VZSdYLZGKrE2D4JBChw+BdlChz+xcyWxRQ4bJHmOCSQJqBb7O2f/3MyMpkAKjB1BZV8Y4gX+jMP2wd9utbg98+vxM4m+ToihWzOFm4ef2MtLr13UdGjc1V8j7qtzh712fWrMevlVUZNK9WLklEnDHUmVqi/+scF2LKr2VCP7IYEzBNwQZhkNob5uLJHfwlQ4PAvdhQ4/IuZLYspcNgizXFIIIuA6paRMC+wulticgNWW1WOf1x5Ykp8MJVpkZ0BIZM67dIkyrygCJtkeXTrUIXfXXgEpsx81WimSilS3V2KRcYWlRoDLtpPm5JBgAU5kxFneukXAQocfsVLWEuBw7+Y2bKYAoct0hyHBLIIqLyIhV3pM5nBIbIt5iz5wFgGQka4UeHhwkTKfkG57N6FeHiRfJHSkX074/JTRuLKv7yObQYLYspuYcp6iFNG+cc//hEXXXQR3n33XQwbNmyv+8vLy9GlSxfsu+++mDBhAr75zW9i8ODBUuNs374dM2fOxJNPPomFCxdi48aNaGhoQLdu3TBixAgceeSROOuss3DSSSehsrIyb58Z4bBtdyt2LnsRu96ej8b3l6F15xa0NTeivLYTqroPQM2gA9HpwBNQ3Vuc8N7+avxgBZrWLkeT+O+6t9G04T2gtQUVXftg4DfEYWi8SECPgBAiWZBTjx3vIoGoCVDgiJqw+f4pcJhnGpceKXDEJZL0wzsCMhkLJlb6dLbEFIJ58+cPww8efgM7DGxNyRZuVDNaShns6ooyzPraWIwZ1hPzVqzHl3+vfiJOtw6VOGzQpzB3+QZjrsgWoe3Xr1/eMYXAsGPHjtRnffv2zdvmlltuwXnnnddO4OjatSs6dBAnpQPNzc346KOP9tzbqVMnPPDAA/jMZz5T1M8777wTV155Zbt7q6ur0blzZ2zZsgWtrZ9shRLCyowZM3DyySe36zNTa+ajlUuw4bFfoOWjNZ98Xl6J8uoO2N24A2jbvefvO448Br3OuhJlFVV7/m717RejdeuHe9lLgcPYVE1UR98+aV8c0L8rutRWYvTg7lrbDBMFjM6SQIkIUOAoEfgQw1LgCAEv5rdS4Ih5gOme2wRsFXszJSBcdeoo3DhnWWio2cKN60VQ8zkrsjB+cs7B+OpdC7CjMXwdktBAAchmcBQa65prrsGPfvSj1MdtbamfhoJXdgZHJqsj03jnzp24//778d3vfhebN29OZWC888476NGjR97+pk+fjhtvvDH12QEHHIDvfe97mDhxIgYOHLjHlrfffhvPPPMMfve73+GVV16BuOeGG25o15/IVPqP7/8a6x++AWhtRnmHrug6ZhKEiFHVY8DHfe1uRdO6d7Bz+QvYVv8Y2pp2YtB37kV5bec9fa2ZMQVlVbWo7jsCNf1GpDJAdix5lhkcJiZpAvsI++8ygcjoMgmUhAAFjpJgDzUoBY5Q+GJ9MwWOWIeXzvlCIOpibya2gIj06h+fczAuv/81baz5UrRNbqHRNkzjxsryMrTsLi4EaHSrdYuJGhymBI6MA2K7yYUXXpj64x133IEpU6bs5dusWbNwwQUXpP7+i1/8IoRYIjI3il1/+9vfsGrVKnzrW99q1+x3j76AqedOTIkWVT0Ho8/nr0Vl114Fu2rdtQ0b/34Lep1+WTuBQ4ggZeUVe+7bPO8ebHnh/yhwaM1M3nTP18bi2H0Lz0MSIgEScIMABQ434qBiBQUOFVrJakuBI1nxprcJJiCzJaYYHlEv45QD++LCO9W3ZIg07THDerRL0RaZGwtXbcbct9anTmThpU8gTBHazKimBY7169ejT58+qe4vvfRSiO0t2VdjY2OqtsaaNWtw2GGHYf78+YHiRjFCJ51+Dp79+19RVlmN/l/99Z6sjSCqIlulWF0SChxBBPl5MQJhayiRLgmQgB0CFDjscDY5CgUOkzTj1RcFjnjFk96QQFEChbbEBGHLPKR371SNsdc9pVSDIze7QNhwx9y38VD9GqV+gmxM6uemXqCiFDhEsdFbb721XYjuu+8+nH/++am/u/fee1O1PXSvt99bjZHDh2D37t3ofOhE9PzMpbpd7XUfBQ5jKBPbkQkBMrHw6DgJWCJAgcMSaIPDUOAwCDNmXVHgiFlA6Q4JyBDIbIl5ffUW3P7cCmwvUkcit9Cpaj2P7If7sFkkMr4lqY2JIrQZXqYFjrvvvhtf+cpXUt3ffPPNuPzyy9uFRmxZETU1KioqUrU6REFR1Ssjlv3x7nvw/kM/Td3e+z9+iI4jjlLtqmB7ChzGUCa2IxNbyBILj46TgCUCFDgsgTY4DAUOgzBj1hUFjpgFlO6QgCoB1UKnKvU8srMLVO5T9SFp7fPVMsls+RHiVeeaStQN+fjEhkJ/n8vMlMAhioyKk1Muu+yylHBRU1ODlStXon///u2G/PSnP40XXngBI0eOxLJl6oVrs8WyzXNnYstL96X6HzDtT6js0tPYlKDAYQxlojtisdFEh5/Oe0CAAocHQcoxkQKHfzGzZTEFDlukOQ4JOE5ApdCpTCZG2MwPx3GVxLxjR/TEf54wol0tk0JbfjpUlWNQj47490e7sKv5k5NehDgyqW4Apo4fkfo8I4Dc8Ysb8Off/jzll8opKsWOia2qqoIoNppv+4k4MWXp0qUYN24cXnrppbw8RRbIVVddtddnu9vasM83Z2LzzubUZxufuA3bFz6W+v+Dr5idqsNh6qLAYYpksvuRPcY52ZToPQmUjgAFjtKx1x2ZAocuufjfR4Ej/jGmhyQQCQGVzA8fj4KNBJqBTs87ahC+deK+KXFCRmgqNGTX2kocPaIn5r21IVULJfMiL9r/z0Ov7xFA8t2ffUxsof4HDx6MOXPmYP/998/bREbg+O1vf4tvfOMbee8fMv3RPX+/cc5vsH3R3ylwGJhf7CIaAszgiIYreyUBUwQocJgiaa8fChz2WPs2EgUO3yJGe0nAMQIymR++HgXrGOo95nSqqcB15xyMax55c08WQ1hbswUOIR4Uq++RLXCIo10vuuii1PBbt25FfX09rr766tT2E5Gd8eSTT+atr6GzReWuu+7CV7/61dRY2QIHt6iEjT7vj5IAa3BESZd9k4AZAhQ4zHC02QsFDpu0/RqLAodf8aK1JOAlgccWr8W0e+q9tD0pRucKHMLvrrUV+OGZB6NDdUW7uh6FBI4MK1GHY8yYMViyZEmq0KgQJnIvnSKjhQSOHW/+AxseuSk1BIuMJmXG+uMnT1HxJ1a0NLkEKHD4F3sKHP7FzJbFFDhskeY4JOAJAdmilCruMINDhVZp2uYTOHItydTvOH1oJY4dfWDq4+wMjuz2zz77LE466aTUX4lsjmOOOaZddzrHxBYSOFp3bMLq33wFaOMxsaWZPckatUttJdraAJG9FnSZOsY5aBx+TgIkEI4ABY5w/EpxNwWOUlD3Y0wKHH7EiVaSQOQEChWrzC1KqWOIeBEYe91TqVoPvNwkICNwZCzv2LgR//rlx0fAFhI4xGcnnHAC/vGPf0BsR3n++efbOd7Y2Ijhw4fj/fffx2GHHYb58+ejurp4cdBCAofoeP3DN2Dnsnkoq6xB/6/+ClU9BkiBFgVVsx5s97qHRUalMCaiUfbpReu3N+LiuxYU3SJm8hjnRACmkyRQQgIUOEoIX3NoChya4BJwGwWOBASZLpJAEAGZYpUqD+v5skBu+Pu/MOvlVUGm8PMSEVAROFq2rMOa314SKHCI+hsTJ05MtXviiSdwyimntPNu1qxZuOCCC1J/96UvfQl33nlnUZGjmMDR/NEarP3TZWhr2oWqXoPR5/PXorJLr4I0Wxu246O//wo9P3Mpyms7F2xHgaNEE7LEw552cD98d8J++HB7I7Y1tEBkbYwe/PHRy5lLpdByid3h8CRAAgEEKHD4N0UocPgXM1sWU+CwRZrjkICjBMRD+pm3zpMqVhmUbl0sC+SUA/vimaUfYmtDcFq3o6hibVYUAocAJmpxLFiwAGPHjsXLL7+8F8Pp06fjxhtvTP29OFnliiuuwKmnnoqBAwfuafvBBx+kipXedNNNWLx4cervs4uMZhruXP4S1v/tp0BrC8o7dEXXMZPRcdQxqOq+T6pJ2+5WNK9/F6Ldtlcfwe7GHRj0nXvbCRy7mxvQ1ty4Z+yt/3wQW+fPRkWX3uh/0S/b2V/RsVus50TSnKsqL8P4kb1x1amjMKp/V2n3ZQotS3fGhiRAAiUhQIGjJNhDDUqBIxS+WN9MgSPW4aVzJBBM4OqHFytlVhQqmCeTBdK5pgJAmdTe9WDL2cIkAV2B4/YZv8d/fv3jbI5818MPP4xJkyalPnr00Udxxhln7NXsD3/4A6666ip89NFHez6rqalBly5dIAqWiv9lrmHDhuGK7/8Qt/+7X9551LD6TWx87Bdo2bT2k3EqKlFe1SElaIg6HR9fZeh4wHj0OuO7KKv4ZFU+m0MQ33wiS9A9/NxNAlUVZZg3/ST07VrrpoG0igRIIFICFDgixRtJ5xQ4IsEai04pcMQijHSCBPQIiK0k465/Wqk2Rr4jD1WyQESq98kH9MUTSz5QGlfPQ94lS0BX4PjvG36F66d/u+AwosbFoYceijfeeAN1dXV49dVX87bdvn077r777lSmxqJFi7BhwwaIOh3dunXD0KFDcdRRR+Hss89ObXNZs7kBE3/xD+xqzogV7bsUmRo7l87DrrcXoHHtMrTu2IK2liaU13REVc+BqBl0CDofdGLq/+deFDhkZ0y82p1/1CDccO6h8XKK3pAACUgToMAhjcqZhhQ4nAmFc4ZQ4HAuJDSIBOwR0D3dZOYlY3Dcfr33GKqTBTL9M/tj4arrVZgtAAAgAElEQVRNqf3t727YgRvnLLPnOEcyRuC2L9Xh9EP6G+tPpqOpM1/BnCXrZJqyDQkEEqiuLMfTlx+PQT06BrZlAxIggXgSoMDhX1wpcPgXM1sWU+CwRZrjkICDBB5bvBbT7qlXtiz7pdZEFoiuHcqG8wbjBHLFLuMD5HS4dO1WnHZL+xNZoh6T/cebwG+/XIfTDrYr0sWbKL0jAf8IUODwMGb+mUyLLRGgwGEJNIchARcJmMjgKGUfLjJNkk3Z25XynZyTfeKEKS4X3zUfzyxdb6o79pNwAl8YMwj/32RuTUn4NKD7JJB9XDgTAzyZDwyUJ4EqgZkUOEoAnUOSgCsERPX/sdc9pVQLI7cGh272RXYWiI4drjBMsh2i4OyU8cNxx9y38VD9mnbzqGNVOcaN6IkTRvXB0J6dUDek/RGbOtyEiHLkT55CY0v+2hs6ffKeZBMQhY/vvmQs6gZ3TzYIek8CCSfADA7/JgAFDv9iZstiChy2SHMcEnCUgE79jB+fc/Aeb0xkcIjOVO1QwSlEmR1NrSq3sG0AgU41FbjunENwzSNLpI4Y7lhdgXHDe+LEUb0xRFPw0J1rDCYJFCMQdPw16ZEACcSfAAUO/2JMgcO/mNmymAKHLdIchwQcJaByAkq+FwGd7IuwJ7GooJywf59UEcwrHnhN5Ta2jZiAmAOT6gZg6vgR0sUddbOFInaF3ceAQKHjr2PgGl0gARKQIECBQwKSY00ocDgWEIfMocDhUDBoCgmUikD9qk24+K4FRVfihbhx50VH5U3lVs2+KPQyIWOHCiORNTD/f06GWPnXKaaqMhbb6hEoNq9ye2QGhx5j3hVMIJ/oGnwXW5AACcSFAAUO/yJJgcO/mNmymAKHLdIchwQcJyAyOWbMfQez61e3284hHvwn1w1M1VoodIxi2CyQbDSir58/sRwPLVoTmlhGSOGLcWiUkXYgu0VAJ1soUsPZeawI2D4RKFbw6AwJeE6AAod/AaTA4V/MbFlMgcMWaY5DAp4QEC+RC1dtwraGFnSprcTowXLFIWWyL1RW619YsQFTZ76C7Y16tTOyX5r5Yuz+5JPdIqCaLeS+57TQFQLZhY9dsYl2kAAJ2CFAgcMOZ5OjUOAwSTNefVHgiFc86Q0JlJRAmCyQfIYX6i/IyXxCCl+Mg6iV9vOaynLMvepE9O1aW9QQMSdOv+V5bGtsKa3BHD12BJjBEbuQ0iESkCZAgUMalTMNKXA4EwrnDKHA4VxIaBAJ+E9ANwukkOe5/fXpUotZL7+ntJ1GZRuN/xHw04PaqnL8xxEDAwuP/sftL+KV9zb56SStdpIAa3A4GRYaRQLWCFDgsIba2EAUOIyhjF1HFDhiF1I6RALJIaAqpMhso0kOPXc9LbaVaVtDM4748ZNoak39fPEiASMEZLdIGRmMnZAACThHgAKHcyEJNIgCRyCixDagwJHY0NNxEkgmAd1tL8mkVTqvCxUevXPeSlz76JulM4wje0OgurIcTS27A+2VLXIb2BEbkAAJeEuAAod/oaPA4V/MbFlMgcMWaY5DAiTgFIFM9sf6bY34/uzFaJB4EXLKgQQYk7uqLsSp0345t90pPwnAQBc1CAjR4obJh+C/Zi/WPv5aY1jeQgIk4CkBChz+BY4Ch38xs2UxBQ5bpDkOCZCAswRYgNTN0OTWRWCc3IyTa1Zlb3EyXfjYNV9pDwmQgBkCFDjMcLTZCwUOm7T9GosCh1/xorUkQAIREGAB0gigGuoyc7KFqL0x7vqnmb1hiGscuxGC2OS6gZgyfjgG9ejYzkXVej1x5EOfSIAEChOgwOHf7KDA4V/MbFlMgcMWaY5DAiTgNAEWIHUzPLd9qQ6nH9Ifc5evx4V3znfTSFplnYA4VnjS6AEYM6wHaqsq0KW2EqMHd0fnmkrrtnBAEiAB/wlQ4PAvhhQ4/IuZLYspcNgizXFIgAScJ5BJZ7//lX+jkTU5nIjXhP1745qzDsbiNVsw7Z56J2yiEaUnMOOCIzDxoH6lN4QWkAAJxIIABQ7/wkiBw7+Y2bKYAoct0hyHBEjAGwJzlnyAqTNf9cbeuBsqaipcetJ+PD0l7oGW9C+3NovkbWxGAiRAAgUJUODwb3JQ4PAvZrYspsBhizTHIQES8IaA2K8/9rqnWO/BoYh161CJrQ0taEv9avFKMoHc03WSzIK+kwAJmCFAgcMMR5u9UOCwSduvsShw+BUvWksCJGCJAE/ssASaw5CAAgGRzfPItz69VxFRhS7YlARIgAT2IkCBw79JQYHDv5jZspgChy3SHIcESMArAjxZxatw0dgEEMg+/jUB7tJFEiABiwQocFiEbWgoChyGQMawGwocMQwqXSIBEjBDQJysct4dL6G5lfsizBBlLyRQnEB1ZTkqyoBdzbv3NCx2/Ct5kgAJkIAJAhQ4TFC02wcFDru8fRqNAodP0aKtJEACVglsa2jGET9+Ek0UOKxy52DxI1BdUYbdbW0odjhRJkNjZN8uWLhqE7Y1tPD41/hNBXpEAk4SoMDhZFiKGkWBw7+Y2bKYAoct0hyHBEjAOwJzl6/HhXfO985uGkwCLhEQGRgzvzYWvTvX4DfPrsDDi9aggRkaLoWItpBA4glQ4PBvClDg8C9mtiymwGGLNMchARLwjsBji9di2j313tlNg0nAFQLHj+yFn5xzSLuioOKUImZouBIh2kECJCAIUODwbx5Q4PAvZrYspsBhizTHIQES8I4AMzi8CxkNdoRAOYAHv3E0Rg/p4YhFNIMESIAEChOgwOHf7KDA4V/MbFlMgcMWaY5DAiTgHQGx0nz4j55Ay24WGfUueDS4pAQuGDcEPz7n4JLawMFJgARIQJYABQ5ZUu60o8DhTixcs4QCh2sRoT0kQALOEBBFRkdf+yQFDmciQkN8INClthKPXXpcu20pPthNG0mABJJLgAKHf7GnwOFfzGxZTIHDFmmOQwIk4B0BblHxLmQ0uMQEOlZXYNbXxqJucPcSW8LhSYAESECeAAUOeVautKTA4Uok3LODAod7MaFFJEACjhBgkVFHAkEzvCAwfmQvXJdTUNQLw2kkCZBA4glQ4PBvClDg8C9mtiymwGGLNMchARLwjgAzOLwLGQ22TKCyHDh2RC98//QDMKp/V8ujczgSIAESMEOAAocZjjZ7ocBhk7ZfY1Hg8CtetJYESMAiAVFkdOx1T2FHU6vFUTkUCbhLYOrxw9GtQxX6da1F7y41GD24OzrXVLprMC0jARIgAQkCFDgkIDnWhAKHYwFxyBwKHA4Fg6aQAAm4R+Dqhxdj1surpA07fmRv/GP5eun2bEgCvhDoVF2Bf/7PyRQ0fAkY7SQBEpAmQIFDGpUzDSlwOBMK5wyhwOFcSGgQCZCASwT+/dFOnHnrPGze2Rxo1qc6VuG+KUdj8m0vMOsjkBYb+EaAR7/6FjHaSwIkIEuAAocsKXfaUeBwJxauWUKBw7WI0B4SIAHnCNSv2oSL71pQVOQQ4sadFx2VOj1CNevDOYdpEAnkEBDbUh799qd59CtnBgmQQCwJUODwL6wUOPyLmS2LKXDYIs1xSIAEvCYgMjlmzH0Hs+tXt8vOEGn7k+sGYsr44Xte/lSyPsQPdOqLmBcJOEqgurIc904Zx6NfHY0PzSIBEghPgAJHeIa2e6DAYZu4P+NR4PAnVrSUBEjAAQKi8OjCVZuwraEFXWorCxZZlM36uGHyIXhhxca9hJPaynIcM6Innlu+HrupgDgQ+WSaIMSNWZeMwZhhPZMJgF6TAAkkggAFDv/CTIHDn5h1AXAFgHMBDAMgSvcvB3AvgF8DaDLsCgUOw0DZHQmQAAlkCKhkfRQSTh5/Yy2+MaueWR6cVqEJ9O5Sje0NrdjVLHcqULcOlfjjV8cwcyM0eXZAAiTgOgEKHK5HaG/7KHD4EbMhAJ4DMDRt7k4AFQBq0n9eCGACgE0G3aHAYRAmuyIBEiCBfARksz4K0RMix6X3LkJTy24CJgFlApVlwM8+fzjOGT0A2XOxobkV81d+hEdeez9w25XyoLyBBEiABDwiQIHDo2ClTaXA4X7MhJAhBIxDAKwFcCGApwCUA/gcgN8BENkdfwdwukF3KHAYhMmuSIAESCAqAiIb5DfPrsDDC9eggUJHVJhj1a/Y5iREjW+euG/R4qBhBbhYQaMzJEACiSRAgcO/sFPgcD9mlwD4fdrMYwC8lGPyFwD8Of13JwN42pBLFDgMgWQ3JEACJGCDQOZl9Pr/9y/864NtNobkGI4TKC8DjhnRC1dMHJnK0AiqD+O4OzSPBEiABKwToMBhHXnoASlwhEYYeQdzARwH4FkAJ+UZTcTw7XRdjrsBfMWQRRQ4DIFkNyRAAiRgk4DI6Dj1l3Oxs0munoJN2zhWtAQ6V5dj7PCemHBA31RmxujB3dG5pjLaQdk7CZAACcSYAAUO/4JLgcPtmHUEIJbhxHaUqwDcVMDc2wB8A8AHAPobcokChyGQ7IYESIAEbBMQJ7VcdOd8bG1osT00x7NMoLaqHF89ehi+OWFfihmW2XM4EiCB+BOgwOFfjClwuB2zIwC8kjZR1NcQdTbyXdMA/Cb9gTiv7SMDblHgMACRXZAACZBAqQhkTmp5sH41szlKFYSIxh3VtzNOGNUHF396GPp2rY1oFHZLAiRAAiRAgcO/OUCBw+2YnQngb2kTDwPwegFzzwbwcPozUYz0DQm3UgJG0NXWJtUsqBt+TgIkQAIkUCICmdoc727YgeeWr8cLKzagoZmnrpQoHNrD7turE6adtC8mHtSPmRraFHkjCZAACagRoMChxsuF1hQ4XIhCYRu+COCe9Mf7AVhRoOkpAJ5If5avEGm+26SUCwocbk8QWkcCJEACqgSE4PHEkg9Sp66Io0B58ooqQXvtq8qAaSfui68fP4Kihj3sHIkESIAE9hCgwOHfZKDA4XbMohQ4gjznFpUgQvycBEiABDwnkH0MaKU4cqMMaGltQ2VFGRqaWrHk/a14Z/12rNncgKVrt4J5H3YC/qmOVbhh8qE47eB+dgbkKCRAAiRAAnkJUODwb2JQ4HA7ZlFuUQnynAJHECF+TgIkQAIJIpARQ9Zva8Ti1Vvw7NIP8e5HOxNEwKyrvTtX4dIJI1FTVY4XVmxEY8tujOrXBV8cM5h1NcyiZm8kQAIkoE2AAoc2upLdSIGjZOilBmaRUSlMbEQCJEACJFAKAkL0+NuiNfjjvHfx1vrtpTDBuzHPOqw/rjx1/9QxrrxIgARIgATcJkCBw+345LOOAofbMeMxsW7Hh9aRAAmQAAmkCWRneDyxZB0eXyJOLk/WJR6qaqvK0Km6Ct07VaFucHf0+1QHDOnREb271GD04O6spZGsKUFvSYAEPCdAgcO/AFLgcD9mcwEcB+AZABPymCtiKIqPDgdwN4CvGHKJW1QMgWQ3JEACJJBEAuKY2t88uyJVzDSuhUx7dqrEF8YMxtjhvSheJHGS02cSIIHYE6DA4V+IKXC4H7NLAPwegBAcjgbwzxyTPw/gvvTfnQzgaUMuUeAwBJLdkAAJkECSCWQXMu1SW9lOCBAFTK99dAn++c5G7GqWOtzLOsqOVWUY0acLjhzaA0eP6IljRvRiFob1KHBAEiABEigNAQocpeEeZlQKHGHo2bm3EkA9gEMArElnaAgRoxzAuWnxoyuAvwM43aBJFDgMwmRXJEACJEACegQef+N9fO/+17C9yfwZLuKH9NCBXXHCqL74wlgW99SLEO8iARIggfgSoMDhX2wpcPgRs6EAngUg/isuUbZePJfVpv+8ML19ZZNBdyhwGITJrkiABEiABEiABEiABEiABPwiQIHDr3gJaylw+BOzLgC+B2AygGEAxFLWcgD/B+DXAJoMu0KBwzBQdkcCJEACJEACJEACJEACJOAPAQoc/sQqYykFDv9iZstiChy2SHMcEiABEiABEiABEiABEiAB5whQ4HAuJIEGUeAIRJTYBhQ4Eht6Ok4CJEACJEACJEACJEACJECBw785QIHDv5jZspgChy3SHIcESIAESIAESIAESIAESMA5AhQ4nAtJoEEUOAIRJbYBBY7Ehp6OkwAJkAAJkAAJkAAJkAAJUODwbw5Q4PAvZrYspsBhizTHIQESIAESIAESIAESIAEScI4ABQ7nQhJoEAWOQESJbUCBI7Ghp+MkQAIkQAIkQAIkQAIkQAIUOPybAxQ4/IuZLYspcNgizXFIgARIgARIgARIgARIgAScI0CBw7mQBBpEgSMQUWIbUOBIbOjpOAmQAAmQAAmQAAmQAAmQAAUO/+YABQ7/YmbLYgoctkhzHBIgARIgARIgARIgARIgAecIUOBwLiSBBlHgCESU2AYUOBIbejpOAiRAAiRAAiRAAiRAAiRAgcO/OUCBw7+Y2bKYAoct0hyHBEiABEiABEiABEiABEjAOQIUOJwLSaBBFDgCESW2AQWOxIaejpMACZAACZAACZAACZAACVDg8G8OUODwL2a2LKbAYYs0xyEBEiABEiABEiCB/7+9M4H/76vn/OtBQ6Rsg8HQQmOZjCljCdVQlkKmRYRExlomVEIohjEkUWPPUqIsJQYh7YNhUNahUhoZSyhbROTx9Dunx3mc7mf93vv53Hs/z/N49Oj/+37uPcvzfe+557zO+7yPBCQggdkRUOCYnUl2VkiBYyeii71AgeNiTW/DJSABCUhAAhKQgAQkIAEFjuU9Awocy7PZqWr8zwKHSQISkIAEJCABCUhAAhKQwIUTcN68kAdAQy3EUGeopgLHGaBbpAQkIAEJSEACEpCABCQwOwLOm2dnkuEKaaiFGMpqLoJAFYV8rxZhrr0rqV33RrWoC7Xrosy1d2W1696oFnWhdl2UuQ6qrLY9CNdiLtauizHV+irqRGx9NrVF5yNgZ34+9lOWrF2npHu+vLXr+dhPWbJ2nZLu+fLWrudjP3XJ2nZqwufJX7ueh7ulJlHg8DGQwHgE7MzHYzmnnLTrnKwxXl2063gs55STdp2TNcari3Ydj+XcctK2c7PIOPXRruNwNJcjCChwHAHNWySwgYCd+TofDe2qXddJYJ2t8n3VrusksN5W+c6u07badZ12XUSrFDgWYSYruRACduYLMdSB1dSuBwJbyOXadSGGOrCa2vVAYAu5XLsuxFBHVFPbHgFtAbdo1wUYaa1VVOBYq2Vt1zkI2Jmfg/r0ZWrX6RmfowTteg7q05epXadnfI4StOs5qJ+mTG17Gs6nLkW7npq45b2GgAKHD4MExiNgZz4eyznlpF3nZI3x6qJdx2M5p5y065ysMV5dtOt4LOeWk7adm0XGqY92HYejuRxBQIHjCGjeIoENBOzM1/loaFftuk4C62yV76t2XSeB9bbKd3adttWu67TrIlqlwLEIM1lJCUhAAhKQgAQkIAEJSEACEpCABLYRUODw+ZCABCQgAQlIQAISkIAEJCABCUhg8QQUOBZvQhsgAQlIQAISkIAEJCABCUhAAhKQgAKHz4AEJCABCUhAAhKQgAQkIAEJSEACiyegwLF4E9oACUhAAhKQgAQkIAEJSEACEpCABBQ4fAYkIAEJSEACEpCABCQgAQlIQAISWDwBBY7Fm9AGSEACEpCABCQgAQlIQAISkIAEJKDA4TMgAQlIQAISkIAEJCABCUhAAhKQwOIJKHAs3oQ2QAISkIAEJCABCUhAAhKQgAQkIAEFDp8BCZyOwA2SfEaSj0xy0yT8+6VJnp/kmUm+LsnLT1cdS5qAwOcn+comX/vYCSBPmOWbJ7ljktsmuUWSGya5TnlPfzHJo5P80ITlm/XxBK6f5H5J7pLkxkn+Icnzkjw+ySOT/N3xWXvnGQj4Lp4B+hmL9Nt5RvgjF+1Yd2SgZnc4AQffhzPzDgkcQ+ADkjwuyVuVm1+V5K+SvEmT2c2TPPeYzL1nFgTeqdjvugocs7DHMZX4+yJo1Hv/tkyUr9dk9uQkd03yimMK8J5JCCBEPSPJjUru2OZ1k7x++fdzimj1sklKN9MpCPguTkF1nnn67ZynXY6plWPdY6h5z+gEFDhGR2qGEngtAu+X5ClJ3iDJTyd5SJKfS/KP5W/vmuROSb49yYvkt0gCr5PkWUmwNba9ZWmFfeyyzPnqJL+Q5LuS/GSSF5bqM3H+oiSfXP792CT3WFbTVltbhAwEjHdL8gdJPqH0s7yTH5Xk25Lg3YEwdYfVUlhfw3wX12fToRb57VyPnR3rrseWi2+Jg+/Fm9AGzJzAGyb5tSQ3SfKEJHcrwsbMq231DiRw37LF6HuSvCDJgxU4DiQ4j8tZfXr6lqp8c5JPK7+/fZLfm0e1L7oWiE6PKgTetwiMLZC7J/ne8ofbJXnqRdNaTuN9F5djq6vU1G/nVejN517HuvOxhTVJosDhYyCBaQkwGWJS9DdJmBD9ybTFmfsZCLDfHxGL7QzvkuTeChxnsMJpinzP4uFBaXc2HsdpoO8oBc+pWxVh6gMHrmWc8zslLsdjktxzFrW2Elcl4Lt4VYLnv99v5/ltMFYNHOuORdJ8RiGgwDEKRjORwEYCP5OEVUUC3bGSaFofAbYdEZSSiRMTKLYg6cGxPjvTIrZB/GppGtsffnCdzVxMq1g1/MskuLl/XpKHbqj5N5YAz3+Y5K0X0zoruo2A7+Lynw+/ncu3YW2BY9312HIVLVHgWIUZbcRMCRDg7i+SvF4ZXP9Ukgcl+ZAkb5GEgHc/Xzw82B9uWh6BT0nyrWXP/weV6itwLM+O+9b4s5I8olz8zkl+e98bvW4SAu+RhNNtSMTX2NSPfmaSbyjXcTrHn01SGzM9JQHfxVPSHr8sv53jMz1Xjo51z0XecjcSUODw4ZDAdASIDP5bJfuvSPLZSTiNgeMKifLfnqDCNhaOkDUth8DbJvmNImDdrAlIqcCxHBseUlPe198sHgDPTnLrQ2722kkIfESSHyk5v3vjXdMXxtHcTyp/ZOX/1yepjZmeioDv4qlIT1OO385puJ4rV8e65yJvuQocPgMSOAOB92kC3nFiCt4ciBgEG+UIvLdL8tVJPqbUDQHk689QT4s8jsCPJvmwJA8sdqy5KHAcx3POd7EF4oeTfHiSVyZ57yS/MucKX0jdPjYJgX1JNy0BfoeajncVHnSkoUCkF4JrFc30XVy+Gf12Lt+GbQsc667LnqtojR4cqzCjjRiRwCcm+c4r5Hf7JD/RDKTZl1gTQsb3dXkzWMPF+uYlACn7w191hfK9dZjAmHalhI9P8t1JnpuEYHetzRQ4TvcUjm3XTTV/ZJL7lB85teM7TtdES9pCQIHj8h4P38Vl29xv57LtN1R7RGPHuuuz66JbpMCxaPNZ+QkIjDlhaoOgcZwkp6gMpY9L8tjyA0o4cTlM4xIY065vWbYq4CaNvWoMgFpjBY5xbbcttzHtuqmcr0lyv/Lj55TjgE/XQkvaRsAtKpf1fPguLtvefjuXbb9NtXesu067LrpVChyLNp+Vn4AAwZKuf4V8/7xsPyGLN0vypyWvpyT54A353iLJL5XfPjrJ91+hfG8dJjCmXfHwYWL9TeXkhr7EL0zyBeWP9Vki7gr/M41LYEy7DtWMLWQPKD/w/0ywTPMhYJDR+dhi6pr4Lk5NePr8/XZOz/gcJTjWPQd1y9xKQIHDB0QC0xJ4SRICarH/m9NThlI7SL9bkh+YtkrmfkUCz0hymwPzILYKMVZMyyHAkaP3L9XddgTpclq0vpp6TOz6bDrUIt/FddjZb+c67DjUCse667XtIlumwLFIs1npBRFgr/4nJWGLyg2TvHqg7nVPKj8Rz6Hf8rCg5l5EVR2krd/MrSu84sa87f2sJLdK8rQktx2oKuOcFyS5SZLHJLnnvJtj7ToCvovreST8dq7Hln1LHOuu17aLbJkCxyLNZqUXRICBNwNw0t2TPL6rextk9PdLnA5OXDEtl4AxOJZrO2reTqjw4HjYspuz+toT9PVRRTy+5UAMI7zianDn2yV56uqJrKeBvovrseU+LfHbuQ+leV7jWHeedrnYWilwXKzpbfgJCbDl5K5JXp7k05M8ccMxscR1ePQJ62VR0xBwkDYN11Pk+lVNXJXPTfLwUxRqGVcicJ0kv5yEQHeIxHhoIGIgHt+liB83SPLkJHe4UknefEoCvounpD2Psvx2zsMOx9bCse6x5LxvdAIKHKMjNUMJvBaB6yX58SS3Lr+8Mskrkrxpc+WXJXmw7FZBwEHaMs3IKUcvLlXHi+qlO5rB6rJBR+dh6xsleXoS/p9E/4rAcd3y7+eU7Ssvm0d1rcUOAr6Ll/mI+O1ctt0d6y7bfquqvQLHqsxpY2ZMgMH2vZLcI8nNykktf5zk2UkemeRnZ1x3q3YYAQdph/Gay9VMjl90QGW+NAm2Ns2DACcWsaXozklunASR6nlJHlf6WE8xmoed9qmF7+I+lNZ3jd/O5dvUse7ybbiKFihwrMKMNkICEpCABCQgAQlIQAISkIAEJHDZBBQ4Ltv+tl4CEpCABCQgAQlIQAISkIAEJLAKAgocqzCjjZCABCQgAQlIQAISkIAEJCABCVw2AQWOy7a/rZeABCQgAQlIQAISkIAEJCABCayCgALHKsxoIyQgAQlIQAISkIAEJCABCUhAApdNQIHjsu1v6yUgAQlIQAISkIAEJCABCUhAAqsgoMCxCjPaCAlIQAISkIAEJCABCUhAAhKQwGUTUOC4bPvbeglIQAISkIAEJCABCUhAAhKQwCoIKHCswow2QgISkIAEJCABCUhAAhKQgAQkcNkEFDgu2/62XgISkIAEJCABCUhAAhKQgAQksAoCChyrMKONkIAEJCABCUhAAhKQgAQkIAEJXDYBBY7Ltr+tl4AEJCABCUhAAhKQgAQkIAEJrIKAAscqzGgjJCABCUhAAhKQgAQkIAEJSEACl01AgeOy7W/rJSABCUhAAhKQgAQkIAEJSEACqyCgwLEKM9oICay1UOkAABtqSURBVEhAAhKQgAQkIAEJSEACEpDAZRNQ4Lhs+9t6CUhAAhKQgAQkIAEJSEACEpDAKggocKzCjDZCAhKQwEkIfGKS70zy4iQ3OkmJ8ynk7ZN8aZLbJvlXSf5Fkj9P8ibzqeLF1uTVpeUfkOQZHYVtv10sMBt+NIGvS3LfJD+c5D8dnYs3SkACEpDAZAQUOCZDa8YSkIAEVkfgUgWON07y60n+dbEowsbfFoHjnU5kZSbut0nySUm+qwhMLypl999yxKf6W1+9v0/yZ0l+LckPJvmOJPxtjHSDJPdM8sFJ/l2Sf5nkdZL8aZJfTfLTSb43yR+OUViTx7ECR73vxkl+N0l9vp+Z5D+OXMd9shsqv7c79Xr6PpltuKa2dZ8sPjTJk8uFt0zyv/e5aeXXXJrA8flJrpvk8Ul+ayLbVqZfn+SzSxkvT0K/e/Mkz52oXLOVgARWSkCBY6WGtVkSkIAEJiBwpyRfmeT3iyfDBEXMMstPT/JNSV6W5H0nHOhva/yxAsdfJPmbJmNEiDdo/v3LST6oiB5Xgf/JSR6a5E2bTCj378pEpf4ZYejLk3zFVQrr7r0kgYPn74kb2L1Z8SyqItbQZe+Z5Pf2ZK/A8dqgLk3gqEIDff+T9nxuDr1MgeNQYl4vAQlsJaDA4QMiAQlIQAIS2E7gG5J8ZpInJLnrmWAdK3BUj4+22m+b5P7Naum3Jvm0K7QLseILy/3/N8l/T/ITSf64/A1B5VZJ7pHk7sUb5t9fobz+1ksSOLZhq8/IWB4oChwKHAocI3ZUZiUBCZyGgALHaThbigQkIAEJLJcAcUfYPvDo8v/naMmYAketP1tGiCmCEPFWRzbqo4v7Orf/QBExXrklr5sl+YIkH3dkeUO3KXBco6LAMeJDtSErPTjGZ6wHx/hMzVECF01AgeOizW/jJbA4AgR3ZI/u7UsMgtdP8v+TPC3J1yb5za5Fb57kV5KwYo17LW62fXrdJM8qWw+IS/BeJb4C1z0kyYOT1BXRuyW5d5J3S0LZ7Elm8sv2hX8YyJtYCcQkYGLMSjpu/EyU3yUJ7uRDq+sEruMa6kEMg78u8RKIXfDtW+IlUDfyu0XJm/temoQV9Z8s97I9oE0fUlbuKestS7v/JMkLkvxUic9AvIaa9onB8Q7FO+B2JWYF7vLkB38GsmyZ6FMbV4Dv0jsWjwC2TlAv2kEsAOzB9phjE8/P/ZLcIckNk1AWsRd+LMnDkvxRl3GdMG4qb8h+x9Zt131TCBxfU3i8Isn1dlVg4PfXK7Z9u/LuvUfz7mzLjrgc/zhwAXvu75Pkjkn+TZI3LOLL/0rC/vxNMSAUOK7BnIPAQX/zzmUrW/XqGXoW7lJiwNA/ENumevsQb+Hdk3xOkm8sz+fHJrlJkr8sffUXJ/ntkinPDN5IeFbxTtPv4T1E2UNbcfh+PLx8F/Ai+ogSNJT/5nl7fpLvLs/bUGyaXuD4sPJNot/lfvq6x5bv0bbYNsQ0+azi2UQfR72J80M//6gkr9ryAhETg2/Jncu3CAb028Td+dFS/kvKVjT6S7aN4aGFp9amRL9If0Bfiz2+unDZdP2mAMt8m++VhPa9Rdkex3f5+5J8y4b+QYHjiM7XWyQggc0EFDh8OiQggaUQ+PAkj0vyRqXCDB7Z318nZvz3pyR5TNcgAjMigDCpYvLEdoM2EQ/gQWUgxv7032h+bAWOn0/yeUmYTFW3XfIkISB8ZJJ+5boKHNSJwS+DcCZ2DA4ZlDJI5RoS7aJ9tLMmxIDrl4k4f/u5JAyoiQXRJoQPBpU1/VVpL2XW1AcX/JJyKkj9nUkudat8+Xt/KsUugQORhbYi/pCYkDAJrv9mwoGowiSoTa3A8YFJfqTUg/vZ3nCdcjFiFmLMMSIHzwEiSz31hPZiy/r8wJSJNZPpmoh1QMwDbMWkogYWrb9zmgID931SfRa49phv7xQCx1OSIEQ9pwhj+7Sjveajknx/+QPbT5jYHZveu5xMUT1JEAyxEc8/CVvxnhIDpk8KHNeIzEHgqAICgWQRvjZN1BEh6Avw+qHfqKkKHAgUvI/vU/pVnofanyG6vn/pR/FCQjAm3gvvFe8pib4GwY0Je5tagYNnl+1VPD/0yTxrCN4k+gEm6/SlbWoFDgQJnsl6f3ui0rZTVhDN+bbUxPeEfrf2c3xr6OcJztsn2kr/iAhMar8n9XvEaU81/1rfX0ryHwbyq3+qwhRxdPjOfVmSTy0CM1ypY/t9g1cbYBnuiP0f05RB/03/WuuFbdn21AvJChxbDONPEpDA4QSOGWQdXop3SEACErgaASa1zy6TZVaBGBCx0sagl+M7H1hiJDCYZuXoF7viGKyx6scElbzw1CAxsX5qGYARSJK821QFjipI/I8y8GPQTLDG/1L+TV/KquDndvfXSS2DZAaARKT/tuLFwICWAfUflHt+qBw7yAog4gMrcQwQuY9TKcifVczeE4WBPmwY6OL6z+pf9brAg4VBPiugTBgQCEisdL6wtBvPF7wX6m9M5vFQIVYCJ2wwMK5pm8DBCiYr7Byf+jPFHpycweCWwTps3zrJ7yRhtbSdOLQCB0ID7cGmeMggkODVQrvgxerqJxz4ODHRoi5MQFhNZOBOHUnEhsAmDNbhxukfvYDSeuLA4Jg0J4EDO7Biy/9IPB+Ia4emby4rwzx7rBIPeefskyenviCyYB9OdkHEwF68z6xuI0zybDMBHAp2qMBxjfIcBA6eA94fhEk8DOjX+tT2Pwhs9ME1VYGDCTWiBZ4HP15EhPcrzykeeXh00Tfw3/TdeOEhTjCBRmijH0PM5tlpUxU46uQbQZa+kX6YyTh9A5N88mLC3grH5FMn4/RTfAMQK/A04d88v/TdeJ+Q8FLpA8J+fOnD+B1vDfo5vC3o5+nX8FTivxGAEFjahEcEQYHxsEAkQIggf/pSWOA9h9BOXeq3DG+aKijTR/Oe9Yk+EH68R/SDfFtr2jcGR+3fEJZgQr34biJu07/z/UKc4RlFOG+TAseAUfyTBCRwPAEFjuPZeacEJHA6Ar+QBO+K/1oGkEMlMzBEcBhaOWOwyjYTBshMcFnJYjWwbl9hMMZgtE9V4ODvmybW1OmLymSMgXsVCrinndRSt0duQIYAgKDBqid1G/JQYFDLhJ9BeHt0HoPcrypbSlgR3SexYornwfO6Vbhd924TOJhwMLlAoMHFnNX3NlFn7Mgk9QHFHbr+3gocHIHJpKffwoA79yPKpIeJxTYX7r4dbCFiEsTA/10HjimFLZ475Ds0KZqDwLHLNu3v7TGx/SkqiER1JRwhicnFplM5dpXJ/QhsTIjYUnJsYhUf76Zt4hWTRsQ43tk+QOmxAsex9Z3rfXMQOGBTY9YMTdL5vfaZiJ03LRPryrQKHIjXiLPYu02IJgT7JTGB/rcD/SVCM6It2zYQBdpUBQ7+9j+Ll0hvz7pdg+cKgYB+sqY6GeffPJP8u081tg1iHV5ONdH3ISwjuCLa4K1Xn916DZ5Q1QuRLXrkVRPfDwQbxBm+E229Bqrxmj/Rp9LHIkh+xsCFvHcIL3g6EpOnTfsIHHi5IRjTv/Kdxq59Yrsl24rYmtl7Bm6ru79JQAISOJiAAsfByLxBAhI4MQEmywx62ZLCYJVB7VBiMIznBnuZWb3rY2Lg6UE+rDCyYo8rPC7QrDhRRr/tgzJagYOBOJP3PjEpRphgxbIXMerEmLyJ/8A2mqFUvTeqe/AmxAzIGRTjCYKoQWLFkdU6VuYYXA7FAunzwyOEbTWsWtIumO2TNgkcrFzi/cA3Zdteb0QVxBVWIbFXTa3A0Q/q6zXY78XlH4gU/TaXTfWnTkx0GFjjGbApLgA8EYtwC2cw3qYxBI59+I51TStwbMsTwYzVZzyT+onWPnVBLGRVFpd6thIck7ALHlF4+jBZ7ePo1DzxRsKOJN6l1s1dgeMal7kIHHjJ8UwgUuJ1Vt9b6ojYzL/xvMB7gVgPbaoCB4Iv8TH6hOcbE3wSE3763D7xHLF9hEQ5rejcChz0l723H/fgDUGfzrcCjwwEmZpaD45NfTp1QnDvBeRbF6GdvNiSheA7lBACEAzxoGMbIwlu9LF8b9hWg6i+b6qCNmLn23T9PX033wG8RggYXLec1bz3ETiqoMV3le/RplSFFE5ZwiPLJAEJSGASAgock2A1UwlIYEQCBPVkAsbEvU5whrJnAFgnpogXNWhde20NbFf/xgCc1STcc4dSFTgQQZhgb0p1JZuVN4KK1lQnxgTs3OZdwQSPuiPe9IFA2zJrLAg8Eji2lMQEAu8DBqjE6CAeBytxBJzblBjUsupOmdzLyh4rhQyst010NwkcxM2obua4SbNKOZT+cxGX8L7Ai6AG4WsFDgbwdQLT5sHqZ70er4G6xWTXowafuqLI6iRshhJeI8SkqExbfksWOPpAqLwnTMwQyhB8mMQ9vmxTOVTkqPv22ZrE1rBjUvVe4t5+b36fX43P0U8OFTiukZqLwEFd2NrGloje6w7RghgSfXDRausqcPTCQvsssCUDTza2dDBp7hP9Wo29wak9bVylKnAw2acf3PTMVzGZurLto6YqcAx5O9Rr8EbCK6n3IKmeJbvK5nvHd49tWojvpCr089+IiQhI+ya2DfIN4/1BMEE4qal6xtXgor0Iv4/AwbeEmCD0273nXlvH6j3Gdji2xZkkIAEJTEJAgWMSrGYqAQmMSIDVqm3R+IeK6gNqttfgNly3o7BqjzfEplQFjl0TOCaIrH71Ltl1YsyecFyPhxKDz02eHZvq1R9XypGbiBRtgFAGrLgms8+bQXo/kGdCz2+tCzcCC2IPq3h4W/SnAGwSOAgsV2M4ILRsOiaULSxsZSG1q/D9KSqb2r1tIrvpHiYDCD8k3M3r6Qv99e1e9X4CsSaBo213nWzyN4S56hqPC/3/2QCUkxb4H2mMLSoEBt52usNQNXoX93MLHKzW8/4PJZ7zU6V9BQ76CuLa9AlxFe+fmtr3FQFr0yk2Q+2rnmVst2PrXvUsq8IBfcwQs/YUlaHtH5S1a9KNcFE98trtfNxbBQ68l/A+2pRqfJm+79/nmFjY4pXXnzSC50KNLbStbL5JiI94kRAvh4RAzveFxN/47ZD034rXRO9thYhCzCU8aahbn3ax5no8ANuA1rvqtS0A6657/V0CEpDATgIKHDsReYEEJHBmAvsOCvepJoN3BtB4QpCIlM/ketO2jipwMEFmn/GmtEvg6AWJNh8EAYLpkRAK9j2Vo68Lrv7s92byR12ZpNbERJQV+z4IJKug7GnHs4F72K5SE6ueDKrbeCBjChytl82pBA4C6G3at94KHL2HwFoFDmyN1wSBPNmyxISWtG2LS3tCwxhBRomNgkcS78Ahk6T2+T+3wNHG2unfy1OOs/YVOGp/1dcVYbKeQsJvVxE46FvYGoJHFh4QiKxsF2F7Cl5EfXDRWpdTCRx4H7HVbVOaUuDYVXYVONg6wpYSUitw9Fu0tjTjNT/xTuPJxlYwvEEQNqr4y/vDlpihLZj7CBwIYwQTHQrUvU/dvEYCEpDAqARO+eEdteJmJgEJXAyBuuKGlwOT+H3jRfSA2OLARJ9BHZNcVhUZlLUTtv6esbaobBM4KLMOIg/dW73tIWCrCFtCWJXbdMpLfz8TELxBYMJEh1VIBJCa9tmigqvyUJA58thni8q279IxHhztFpVNkyrqdilbVHqb1wC+hwacJZ8xjomtq93ktynOza7O7twCx676ner3fQWOfetzFYGDMgjYy1a6Gk+Dk6w40YqJNBPqoe0hpxI4dm0T2bVFZZsXwiYPjqtsUeF0pxpw9dAtKtXeP5bkDmXLJ1tT6vHibC+k/xtK+wgcv1u+p0MBmvd91rxOAhKQwGgEFDhGQ2lGEpDARAQIBFeDsbHNg+0ex6S61YU9wkSgJ9Am7sZ4b+BBgDdHn9ogo5sm7uwrZhV8W5DRXQJHHXgyycR1uT9B5Jj21nvghWhB0D1ckfdJX57kQeX4QdpX07YgowTnZHVwW5DRunLM/nxsUNOUHhz7BhmtnkJrCzLax+Do7c8qOy7vBKklZsIhiWCMiFmcQkNwUALHboshU/PmOanPON4juNtjJybAPHuHJgWOa8TmJnAQ/4IjueljERrZ/oawPBRctNr8VAIH5dEHtcdg1zrwXOM9gaC+KcjoMQLHvkFG2T6DtxkCBKIwCa8X+ia8D48VwvHiQ7hBtMBjjXcXT5uh4KKVBYFNidOz6chfrvueElODvoTtoYduuTz0ffd6CUhAAlsJKHD4gEhAAnMnQD/FIJS91P+vDEprALmhujMoZVDWJrZtEESzn4CzskiQQ/Ll6Mn+JJVW4NgkUtRrCJyJG3C7pWPfrQ24cD+pVLg9IWWofQxIiY1RB5F4oWyKecH9RLZnkNwer7nrHsQNJpr9HvJtx8Ry7OHttxwTi1s0JxbgSXP/coxjbd+UAgdlcFIIxyPyXHDCQr9/HTdwtuSwd58Af6xutmlfO87lXWq3mGwTOFruu05A2NS2u5dYLvxOXAVEyG0THLYFEFOHYylrqqcIsaqOoLnt+Muh91uB4xrJuQkc1AnhmOO5ETeY4G8KLlqfhVMKHPS5dxp4sNuTVvq4PVeJwYFIQfDibcfEEnwTwYDUe5zVo9APPSa2NpHvH+UTMLvaY1Nw0XpP9c64Vzn+d6gfuE159vht1wkpeAbyTa/bMufSZ1oPCUhgRQQUOFZkTJsigRUT4NhBBmRMzBmgcZwnE+oasZ2tFYgYBEpkQEbgwpo4XpLJPdc8sQkwyu8E2OQ3VrCfkITo922q4gUTfVbOHlFOBSA6Pp4NTIQ5JYCBI4NPBsZtOmRiTN3qYJv93w9vJnqsKCLwsIpGFHzEmJeUgpiYUjdid7AFp54eQ8BRJpHUi/vbI1JZlSRoIEFGCURa84IvYgtBH8mzj3a/TeCgfgSwI2gqkxpc01m9hQ2u7tQTIYFVQ+rPSQg1TS1w4GFAXRAwEDIIgPizpXAmX9QNzxkEEFzBW5GKyw6x46bXsI3TMPW3d5fAgZ2xCcIPNkGcw371aM1Du5J6xC734cnBJIeAiFWIZFIDZzyJEECwAc9ATazu46XFu8o9iHy8j/VIaE7FYHLM84zA159IpMBxjeSUAgfPy5C3Q/usDJ1yhc3ak042BRet+ZxK4EAk4FniiFOOXEX0JAYM3w6C6CLEDonaVxE4aGPLAyGDZ53+l3eE3/jG4A3YB6zmXt4DPK3oz/AafED5prFtkz4eL0MEEvov4toMJdraHnu7KbhovbcuAnASGN/HoROuuJaTWRBTSQQrJt96eg3fBPpVtu4gtnMU+LF9zaF9k9dLQAIXSGDqQdYFIrXJEpDARAQYFDHhZhJEwu0ZV1sGg21wwkd1AgerdEzaOSYPL4LeS4NVMgZv9IdMfJns1lQFjmeWyTvCCq71dV8yK3IkvEM4kaJ3zz9kYkwbcEkm0GhNDFxZDUdsQCioiQFunYT3AQ4RDpiwMpmvCcGBCUqNX9J6pnANq2n8D1fk+l0gEB7Hv7beDtsEDvLB1ZnBLYNtEivy/HcNXIgNmJySd5umFjgoi1VG3MprgNnKgkkOCZvesYhEXfUWLXBgg3a1lOcIOzOBIyESsjp7bHDbyop3B6Gjfe7Im+e3/xvP30M7yAgsiHz1FA9EC2zC5Kg9HYh3jb6gTQoc12hMKXD078TQv+mL+z4QMY0JfD3Ce1scHPI8lcCBsI3YwnaP+qwhWtf3gsDS9FX9hP6qAgdt7Ptfvkk84zzrJIRiPAvZktInhFhEB0RBEt+jKsDXb8S2uFIEKMVjkbK2BRet5bYnLfFdQUDHC4d+BdGiJvp5YnDULTW1b+F5oM+t30r+3h/du8+z5TUSkIAE9iagwLE3Ki+UgARmQICJEpHaGfzh6s7AickbAzYGpExgn9IMsu9dthwwCMTDAy+QoVRXoGt8jjoBbwUOJuFM4MmTWBYM3DlylBVABnZDJ7EcInDUelEOE05WvPEsYcDNQJeVcVb1cOdvo90TTJTAcbSPwS8DWAbLeCMwiEcUQnRo68eqPQy5h7ZQDiwZtLLqxur5twxMVnYJHLSBVUS2oDCRQYhhMEx9qTeTg/4kF+45hcBBObChbvBiIs0An1MdiIHysC1HLx5jx/45O5cHR18P2syk7flJCC7ISi9eT2MkniGeEeLb8FwxqWXSxco+pzbw/OI1NLTST/lMkHn2WelFjESIQSBBzOPYWk7iwHOrn3QqcFyz3hwFDupVV/e3BRetz98pBQ68iBA171s8ihCZqSMeJ/RVQ1utxhA4aCunVuEBeKtyihGCK14NvB+I9P0R3e37yXtCrCOOO2fLHSItnk94NyJ+EHep90Jr739a6fu3BRdtr6ec+5R3sort/fbFej0BUBE7aRffGYQUvkXEFWEhgQUHvmUmCUhAApMRUOCYDK0ZS0ACKyDQCxwraJJNkIAEJHAyAghcL9wjuOipKlTja7QxiU5V9hzK4dhegoHuCi46h7paBwlIQAJHEVDgOAqbN0lAAhdCQIHjQgxtMyUggUkI1CNTCYRMcM1tAaInqUCX6aULHLX9bD0k2Og2T5FT2MMyJCABCYxOQIFjdKRmKAEJrIiAAseKjGlTJCCBkxJgixrbIW5aAhezreLc6ZIFDrazEE+KOFacZETgaZMEJCCB1RFQ4FidSW2QBCQwIgEFjhFhmpUEJHARBIiTQgBKYt4QXJKYK8Rk6Y9nPgeMSxQ4iH9DPBzswbifY5gJ6ltPITuHHSxTAhKQwGQEFDgmQ2vGEpDACggocKzAiDZBAhI4KYEaKJTTQTiO+YHNkaEnrchAYZcocNRTv9geRGBRTgPjRCuTBCQggVUSUOBYpVltlAQkIAEJSEACEpCABCQgAQlI4LIIKHBclr1trQQkIAEJSEACEpCABCQgAQlIYJUEFDhWaVYbJQEJSEACEpCABCQgAQlIQAISuCwCChyXZW9bKwEJSEACEpCABCQgAQlIQAISWCUBBY5VmtVGSUACEpCABCQgAQlIQAISkIAELouAAsdl2dvWSkACEpCABCQgAQlIQAISkIAEVklAgWOVZrVREpCABCQgAQlIQAISkIAEJCCByyKgwHFZ9ra1EpCABCQgAQlIQAISkIAEJCCBVRJQ4FilWW2UBCQgAQlIQAISkIAEJCABCUjgsggocFyWvW2tBCQgAQlIQAISkIAEJCABCUhglQQUOFZpVhslAQlIQAISkIAEJCABCUhAAhK4LAIKHJdlb1srAQlIQAISkIAEJCABCUhAAhJYJQEFjlWa1UZJQAISkIAEJCABCUhAAhKQgAQui4ACx2XZ29ZKQAISkIAEJCABCUhAAhKQgARWSeCfAFw+ktqSHlXdAAAAAElFTkSuQmCC\" width=\"432\">"
      ],
      "text/plain": [
       "<IPython.core.display.HTML object>"
      ]
     },
     "metadata": {},
     "output_type": "display_data"
    },
    {
     "data": {
      "text/plain": [
       "[]"
      ]
     },
     "execution_count": 36,
     "metadata": {},
     "output_type": "execute_result"
    }
   ],
   "source": [
    "%matplotlib notebook\n",
    "labelA='B-Cell'\n",
    "labelB='T-Lymphocyte'\n",
    "annotateGenes=['TRGC1','IGHM']\n",
    "t,p=stats.ttest_ind(inputAnalyzeDf[labelA],inputAnalyzeDf[labelB],axis=1)\n",
    "effectDiff=inputAnalyzeDf[labelA].mean(axis=1)-inputAnalyzeDf[labelB].mean(axis=1)\n",
    "effectLabel='expression of : \"{}\" - \"{}\"'.format(labelA, labelB)\n",
    "tmpDf=pd.DataFrame({'t':t,'-log10(p)':-np.log10(p),effectLabel:effectDiff,'u':inputAnalyzeDf.mean(axis=1)},index=inputAnalyzeDf.index)\n",
    "plotDf=tmpDf[tmpDf['u']>=0]\n",
    "yLabel='-log10(p)'\n",
    "xLabel=effectLabel\n",
    "ax=plotDf.plot(x=xLabel,y=yLabel,kind='Scatter')\n",
    "annotDf=plotDf.loc[annotateGenes]\n",
    "\n",
    "for geneName, tmpS in annotDf.iterrows():\n",
    "    ax.annotate(xy=(tmpS.loc[xLabel],tmpS.loc[yLabel]),text=geneName)\n",
    "ax.plot()\n"
   ]
  },
  {
   "cell_type": "code",
   "execution_count": null,
   "metadata": {},
   "outputs": [],
   "source": []
  },
  {
   "cell_type": "code",
   "execution_count": 18,
   "metadata": {},
   "outputs": [],
   "source": [
    "rankS=tmpDf['-log10(p)'].fillna(1.0).sort_values().rank()/tmpDf.shape[0]"
   ]
  },
  {
   "cell_type": "markdown",
   "metadata": {},
   "source": [
    "Unsurprisingly, the IGHM gene which encodes the constant region of the B-cell receptor are highly expressed in B-Cells when compared with T-Cells.\n"
   ]
  },
  {
   "cell_type": "code",
   "execution_count": 19,
   "metadata": {},
   "outputs": [
    {
     "name": "stdout",
     "output_type": "stream",
     "text": [
      "IGHM is the top 99.83116152214382% expressed gene in B-Cell \n"
     ]
    }
   ],
   "source": [
    "queryGene='IGHM'\n",
    "upRegDf=tmpDf[tmpDf[effectLabel]>0]\n",
    "rankOfGene=(upRegDf['-log10(p)'].rank()/upRegDf.shape[0]).loc[queryGene]*100\n",
    "print ('{} is the top {}% expressed gene in {} '.format(queryGene,rankOfGene,labelA))"
   ]
  },
  {
   "cell_type": "markdown",
   "metadata": {},
   "source": [
    "Unsurprisingly, the TRGC1 gene which encodes the constant region of the T-Cell receptors are highly expressed in  T-Cells when compared with B-Cells.\n",
    "\n"
   ]
  },
  {
   "cell_type": "code",
   "execution_count": 20,
   "metadata": {},
   "outputs": [
    {
     "name": "stdout",
     "output_type": "stream",
     "text": [
      "TRGC1 is the top 98.82454624027658% expressed gene in T-Lymphocyte \n"
     ]
    }
   ],
   "source": [
    "queryGene='TRGC1'\n",
    "downRegDf=tmpDf[tmpDf[effectLabel]<0]\n",
    "rankOfGene=(downRegDf['-log10(p)'].rank()/downRegDf.shape[0]).loc[queryGene]*100\n",
    "print ('{} is the top {}% expressed gene in {} '.format(queryGene,rankOfGene,labelB))"
   ]
  },
  {
   "cell_type": "markdown",
   "metadata": {},
   "source": [
    "### Study correlation heatmap\n",
    "\n",
    "Useful for finding outliers"
   ]
  },
  {
   "cell_type": "code",
   "execution_count": 35,
   "metadata": {},
   "outputs": [
    {
     "name": "stdout",
     "output_type": "stream",
     "text": [
      "B-Cell            red\n",
      "T-Lymphocyte    green\n",
      "dtype: object\n"
     ]
    },
    {
     "data": {
      "text/plain": [
       "<seaborn.matrix.ClusterGrid at 0x7f50966f8cf8>"
      ]
     },
     "execution_count": 35,
     "metadata": {},
     "output_type": "execute_result"
    },
    {
     "data": {
      "image/png": "[encoded data removed]",
      "text/plain": [
       "<Figure size 720x720 with 5 Axes>"
      ]
     },
     "metadata": {
      "needs_background": "light"
     },
     "output_type": "display_data"
    }
   ],
   "source": [
    "%matplotlib inline\n",
    "myColorL=['red','green','blue'] ##add more colors as you see fit\n",
    "\n",
    "sigDf=inputAnalyzeDf.groupby(level=['queryLabel','Study'],axis=1).mean()\n",
    "corrDf=sigDf[sigDf.mad(axis=1)>np.log2(5)].corr()\n",
    "corrDf_valid=corrDf.loc[~corrDf.isnull().all(axis=1),~corrDf.isnull().all(axis=0)]\n",
    "labelToColorS=pd.Series(dict(zip(corrDf_valid.index.get_level_values('queryLabel').unique(),myColorL)))\n",
    "print (labelToColorS)\n",
    "colors=labelToColorS[corrDf_valid.index.get_level_values('queryLabel')].values\n",
    "g=sns.clustermap(data=corrDf_valid,col_colors=colors,metric='euclidean')\n",
    "g"
   ]
  },
  {
   "cell_type": "markdown",
   "metadata": {},
   "source": [
    "# Caveats"
   ]
  },
  {
   "cell_type": "markdown",
   "metadata": {},
   "source": [
    "### Caveat: the mode of expression from public sequencing data usually don't have same center, that's why the Volcano plot from above is skewed\n",
    "\n",
    "You might want to do a median/mean center in your dataset"
   ]
  },
  {
   "cell_type": "code",
   "execution_count": 22,
   "metadata": {},
   "outputs": [
    {
     "data": {
      "text/plain": [
       "(0.35614014, 0.24869752)"
      ]
     },
     "execution_count": 22,
     "metadata": {},
     "output_type": "execute_result"
    }
   ],
   "source": [
    "inputAnalyzeDf[labelA].mean(axis=1).median(),\\\n",
    "inputAnalyzeDf[labelB].mean(axis=1).median()"
   ]
  },
  {
   "cell_type": "markdown",
   "metadata": {},
   "source": [
    "### Caveat: Batch effect\n",
    "If the first PC (PC0 in the following plot) does not seperate the  experimental condition, this is most likely due to batch effect. Sometimes plotting second and third PC like the above plot will find the seperation.\n",
    "\n",
    "If it doesn't do the job, I recommend doing a simple z-score of the data to subtract out the covariates before going down the route of using batch correction tools like: [Combat, SVR](https://journals.plos.org/plosgenetics/article?id=10.1371/journal.pgen.0030161) or DEseq. "
   ]
  },
  {
   "cell_type": "code",
   "execution_count": 23,
   "metadata": {},
   "outputs": [
    {
     "data": {
      "text/plain": [
       "<seaborn.axisgrid.PairGrid at 0x7f50a4d78e10>"
      ]
     },
     "execution_count": 23,
     "metadata": {},
     "output_type": "execute_result"
    },
    {
     "data": {
      "image/png": "[encoded data removed]",
      "text/plain": [
       "<Figure size 466.625x360 with 6 Axes>"
      ]
     },
     "metadata": {
      "needs_background": "light"
     },
     "output_type": "display_data"
    }
   ],
   "source": [
    "plotPcs=[0,1]\n",
    "sns.pairplot(data=pcaDf.reset_index()[plotPcs+[queryLabel]],hue=queryLabel,plot_kws={'alpha':0.2})"
   ]
  },
  {
   "cell_type": "code",
   "execution_count": null,
   "metadata": {},
   "outputs": [],
   "source": []
  }
 ],
 "metadata": {
  "kernelspec": {
   "display_name": "Python [conda env:skymap]",
   "language": "python",
   "name": "conda-env-skymap-py"
  },
  "language_info": {
   "codemirror_mode": {
    "name": "ipython",
    "version": 3
   },
   "file_extension": ".py",
   "mimetype": "text/x-python",
   "name": "python",
   "nbconvert_exporter": "python",
   "pygments_lexer": "ipython3",
   "version": "3.6.6"
  }
 },
 "nbformat": 4,
 "nbformat_minor": 2
}
