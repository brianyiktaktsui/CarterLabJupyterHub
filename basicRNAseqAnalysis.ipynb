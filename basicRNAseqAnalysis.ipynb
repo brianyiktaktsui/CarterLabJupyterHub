{
 "cells": [
  {
   "cell_type": "markdown",
   "metadata": {},
   "source": [
    "# Search and compare RNA-seq profiles\n",
    "[Click here for more info on SkyMap](./README.ipynb)"
   ]
  },
  {
   "cell_type": "code",
   "execution_count": null,
   "metadata": {
    "init_cell": true,
    "scrolled": false
   },
   "outputs": [],
   "source": [
    "import skymap_widget_imports\n",
    "display(skymap_widget_imports.accordion)\n",
    "display(skymap_widget_imports.widget_specie)"
   ]
  },
  {
   "cell_type": "markdown",
   "metadata": {},
   "source": [
    "<br/>\n",
    "<br/>\n",
    "<br/>\n",
    "<br/>\n",
    "<br/>\n",
    "<br/>\n",
    "<br/>\n",
    "<br/>\n",
    "<br/>\n",
    "<br/>\n",
    "<br/>\n",
    "<br/>\n",
    "<br/>\n",
    "<br/>\n",
    "<br/>\n",
    "<br/>\n",
    "<br/>\n",
    "<br/>\n",
    "<br/>\n",
    "<br/>\n",
    "<br/>\n",
    "<br/>\n",
    "<br/>\n",
    "<br/>\n",
    "<br/>\n",
    "<br/>\n",
    "<br/>\n",
    "<br/>\n",
    "<br/>\n",
    "<br/>\n",
    "<br/>\n",
    "<br/>\n",
    "<br/>\n",
    "<br/>\n",
    "<br/>\n",
    "<br/>\n",
    "<br/>\n",
    "<br/>\n",
    "<br/>\n",
    "<br/>\n",
    "<br/>\n",
    "<br/>\n",
    "<br/>\n",
    "<br/>\n",
    "<br/>\n",
    "<br/>\n",
    "<br/>\n",
    "<br/>\n"
   ]
  },
  {
   "cell_type": "markdown",
   "metadata": {},
   "source": [
    "### Example analysis: Simple differential expression analysis between the thousands of human B-Cells and T-Lymphocytes expression profiles  \n",
    "\n",
    "\n",
    "\n",
    "This notebook is a template which consist of the following steps:\n",
    "1. Setting input free-text regex queries to define the classes of experimental conditions (queryLabelToRegexDict)\n",
    "2. Querying the reprocessed data which consist of >400,000 expression profiles\n",
    "3. Generate a fully annotated expression matrix\n",
    "4. DE analysis like volcano plot, correlation heatmap and PCA. (Most plots are interactive, u can download with a simple click)"
   ]
  },
  {
   "cell_type": "markdown",
   "metadata": {},
   "source": [
    "### More parameters: \n",
    "\n",
    "expression_metric: Those are Kallisto expression metric: \"tpm\",\"est_counts\"\n",
    "baseDir: if run locally, change it to mirror our path."
   ]
  },
  {
   "cell_type": "code",
   "execution_count": null,
   "metadata": {},
   "outputs": [],
   "source": [
    "expression_metric='tpm' #"
   ]
  },
  {
   "cell_type": "code",
   "execution_count": null,
   "metadata": {},
   "outputs": [],
   "source": [
    "querySpecie=skymap_widget_imports.widget_specie.get_interact_value()"
   ]
  },
  {
   "cell_type": "code",
   "execution_count": null,
   "metadata": {},
   "outputs": [],
   "source": [
    "queryStr=skymap_widget_imports.widget_query.get_interact_value()\n",
    "\n",
    "listOfQueries=queryStr.split(',')\n",
    "\n",
    "if len(queryStr)<5:\n",
    "    raise ValueError('Please provide a query with more than 5 characters')\n",
    "if len(listOfQueries)<2:\n",
    "    raise ValueError('Please provide a query with more than 2 conditions')\n"
   ]
  },
  {
   "cell_type": "code",
   "execution_count": null,
   "metadata": {},
   "outputs": [],
   "source": [
    "queryLabelToRegexDict=dict(zip(listOfQueries,listOfQueries))"
   ]
  },
  {
   "cell_type": "markdown",
   "metadata": {},
   "source": [
    "# Data loading"
   ]
  },
  {
   "cell_type": "markdown",
   "metadata": {},
   "source": [
    "### load in SRS biospecieman annotations"
   ]
  },
  {
   "cell_type": "code",
   "execution_count": null,
   "metadata": {},
   "outputs": [],
   "source": [
    "%matplotlib notebook\n",
    "\n",
    "import pandas as pd\n",
    "import numpy as np\n",
    "\n",
    "allSRS_pickle_dir='/home/jovyan/efs/all_seq/meta_data/allSRS.with_processed_data.pickle.gz'\n",
    "%time allSRS=pd.read_pickle(allSRS_pickle_dir)\n",
    "allSRS.index.names=['SRS','Attrib']"
   ]
  },
  {
   "cell_type": "markdown",
   "metadata": {},
   "source": [
    "### load in technical metadata"
   ]
  },
  {
   "cell_type": "code",
   "execution_count": null,
   "metadata": {},
   "outputs": [],
   "source": [
    "sra_dump_pickle_dir='/home/jovyan/efs/all_seq/meta_data/sra_dump.fastqc.bowtie_algn.pickle'\n",
    "%time technical_meta_data_df=pd.read_pickle(sra_dump_pickle_dir)\n",
    "technical_meta_data_df[('SRAmeta','Run')]=technical_meta_data_df.index"
   ]
  },
  {
   "cell_type": "markdown",
   "metadata": {},
   "source": [
    "### load the expression matrix\n",
    "\n",
    "Check files in baseDir directory for more species"
   ]
  },
  {
   "cell_type": "code",
   "execution_count": null,
   "metadata": {},
   "outputs": [],
   "source": [
    "def loadDf(fname,mmap_mode='r'):\n",
    "    with open(fname+'.index.txt') as f:\n",
    "        myIndex=map(lambda s:s.replace(\"\\n\",\"\"), f.readlines())\n",
    "    with open(fname+'.columns.txt') as f:\n",
    "        myColumns=map(lambda s:s.replace(\"\\n\",\"\"), f.readlines())\n",
    "    tmpMatrix=np.load(fname+\".npy\",mmap_mode=mmap_mode)\n",
    "    tmpDf=pd.DataFrame(tmpMatrix,index=myIndex,columns=myColumns)\n",
    "    tmpDf.columns.name='Run'\n",
    "    return tmpDf\n",
    "data_matrix_dir=baseDir+'/{specie}.gene_symbol.{expression_metric}'.format(specie=querySpecie,\n",
    "                                            expression_metric=expression_metric)\n",
    "\n",
    "%time rnaseqDf=loadDf(data_matrix_dir)"
   ]
  },
  {
   "cell_type": "markdown",
   "metadata": {},
   "source": [
    "# Find the relevent SRS (Sample  IDs)  \n"
   ]
  },
  {
   "cell_type": "code",
   "execution_count": null,
   "metadata": {},
   "outputs": [],
   "source": [
    "myL=[]\n",
    "for  queryRegex in queryLabelToRegexDict.values():\n",
    "    %time hitSrsS=allSRS[allSRS.str.contains(queryRegex,case=False)]\n",
    "    myL.append(hitSrsS)\n",
    "\n",
    "queryLabel='queryLabel'\n",
    "mergeS=pd.concat(myL,keys=queryLabelToRegexDict.keys(),names=[queryLabel])\n",
    "mergeS_noDup=mergeS.groupby(['SRS','queryLabel','Attrib']).first()\n",
    "unqiueHitMask=mergeS_noDup.groupby('SRS').size()==1\n",
    "unqiueHitSrs=unqiueHitMask.index[unqiueHitMask]\n",
    "mergeS_noDup_unique=mergeS_noDup[mergeS_noDup.index.get_level_values('SRS').isin(unqiueHitSrs)]"
   ]
  },
  {
   "cell_type": "markdown",
   "metadata": {},
   "source": [
    "Number of SRS per query class"
   ]
  },
  {
   "cell_type": "code",
   "execution_count": null,
   "metadata": {},
   "outputs": [],
   "source": [
    "mergeS_noDup_unique.groupby(queryLabel).size()"
   ]
  },
  {
   "cell_type": "code",
   "execution_count": null,
   "metadata": {},
   "outputs": [],
   "source": [
    "srsToClasses_all=mergeS_noDup_unique.reset_index().set_index(['SRS'])['queryLabel']\n",
    "\n",
    "srsToClasses=srsToClasses_all"
   ]
  },
  {
   "cell_type": "markdown",
   "metadata": {},
   "source": [
    "### map SRS Ids to SRR Ids"
   ]
  },
  {
   "cell_type": "code",
   "execution_count": null,
   "metadata": {},
   "outputs": [],
   "source": [
    "m_SRAMeta=technical_meta_data_df[('SRAmeta','Sample')].isin(srsToClasses.index)\n",
    "technical_meta_data_df_hit=technical_meta_data_df[m_SRAMeta]\n",
    "\n",
    "SRAMetasrsCorrespondingQuery=srsToClasses.loc[technical_meta_data_df_hit[('SRAmeta','Sample')]].values\n",
    "technical_meta_data_df_hit[('SRAmeta',queryLabel)]=SRAMetasrsCorrespondingQuery\n",
    "relevantMetaColsL=[('SRAmeta',queryLabel),('SRAmeta','Study'),('SRAmeta','Sample'),('SRAmeta','Run'),('SRAmeta','ScientificName')]\n",
    "technical_meta_data_df_sub=technical_meta_data_df_hit[relevantMetaColsL]\n",
    "designDf=technical_meta_data_df_sub['SRAmeta']"
   ]
  },
  {
   "cell_type": "markdown",
   "metadata": {},
   "source": [
    "Top species with reprocessed data"
   ]
  },
  {
   "cell_type": "code",
   "execution_count": null,
   "metadata": {
    "scrolled": true
   },
   "outputs": [],
   "source": [
    "designDf['ScientificName'].value_counts().head(n=5)"
   ]
  },
  {
   "cell_type": "code",
   "execution_count": null,
   "metadata": {
    "scrolled": true
   },
   "outputs": [],
   "source": [
    "hitSrsAllAnnotS=allSRS[allSRS.index.get_level_values('SRS').isin(mergeS.index.get_level_values('SRS'))]"
   ]
  },
  {
   "cell_type": "code",
   "execution_count": null,
   "metadata": {},
   "outputs": [],
   "source": [
    "#designDf['BioProj_description']=BioProjAccessionToDescriptionS[designDf['BioProj'].fillna('')].fillna('').values\n",
    "srsToTextS=pd.Series( (hitSrsAllAnnotS.index.get_level_values('Attrib')+': '+hitSrsAllAnnotS+' <br> '),\n",
    "                     index=hitSrsAllAnnotS.index).groupby(['SRS']).sum()\n",
    "\n",
    "\n"
   ]
  },
  {
   "cell_type": "code",
   "execution_count": null,
   "metadata": {},
   "outputs": [],
   "source": [
    "srsToTextS=pd.Series(data=\"NCBI SRA SRS:\"+srsToTextS.index+' <br> '+srsToTextS.values,index=srsToTextS.index)"
   ]
  },
  {
   "cell_type": "code",
   "execution_count": null,
   "metadata": {},
   "outputs": [],
   "source": [
    "designDf['Description']=srsToTextS[designDf.Sample].values"
   ]
  },
  {
   "cell_type": "code",
   "execution_count": null,
   "metadata": {
    "scrolled": true
   },
   "outputs": [],
   "source": [
    "%time designDf_specie=designDf[(designDf['ScientificName']==querySpecie)&(designDf.Run.isin(rnaseqDf.columns))]\n",
    "queryDesignDf=designDf_specie"
   ]
  },
  {
   "cell_type": "markdown",
   "metadata": {},
   "source": [
    "Number of samples per query class with data"
   ]
  },
  {
   "cell_type": "code",
   "execution_count": null,
   "metadata": {},
   "outputs": [],
   "source": [
    "designDf_specie.groupby(queryLabel).size()"
   ]
  },
  {
   "cell_type": "code",
   "execution_count": null,
   "metadata": {},
   "outputs": [],
   "source": [
    "%time hitDf=pd.DataFrame( list(map( lambda srrId: rnaseqDf[srrId],queryDesignDf.Run))).T\n",
    "hitDf.columns=queryDesignDf.set_index(queryDesignDf.columns.tolist()).index"
   ]
  },
  {
   "cell_type": "markdown",
   "metadata": {},
   "source": [
    "### Output:  fully annnotated matrix matrix\n",
    "\n",
    "Example layout is listed in the cell below"
   ]
  },
  {
   "cell_type": "code",
   "execution_count": null,
   "metadata": {},
   "outputs": [],
   "source": [
    "hitDf.head()"
   ]
  },
  {
   "cell_type": "markdown",
   "metadata": {},
   "source": [
    "#  Example analysis with output matrix\n"
   ]
  },
  {
   "cell_type": "code",
   "execution_count": null,
   "metadata": {},
   "outputs": [],
   "source": [
    "inputAnalyzeDf=np.log2(hitDf+1)"
   ]
  },
  {
   "cell_type": "markdown",
   "metadata": {},
   "source": [
    "### Interactive PCA \n",
    "to show that samples are grouped in the higher dimensional space according to the class"
   ]
  },
  {
   "cell_type": "code",
   "execution_count": null,
   "metadata": {},
   "outputs": [],
   "source": [
    "plotPcs=[1,2]\n",
    "inPcaDf=inputAnalyzeDf.T"
   ]
  },
  {
   "cell_type": "code",
   "execution_count": null,
   "metadata": {},
   "outputs": [],
   "source": [
    "from sklearn import decomposition\n",
    "import seaborn as sns\n",
    "PCA=decomposition.PCA(n_components=3)\n",
    "pcaM=PCA.fit_transform((inPcaDf))\n",
    "pcaDf=pd.DataFrame( data=pcaM,index=inPcaDf.index)"
   ]
  },
  {
   "cell_type": "code",
   "execution_count": null,
   "metadata": {},
   "outputs": [],
   "source": [
    "import plotly.graph_objs as go\n",
    "from plotly.offline import iplot, init_notebook_mode\n",
    "init_notebook_mode()\n",
    "fig = go.Figure()\n",
    "for label, sub_pca_df in pcaDf.groupby('queryLabel'):\n",
    "    fig.add_scatter(x=sub_pca_df[plotPcs[0]], y=sub_pca_df[plotPcs[1]], name=label,\n",
    "                    hovertext=sub_pca_df.index.get_level_values('Description'),\n",
    "                    mode = 'markers')\n",
    "iplot(fig)"
   ]
  },
  {
   "cell_type": "markdown",
   "metadata": {},
   "source": [
    "# Volcano plot with t-test\n",
    "\n",
    "Change the params in the following cell to edit the query conditions and the genes to be annotated"
   ]
  },
  {
   "cell_type": "code",
   "execution_count": null,
   "metadata": {},
   "outputs": [],
   "source": [
    "##PARAMS\n",
    "annotateGenesList=['TRGC1','IGHM']"
   ]
  },
  {
   "cell_type": "code",
   "execution_count": null,
   "metadata": {},
   "outputs": [],
   "source": [
    "from scipy import stats\n",
    "expression_effect_size_filter=0.0 \n",
    "labelA=listOfQueries[0]\n",
    "labelB=listOfQueries[1]\n",
    "t,p=stats.ttest_ind(inputAnalyzeDf[labelA],inputAnalyzeDf[labelB],axis=1)\n",
    "effectDiff=inputAnalyzeDf[labelA].mean(axis=1)-inputAnalyzeDf[labelB].mean(axis=1)\n",
    "effectLabel='expression of : \"{}\" - \"{}\"'.format(labelA, labelB)\n",
    "tmpDf=pd.DataFrame({'t':t,'-log10(p)':-np.log10(p),effectLabel:effectDiff,'u':inputAnalyzeDf.mean(axis=1)},index=inputAnalyzeDf.index)\n",
    "plotDf=tmpDf[tmpDf['u']>=expression_effect_size_filter].dropna()\n",
    "yLabel='-log10(p)'\n",
    "xLabel=effectLabel"
   ]
  },
  {
   "cell_type": "markdown",
   "metadata": {},
   "source": [
    "#### Interactive scatter plot with plotly"
   ]
  },
  {
   "cell_type": "code",
   "execution_count": null,
   "metadata": {},
   "outputs": [],
   "source": [
    "fig = go.Figure()\n",
    "m=plotDf.index.isin(annotateGenesList)\n",
    "fig.add_scatter( x=plotDf[xLabel][~m],y=plotDf[yLabel][~m],mode='markers',hovertext=plotDf.index.values,name='')\n",
    "fig.add_scatter( x=plotDf[xLabel][m],y=plotDf[yLabel][m],mode='markers+text',text=plotDf.index.values,\n",
    "                textposition='bottom center',\n",
    "                name='Query annotation gene')\n",
    "iplot(fig)"
   ]
  },
  {
   "cell_type": "code",
   "execution_count": null,
   "metadata": {},
   "outputs": [],
   "source": [
    "rankS=tmpDf['-log10(p)'].fillna(1.0).sort_values().rank()/tmpDf.shape[0]"
   ]
  },
  {
   "cell_type": "markdown",
   "metadata": {},
   "source": [
    "Unsurprisingly, the IGHM gene which encodes the constant region of the B-cell receptor are highly expressed in B-Cells when compared with T-Cells.\n"
   ]
  },
  {
   "cell_type": "markdown",
   "metadata": {},
   "source": [
    "### Boxplot showing the expression level of a gene\n",
    "\n",
    "Change the queryGene to something else"
   ]
  },
  {
   "cell_type": "code",
   "execution_count": null,
   "metadata": {},
   "outputs": [],
   "source": [
    "queryGene='IGHM' "
   ]
  },
  {
   "cell_type": "code",
   "execution_count": null,
   "metadata": {},
   "outputs": [],
   "source": [
    "upRegDf=tmpDf[tmpDf[effectLabel]>0]\n",
    "rankOfGene=(upRegDf['-log10(p)'].rank()/upRegDf.shape[0]).loc[queryGene]*100\n",
    "print ('{} is the top {}% expressed gene in {} '.format(queryGene,rankOfGene,labelA))"
   ]
  },
  {
   "cell_type": "code",
   "execution_count": null,
   "metadata": {},
   "outputs": [],
   "source": [
    "layout = go.Layout(\n",
    "yaxis={'title':\"Expression level of gene \"+queryGene+' measured in log2 '+expression_metric.upper()}\n",
    ")\n",
    "data=[go.Box(name=myQueryLabel,y=tmpS.values)\n",
    "      for myQueryLabel, tmpS in inputAnalyzeDf.loc[queryGene].groupby('queryLabel')]\n",
    "fig=go.Figure(data=data,layout=layout)\n",
    "\n",
    "iplot(fig )\n"
   ]
  },
  {
   "cell_type": "markdown",
   "metadata": {},
   "source": [
    "Unsurprisingly, the TRGC1 gene which encodes the constant region of the T-Cell receptors are highly expressed in  T-Cells when compared with B-Cells.\n",
    "\n"
   ]
  },
  {
   "cell_type": "code",
   "execution_count": null,
   "metadata": {},
   "outputs": [],
   "source": [
    "queryGene='TRGC1'\n",
    "downRegDf=tmpDf[tmpDf[effectLabel]<0]\n",
    "rankOfGene=(downRegDf['-log10(p)'].rank()/downRegDf.shape[0]).loc[queryGene]*100\n",
    "print ('{} is the top {}% expressed gene in {} '.format(queryGene,rankOfGene,labelB))"
   ]
  },
  {
   "cell_type": "markdown",
   "metadata": {},
   "source": [
    "### Study level condition correlation heatmap\n",
    "\n",
    "Useful for finding outliers"
   ]
  },
  {
   "cell_type": "code",
   "execution_count": null,
   "metadata": {},
   "outputs": [],
   "source": [
    "%matplotlib inline\n",
    "myColorL=['red','blue','green','orange','pink'] ##add more colors as you see fit\n",
    "sigDf=inputAnalyzeDf.groupby(level=['queryLabel','Study'],axis=1).mean()\n",
    "corrDf=sigDf[sigDf.mad(axis=1)>np.log2(5)].corr()\n",
    "corrDf_valid=corrDf.loc[~corrDf.isnull().all(axis=1),~corrDf.isnull().all(axis=0)]\n",
    "labelToColorS=pd.Series(dict(zip(corrDf_valid.index.get_level_values('queryLabel').unique(),myColorL)))\n",
    "print (labelToColorS)\n",
    "colors=labelToColorS[corrDf_valid.index.get_level_values('queryLabel')].values\n",
    "g=sns.clustermap(data=corrDf_valid,col_colors=colors,metric='euclidean')\n",
    "g"
   ]
  },
  {
   "cell_type": "markdown",
   "metadata": {},
   "source": [
    "# Caveats"
   ]
  },
  {
   "cell_type": "markdown",
   "metadata": {},
   "source": [
    "### Caveat: the mode of expression from public sequencing data usually don't have same center, that's why the Volcano plot from above is skewed\n",
    "\n",
    "You might want to do a median/mean center in your dataset"
   ]
  },
  {
   "cell_type": "code",
   "execution_count": null,
   "metadata": {},
   "outputs": [],
   "source": [
    "inputAnalyzeDf[labelA].mean(axis=1).median(),\\\n",
    "inputAnalyzeDf[labelB].mean(axis=1).median()"
   ]
  },
  {
   "cell_type": "markdown",
   "metadata": {},
   "source": [
    "### Caveat: Batch effect\n",
    "If the first PC (PC0 in the following plot) does not seperate the  experimental condition, this is most likely due to batch effect. Sometimes plotting second and third PC like the above plot will find the seperation.\n",
    "\n",
    "If it doesn't do the job, I recommend doing a simple z-score of the data to subtract out the covariates before going down the route of using batch correction tools like: [Combat, SVR](https://journals.plos.org/plosgenetics/article?id=10.1371/journal.pgen.0030161) or DEseq. "
   ]
  },
  {
   "cell_type": "code",
   "execution_count": null,
   "metadata": {},
   "outputs": [],
   "source": [
    "plotPcs=[0,1]\n",
    "sns.pairplot(data=pcaDf.reset_index()[plotPcs+[queryLabel]],hue=queryLabel,plot_kws={'alpha':0.2})"
   ]
  },
  {
   "cell_type": "markdown",
   "metadata": {},
   "source": [
    "# Content page for completed results"
   ]
  },
  {
   "cell_type": "markdown",
   "metadata": {},
   "source": [
    "* [Output: fully annnotated matrix matrix](#Output:--fully-annnotated-matrix-matrix)\n",
    "* [Interactive PCA](#Interactive-PCA)\n",
    "* [Volcano plot with t-test](#Volcano-plot-with-t-test)\n",
    "* [Boxplot showing the expression level of a gene ](#Boxplot-showing-the-expression-level-of-a-gene)\n",
    "* [Study level condition correlation heatmap](#Study-level-condition-correlation-heatmap)"
   ]
  }
 ],
 "metadata": {
  "kernelspec": {
   "display_name": "Python [conda env:skymap]",
   "language": "python",
   "name": "conda-env-skymap-py"
  },
  "language_info": {
   "codemirror_mode": {
    "name": "ipython",
    "version": 3
   },
   "file_extension": ".py",
   "mimetype": "text/x-python",
   "name": "python",
   "nbconvert_exporter": "python",
   "pygments_lexer": "ipython3",
   "version": "3.6.6"
  }
 },
 "nbformat": 4,
 "nbformat_minor": 2
}
