{
 "cells": [
  {
   "cell_type": "markdown",
   "metadata": {},
   "source": [
    "# Data loading"
   ]
  },
  {
   "cell_type": "code",
   "execution_count": 1,
   "metadata": {},
   "outputs": [],
   "source": [
    "%matplotlib inline\n",
    "import pandas as pd\n",
    "import numpy as np"
   ]
  },
  {
   "cell_type": "code",
   "execution_count": 2,
   "metadata": {},
   "outputs": [
    {
     "name": "stdout",
     "output_type": "stream",
     "text": [
      "CPU times: user 5.15 s, sys: 436 ms, total: 5.58 s\n",
      "Wall time: 5.59 s\n"
     ]
    }
   ],
   "source": [
    "allSRS_pickle_dir='/home/jovyan/efs/all_seq/meta_data/allSRS.with_processed_data.pickle.gz'\n",
    "%time allSRS=pd.read_pickle(allSRS_pickle_dir)"
   ]
  },
  {
   "cell_type": "code",
   "execution_count": 3,
   "metadata": {},
   "outputs": [],
   "source": [
    "allSRS.index.names=['SRS','Attrib']"
   ]
  },
  {
   "cell_type": "markdown",
   "metadata": {},
   "source": [
    "### load in technical metadata"
   ]
  },
  {
   "cell_type": "code",
   "execution_count": 4,
   "metadata": {},
   "outputs": [
    {
     "name": "stdout",
     "output_type": "stream",
     "text": [
      "CPU times: user 4.21 s, sys: 1.46 s, total: 5.67 s\n",
      "Wall time: 5.67 s\n"
     ]
    }
   ],
   "source": [
    "sra_dump_pickle_dir='/home/jovyan/efs/all_seq/meta_data/sra_dump.fastqc.bowtie_algn.pickle'\n",
    "%time technical_meta_data_df=pd.read_pickle(sra_dump_pickle_dir)"
   ]
  },
  {
   "cell_type": "code",
   "execution_count": 5,
   "metadata": {},
   "outputs": [],
   "source": [
    "technical_meta_data_df[('SRAmeta','Run')]=technical_meta_data_df.index"
   ]
  },
  {
   "cell_type": "markdown",
   "metadata": {},
   "source": [
    "# Find the relevent SRS (Sample  IDs)  \n"
   ]
  },
  {
   "cell_type": "code",
   "execution_count": 6,
   "metadata": {},
   "outputs": [],
   "source": [
    "#querySpecie='Mus musculus'\n",
    "#label to regex for extracting the data\n",
    "queryLabelToRegexDict={\"B-Cell\":'B-Cell|B-Lymphocyte',\"T-Lymphocyte\":'T-Lymphocyte|T-Cell'}"
   ]
  },
  {
   "cell_type": "code",
   "execution_count": 7,
   "metadata": {},
   "outputs": [
    {
     "name": "stdout",
     "output_type": "stream",
     "text": [
      "CPU times: user 4.26 s, sys: 148 ms, total: 4.41 s\n",
      "Wall time: 3.83 s\n",
      "CPU times: user 4.24 s, sys: 56 ms, total: 4.3 s\n",
      "Wall time: 3.7 s\n"
     ]
    }
   ],
   "source": [
    "myL=[]\n",
    "for  queryRegex in queryLabelToRegexDict.values():\n",
    "    %time hitSrsS=allSRS[allSRS.str.contains(queryRegex,case=False)]\n",
    "    myL.append(hitSrsS)"
   ]
  },
  {
   "cell_type": "code",
   "execution_count": 8,
   "metadata": {},
   "outputs": [],
   "source": [
    "queryLabel='queryLabel'\n",
    "mergeS=pd.concat(myL,keys=queryLabelToRegexDict.keys(),names=[queryLabel])"
   ]
  },
  {
   "cell_type": "code",
   "execution_count": 9,
   "metadata": {},
   "outputs": [],
   "source": [
    "#mergeS.groupby(tmpLabel).size()"
   ]
  },
  {
   "cell_type": "code",
   "execution_count": 10,
   "metadata": {},
   "outputs": [],
   "source": [
    "mergeS_noDup=mergeS.groupby(['SRS','queryLabel','Attrib']).first()"
   ]
  },
  {
   "cell_type": "code",
   "execution_count": 11,
   "metadata": {},
   "outputs": [],
   "source": [
    "unqiueHitMask=mergeS_noDup.groupby('SRS').size()==1\n",
    "unqiueHitSrs=unqiueHitMask.index[unqiueHitMask]"
   ]
  },
  {
   "cell_type": "code",
   "execution_count": 12,
   "metadata": {},
   "outputs": [],
   "source": [
    "mergeS_noDup_unique=mergeS_noDup[mergeS_noDup.index.get_level_values('SRS').isin(unqiueHitSrs)]"
   ]
  },
  {
   "cell_type": "markdown",
   "metadata": {},
   "source": [
    "Number of SRS per query class"
   ]
  },
  {
   "cell_type": "code",
   "execution_count": 13,
   "metadata": {},
   "outputs": [
    {
     "data": {
      "text/plain": [
       "queryLabel\n",
       "B-Cell          1105\n",
       "T-Lymphocyte    1060\n",
       "dtype: int64"
      ]
     },
     "execution_count": 13,
     "metadata": {},
     "output_type": "execute_result"
    }
   ],
   "source": [
    "mergeS_noDup_unique.groupby(queryLabel).size()"
   ]
  },
  {
   "cell_type": "code",
   "execution_count": 14,
   "metadata": {},
   "outputs": [],
   "source": [
    "srsToClasses_all=mergeS_noDup_unique.reset_index().set_index(['SRS'])['queryLabel']"
   ]
  },
  {
   "cell_type": "markdown",
   "metadata": {},
   "source": [
    "sample the metadata "
   ]
  },
  {
   "cell_type": "code",
   "execution_count": 15,
   "metadata": {},
   "outputs": [],
   "source": [
    "srsToClasses=srsToClasses_all"
   ]
  },
  {
   "cell_type": "code",
   "execution_count": 16,
   "metadata": {},
   "outputs": [
    {
     "data": {
      "text/plain": [
       "SRS\n",
       "SRS349257           B-Cell\n",
       "SRS2102601          B-Cell\n",
       "SRS261391           B-Cell\n",
       "SRS000061           B-Cell\n",
       "SRS378682     T-Lymphocyte\n",
       "ERS1505431    T-Lymphocyte\n",
       "SRS348815     T-Lymphocyte\n",
       "SRS1129766          B-Cell\n",
       "SRS1161453          B-Cell\n",
       "SRS1464359    T-Lymphocyte\n",
       "Name: queryLabel, dtype: object"
      ]
     },
     "execution_count": 16,
     "metadata": {},
     "output_type": "execute_result"
    }
   ],
   "source": [
    "srsToClasses.sample(n=10)"
   ]
  },
  {
   "cell_type": "markdown",
   "metadata": {},
   "source": [
    "### map to SRR SRA"
   ]
  },
  {
   "cell_type": "code",
   "execution_count": 17,
   "metadata": {},
   "outputs": [],
   "source": [
    "m_SRAMeta=technical_meta_data_df[('SRAmeta','Sample')].isin(srsToClasses.index)\n",
    "technical_meta_data_df_hit=technical_meta_data_df[m_SRAMeta]"
   ]
  },
  {
   "cell_type": "code",
   "execution_count": 18,
   "metadata": {},
   "outputs": [
    {
     "name": "stderr",
     "output_type": "stream",
     "text": [
      "/opt/conda/envs/skymap/lib/python3.6/site-packages/ipykernel/__main__.py:2: SettingWithCopyWarning: \n",
      "A value is trying to be set on a copy of a slice from a DataFrame.\n",
      "Try using .loc[row_indexer,col_indexer] = value instead\n",
      "\n",
      "See the caveats in the documentation: http://pandas.pydata.org/pandas-docs/stable/indexing.html#indexing-view-versus-copy\n",
      "  from ipykernel import kernelapp as app\n"
     ]
    }
   ],
   "source": [
    "SRAMetasrsCorrespondingQuery=srsToClasses.loc[technical_meta_data_df_hit[('SRAmeta','Sample')]].values\n",
    "technical_meta_data_df_hit[('SRAmeta',queryLabel)]=SRAMetasrsCorrespondingQuery"
   ]
  },
  {
   "cell_type": "code",
   "execution_count": 19,
   "metadata": {},
   "outputs": [],
   "source": [
    "relevantMetaColsL=[('SRAmeta',queryLabel),('SRAmeta','Study'),('SRAmeta','Sample'),('SRAmeta','Run'),('SRAmeta','ScientificName')]\n",
    "technical_meta_data_df_sub=technical_meta_data_df_hit[relevantMetaColsL]#[('SRAmeta',queryLabel)]"
   ]
  },
  {
   "cell_type": "code",
   "execution_count": 20,
   "metadata": {},
   "outputs": [],
   "source": [
    "designDf=technical_meta_data_df_sub['SRAmeta']\n",
    "#multI=designDf.set_index(designDf.columns.tolist())"
   ]
  },
  {
   "cell_type": "markdown",
   "metadata": {},
   "source": [
    "Top specie with data"
   ]
  },
  {
   "cell_type": "code",
   "execution_count": 21,
   "metadata": {
    "scrolled": true
   },
   "outputs": [
    {
     "data": {
      "text/plain": [
       "Homo_sapiens                      17564\n",
       "Mus_musculus                        203\n",
       "Geobacter_sulfurreducens_KN400        0\n",
       "Geodermatophilus_aquaeductus          0\n",
       "Geodermatophilus_amargosae            0\n",
       "Name: ScientificName, dtype: int64"
      ]
     },
     "execution_count": 21,
     "metadata": {},
     "output_type": "execute_result"
    }
   ],
   "source": [
    "designDf['ScientificName'].value_counts().head(n=5)"
   ]
  },
  {
   "cell_type": "code",
   "execution_count": 22,
   "metadata": {},
   "outputs": [],
   "source": [
    "querySpecie='Homo_sapiens'"
   ]
  },
  {
   "cell_type": "code",
   "execution_count": 23,
   "metadata": {},
   "outputs": [
    {
     "name": "stdout",
     "output_type": "stream",
     "text": [
      "CPU times: user 144 ms, sys: 4 ms, total: 148 ms\n",
      "Wall time: 167 ms\n"
     ]
    }
   ],
   "source": [
    "def loadDf(fname,mmap_mode='r'):\n",
    "    with open(fname+'.index.txt') as f:\n",
    "        myIndex=map(lambda s:s.replace(\"\\n\",\"\"), f.readlines())\n",
    "    with open(fname+'.columns.txt') as f:\n",
    "        myColumns=map(lambda s:s.replace(\"\\n\",\"\"), f.readlines())\n",
    "    tmpMatrix=np.load(fname+\".npy\",mmap_mode=mmap_mode)\n",
    "    tmpDf=pd.DataFrame(tmpMatrix,index=myIndex,columns=myColumns)\n",
    "    tmpDf.columns.name='Run'\n",
    "    return tmpDf\n",
    "baseDir='/home/jovyan/efs/all_seq/rnaseq_merged/' #Base directory\n",
    "expression_metric='tpm' #offer Kallisto expression metric: [\"tpm\",\"est_counts\"]\n",
    " #Check files in baseDir directory for more species\n",
    "data_matrix_dir=baseDir+'/{specie}.gene_symbol.{expression_metric}'.format(specie=querySpecie,\n",
    "                                            expression_metric=expression_metric)\n",
    "\n",
    "%time rnaseqDf=loadDf(data_matrix_dir)"
   ]
  },
  {
   "cell_type": "code",
   "execution_count": 24,
   "metadata": {
    "scrolled": true
   },
   "outputs": [
    {
     "name": "stdout",
     "output_type": "stream",
     "text": [
      "CPU times: user 52 ms, sys: 0 ns, total: 52 ms\n",
      "Wall time: 51.9 ms\n"
     ]
    }
   ],
   "source": [
    "%time designDf_specie=designDf[(designDf['ScientificName']==querySpecie)&(designDf.Run.isin(rnaseqDf.columns))]"
   ]
  },
  {
   "cell_type": "code",
   "execution_count": 25,
   "metadata": {},
   "outputs": [
    {
     "data": {
      "text/plain": [
       "queryLabel\n",
       "B-Cell          459\n",
       "T-Lymphocyte    904\n",
       "dtype: int64"
      ]
     },
     "execution_count": 25,
     "metadata": {},
     "output_type": "execute_result"
    }
   ],
   "source": [
    "designDf_specie.groupby(queryLabel).size()"
   ]
  },
  {
   "cell_type": "code",
   "execution_count": 26,
   "metadata": {},
   "outputs": [],
   "source": [
    "#3.2G \n",
    "designDf_subsampled=designDf_specie.sample(n=designDf_specie.shape[0]).groupby(queryLabel).head(n=2)"
   ]
  },
  {
   "cell_type": "code",
   "execution_count": 27,
   "metadata": {},
   "outputs": [],
   "source": [
    "queryDesignDf=designDf_specie"
   ]
  },
  {
   "cell_type": "markdown",
   "metadata": {},
   "source": [
    "### loading the expression matrix"
   ]
  },
  {
   "cell_type": "code",
   "execution_count": 28,
   "metadata": {},
   "outputs": [
    {
     "data": {
      "text/html": [
       "<div>\n",
       "<style scoped>\n",
       "    .dataframe tbody tr th:only-of-type {\n",
       "        vertical-align: middle;\n",
       "    }\n",
       "\n",
       "    .dataframe tbody tr th {\n",
       "        vertical-align: top;\n",
       "    }\n",
       "\n",
       "    .dataframe thead th {\n",
       "        text-align: right;\n",
       "    }\n",
       "</style>\n",
       "<table border=\"1\" class=\"dataframe\">\n",
       "  <thead>\n",
       "    <tr style=\"text-align: right;\">\n",
       "      <th></th>\n",
       "      <th>queryLabel</th>\n",
       "      <th>Study</th>\n",
       "      <th>Sample</th>\n",
       "      <th>Run</th>\n",
       "      <th>ScientificName</th>\n",
       "    </tr>\n",
       "  </thead>\n",
       "  <tbody>\n",
       "    <tr>\n",
       "      <th>ERR1797347</th>\n",
       "      <td>T-Lymphocyte</td>\n",
       "      <td>ERP020994</td>\n",
       "      <td>ERS1505447</td>\n",
       "      <td>ERR1797347</td>\n",
       "      <td>Homo_sapiens</td>\n",
       "    </tr>\n",
       "    <tr>\n",
       "      <th>SRR2225461</th>\n",
       "      <td>B-Cell</td>\n",
       "      <td>SRP062950</td>\n",
       "      <td>SRS1047417</td>\n",
       "      <td>SRR2225461</td>\n",
       "      <td>Homo_sapiens</td>\n",
       "    </tr>\n",
       "    <tr>\n",
       "      <th>SRR519910</th>\n",
       "      <td>B-Cell</td>\n",
       "      <td>SRP014174</td>\n",
       "      <td>SRS349345</td>\n",
       "      <td>SRR519910</td>\n",
       "      <td>Homo_sapiens</td>\n",
       "    </tr>\n",
       "    <tr>\n",
       "      <th>ERR1797455</th>\n",
       "      <td>T-Lymphocyte</td>\n",
       "      <td>ERP020994</td>\n",
       "      <td>ERS1505474</td>\n",
       "      <td>ERR1797455</td>\n",
       "      <td>Homo_sapiens</td>\n",
       "    </tr>\n",
       "  </tbody>\n",
       "</table>\n",
       "</div>"
      ],
      "text/plain": [
       "              queryLabel      Study      Sample         Run ScientificName\n",
       "ERR1797347  T-Lymphocyte  ERP020994  ERS1505447  ERR1797347   Homo_sapiens\n",
       "SRR2225461        B-Cell  SRP062950  SRS1047417  SRR2225461   Homo_sapiens\n",
       "SRR519910         B-Cell  SRP014174   SRS349345   SRR519910   Homo_sapiens\n",
       "ERR1797455  T-Lymphocyte  ERP020994  ERS1505474  ERR1797455   Homo_sapiens"
      ]
     },
     "execution_count": 28,
     "metadata": {},
     "output_type": "execute_result"
    }
   ],
   "source": [
    "designDf_subsampled.head()"
   ]
  },
  {
   "cell_type": "code",
   "execution_count": 29,
   "metadata": {},
   "outputs": [
    {
     "name": "stdout",
     "output_type": "stream",
     "text": [
      "CPU times: user 984 ms, sys: 104 ms, total: 1.09 s\n",
      "Wall time: 1.09 s\n"
     ]
    }
   ],
   "source": [
    "%time hitDf=pd.DataFrame( list(map( lambda srrId: rnaseqDf[srrId],queryDesignDf.Run))).T"
   ]
  },
  {
   "cell_type": "code",
   "execution_count": 92,
   "metadata": {},
   "outputs": [],
   "source": [
    "hitDf.columns=queryDesignDf.set_index(queryDesignDf.columns.tolist()).index"
   ]
  },
  {
   "cell_type": "code",
   "execution_count": 182,
   "metadata": {},
   "outputs": [
    {
     "name": "stderr",
     "output_type": "stream",
     "text": [
      "/opt/conda/envs/skymap/lib/python3.6/site-packages/ipykernel/__main__.py:2: FutureWarning: Method .as_matrix will be removed in a future version. Use .values instead.\n",
      "  from ipykernel import kernelapp as app\n"
     ]
    }
   ],
   "source": [
    "float16=2**6\n",
    "hitDf.as_matrix()[hitDf.as_matrix()==inf]=float16"
   ]
  },
  {
   "cell_type": "markdown",
   "metadata": {},
   "source": [
    "#  Example Analysis\n"
   ]
  },
  {
   "cell_type": "code",
   "execution_count": 183,
   "metadata": {},
   "outputs": [],
   "source": [
    "inputAnalyzeDf=np.log2(hitDf+1)\n"
   ]
  },
  {
   "cell_type": "markdown",
   "metadata": {},
   "source": [
    "### PCA to show samples are grouped in the higher dimensional space"
   ]
  },
  {
   "cell_type": "code",
   "execution_count": 184,
   "metadata": {},
   "outputs": [],
   "source": [
    "inPcaDf=inputAnalyzeDf.T"
   ]
  },
  {
   "cell_type": "code",
   "execution_count": 185,
   "metadata": {},
   "outputs": [],
   "source": [
    "from sklearn import decomposition\n",
    "from numpy import inf\n"
   ]
  },
  {
   "cell_type": "code",
   "execution_count": 186,
   "metadata": {},
   "outputs": [],
   "source": [
    "PCA=decomposition.PCA(n_components=3)"
   ]
  },
  {
   "cell_type": "code",
   "execution_count": 187,
   "metadata": {},
   "outputs": [],
   "source": [
    "pcaM=PCA.fit_transform((inPcaDf))"
   ]
  },
  {
   "cell_type": "code",
   "execution_count": 188,
   "metadata": {},
   "outputs": [
    {
     "data": {
      "text/html": [
       "<div>\n",
       "<style scoped>\n",
       "    .dataframe tbody tr th:only-of-type {\n",
       "        vertical-align: middle;\n",
       "    }\n",
       "\n",
       "    .dataframe tbody tr th {\n",
       "        vertical-align: top;\n",
       "    }\n",
       "\n",
       "    .dataframe thead th {\n",
       "        text-align: right;\n",
       "    }\n",
       "</style>\n",
       "<table border=\"1\" class=\"dataframe\">\n",
       "  <thead>\n",
       "    <tr style=\"text-align: right;\">\n",
       "      <th></th>\n",
       "      <th></th>\n",
       "      <th></th>\n",
       "      <th></th>\n",
       "      <th></th>\n",
       "      <th>TRDD2</th>\n",
       "      <th>TRDD1</th>\n",
       "      <th>TRDD3</th>\n",
       "      <th>IGHD4-17</th>\n",
       "      <th>IGHD4-4</th>\n",
       "      <th>IGHD2-15</th>\n",
       "      <th>IGHD3-22</th>\n",
       "      <th>IGHD3-16</th>\n",
       "      <th>IGHD5-18</th>\n",
       "      <th>IGHD6-25</th>\n",
       "      <th>...</th>\n",
       "      <th>AC108729.3</th>\n",
       "      <th>AC025588.4</th>\n",
       "      <th>CYP2T3P</th>\n",
       "      <th>MTND4LP13</th>\n",
       "      <th>AC011840.4</th>\n",
       "      <th>AC055876.2</th>\n",
       "      <th>NBPF13P</th>\n",
       "      <th>AC107027.2</th>\n",
       "      <th>UBE2Q2P12</th>\n",
       "      <th>BX119321.1</th>\n",
       "    </tr>\n",
       "    <tr>\n",
       "      <th>queryLabel</th>\n",
       "      <th>Study</th>\n",
       "      <th>Sample</th>\n",
       "      <th>Run</th>\n",
       "      <th>ScientificName</th>\n",
       "      <th></th>\n",
       "      <th></th>\n",
       "      <th></th>\n",
       "      <th></th>\n",
       "      <th></th>\n",
       "      <th></th>\n",
       "      <th></th>\n",
       "      <th></th>\n",
       "      <th></th>\n",
       "      <th></th>\n",
       "      <th></th>\n",
       "      <th></th>\n",
       "      <th></th>\n",
       "      <th></th>\n",
       "      <th></th>\n",
       "      <th></th>\n",
       "      <th></th>\n",
       "      <th></th>\n",
       "      <th></th>\n",
       "      <th></th>\n",
       "      <th></th>\n",
       "    </tr>\n",
       "  </thead>\n",
       "  <tbody>\n",
       "    <tr>\n",
       "      <th rowspan=\"5\" valign=\"top\">B-Cell</th>\n",
       "      <th rowspan=\"2\" valign=\"top\">SRP015715</th>\n",
       "      <th>SRS362251</th>\n",
       "      <th>SRR567561</th>\n",
       "      <th>Homo_sapiens</th>\n",
       "      <td>0.0</td>\n",
       "      <td>0.0</td>\n",
       "      <td>0.0</td>\n",
       "      <td>0.0</td>\n",
       "      <td>0.0</td>\n",
       "      <td>0.00000</td>\n",
       "      <td>0.000000</td>\n",
       "      <td>0.000000</td>\n",
       "      <td>0.0</td>\n",
       "      <td>0.0</td>\n",
       "      <td>...</td>\n",
       "      <td>0.0</td>\n",
       "      <td>0.0</td>\n",
       "      <td>0.162354</td>\n",
       "      <td>0.791016</td>\n",
       "      <td>1.319336</td>\n",
       "      <td>2.488281</td>\n",
       "      <td>0.048492</td>\n",
       "      <td>0.0</td>\n",
       "      <td>1.319336</td>\n",
       "      <td>0.000000</td>\n",
       "    </tr>\n",
       "    <tr>\n",
       "      <th>SRS362252</th>\n",
       "      <th>SRR567562</th>\n",
       "      <th>Homo_sapiens</th>\n",
       "      <td>0.0</td>\n",
       "      <td>0.0</td>\n",
       "      <td>0.0</td>\n",
       "      <td>0.0</td>\n",
       "      <td>0.0</td>\n",
       "      <td>0.00000</td>\n",
       "      <td>0.000000</td>\n",
       "      <td>0.000000</td>\n",
       "      <td>0.0</td>\n",
       "      <td>0.0</td>\n",
       "      <td>...</td>\n",
       "      <td>0.0</td>\n",
       "      <td>0.0</td>\n",
       "      <td>0.441895</td>\n",
       "      <td>0.000000</td>\n",
       "      <td>0.277344</td>\n",
       "      <td>3.513672</td>\n",
       "      <td>0.007027</td>\n",
       "      <td>0.0</td>\n",
       "      <td>0.000000</td>\n",
       "      <td>0.000000</td>\n",
       "    </tr>\n",
       "    <tr>\n",
       "      <th rowspan=\"2\" valign=\"top\">SRP045500</th>\n",
       "      <th>SRS684342</th>\n",
       "      <th>SRR1551103</th>\n",
       "      <th>Homo_sapiens</th>\n",
       "      <td>0.0</td>\n",
       "      <td>0.0</td>\n",
       "      <td>0.0</td>\n",
       "      <td>0.0</td>\n",
       "      <td>0.0</td>\n",
       "      <td>5.31250</td>\n",
       "      <td>0.000000</td>\n",
       "      <td>2.242188</td>\n",
       "      <td>0.0</td>\n",
       "      <td>0.0</td>\n",
       "      <td>...</td>\n",
       "      <td>0.0</td>\n",
       "      <td>0.0</td>\n",
       "      <td>0.000000</td>\n",
       "      <td>0.000000</td>\n",
       "      <td>1.963867</td>\n",
       "      <td>1.356445</td>\n",
       "      <td>0.802734</td>\n",
       "      <td>0.0</td>\n",
       "      <td>0.000000</td>\n",
       "      <td>0.064758</td>\n",
       "    </tr>\n",
       "    <tr>\n",
       "      <th>SRS684323</th>\n",
       "      <th>SRR1551084</th>\n",
       "      <th>Homo_sapiens</th>\n",
       "      <td>0.0</td>\n",
       "      <td>0.0</td>\n",
       "      <td>0.0</td>\n",
       "      <td>0.0</td>\n",
       "      <td>0.0</td>\n",
       "      <td>2.28125</td>\n",
       "      <td>1.550781</td>\n",
       "      <td>4.800781</td>\n",
       "      <td>0.0</td>\n",
       "      <td>0.0</td>\n",
       "      <td>...</td>\n",
       "      <td>0.0</td>\n",
       "      <td>0.0</td>\n",
       "      <td>0.226440</td>\n",
       "      <td>0.000000</td>\n",
       "      <td>2.078125</td>\n",
       "      <td>0.450195</td>\n",
       "      <td>1.023438</td>\n",
       "      <td>0.0</td>\n",
       "      <td>0.693359</td>\n",
       "      <td>0.000000</td>\n",
       "    </tr>\n",
       "    <tr>\n",
       "      <th>SRP077016</th>\n",
       "      <th>SRS1523416</th>\n",
       "      <th>SRR3714038</th>\n",
       "      <th>Homo_sapiens</th>\n",
       "      <td>0.0</td>\n",
       "      <td>0.0</td>\n",
       "      <td>0.0</td>\n",
       "      <td>0.0</td>\n",
       "      <td>0.0</td>\n",
       "      <td>4.40625</td>\n",
       "      <td>4.406250</td>\n",
       "      <td>4.656250</td>\n",
       "      <td>0.0</td>\n",
       "      <td>0.0</td>\n",
       "      <td>...</td>\n",
       "      <td>0.0</td>\n",
       "      <td>0.0</td>\n",
       "      <td>0.772949</td>\n",
       "      <td>1.216797</td>\n",
       "      <td>0.839355</td>\n",
       "      <td>3.068359</td>\n",
       "      <td>0.312988</td>\n",
       "      <td>0.0</td>\n",
       "      <td>0.000000</td>\n",
       "      <td>0.000000</td>\n",
       "    </tr>\n",
       "  </tbody>\n",
       "</table>\n",
       "<p>5 rows × 34739 columns</p>\n",
       "</div>"
      ],
      "text/plain": [
       "                                                           TRDD2  TRDD1  \\\n",
       "queryLabel Study     Sample     Run        ScientificName                 \n",
       "B-Cell     SRP015715 SRS362251  SRR567561  Homo_sapiens      0.0    0.0   \n",
       "                     SRS362252  SRR567562  Homo_sapiens      0.0    0.0   \n",
       "           SRP045500 SRS684342  SRR1551103 Homo_sapiens      0.0    0.0   \n",
       "                     SRS684323  SRR1551084 Homo_sapiens      0.0    0.0   \n",
       "           SRP077016 SRS1523416 SRR3714038 Homo_sapiens      0.0    0.0   \n",
       "\n",
       "                                                           TRDD3  IGHD4-17  \\\n",
       "queryLabel Study     Sample     Run        ScientificName                    \n",
       "B-Cell     SRP015715 SRS362251  SRR567561  Homo_sapiens      0.0       0.0   \n",
       "                     SRS362252  SRR567562  Homo_sapiens      0.0       0.0   \n",
       "           SRP045500 SRS684342  SRR1551103 Homo_sapiens      0.0       0.0   \n",
       "                     SRS684323  SRR1551084 Homo_sapiens      0.0       0.0   \n",
       "           SRP077016 SRS1523416 SRR3714038 Homo_sapiens      0.0       0.0   \n",
       "\n",
       "                                                           IGHD4-4  IGHD2-15  \\\n",
       "queryLabel Study     Sample     Run        ScientificName                      \n",
       "B-Cell     SRP015715 SRS362251  SRR567561  Homo_sapiens        0.0   0.00000   \n",
       "                     SRS362252  SRR567562  Homo_sapiens        0.0   0.00000   \n",
       "           SRP045500 SRS684342  SRR1551103 Homo_sapiens        0.0   5.31250   \n",
       "                     SRS684323  SRR1551084 Homo_sapiens        0.0   2.28125   \n",
       "           SRP077016 SRS1523416 SRR3714038 Homo_sapiens        0.0   4.40625   \n",
       "\n",
       "                                                           IGHD3-22  IGHD3-16  \\\n",
       "queryLabel Study     Sample     Run        ScientificName                       \n",
       "B-Cell     SRP015715 SRS362251  SRR567561  Homo_sapiens    0.000000  0.000000   \n",
       "                     SRS362252  SRR567562  Homo_sapiens    0.000000  0.000000   \n",
       "           SRP045500 SRS684342  SRR1551103 Homo_sapiens    0.000000  2.242188   \n",
       "                     SRS684323  SRR1551084 Homo_sapiens    1.550781  4.800781   \n",
       "           SRP077016 SRS1523416 SRR3714038 Homo_sapiens    4.406250  4.656250   \n",
       "\n",
       "                                                           IGHD5-18  IGHD6-25  \\\n",
       "queryLabel Study     Sample     Run        ScientificName                       \n",
       "B-Cell     SRP015715 SRS362251  SRR567561  Homo_sapiens         0.0       0.0   \n",
       "                     SRS362252  SRR567562  Homo_sapiens         0.0       0.0   \n",
       "           SRP045500 SRS684342  SRR1551103 Homo_sapiens         0.0       0.0   \n",
       "                     SRS684323  SRR1551084 Homo_sapiens         0.0       0.0   \n",
       "           SRP077016 SRS1523416 SRR3714038 Homo_sapiens         0.0       0.0   \n",
       "\n",
       "                                                              ...      \\\n",
       "queryLabel Study     Sample     Run        ScientificName     ...       \n",
       "B-Cell     SRP015715 SRS362251  SRR567561  Homo_sapiens       ...       \n",
       "                     SRS362252  SRR567562  Homo_sapiens       ...       \n",
       "           SRP045500 SRS684342  SRR1551103 Homo_sapiens       ...       \n",
       "                     SRS684323  SRR1551084 Homo_sapiens       ...       \n",
       "           SRP077016 SRS1523416 SRR3714038 Homo_sapiens       ...       \n",
       "\n",
       "                                                           AC108729.3  \\\n",
       "queryLabel Study     Sample     Run        ScientificName               \n",
       "B-Cell     SRP015715 SRS362251  SRR567561  Homo_sapiens           0.0   \n",
       "                     SRS362252  SRR567562  Homo_sapiens           0.0   \n",
       "           SRP045500 SRS684342  SRR1551103 Homo_sapiens           0.0   \n",
       "                     SRS684323  SRR1551084 Homo_sapiens           0.0   \n",
       "           SRP077016 SRS1523416 SRR3714038 Homo_sapiens           0.0   \n",
       "\n",
       "                                                           AC025588.4  \\\n",
       "queryLabel Study     Sample     Run        ScientificName               \n",
       "B-Cell     SRP015715 SRS362251  SRR567561  Homo_sapiens           0.0   \n",
       "                     SRS362252  SRR567562  Homo_sapiens           0.0   \n",
       "           SRP045500 SRS684342  SRR1551103 Homo_sapiens           0.0   \n",
       "                     SRS684323  SRR1551084 Homo_sapiens           0.0   \n",
       "           SRP077016 SRS1523416 SRR3714038 Homo_sapiens           0.0   \n",
       "\n",
       "                                                            CYP2T3P  \\\n",
       "queryLabel Study     Sample     Run        ScientificName             \n",
       "B-Cell     SRP015715 SRS362251  SRR567561  Homo_sapiens    0.162354   \n",
       "                     SRS362252  SRR567562  Homo_sapiens    0.441895   \n",
       "           SRP045500 SRS684342  SRR1551103 Homo_sapiens    0.000000   \n",
       "                     SRS684323  SRR1551084 Homo_sapiens    0.226440   \n",
       "           SRP077016 SRS1523416 SRR3714038 Homo_sapiens    0.772949   \n",
       "\n",
       "                                                           MTND4LP13  \\\n",
       "queryLabel Study     Sample     Run        ScientificName              \n",
       "B-Cell     SRP015715 SRS362251  SRR567561  Homo_sapiens     0.791016   \n",
       "                     SRS362252  SRR567562  Homo_sapiens     0.000000   \n",
       "           SRP045500 SRS684342  SRR1551103 Homo_sapiens     0.000000   \n",
       "                     SRS684323  SRR1551084 Homo_sapiens     0.000000   \n",
       "           SRP077016 SRS1523416 SRR3714038 Homo_sapiens     1.216797   \n",
       "\n",
       "                                                           AC011840.4  \\\n",
       "queryLabel Study     Sample     Run        ScientificName               \n",
       "B-Cell     SRP015715 SRS362251  SRR567561  Homo_sapiens      1.319336   \n",
       "                     SRS362252  SRR567562  Homo_sapiens      0.277344   \n",
       "           SRP045500 SRS684342  SRR1551103 Homo_sapiens      1.963867   \n",
       "                     SRS684323  SRR1551084 Homo_sapiens      2.078125   \n",
       "           SRP077016 SRS1523416 SRR3714038 Homo_sapiens      0.839355   \n",
       "\n",
       "                                                           AC055876.2  \\\n",
       "queryLabel Study     Sample     Run        ScientificName               \n",
       "B-Cell     SRP015715 SRS362251  SRR567561  Homo_sapiens      2.488281   \n",
       "                     SRS362252  SRR567562  Homo_sapiens      3.513672   \n",
       "           SRP045500 SRS684342  SRR1551103 Homo_sapiens      1.356445   \n",
       "                     SRS684323  SRR1551084 Homo_sapiens      0.450195   \n",
       "           SRP077016 SRS1523416 SRR3714038 Homo_sapiens      3.068359   \n",
       "\n",
       "                                                            NBPF13P  \\\n",
       "queryLabel Study     Sample     Run        ScientificName             \n",
       "B-Cell     SRP015715 SRS362251  SRR567561  Homo_sapiens    0.048492   \n",
       "                     SRS362252  SRR567562  Homo_sapiens    0.007027   \n",
       "           SRP045500 SRS684342  SRR1551103 Homo_sapiens    0.802734   \n",
       "                     SRS684323  SRR1551084 Homo_sapiens    1.023438   \n",
       "           SRP077016 SRS1523416 SRR3714038 Homo_sapiens    0.312988   \n",
       "\n",
       "                                                           AC107027.2  \\\n",
       "queryLabel Study     Sample     Run        ScientificName               \n",
       "B-Cell     SRP015715 SRS362251  SRR567561  Homo_sapiens           0.0   \n",
       "                     SRS362252  SRR567562  Homo_sapiens           0.0   \n",
       "           SRP045500 SRS684342  SRR1551103 Homo_sapiens           0.0   \n",
       "                     SRS684323  SRR1551084 Homo_sapiens           0.0   \n",
       "           SRP077016 SRS1523416 SRR3714038 Homo_sapiens           0.0   \n",
       "\n",
       "                                                           UBE2Q2P12  \\\n",
       "queryLabel Study     Sample     Run        ScientificName              \n",
       "B-Cell     SRP015715 SRS362251  SRR567561  Homo_sapiens     1.319336   \n",
       "                     SRS362252  SRR567562  Homo_sapiens     0.000000   \n",
       "           SRP045500 SRS684342  SRR1551103 Homo_sapiens     0.000000   \n",
       "                     SRS684323  SRR1551084 Homo_sapiens     0.693359   \n",
       "           SRP077016 SRS1523416 SRR3714038 Homo_sapiens     0.000000   \n",
       "\n",
       "                                                           BX119321.1  \n",
       "queryLabel Study     Sample     Run        ScientificName              \n",
       "B-Cell     SRP015715 SRS362251  SRR567561  Homo_sapiens      0.000000  \n",
       "                     SRS362252  SRR567562  Homo_sapiens      0.000000  \n",
       "           SRP045500 SRS684342  SRR1551103 Homo_sapiens      0.064758  \n",
       "                     SRS684323  SRR1551084 Homo_sapiens      0.000000  \n",
       "           SRP077016 SRS1523416 SRR3714038 Homo_sapiens      0.000000  \n",
       "\n",
       "[5 rows x 34739 columns]"
      ]
     },
     "execution_count": 188,
     "metadata": {},
     "output_type": "execute_result"
    }
   ],
   "source": [
    "inPcaDf.head()"
   ]
  },
  {
   "cell_type": "code",
   "execution_count": 189,
   "metadata": {},
   "outputs": [],
   "source": [
    "pcaDf=pd.DataFrame( data=pcaM,index=inPcaDf.index)"
   ]
  },
  {
   "cell_type": "code",
   "execution_count": 190,
   "metadata": {},
   "outputs": [],
   "source": [
    "%matplotlib inline\n",
    "import seaborn as sns"
   ]
  },
  {
   "cell_type": "code",
   "execution_count": 191,
   "metadata": {},
   "outputs": [
    {
     "data": {
      "text/plain": [
       "<seaborn.axisgrid.PairGrid at 0x7efd8c4a5710>"
      ]
     },
     "execution_count": 191,
     "metadata": {},
     "output_type": "execute_result"
    },
    {
     "data": {
      "image/png": "[encoded data removed]",
      "text/plain": [
       "<Figure size 466.625x360 with 6 Axes>"
      ]
     },
     "metadata": {
      "needs_background": "light"
     },
     "output_type": "display_data"
    }
   ],
   "source": [
    "plotPcs=[1,2]\n",
    "sns.pairplot(data=pcaDf.reset_index()[plotPcs+[queryLabel]],hue=queryLabel,plot_kws={'alpha':0.2})"
   ]
  },
  {
   "cell_type": "markdown",
   "metadata": {},
   "source": [
    "### Volcano plot with t-test"
   ]
  },
  {
   "cell_type": "code",
   "execution_count": 192,
   "metadata": {},
   "outputs": [
    {
     "name": "stderr",
     "output_type": "stream",
     "text": [
      "/opt/conda/envs/skymap/lib/python3.6/site-packages/numpy/core/fromnumeric.py:83: RuntimeWarning: overflow encountered in reduce\n",
      "  return ufunc.reduce(obj, axis, dtype, out, **passkwargs)\n",
      "/opt/conda/envs/skymap/lib/python3.6/site-packages/scipy/stats/_distn_infrastructure.py:879: RuntimeWarning: invalid value encountered in greater\n",
      "  return (self.a < x) & (x < self.b)\n",
      "/opt/conda/envs/skymap/lib/python3.6/site-packages/scipy/stats/_distn_infrastructure.py:879: RuntimeWarning: invalid value encountered in less\n",
      "  return (self.a < x) & (x < self.b)\n",
      "/opt/conda/envs/skymap/lib/python3.6/site-packages/scipy/stats/_distn_infrastructure.py:1821: RuntimeWarning: invalid value encountered in less_equal\n",
      "  cond2 = cond0 & (x <= self.a)\n",
      "/opt/conda/envs/skymap/lib/python3.6/site-packages/ipykernel/__main__.py:10: RuntimeWarning: divide by zero encountered in log10\n"
     ]
    },
    {
     "data": {
      "image/png": "[encoded data removed]",
      "text/plain": [
       "<Figure size 432x288 with 1 Axes>"
      ]
     },
     "metadata": {
      "needs_background": "light"
     },
     "output_type": "display_data"
    }
   ],
   "source": [
    "labelA='B-Cell'\n",
    "labelB='T-Lymphocyte'\n",
    "annotateGenes=['TRGC1','IGHM']\n",
    "\n",
    "t,p=stats.ttest_ind(inputAnalyzeDf[labelA],inputAnalyzeDf[labelB],axis=1)\n",
    "\n",
    "effectDiff=inputAnalyzeDf[labelA].mean(axis=1)-inputAnalyzeDf[labelB].mean(axis=1)\n",
    "\n",
    "effectLabel='expression of : \"{}\" - \"{}\"'.format(labelA, labelB)\n",
    "tmpDf=pd.DataFrame({'t':t,'-log10(p)':-np.log10(p),effectLabel:effectDiff,'u':inputAnalyzeDf.mean(axis=1)},index=inputAnalyzeDf.index)\n",
    "#log2DataAverageMin=0.0\n",
    "plotDf=tmpDf[tmpDf['u']>=0]\n",
    "yLabel='-log10(p)'\n",
    "xLabel=effectLabel\n",
    "ax=plotDf.plot(x=xLabel,y=yLabel,kind='Scatter')\n",
    "\n",
    "annotDf=plotDf.loc[annotateGenes]\n",
    "\n",
    "for geneName, tmpS in annotDf.iterrows():\n",
    "    ax.annotate(xy=(tmpS.loc[xLabel],tmpS.loc[yLabel]),text=geneName)\n",
    "    "
   ]
  },
  {
   "cell_type": "code",
   "execution_count": 193,
   "metadata": {},
   "outputs": [],
   "source": [
    "rankS=tmpDf['-log10(p)'].fillna(1.0).sort_values().rank()/tmpDf.shape[0]"
   ]
  },
  {
   "cell_type": "code",
   "execution_count": 194,
   "metadata": {},
   "outputs": [
    {
     "name": "stdout",
     "output_type": "stream",
     "text": [
      "% rank of IGHM -log10(p) among up regulated genes: 0.9981815820236394\n"
     ]
    }
   ],
   "source": [
    "queryGene='IGHM'\n",
    "upRegDf=tmpDf[tmpDf[effectLabel]>0]\n",
    "rankOfGene=(upRegDf['-log10(p)'].rank()/upRegDf.shape[0]).loc[queryGene]\n",
    "print ('% rank of {} -log10(p) among up regulated genes:'.format(queryGene),rankOfGene)"
   ]
  },
  {
   "cell_type": "code",
   "execution_count": 195,
   "metadata": {},
   "outputs": [
    {
     "name": "stdout",
     "output_type": "stream",
     "text": [
      "% rank of TRGC1 -log10(p) among downregulated genes: 0.9869343255170027\n"
     ]
    }
   ],
   "source": [
    "queryGene='TRGC1'\n",
    "downRegDf=tmpDf[tmpDf[effectLabel]<0]\n",
    "rankOfGene=(downRegDf['-log10(p)'].rank()/downRegDf.shape[0]).loc[queryGene]\n",
    "print ('% rank of {} -log10(p) among downregulated genes:'.format(queryGene),rankOfGene)"
   ]
  },
  {
   "cell_type": "markdown",
   "metadata": {},
   "source": [
    "### Study correlation heatmap"
   ]
  },
  {
   "cell_type": "code",
   "execution_count": 196,
   "metadata": {},
   "outputs": [],
   "source": [
    "sigDf=inputAnalyzeDf.groupby(level=['queryLabel','Study'],axis=1).mean()"
   ]
  },
  {
   "cell_type": "code",
   "execution_count": 252,
   "metadata": {},
   "outputs": [],
   "source": [
    "#sigDf.isnull().any().any()"
   ]
  },
  {
   "cell_type": "code",
   "execution_count": 248,
   "metadata": {},
   "outputs": [],
   "source": [
    "corrDf=sigDf[sigDf.mad(axis=1)>np.log2(4+1)].corr()"
   ]
  },
  {
   "cell_type": "code",
   "execution_count": 249,
   "metadata": {},
   "outputs": [],
   "source": [
    "corrDf_valid=corrDf.loc[~corrDf.isnull().all(axis=1),~corrDf.isnull().all(axis=0)]"
   ]
  },
  {
   "cell_type": "code",
   "execution_count": 250,
   "metadata": {},
   "outputs": [
    {
     "data": {
      "text/plain": [
       "B-Cell            red\n",
       "T-Lymphocyte    green\n",
       "dtype: object"
      ]
     },
     "execution_count": 250,
     "metadata": {},
     "output_type": "execute_result"
    }
   ],
   "source": [
    "myColorL=['red','green','blue']\n",
    "labelToColorS=pd.Series(dict(zip(corrDf_valid.index.get_level_values('queryLabel').unique(),myColorL)))\n",
    "labelToColorS"
   ]
  },
  {
   "cell_type": "code",
   "execution_count": 255,
   "metadata": {},
   "outputs": [
    {
     "data": {
      "text/plain": [
       "<seaborn.matrix.ClusterGrid at 0x7efd897329e8>"
      ]
     },
     "execution_count": 255,
     "metadata": {},
     "output_type": "execute_result"
    },
    {
     "data": {
      "image/png": "[encoded data removed]",
      "text/plain": [
       "<Figure size 720x720 with 5 Axes>"
      ]
     },
     "metadata": {
      "needs_background": "light"
     },
     "output_type": "display_data"
    }
   ],
   "source": [
    "colors=labelToColorS[corrDf_valid.index.get_level_values('queryLabel')].values\n",
    "g=sns.clustermap(data=corrDf_valid,col_colors=colors,metric='euclidean')\n",
    "g"
   ]
  },
  {
   "cell_type": "markdown",
   "metadata": {},
   "source": [
    "# Caveats"
   ]
  },
  {
   "cell_type": "markdown",
   "metadata": {},
   "source": [
    "### Caveat: the mode of expression from public sequencing data usually don't have same center\n",
    "\n",
    "You might want to do a median/mean center in your dataset"
   ]
  },
  {
   "cell_type": "code",
   "execution_count": 200,
   "metadata": {},
   "outputs": [
    {
     "data": {
      "text/plain": [
       "(0.3562, 0.2487)"
      ]
     },
     "execution_count": 200,
     "metadata": {},
     "output_type": "execute_result"
    }
   ],
   "source": [
    "inputAnalyzeDf[labelA].mean(axis=1).median(),\\\n",
    "inputAnalyzeDf[labelB].mean(axis=1).median()"
   ]
  },
  {
   "cell_type": "markdown",
   "metadata": {},
   "source": [
    "### Caveat: Batch effect\n",
    "If the first PC (PC0 in the following plot) does not seperate the  experimental condition, this is most likely due to batch effect. Sometimes plotting second and third PC like the above plot will find the seperation.\n",
    "\n",
    "If it doesn't do the job, I recommend doing a simple z-score of the data before going down the route of using batch correction tools like: [Combat, SVR](https://journals.plos.org/plosgenetics/article?id=10.1371/journal.pgen.0030161) or DEseq. "
   ]
  },
  {
   "cell_type": "code",
   "execution_count": 164,
   "metadata": {},
   "outputs": [
    {
     "data": {
      "text/plain": [
       "<seaborn.axisgrid.PairGrid at 0x7efd8c783898>"
      ]
     },
     "execution_count": 164,
     "metadata": {},
     "output_type": "execute_result"
    },
    {
     "data": {
      "image/png": "[encoded data removed]",
      "text/plain": [
       "<Figure size 466.625x360 with 6 Axes>"
      ]
     },
     "metadata": {
      "needs_background": "light"
     },
     "output_type": "display_data"
    }
   ],
   "source": [
    "plotPcs=[0,1]\n",
    "sns.pairplot(data=pcaDf.reset_index()[plotPcs+[queryLabel]],hue=queryLabel,plot_kws={'alpha':0.2})"
   ]
  }
 ],
 "metadata": {
  "kernelspec": {
   "display_name": "Python [conda env:skymap]",
   "language": "python",
   "name": "conda-env-skymap-py"
  },
  "language_info": {
   "codemirror_mode": {
    "name": "ipython",
    "version": 3
   },
   "file_extension": ".py",
   "mimetype": "text/x-python",
   "name": "python",
   "nbconvert_exporter": "python",
   "pygments_lexer": "ipython3",
   "version": "3.6.6"
  }
 },
 "nbformat": 4,
 "nbformat_minor": 2
}
