{
 "cells": [
  {
   "cell_type": "code",
   "execution_count": null,
   "metadata": {
    "init_cell": true
   },
   "outputs": [],
   "source": [
    "import basicRNAseqAnalysis_imports"
   ]
  },
  {
   "cell_type": "code",
   "execution_count": null,
   "metadata": {},
   "outputs": [],
   "source": [
    "#!git mv skymap_widget_imports.py basicRNAseqAnalysis_imports.py "
   ]
  },
  {
   "cell_type": "markdown",
   "metadata": {},
   "source": [
    "# Search and compare RNA-seq profiles based on experimental conditions\n",
    "\n",
    "| Example comparison query | description|\n",
    "|---|---|\n",
    "| T-Cell, B-Cell | Differential expression analysis between profiles with annotation \"T-Cell\" and \"B-Cell\"|\n",
    "| single.\\*cell.\\*neuron, single.\\*cell.\\*glioblastoma | Differential expression analysis between profiles with annotation \"single cell neuron\" and \"single cell glioblastoma\"|\n",
    "\n",
    "Query format: Each query is a list of regulary expressions deliminated by a comma, where each regular expression define a group in the comparison. \n",
    "\n",
    "[Click here for more info on SkyMap](./README.ipynb)"
   ]
  },
  {
   "cell_type": "code",
   "execution_count": null,
   "metadata": {
    "init_cell": true
   },
   "outputs": [],
   "source": [
    "display(skymap_widget_imports.accordion)\n",
    "display(skymap_widget_imports.widget_specie)"
   ]
  },
  {
   "cell_type": "markdown",
   "metadata": {},
   "source": [
    "<br/>\n",
    "<br/>\n",
    "<br/>\n",
    "<br/>\n",
    "<br/>\n",
    "<br/>\n",
    "<br/>\n",
    "<br/>\n",
    "<br/>\n",
    "<br/>\n",
    "<br/>\n",
    "<br/>\n",
    "<br/>\n",
    "<br/>\n",
    "<br/>\n",
    "<br/>\n",
    "<br/>\n",
    "<br/>\n",
    "<br/>\n",
    "<br/>\n",
    "<br/>\n",
    "<br/>\n",
    "<br/>\n",
    "<br/>\n",
    "<br/>\n",
    "<br/>\n",
    "<br/>\n",
    "<br/>\n",
    "<br/>\n",
    "<br/>\n",
    "<br/>\n",
    "<br/>\n",
    "<br/>\n",
    "<br/>\n",
    "<br/>\n",
    "<br/>\n",
    "<br/>\n",
    "<br/>\n",
    "<br/>\n",
    "<br/>\n",
    "<br/>\n",
    "<br/>\n",
    "<br/>\n",
    "<br/>\n",
    "<br/>\n",
    "<br/>\n",
    "<br/>\n",
    "<br/>\n"
   ]
  },
  {
   "cell_type": "markdown",
   "metadata": {},
   "source": [
    "### Example analysis: Simple differential expression analysis between the thousands of human B-Cells and T-Lymphocytes expression profiles  \n",
    "\n",
    "\n",
    "\n",
    "This notebook is a template which consist of the following steps:\n",
    "1. Setting input free-text regex queries to define the classes of experimental conditions (queryLabelToRegexDict)\n",
    "2. Querying the reprocessed data which consist of >400,000 expression profiles\n",
    "3. Generate a fully annotated expression matrix\n",
    "4. DE analysis like volcano plot, correlation heatmap and PCA. (Most plots are interactive, u can download with a simple click)"
   ]
  },
  {
   "cell_type": "markdown",
   "metadata": {},
   "source": [
    "### More parameters: \n",
    "\n",
    "expression_metric: Those are Kallisto expression metric: \"tpm\",\"est_counts\"\n",
    "baseDir: if run locally, change it to mirror our path."
   ]
  },
  {
   "cell_type": "code",
   "execution_count": null,
   "metadata": {},
   "outputs": [],
   "source": [
    "from  skymap_widget_imports import *\n",
    "import re"
   ]
  },
  {
   "cell_type": "code",
   "execution_count": null,
   "metadata": {},
   "outputs": [],
   "source": [
    "expression_metric='tpm' #"
   ]
  },
  {
   "cell_type": "code",
   "execution_count": null,
   "metadata": {},
   "outputs": [],
   "source": [
    "querySpecie=skymap_widget_imports.widget_specie.get_interact_value()"
   ]
  },
  {
   "cell_type": "code",
   "execution_count": null,
   "metadata": {},
   "outputs": [],
   "source": [
    "queryStr=skymap_widget_imports.widget_query.get_interact_value()\n",
    "\n",
    "listOfQueries=re.split(\" *, *\", queryStr)\n",
    "\n",
    "if len(queryStr)<5:\n",
    "    raise ValueError('Please provide a query with more than 5 characters')\n",
    "if len(listOfQueries)<2:\n",
    "    raise ValueError('Please provide a query with more than 2 conditions')\n"
   ]
  },
  {
   "cell_type": "code",
   "execution_count": null,
   "metadata": {},
   "outputs": [],
   "source": [
    "queryLabelToRegexDict=dict(zip(listOfQueries,listOfQueries))"
   ]
  },
  {
   "cell_type": "markdown",
   "metadata": {},
   "source": [
    "# Data loading"
   ]
  },
  {
   "cell_type": "markdown",
   "metadata": {},
   "source": [
    "### load in SRS biospecieman annotations"
   ]
  },
  {
   "cell_type": "code",
   "execution_count": null,
   "metadata": {},
   "outputs": [],
   "source": [
    "%matplotlib notebook\n",
    "\n",
    "import pandas as pd\n",
    "import numpy as np\n",
    "\n",
    "allSRS_pickle_dir='/home/jovyan/efs/all_seq/meta_data/allSRS.with_processed_data.flat.pickle.gz'\n",
    "%time allSRS=pd.read_pickle(allSRS_pickle_dir)\n",
    "allSRS.index.names=['SRS']"
   ]
  },
  {
   "cell_type": "markdown",
   "metadata": {},
   "source": [
    "### load in technical metadata"
   ]
  },
  {
   "cell_type": "code",
   "execution_count": null,
   "metadata": {},
   "outputs": [],
   "source": [
    "sra_dump_pickle_dir='/home/jovyan/efs/all_seq/meta_data/sra_dump.fastqc.bowtie_algn.pickle'\n",
    "%time technical_meta_data_df=pd.read_pickle(sra_dump_pickle_dir)\n",
    "technical_meta_data_df[('SRAmeta','Run')]=technical_meta_data_df.index"
   ]
  },
  {
   "cell_type": "markdown",
   "metadata": {},
   "source": [
    "### load the expression matrix\n",
    "\n",
    "Check files in baseDir directory for more species"
   ]
  },
  {
   "cell_type": "code",
   "execution_count": null,
   "metadata": {},
   "outputs": [],
   "source": [
    "def loadDf(fname,mmap_mode='r'):\n",
    "    with open(fname+'.index.txt') as f:\n",
    "        myIndex=map(lambda s:s.replace(\"\\n\",\"\"), f.readlines())\n",
    "    with open(fname+'.columns.txt') as f:\n",
    "        myColumns=map(lambda s:s.replace(\"\\n\",\"\"), f.readlines())\n",
    "    tmpMatrix=np.load(fname+\".npy\",mmap_mode=mmap_mode)\n",
    "    tmpDf=pd.DataFrame(tmpMatrix,index=myIndex,columns=myColumns)\n",
    "    tmpDf.columns.name='Run'\n",
    "    return tmpDf\n",
    "data_matrix_dir=baseDir+'/{specie}.gene_symbol.{expression_metric}'.format(specie=querySpecie,\n",
    "                                            expression_metric=expression_metric)\n",
    "\n",
    "%time rnaseqDf=loadDf(data_matrix_dir)"
   ]
  },
  {
   "cell_type": "markdown",
   "metadata": {},
   "source": [
    "# Find the relevent SRS (Sample  IDs)  \n"
   ]
  },
  {
   "cell_type": "code",
   "execution_count": null,
   "metadata": {},
   "outputs": [],
   "source": [
    "myL=[]\n",
    "for  queryRegex in queryLabelToRegexDict.values():\n",
    "    %time hitSrsS=allSRS[allSRS.str.contains(queryRegex,case=False)]\n",
    "    myL.append(hitSrsS)\n",
    "\n",
    "queryLabel='queryLabel'\n",
    "mergeS=pd.concat(myL,keys=queryLabelToRegexDict.keys(),names=[queryLabel])\n",
    "mergeS_noDup=mergeS.groupby(['SRS','queryLabel']).first()\n",
    "unqiueHitMask=mergeS_noDup.groupby('SRS').size()==1\n",
    "unqiueHitSrs=unqiueHitMask.index[unqiueHitMask]\n",
    "mergeS_noDup_unique=mergeS_noDup[mergeS_noDup.index.get_level_values('SRS').isin(unqiueHitSrs)]"
   ]
  },
  {
   "cell_type": "markdown",
   "metadata": {},
   "source": [
    "Number of SRS per query class"
   ]
  },
  {
   "cell_type": "code",
   "execution_count": null,
   "metadata": {},
   "outputs": [],
   "source": [
    "mergeS_noDup_unique.groupby(queryLabel).size()"
   ]
  },
  {
   "cell_type": "code",
   "execution_count": null,
   "metadata": {},
   "outputs": [],
   "source": [
    "srsToClasses_all=mergeS_noDup_unique.reset_index().set_index(['SRS'])['queryLabel']\n",
    "\n",
    "srsToClasses=srsToClasses_all"
   ]
  },
  {
   "cell_type": "markdown",
   "metadata": {},
   "source": [
    "### map SRS Ids to SRR Ids"
   ]
  },
  {
   "cell_type": "code",
   "execution_count": null,
   "metadata": {},
   "outputs": [],
   "source": [
    "m_SRAMeta=technical_meta_data_df[('SRAmeta','Sample')].isin(srsToClasses.index)\n",
    "technical_meta_data_df_hit=technical_meta_data_df[m_SRAMeta]\n",
    "\n",
    "SRAMetasrsCorrespondingQuery=srsToClasses.loc[technical_meta_data_df_hit[('SRAmeta','Sample')]].values\n",
    "technical_meta_data_df_hit[('SRAmeta',queryLabel)]=SRAMetasrsCorrespondingQuery\n",
    "relevantMetaColsL=[('SRAmeta',queryLabel),('SRAmeta','Study'),('SRAmeta','Sample'),('SRAmeta','Run'),('SRAmeta','ScientificName')]\n",
    "technical_meta_data_df_sub=technical_meta_data_df_hit[relevantMetaColsL]\n",
    "designDf=technical_meta_data_df_sub['SRAmeta']"
   ]
  },
  {
   "cell_type": "markdown",
   "metadata": {},
   "source": [
    "Top species with reprocessed data"
   ]
  },
  {
   "cell_type": "code",
   "execution_count": null,
   "metadata": {},
   "outputs": [],
   "source": [
    "designDf.groupby(['queryLabel','ScientificName']).size()"
   ]
  },
  {
   "cell_type": "code",
   "execution_count": null,
   "metadata": {},
   "outputs": [],
   "source": [
    "hitSrsAllAnnotS=allSRS[alxlSRS.index.get_level_values('SRS').isin(mergeS.index.get_level_values('SRS'))]"
   ]
  },
  {
   "cell_type": "code",
   "execution_count": null,
   "metadata": {},
   "outputs": [],
   "source": [
    "srsToTextS=hitSrsAllAnnotS"
   ]
  },
  {
   "cell_type": "code",
   "execution_count": null,
   "metadata": {},
   "outputs": [],
   "source": [
    "srsToTextS=pd.Series(data=\"NCBI SRA SRS:\"+srsToTextS.index+' <br> '+srsToTextS.values,index=srsToTextS.index)"
   ]
  },
  {
   "cell_type": "code",
   "execution_count": null,
   "metadata": {},
   "outputs": [],
   "source": [
    "designDf['Description']=srsToTextS[designDf.Sample].values"
   ]
  },
  {
   "cell_type": "code",
   "execution_count": null,
   "metadata": {},
   "outputs": [],
   "source": [
    "%time designDf_specie=designDf[(designDf['ScientificName']==querySpecie)&(designDf.Run.isin(rnaseqDf.columns))]\n",
    "queryDesignDf=designDf_specie"
   ]
  },
  {
   "cell_type": "markdown",
   "metadata": {},
   "source": [
    "Number of samples per query class with data"
   ]
  },
  {
   "cell_type": "code",
   "execution_count": null,
   "metadata": {},
   "outputs": [],
   "source": [
    "designDf_specie.groupby(queryLabel).size()"
   ]
  },
  {
   "cell_type": "code",
   "execution_count": null,
   "metadata": {},
   "outputs": [],
   "source": [
    "%time hitDf=pd.DataFrame( list(map( lambda srrId: rnaseqDf[srrId],queryDesignDf.Run))).T\n",
    "hitDf.columns=queryDesignDf.set_index(queryDesignDf.columns.tolist()).index"
   ]
  },
  {
   "cell_type": "markdown",
   "metadata": {},
   "source": [
    "### Output:  fully annnotated matrix matrix\n",
    "\n",
    "Example layout is listed in the cell below"
   ]
  },
  {
   "cell_type": "code",
   "execution_count": null,
   "metadata": {},
   "outputs": [],
   "source": [
    "hitDf.head()"
   ]
  },
  {
   "cell_type": "markdown",
   "metadata": {},
   "source": [
    "#  Example analysis with output matrix\n"
   ]
  },
  {
   "cell_type": "code",
   "execution_count": null,
   "metadata": {},
   "outputs": [],
   "source": [
    "inputAnalyzeDf=np.log2(hitDf+1)"
   ]
  },
  {
   "cell_type": "markdown",
   "metadata": {},
   "source": [
    "### Interactive PCA 2D\n",
    "to show that samples are grouped in the higher dimensional space according to the class"
   ]
  },
  {
   "cell_type": "code",
   "execution_count": null,
   "metadata": {},
   "outputs": [],
   "source": [
    "#plotPcs=[0,1]\n",
    "\n",
    "inPcaDf=inputAnalyzeDf.T\n",
    "\n",
    "from sklearn import decomposition\n",
    "import seaborn as sns\n",
    "import plotly.graph_objs as go\n",
    "from plotly.offline import iplot, init_notebook_mode\n",
    "init_notebook_mode()\n",
    "\n",
    "\n",
    "PCA=decomposition.PCA(n_components=3)\n",
    "pcaM=PCA.fit_transform((inPcaDf))\n",
    "pcaDf=pd.DataFrame( data=pcaM,index=inPcaDf.index)\n",
    "\n",
    "layout = go.Layout(\n",
    "    yaxis={'title':\"PC1\"},\n",
    "    xaxis={'title':\"PC0\"}\n",
    ")\n",
    "\n",
    "fig = go.Figure(layout=layout)\n",
    "for label, sub_pca_df in pcaDf.groupby('queryLabel'):\n",
    "    fig.add_scatter(x=sub_pca_df[0], y=sub_pca_df[1],\n",
    "                      name=label,\n",
    "                    hovertext=sub_pca_df.index.get_level_values('Description'),\n",
    "                    mode = 'markers')\n",
    "iplot(fig)"
   ]
  },
  {
   "cell_type": "markdown",
   "metadata": {},
   "source": [
    "### Interactive PCA 3D\n",
    "\n",
    "Sometimes the first PC is picking up just the batch effect. 3D visualization makes it lot easier to see the seperation"
   ]
  },
  {
   "cell_type": "code",
   "execution_count": null,
   "metadata": {},
   "outputs": [],
   "source": [
    "layout_3d = go.Layout(\n",
    "                    scene = dict(\n",
    "                    xaxis = dict(\n",
    "                        title='PC0'),\n",
    "                    yaxis = dict(\n",
    "                        title='PC1',),\n",
    "                    zaxis = dict(\n",
    "                        title='PC2',),),\n",
    "                  )\n",
    "\n",
    "fig = go.Figure(layout=layout_3d)\n",
    "for label, sub_pca_df in pcaDf.groupby('queryLabel'):\n",
    "    fig.add_scatter3d(x=sub_pca_df[0], y=sub_pca_df[1],z=sub_pca_df[2],\n",
    "                      name=label,\n",
    "                    hovertext=sub_pca_df.index.get_level_values('Description'),\n",
    "                    mode = 'markers')\n",
    "iplot(fig)"
   ]
  },
  {
   "cell_type": "markdown",
   "metadata": {},
   "source": [
    "### Interactive TSNE"
   ]
  },
  {
   "cell_type": "code",
   "execution_count": null,
   "metadata": {},
   "outputs": [],
   "source": [
    "from sklearn import manifold\n",
    "madS=inPcaDf.mad(axis=0).sort_values()\n",
    "genesWithVarianceL=madS.iloc[-1500:].index\n",
    "withDeviationDf=inPcaDf.loc[:,genesWithVarianceL]\n",
    "\n",
    "TSNE=manifold.TSNE(n_components=2)\n",
    "%time tsneM=TSNE.fit_transform((withDeviationDf))\n",
    "tsneDf=pd.DataFrame( data=tsneM,index=inPcaDf.index)\n",
    "\n",
    "fig = go.Figure()\n",
    "for label, sub_df in tsneDf.groupby('queryLabel'):\n",
    "    fig.add_scatter(x=sub_df[0], y=sub_df[1] ,name=label,\n",
    "                    hovertext=sub_df.index.get_level_values('Description'),\n",
    "                    mode = 'markers')\n",
    "iplot(fig)"
   ]
  },
  {
   "cell_type": "markdown",
   "metadata": {},
   "source": []
  },
  {
   "cell_type": "markdown",
   "metadata": {},
   "source": [
    "# Volcano plot with t-test\n",
    "\n",
    "To edit the query conditions to be compared in volcano plot:\n",
    "1. Change the group labels in the drop down widget below\n",
    "* Click on next next cell (Anywhere is fine), the cell that starts with \"from scipy import stats\"\n",
    "\n",
    "* Hit the \"Run\" button from the toolbar. \n"
   ]
  },
  {
   "cell_type": "code",
   "execution_count": null,
   "metadata": {},
   "outputs": [],
   "source": [
    "wA=widgets.Dropdown(\n",
    "    options=listOfQueries,\n",
    "    value=listOfQueries[0],\n",
    "    description='condition A:',\n",
    "    disabled=False,\n",
    ")\n",
    "wB=widgets.Dropdown(\n",
    "    options=listOfQueries,\n",
    "    value=listOfQueries[1],\n",
    "    description='condition B:',\n",
    "    disabled=False,\n",
    ")\n",
    "\n",
    "display(wA)\n",
    "display(wB)"
   ]
  },
  {
   "cell_type": "code",
   "execution_count": null,
   "metadata": {},
   "outputs": [],
   "source": [
    "from scipy import stats\n",
    "expression_effect_size_filter=0.0 \n",
    "labelA=wA.get_interact_value()\n",
    "labelB=wB.get_interact_value()\n",
    "t,p=stats.ttest_ind(inputAnalyzeDf[labelA],inputAnalyzeDf[labelB],axis=1)\n",
    "effectDiff=inputAnalyzeDf[labelA].mean(axis=1)-inputAnalyzeDf[labelB].mean(axis=1)\n",
    "effectLabel='expression of : \"{}\" - \"{}\"'.format(labelA, labelB)\n",
    "tmpDf=pd.DataFrame({'t':t,'-log10(p)':-np.log10(p),effectLabel:effectDiff,'u':inputAnalyzeDf.mean(axis=1)},index=inputAnalyzeDf.index)\n",
    "plotDf=tmpDf[tmpDf['u']>=expression_effect_size_filter].dropna()\n",
    "yLabel='-log10(p)'\n",
    "xLabel=effectLabel\n",
    "\n",
    "\n",
    "layout = go.Layout(\n",
    "    yaxis={'title':\"-log10(p)\"},\n",
    "    xaxis={'title':\"{} - {}\".format(labelA,labelB)}\n",
    ")\n",
    "fig = go.Figure(layout=layout)\n",
    "#m=plotDf.index.isin(annotateGenesList)\n",
    "fig.add_scatter( x=plotDf[xLabel][~m],y=plotDf[yLabel][~m],mode='markers',hovertext=plotDf.index.values,name='')\n",
    "#fig.add_scatter( x=plotDf[xLabel][m],y=plotDf[yLabel][m],mode='markers+text',text=plotDf[m].index.values,\n",
    "#                textposition='bottom center',\n",
    "#                name='Query annotation gene')\n",
    "iplot(fig)"
   ]
  },
  {
   "cell_type": "markdown",
   "metadata": {},
   "source": [
    "### Boxplot showing the expression level of a gene\n",
    "\n",
    "Feel free to change the annotateGenesList to something else"
   ]
  },
  {
   "cell_type": "code",
   "execution_count": null,
   "metadata": {},
   "outputs": [],
   "source": [
    "annotateGenesList=['GAPDH','TP53']#np.random.choice(inputAnalyzeDf.index,2) #['GAPDH','TP53']\n",
    "\n",
    "print ('Genes plotting: ',annotateGenesList)\n",
    "\n",
    "layout = go.Layout(\n",
    "    boxmode='group',\n",
    "yaxis={'title':\"Expression level of gene measured in log2 \"+expression_metric.upper()}\n",
    ")\n",
    "\n",
    "tmpDf=inputAnalyzeDf.loc[annotateGenesList].T.stack()#.reset_index()\n",
    "\n",
    "tmpDf2=tmpDf.reset_index(name='Expression')\n",
    "\n",
    "myL=[]\n",
    "for myQueryLabel,tmpDf3 in tmpDf2.groupby('queryLabel'):\n",
    "    myL.append(go.Box(name=myQueryLabel,y=tmpDf3['Expression'],x=tmpDf3['level_6']))\n",
    "    \n",
    "fig=go.Figure(data=myL,layout=layout)\n",
    "iplot(fig )"
   ]
  },
  {
   "cell_type": "markdown",
   "metadata": {},
   "source": [
    "### Study level condition correlation heatmap\n",
    "\n",
    "Useful for finding outliers"
   ]
  },
  {
   "cell_type": "code",
   "execution_count": null,
   "metadata": {},
   "outputs": [],
   "source": [
    "%matplotlib inline\n",
    "myColorL=['red','blue','green','orange','pink'] ##add more colors as you see fit\n",
    "sigDf=inputAnalyzeDf.groupby(level=['queryLabel','Study'],axis=1).mean()\n",
    "corrDf=sigDf[sigDf.mad(axis=1)>np.log2(5)].corr()\n",
    "corrDf_valid=corrDf.loc[~corrDf.isnull().all(axis=1),~corrDf.isnull().all(axis=0)]\n",
    "labelToColorS=pd.Series(dict(zip(corrDf_valid.index.get_level_values('queryLabel').unique(),myColorL)))\n",
    "print (labelToColorS)\n",
    "colors=labelToColorS[corrDf_valid.index.get_level_values('queryLabel')].values\n",
    "g=sns.clustermap(data=corrDf_valid,col_colors=colors,metric='euclidean',annot=True)\n",
    "g"
   ]
  },
  {
   "cell_type": "markdown",
   "metadata": {},
   "source": [
    "# Content page for completed results"
   ]
  },
  {
   "cell_type": "markdown",
   "metadata": {},
   "source": [
    "* [Output: fully annnotated matrix matrix](#Output:--fully-annnotated-matrix-matrix)\n",
    "* [Interactive PCA 2D](#Interactive-PCA-2D)\n",
    "* [Interactive PCA 3D](#Interactive-PCA-3D)\n",
    "* [Interactive TSNE](#Interactive-TSNE)\n",
    "* [Volcano plot with t-test](#Volcano-plot-with-t-test)\n",
    "* [Boxplot showing the expression level of a gene ](#Boxplot-showing-the-expression-level-of-a-gene)\n",
    "* [Study level condition correlation heatmap](#Study-level-condition-correlation-heatmap)"
   ]
  }
 ],
 "metadata": {
  "kernelspec": {
   "display_name": "Python 3",
   "language": "python",
   "name": "python3"
  },
  "language_info": {
   "codemirror_mode": {
    "name": "ipython",
    "version": 3
   },
   "file_extension": ".py",
   "mimetype": "text/x-python",
   "name": "python",
   "nbconvert_exporter": "python",
   "pygments_lexer": "ipython3",
   "version": "3.6.7"
  }
 },
 "nbformat": 4,
 "nbformat_minor": 2
}
