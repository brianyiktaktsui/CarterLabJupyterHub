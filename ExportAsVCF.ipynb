{
 "cells": [
  {
   "cell_type": "markdown",
   "metadata": {
    "heading_collapsed": true
   },
   "source": [
    "# Init"
   ]
  },
  {
   "cell_type": "code",
   "execution_count": 591,
   "metadata": {
    "hidden": true
   },
   "outputs": [],
   "source": [
    "import pandas as pd"
   ]
  },
  {
   "cell_type": "code",
   "execution_count": 592,
   "metadata": {
    "hidden": true
   },
   "outputs": [
    {
     "name": "stderr",
     "output_type": "stream",
     "text": [
      "/opt/conda/lib/python3.6/site-packages/IPython/core/interactiveshell.py:2785: DtypeWarning: Columns (0) have mixed types. Specify dtype option on import or set low_memory=False.\n",
      "  interactivity=interactivity, compiler=compiler, result=result)\n"
     ]
    }
   ],
   "source": [
    "vcfDf=pd.read_csv('/home/jovyan/efs/all_seq/meta_data/All_20170710.f1_byte2_not_00.vcf.gz'\n",
    "                  ,comment='#',sep='\\s+',header=None)"
   ]
  },
  {
   "cell_type": "code",
   "execution_count": 593,
   "metadata": {
    "hidden": true
   },
   "outputs": [],
   "source": [
    "vcfDf.columns=['CHROM', 'POS' ,  'ID' , 'REF' ,'ALT', 'QUAL' , 'FILTER', 'INFO']"
   ]
  },
  {
   "cell_type": "code",
   "execution_count": 594,
   "metadata": {
    "hidden": true
   },
   "outputs": [],
   "source": [
    "vcfDf[\"REF_len\"]=vcfDf['REF'].str.len()\n",
    "\n",
    "chromToPosRsId=vcfDf.sort_values('REF_len').groupby(['CHROM','POS'])['ID'].first()\n"
   ]
  },
  {
   "cell_type": "code",
   "execution_count": 595,
   "metadata": {
    "hidden": true
   },
   "outputs": [],
   "source": [
    "mergedDf_rd_reset=pd.read_pickle('mergedDf_rd_reset.pickle')"
   ]
  },
  {
   "cell_type": "code",
   "execution_count": 596,
   "metadata": {
    "hidden": true
   },
   "outputs": [],
   "source": [
    "altBaseDf=mergedDf_rd_reset[mergedDf_rd_reset.AltBase]"
   ]
  },
  {
   "cell_type": "code",
   "execution_count": 597,
   "metadata": {
    "hidden": true
   },
   "outputs": [],
   "source": [
    "refBaseDf=mergedDf_rd_reset[~mergedDf_rd_reset.AltBase]"
   ]
  },
  {
   "cell_type": "code",
   "execution_count": 598,
   "metadata": {
    "hidden": true
   },
   "outputs": [],
   "source": [
    "indexL=['Run_db','Run_digits','Chr','Pos']\n",
    "refDepth=refBaseDf.set_index(indexL)['ReadDepth']"
   ]
  },
  {
   "cell_type": "code",
   "execution_count": 599,
   "metadata": {
    "hidden": true
   },
   "outputs": [
    {
     "name": "stderr",
     "output_type": "stream",
     "text": [
      "/opt/conda/lib/python3.6/site-packages/ipykernel_launcher.py:1: SettingWithCopyWarning: \n",
      "A value is trying to be set on a copy of a slice from a DataFrame.\n",
      "Try using .loc[row_indexer,col_indexer] = value instead\n",
      "\n",
      "See the caveats in the documentation: http://pandas.pydata.org/pandas-docs/stable/indexing.html#indexing-view-versus-copy\n",
      "  \"\"\"Entry point for launching an IPython kernel.\n"
     ]
    }
   ],
   "source": [
    "altBaseDf['RefRD']=refDepth[altBaseDf.set_index(indexL).index].values"
   ]
  },
  {
   "cell_type": "code",
   "execution_count": 600,
   "metadata": {
    "hidden": true
   },
   "outputs": [
    {
     "name": "stderr",
     "output_type": "stream",
     "text": [
      "/opt/conda/lib/python3.6/site-packages/pandas/core/generic.py:5434: SettingWithCopyWarning: \n",
      "A value is trying to be set on a copy of a slice from a DataFrame\n",
      "\n",
      "See the caveats in the documentation: http://pandas.pydata.org/pandas-docs/stable/indexing.html#indexing-view-versus-copy\n",
      "  self._update_inplace(new_data)\n"
     ]
    }
   ],
   "source": [
    "altBaseDf['RefRD'].fillna(0,inplace=True)"
   ]
  },
  {
   "cell_type": "code",
   "execution_count": 619,
   "metadata": {
    "hidden": true
   },
   "outputs": [
    {
     "name": "stderr",
     "output_type": "stream",
     "text": [
      "/opt/conda/lib/python3.6/site-packages/ipykernel_launcher.py:1: SettingWithCopyWarning: \n",
      "A value is trying to be set on a copy of a slice from a DataFrame.\n",
      "Try using .loc[row_indexer,col_indexer] = value instead\n",
      "\n",
      "See the caveats in the documentation: http://pandas.pydata.org/pandas-docs/stable/indexing.html#indexing-view-versus-copy\n",
      "  \"\"\"Entry point for launching an IPython kernel.\n"
     ]
    }
   ],
   "source": [
    "altBaseDf['Run_str']=altBaseDf['Run_db'].astype(str)+altBaseDf['Run_digits'].astype(str)"
   ]
  },
  {
   "cell_type": "markdown",
   "metadata": {
    "hidden": true
   },
   "source": [
    "### get per sample altenative allele"
   ]
  },
  {
   "cell_type": "code",
   "execution_count": 620,
   "metadata": {
    "hidden": true
   },
   "outputs": [],
   "source": [
    "altBaseDf_reI=altBaseDf.set_index(['Chr','Pos','base','Run_str'])\n",
    "altRdFlatDf=altBaseDf_reI['ReadDepth'].unstack().fillna(0)"
   ]
  },
  {
   "cell_type": "markdown",
   "metadata": {
    "hidden": true
   },
   "source": []
  },
  {
   "cell_type": "code",
   "execution_count": 621,
   "metadata": {
    "hidden": true
   },
   "outputs": [],
   "source": [
    "RefRdFlatDf=altBaseDf_reI['RefRD'].unstack().fillna(0)"
   ]
  },
  {
   "cell_type": "code",
   "execution_count": 622,
   "metadata": {
    "hidden": true
   },
   "outputs": [],
   "source": [
    "AD=RefRdFlatDf.astype(int).astype('str')+':'+altRdFlatDf.astype(int).astype(str)"
   ]
  },
  {
   "cell_type": "code",
   "execution_count": 623,
   "metadata": {
    "hidden": true
   },
   "outputs": [],
   "source": [
    "sampleDf=AD"
   ]
  },
  {
   "cell_type": "markdown",
   "metadata": {
    "hidden": true
   },
   "source": [
    "### generate more info"
   ]
  },
  {
   "cell_type": "code",
   "execution_count": 624,
   "metadata": {
    "hidden": true
   },
   "outputs": [],
   "source": [
    "qualS=altBaseDf_reI.groupby(['Chr','Pos','base'])['AverageBaseQuality'].median()\n",
    "qualS.name='QUAL'\n",
    "\n",
    "refBase=altBaseDf_reI.groupby(['Chr','Pos','base'])['Ref'].first()\n",
    "refBase.name='REF'\n",
    "\n",
    "combinedDepth=(RefRdFlatDf+altRdFlatDf).sum(axis=1)\n",
    "\n",
    "poolAF=RefRdFlatDf.sum(axis=1)/(RefRdFlatDf.sum(axis=1)+altRdFlatDf.sum(axis=1))#.fillna(0)\n",
    "infoS=\"DP=\"+combinedDepth.astype(int).astype(str)+';AF='+poolAF.astype(str).str[:6]\n",
    "infoS.name='INFO'"
   ]
  },
  {
   "cell_type": "markdown",
   "metadata": {},
   "source": [
    "# Params"
   ]
  },
  {
   "cell_type": "code",
   "execution_count": 625,
   "metadata": {},
   "outputs": [],
   "source": [
    "thresholdForVars=0.05\n",
    "thresholdForDepth=10"
   ]
  },
  {
   "cell_type": "code",
   "execution_count": 626,
   "metadata": {},
   "outputs": [],
   "source": [
    "FilterS=((combinedDepth>thresholdForDepth)\n",
    "         &(poolAF>thresholdForVars)).map({True:'PASS',\n",
    "                                              False:'FAIL'})\n",
    "FilterS.name='FILTER'"
   ]
  },
  {
   "cell_type": "code",
   "execution_count": 628,
   "metadata": {},
   "outputs": [],
   "source": [
    "mergedDf=pd.concat([qualS,refBase,FilterS,infoS,combinedDepth,sampleDf],axis=1)#.reset_index()"
   ]
  },
  {
   "cell_type": "code",
   "execution_count": 629,
   "metadata": {},
   "outputs": [],
   "source": [
    "mergedDf.index.names=['#CHROM','POS','ALT']"
   ]
  },
  {
   "cell_type": "code",
   "execution_count": 630,
   "metadata": {},
   "outputs": [],
   "source": [
    "mergedDf_reI=mergedDf.reset_index()"
   ]
  },
  {
   "cell_type": "code",
   "execution_count": 631,
   "metadata": {},
   "outputs": [],
   "source": [
    "mergedDf_reI['ID']='-'"
   ]
  },
  {
   "cell_type": "code",
   "execution_count": 632,
   "metadata": {},
   "outputs": [],
   "source": [
    "mergedDf_reI['FORMAT']='AD'"
   ]
  },
  {
   "cell_type": "code",
   "execution_count": 633,
   "metadata": {},
   "outputs": [],
   "source": [
    "mandatoryCols=['#CHROM','POS','ID','REF','ALT','QUAL','FILTER','INFO','FORMAT']\n",
    "mergedDf_reordered=mergedDf_reI[mandatoryCols#\n",
    "                                +sampleDf.columns.tolist()\n",
    "                               ]"
   ]
  },
  {
   "cell_type": "code",
   "execution_count": 634,
   "metadata": {},
   "outputs": [],
   "source": [
    "mergedDf_reordered.to_csv('output_file.vcf',sep='\\t',index=None)"
   ]
  }
 ],
 "metadata": {
  "kernelspec": {
   "display_name": "Python 3",
   "language": "python",
   "name": "python3"
  },
  "language_info": {
   "codemirror_mode": {
    "name": "ipython",
    "version": 3
   },
   "file_extension": ".py",
   "mimetype": "text/x-python",
   "name": "python",
   "nbconvert_exporter": "python",
   "pygments_lexer": "ipython3",
   "version": "3.6.7"
  }
 },
 "nbformat": 4,
 "nbformat_minor": 2
}
