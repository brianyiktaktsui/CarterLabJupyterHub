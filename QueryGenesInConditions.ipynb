{
 "cells": [
  {
   "cell_type": "markdown",
   "metadata": {
    "heading_collapsed": true
   },
   "source": [
    "### Init"
   ]
  },
  {
   "cell_type": "code",
   "execution_count": null,
   "metadata": {
    "hidden": true,
    "init_cell": true
   },
   "outputs": [],
   "source": [
    "import pandas as pd\n",
    "import numpy as np\n",
    "import ipywidgets as widgets\n",
    "from IPython.display import display,Javascript\n",
    "from ipywidgets import  Layout\n",
    "import re\n",
    "\n",
    "button_query = widgets.Button(description=\"Search\",\n",
    "                             layout=Layout(width='20%', height='100%'))\n",
    "def run_all(ev):\n",
    "    display(Javascript('IPython.notebook.execute_cells_below()'))\n",
    "\n",
    "button_query.style.button_color='lightblue'\n",
    "button_query.on_click(run_all)\n",
    "\n",
    "\n",
    "style = {'description_width': 'initial'}\n",
    "widget_query=widgets.Text(\n",
    "    #value='',\n",
    "    placeholder='Enter gene names seperated by comma: eg. TP53,GAPDH',\n",
    "    description='',\n",
    "    disabled=False,\n",
    "    #description='(50% width, 80px height) button',\n",
    "    layout=widgets.Layout(width='80%', height='50px'),\n",
    "    style=style\n",
    ")\n",
    "accordion = widgets.HBox(children=[widget_query,button_query])\n"
   ]
  },
  {
   "cell_type": "markdown",
   "metadata": {},
   "source": [
    "## Query expression level of genes"
   ]
  },
  {
   "cell_type": "code",
   "execution_count": null,
   "metadata": {
    "init_cell": true
   },
   "outputs": [],
   "source": [
    "accordion"
   ]
  },
  {
   "cell_type": "markdown",
   "metadata": {
    "heading_collapsed": true
   },
   "source": [
    "### Execute code"
   ]
  },
  {
   "cell_type": "code",
   "execution_count": null,
   "metadata": {
    "hidden": true
   },
   "outputs": [],
   "source": [
    "queryStr=widget_query.get_interact_value()\n",
    "annotateGenesList=re.split(\" *, *\", queryStr)"
   ]
  },
  {
   "cell_type": "code",
   "execution_count": null,
   "metadata": {
    "hidden": true
   },
   "outputs": [],
   "source": [
    "hitDf=pd.read_pickle('./tmp.profile.pickle')"
   ]
  },
  {
   "cell_type": "code",
   "execution_count": null,
   "metadata": {
    "hidden": true
   },
   "outputs": [],
   "source": [
    "inputAnalyzeDf=np.log2(hitDf+1)"
   ]
  },
  {
   "cell_type": "code",
   "execution_count": null,
   "metadata": {
    "hidden": true
   },
   "outputs": [],
   "source": [
    "#np.random.choice(inputAnalyzeDf.index,2) #['GAPDH','TP53']\n",
    "import plotly.graph_objs as go\n",
    "from plotly.offline import iplot, init_notebook_mode\n",
    "init_notebook_mode()\n",
    "print ('Genes plotting: ',annotateGenesList)\n",
    "\n",
    "layout = go.Layout(\n",
    "    boxmode='group',\n",
    "yaxis={'title':\"Expression level of gene measured in log2 \"}\n",
    ")\n",
    "\n",
    "tmpDf=inputAnalyzeDf.loc[annotateGenesList].T.stack()#.reset_index()\n",
    "\n",
    "tmpDf2=tmpDf.reset_index(name='Expression')\n",
    "\n",
    "myL=[]\n",
    "for myQueryLabel,tmpDf3 in tmpDf2.groupby('queryLabel'):\n",
    "    myL.append(go.Box(name=myQueryLabel,y=tmpDf3['Expression'],x=tmpDf3['level_6']))\n",
    "    \n",
    "fig=go.Figure(data=myL,layout=layout)\n"
   ]
  },
  {
   "cell_type": "markdown",
   "metadata": {},
   "source": [
    "### Figure"
   ]
  },
  {
   "cell_type": "code",
   "execution_count": null,
   "metadata": {},
   "outputs": [],
   "source": [
    "iplot(fig )"
   ]
  }
 ],
 "metadata": {
  "celltoolbar": "Initialization Cell",
  "kernelspec": {
   "display_name": "Python 3",
   "language": "python",
   "name": "python3"
  },
  "language_info": {
   "codemirror_mode": {
    "name": "ipython",
    "version": 3
   },
   "file_extension": ".py",
   "mimetype": "text/x-python",
   "name": "python",
   "nbconvert_exporter": "python",
   "pygments_lexer": "ipython3",
   "version": "3.6.7"
  }
 },
 "nbformat": 4,
 "nbformat_minor": 2
}
