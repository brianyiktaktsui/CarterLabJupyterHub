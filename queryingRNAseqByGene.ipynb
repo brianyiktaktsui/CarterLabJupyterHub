{
 "cells": [
  {
   "cell_type": "markdown",
   "metadata": {
    "heading_collapsed": true
   },
   "source": [
    "### Init"
   ]
  },
  {
   "cell_type": "markdown",
   "metadata": {
    "hidden": true
   },
   "source": [
    "This notebook is showing how to slice the expression level of a single gene in < 10ms. "
   ]
  },
  {
   "cell_type": "markdown",
   "metadata": {
    "heading_collapsed": true,
    "hidden": true
   },
   "source": [
    "#### code for data loading"
   ]
  },
  {
   "cell_type": "code",
   "execution_count": null,
   "metadata": {
    "hidden": true,
    "init_cell": true
   },
   "outputs": [],
   "source": [
    "import pandas as pd\n",
    "import numpy as np"
   ]
  },
  {
   "cell_type": "code",
   "execution_count": null,
   "metadata": {
    "hidden": true,
    "init_cell": true
   },
   "outputs": [],
   "source": [
    "def loadDf(fname,mmap_mode='r'):\n",
    "    with open(fname+'.index.txt') as f:\n",
    "        myIndex=map(lambda s:s.replace(\"\\n\",\"\"), f.readlines())\n",
    "    with open(fname+'.columns.txt') as f:\n",
    "        myColumns=map(lambda s:s.replace(\"\\n\",\"\"), f.readlines())\n",
    "    tmpMatrix=np.load(fname+\".npy\",mmap_mode=mmap_mode)\n",
    "    tmpDf=pd.DataFrame(tmpMatrix,index=myIndex,columns=myColumns)\n",
    "    tmpDf.columns.name='Run'\n",
    "    return tmpDf"
   ]
  },
  {
   "cell_type": "markdown",
   "metadata": {
    "hidden": true
   },
   "source": [
    "#### make ipywidgets"
   ]
  },
  {
   "cell_type": "code",
   "execution_count": null,
   "metadata": {
    "hidden": true,
    "init_cell": true
   },
   "outputs": [],
   "source": [
    "import pandas as pd\n",
    "import numpy as np\n",
    "import ipywidgets as widgets\n",
    "from IPython.display import display,Javascript\n",
    "from ipywidgets import  Layout\n",
    "import re\n",
    "import os\n",
    "\n",
    "button_query = widgets.Button(description=\"Search\",\n",
    "                             layout=Layout(width='20%', height='100%'))\n",
    "def run_all(ev):\n",
    "    display(Javascript('IPython.notebook.execute_cells_below()'))\n",
    "\n",
    "button_query.style.button_color='lightblue'\n",
    "button_query.on_click(run_all)\n",
    "\n",
    "\n",
    "style = {'description_width': 'initial'}\n",
    "widget_query=widgets.Text(\n",
    "    #value='',\n",
    "    placeholder='Enter a single Ensembl gene name: eg. TP53',\n",
    "    description='',\n",
    "    disabled=False,\n",
    "    #description='(50% width, 80px height) button',\n",
    "    layout=widgets.Layout(width='60%', height='50px'),\n",
    "    style=style\n",
    ")\n"
   ]
  },
  {
   "cell_type": "markdown",
   "metadata": {
    "hidden": true
   },
   "source": [
    "drop down bar widget"
   ]
  },
  {
   "cell_type": "code",
   "execution_count": null,
   "metadata": {
    "hidden": true,
    "init_cell": true
   },
   "outputs": [],
   "source": [
    "baseDir='/home/jovyan/efs/all_seq/rnaseq_merged/' #Base directory\n",
    "baseDir_FnameS=pd.Series(os.listdir(baseDir))\n",
    "speciesWithReprocessedData=baseDir_FnameS[baseDir_FnameS.str.contains('.npy$')].str.split('.').str[0].unique()\n",
    "widget_specie=widgets.Select(\n",
    "    options=speciesWithReprocessedData,\n",
    "    value='Homo_sapiens',\n",
    "    # rows=10,\n",
    "    description='Select your species:',\n",
    "    disabled=False,\n",
    "    style=style\n",
    ")"
   ]
  },
  {
   "cell_type": "code",
   "execution_count": null,
   "metadata": {
    "hidden": true,
    "init_cell": true
   },
   "outputs": [],
   "source": [
    "#accordion = widgets.HBox(children=[widget_query,widget_specie])\n",
    "accordion=widgets.VBox(children=[widget_query,widget_specie,button_query])"
   ]
  },
  {
   "cell_type": "markdown",
   "metadata": {},
   "source": [
    "### Query a single gene"
   ]
  },
  {
   "cell_type": "code",
   "execution_count": null,
   "metadata": {
    "init_cell": true
   },
   "outputs": [],
   "source": [
    "display(accordion)"
   ]
  },
  {
   "cell_type": "markdown",
   "metadata": {},
   "source": [
    "### Execute"
   ]
  },
  {
   "cell_type": "code",
   "execution_count": null,
   "metadata": {},
   "outputs": [],
   "source": [
    "queryGene=widget_query.get_interact_value()"
   ]
  },
  {
   "cell_type": "code",
   "execution_count": null,
   "metadata": {},
   "outputs": [],
   "source": [
    "\n",
    "expression_metric='tpm' #offer Kallisto expression metric: [\"tpm\",\"est_counts\"]\n",
    "specie=widget_specie.get_interact_value() #Check files in baseDir directory for more species\n",
    "data_matrix_dir=baseDir+'/{specie}.gene_symbol.{expression_metric}'.format(specie=specie,\n",
    "                                            expression_metric=expression_metric)\n",
    "\n",
    "#a memory mapped dataframe\n",
    "rnaseqDf=loadDf(data_matrix_dir)\n",
    "print ('Dimension of expression matrix: (# of genes, # of sequencing run) ',rnaseqDf.shape)"
   ]
  },
  {
   "cell_type": "code",
   "execution_count": null,
   "metadata": {},
   "outputs": [],
   "source": [
    "%time hitGeneS=rnaseqDf.loc[queryGene]"
   ]
  },
  {
   "cell_type": "code",
   "execution_count": null,
   "metadata": {},
   "outputs": [],
   "source": [
    "print ('# sequencing runs extracted: ',len(hitGeneS))"
   ]
  },
  {
   "cell_type": "markdown",
   "metadata": {},
   "source": [
    "Distribution of expression over first 100 runs"
   ]
  },
  {
   "cell_type": "code",
   "execution_count": null,
   "metadata": {},
   "outputs": [],
   "source": [
    "%time hitGeneS=hitGeneS.copy() #unless it is copied, it is still memory mapped"
   ]
  },
  {
   "cell_type": "code",
   "execution_count": null,
   "metadata": {},
   "outputs": [],
   "source": [
    "%time nLargestSrr=hitGeneS.nlargest(1000)"
   ]
  },
  {
   "cell_type": "code",
   "execution_count": null,
   "metadata": {},
   "outputs": [],
   "source": [
    "sra_dump_pickle_dir='/home/jovyan/efs/all_seq/meta_data/sra_dump.pickle'\n",
    "%time technical_meta_data_df=pd.read_pickle(sra_dump_pickle_dir)"
   ]
  },
  {
   "cell_type": "code",
   "execution_count": null,
   "metadata": {},
   "outputs": [],
   "source": [
    "technical_meta_data_df[('Run')]=technical_meta_data_df.index"
   ]
  },
  {
   "cell_type": "code",
   "execution_count": null,
   "metadata": {},
   "outputs": [],
   "source": [
    "tmpDf=nLargestSrr.to_frame()"
   ]
  },
  {
   "cell_type": "code",
   "execution_count": null,
   "metadata": {},
   "outputs": [],
   "source": [
    "tmpDf['BioProj']=technical_meta_data_df['proj_accession_BioProject'][tmpDf.index]"
   ]
  },
  {
   "cell_type": "code",
   "execution_count": null,
   "metadata": {},
   "outputs": [],
   "source": [
    "bioProjectAnnotDf=pd.read_pickle('/home/jovyan/efs/all_seq/meta_data/bioproject.pickle'\n",
    "                                ).set_index('accession')"
   ]
  },
  {
   "cell_type": "code",
   "execution_count": null,
   "metadata": {},
   "outputs": [],
   "source": [
    "tmpDf['Title']=bioProjectAnnotDf['Title'][tmpDf.BioProj.fillna('')].values\n"
   ]
  },
  {
   "cell_type": "code",
   "execution_count": null,
   "metadata": {},
   "outputs": [],
   "source": [
    "#np.random.choice(inputAnalyzeDf.index,2) #['GAPDH','TP53']\n",
    "import plotly.graph_objs as go\n",
    "from plotly.offline import iplot, init_notebook_mode\n",
    "init_notebook_mode()\n",
    "#print ('Genes plotting: ',annotateGenesList)\n",
    "\n",
    "layout = go.Layout(\n",
    "    boxmode='group',\n",
    "    showlegend=False,\n",
    "        xaxis=dict(\n",
    "        autorange=True,\n",
    "        showgrid=False,\n",
    "        zeroline=False,\n",
    "        showline=False,\n",
    "        ticks='',\n",
    "        showticklabels=False\n",
    "    ),\n",
    "yaxis={'title':\"Expression level of {} measured in log2 scale\".format(queryGene)}\n",
    ")\n"
   ]
  },
  {
   "cell_type": "code",
   "execution_count": null,
   "metadata": {},
   "outputs": [],
   "source": [
    "import textwrap \n",
    "wrapper=textwrap.TextWrapper(width=30) "
   ]
  },
  {
   "cell_type": "code",
   "execution_count": null,
   "metadata": {},
   "outputs": [],
   "source": [
    "tmpDf['Title_wrapped']=tmpDf['Title'].astype(str).apply(lambda Str:\"<br>\".join(wrapper.wrap(Str)))"
   ]
  },
  {
   "cell_type": "code",
   "execution_count": null,
   "metadata": {},
   "outputs": [],
   "source": [
    "sampleSizeMinThreshold=5\n",
    "m=tmpDf.groupby('BioProj').size()>=sampleSizeMinThreshold"
   ]
  },
  {
   "cell_type": "code",
   "execution_count": null,
   "metadata": {},
   "outputs": [],
   "source": [
    "selectedStudies=m[m].index"
   ]
  },
  {
   "cell_type": "code",
   "execution_count": null,
   "metadata": {},
   "outputs": [],
   "source": [
    "myL=[]\n",
    "medExpressionS=tmpDf[tmpDf.BioProj.isin(selectedStudies)\n",
    "                    ].groupby('BioProj').median()\n",
    "\n",
    "plotStudyOrderS=medExpressionS[queryGene].sort_values(ascending=False)\n",
    "\n",
    "for myQueryLabel in plotStudyOrderS.index: \n",
    "    tmpDf2=tmpDf[tmpDf['BioProj']==myQueryLabel]\n",
    "    annotS=bioProjectAnnotDf.loc[myQueryLabel]\n",
    "    #myLabelStr=\"Accession\"+annotS.name+'<br>Title'+annotS.loc['Title']+'<br>'\n",
    "    myL.append( go.Box(\n",
    "        #name=myLabelStr,\n",
    "           y=np.log2(tmpDf2[queryGene]+1),\n",
    "                      x=\"Accession: \"+tmpDf2['BioProj']+ \"<br>Title: \"+tmpDf2['Title_wrapped'])\n",
    "              )\n",
    "\n",
    "fig=go.Figure(data=myL,layout=layout)\n"
   ]
  },
  {
   "cell_type": "markdown",
   "metadata": {},
   "source": [
    "### Figures"
   ]
  },
  {
   "cell_type": "code",
   "execution_count": null,
   "metadata": {},
   "outputs": [],
   "source": [
    "iplot(fig )"
   ]
  },
  {
   "cell_type": "markdown",
   "metadata": {},
   "source": [
    "SRR to expression level series"
   ]
  },
  {
   "cell_type": "code",
   "execution_count": null,
   "metadata": {},
   "outputs": [],
   "source": [
    "print ('# of expression profiles analyzed: ',len(hitGeneS))"
   ]
  },
  {
   "cell_type": "code",
   "execution_count": null,
   "metadata": {},
   "outputs": [],
   "source": []
  }
 ],
 "metadata": {
  "celltoolbar": "Initialization Cell",
  "kernelspec": {
   "display_name": "Python 3",
   "language": "python",
   "name": "python3"
  },
  "language_info": {
   "codemirror_mode": {
    "name": "ipython",
    "version": 3
   },
   "file_extension": ".py",
   "mimetype": "text/x-python",
   "name": "python",
   "nbconvert_exporter": "python",
   "pygments_lexer": "ipython3",
   "version": "3.6.7"
  }
 },
 "nbformat": 4,
 "nbformat_minor": 2
}
