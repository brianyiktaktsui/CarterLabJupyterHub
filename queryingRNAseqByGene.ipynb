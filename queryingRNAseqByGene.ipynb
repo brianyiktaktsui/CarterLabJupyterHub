{
 "cells": [
  {
   "cell_type": "markdown",
   "metadata": {},
   "source": [
    "This notebook is showing how to slice the expression level of a single gene in < 10ms. "
   ]
  },
  {
   "cell_type": "code",
   "execution_count": 1,
   "metadata": {},
   "outputs": [],
   "source": [
    "import pandas as pd\n",
    "import numpy as np"
   ]
  },
  {
   "cell_type": "code",
   "execution_count": 2,
   "metadata": {},
   "outputs": [],
   "source": [
    "def loadDf(fname,mmap_mode='r'):\n",
    "    with open(fname+'.index.txt') as f:\n",
    "        myIndex=map(lambda s:s.replace(\"\\n\",\"\"), f.readlines())\n",
    "    with open(fname+'.columns.txt') as f:\n",
    "        myColumns=map(lambda s:s.replace(\"\\n\",\"\"), f.readlines())\n",
    "    tmpMatrix=np.load(fname+\".npy\",mmap_mode=mmap_mode)\n",
    "    tmpDf=pd.DataFrame(tmpMatrix,index=myIndex,columns=myColumns)\n",
    "    tmpDf.columns.name='Run'\n",
    "    return tmpDf"
   ]
  },
  {
   "cell_type": "markdown",
   "metadata": {},
   "source": [
    "### Setting directory for expression matrix"
   ]
  },
  {
   "cell_type": "code",
   "execution_count": 3,
   "metadata": {},
   "outputs": [],
   "source": [
    "baseDir='/home/jovyan/efs/all_seq/rnaseq_merged/' #Base directory\n",
    "\n",
    "expression_metric='tpm' #offer Kallisto expression metric: [\"tpm\",\"est_counts\"]\n",
    "specie='Homo_sapiens' #Check files in baseDir directory for more species\n",
    "data_matrix_dir=baseDir+'/{specie}.gene_symbol.{expression_metric}'.format(specie=specie,\n",
    "                                            expression_metric=expression_metric)"
   ]
  },
  {
   "cell_type": "code",
   "execution_count": 4,
   "metadata": {},
   "outputs": [],
   "source": [
    "#a memory mapped dataframe\n",
    "rnaseqDf=loadDf(data_matrix_dir)"
   ]
  },
  {
   "cell_type": "markdown",
   "metadata": {},
   "source": [
    "### Layout of expression matrix"
   ]
  },
  {
   "cell_type": "code",
   "execution_count": 5,
   "metadata": {},
   "outputs": [
    {
     "name": "stdout",
     "output_type": "stream",
     "text": [
      "Dimension of expression matrix: (# of genes, # of sequencing run)  (34739, 192981)\n"
     ]
    }
   ],
   "source": [
    "print ('Dimension of expression matrix: (# of genes, # of sequencing run) ',rnaseqDf.shape)"
   ]
  },
  {
   "cell_type": "code",
   "execution_count": 6,
   "metadata": {},
   "outputs": [
    {
     "data": {
      "text/html": [
       "<div>\n",
       "<style scoped>\n",
       "    .dataframe tbody tr th:only-of-type {\n",
       "        vertical-align: middle;\n",
       "    }\n",
       "\n",
       "    .dataframe tbody tr th {\n",
       "        vertical-align: top;\n",
       "    }\n",
       "\n",
       "    .dataframe thead th {\n",
       "        text-align: right;\n",
       "    }\n",
       "</style>\n",
       "<table border=\"1\" class=\"dataframe\">\n",
       "  <thead>\n",
       "    <tr style=\"text-align: right;\">\n",
       "      <th>Run</th>\n",
       "      <th>SRR5377183</th>\n",
       "      <th>SRR5377184</th>\n",
       "      <th>SRR5330979</th>\n",
       "      <th>SRR5330980</th>\n",
       "      <th>SRR5330981</th>\n",
       "      <th>SRR5330982</th>\n",
       "      <th>SRR5330983</th>\n",
       "      <th>SRR5330984</th>\n",
       "      <th>SRR5330985</th>\n",
       "      <th>SRR5330986</th>\n",
       "      <th>...</th>\n",
       "      <th>ERR1299345</th>\n",
       "      <th>ERR1299346</th>\n",
       "      <th>ERR1299347</th>\n",
       "      <th>ERR1299348</th>\n",
       "      <th>ERR1299349</th>\n",
       "      <th>ERR1299350</th>\n",
       "      <th>ERR1299351</th>\n",
       "      <th>ERR1299352</th>\n",
       "      <th>ERR1299353</th>\n",
       "      <th>ERR1227267</th>\n",
       "    </tr>\n",
       "  </thead>\n",
       "  <tbody>\n",
       "    <tr>\n",
       "      <th>TRDD2</th>\n",
       "      <td>0.0</td>\n",
       "      <td>0.0</td>\n",
       "      <td>0.0</td>\n",
       "      <td>0.0</td>\n",
       "      <td>0.0</td>\n",
       "      <td>0.0</td>\n",
       "      <td>0.0</td>\n",
       "      <td>0.0</td>\n",
       "      <td>0.0</td>\n",
       "      <td>0.0</td>\n",
       "      <td>...</td>\n",
       "      <td>0.0</td>\n",
       "      <td>0.0</td>\n",
       "      <td>0.0</td>\n",
       "      <td>0.0</td>\n",
       "      <td>0.0</td>\n",
       "      <td>0.0</td>\n",
       "      <td>0.0</td>\n",
       "      <td>0.0</td>\n",
       "      <td>0.0</td>\n",
       "      <td>0.0</td>\n",
       "    </tr>\n",
       "    <tr>\n",
       "      <th>TRDD1</th>\n",
       "      <td>0.0</td>\n",
       "      <td>0.0</td>\n",
       "      <td>0.0</td>\n",
       "      <td>0.0</td>\n",
       "      <td>0.0</td>\n",
       "      <td>0.0</td>\n",
       "      <td>0.0</td>\n",
       "      <td>0.0</td>\n",
       "      <td>0.0</td>\n",
       "      <td>0.0</td>\n",
       "      <td>...</td>\n",
       "      <td>0.0</td>\n",
       "      <td>0.0</td>\n",
       "      <td>0.0</td>\n",
       "      <td>0.0</td>\n",
       "      <td>0.0</td>\n",
       "      <td>0.0</td>\n",
       "      <td>0.0</td>\n",
       "      <td>0.0</td>\n",
       "      <td>0.0</td>\n",
       "      <td>0.0</td>\n",
       "    </tr>\n",
       "    <tr>\n",
       "      <th>TRDD3</th>\n",
       "      <td>0.0</td>\n",
       "      <td>0.0</td>\n",
       "      <td>0.0</td>\n",
       "      <td>0.0</td>\n",
       "      <td>0.0</td>\n",
       "      <td>0.0</td>\n",
       "      <td>0.0</td>\n",
       "      <td>0.0</td>\n",
       "      <td>0.0</td>\n",
       "      <td>0.0</td>\n",
       "      <td>...</td>\n",
       "      <td>0.0</td>\n",
       "      <td>0.0</td>\n",
       "      <td>0.0</td>\n",
       "      <td>0.0</td>\n",
       "      <td>0.0</td>\n",
       "      <td>0.0</td>\n",
       "      <td>0.0</td>\n",
       "      <td>0.0</td>\n",
       "      <td>0.0</td>\n",
       "      <td>0.0</td>\n",
       "    </tr>\n",
       "    <tr>\n",
       "      <th>IGHD4-17</th>\n",
       "      <td>0.0</td>\n",
       "      <td>0.0</td>\n",
       "      <td>0.0</td>\n",
       "      <td>0.0</td>\n",
       "      <td>0.0</td>\n",
       "      <td>0.0</td>\n",
       "      <td>0.0</td>\n",
       "      <td>0.0</td>\n",
       "      <td>0.0</td>\n",
       "      <td>0.0</td>\n",
       "      <td>...</td>\n",
       "      <td>0.0</td>\n",
       "      <td>0.0</td>\n",
       "      <td>0.0</td>\n",
       "      <td>0.0</td>\n",
       "      <td>0.0</td>\n",
       "      <td>0.0</td>\n",
       "      <td>0.0</td>\n",
       "      <td>0.0</td>\n",
       "      <td>0.0</td>\n",
       "      <td>0.0</td>\n",
       "    </tr>\n",
       "    <tr>\n",
       "      <th>IGHD4-4</th>\n",
       "      <td>0.0</td>\n",
       "      <td>0.0</td>\n",
       "      <td>0.0</td>\n",
       "      <td>0.0</td>\n",
       "      <td>0.0</td>\n",
       "      <td>0.0</td>\n",
       "      <td>0.0</td>\n",
       "      <td>0.0</td>\n",
       "      <td>0.0</td>\n",
       "      <td>0.0</td>\n",
       "      <td>...</td>\n",
       "      <td>0.0</td>\n",
       "      <td>0.0</td>\n",
       "      <td>0.0</td>\n",
       "      <td>0.0</td>\n",
       "      <td>0.0</td>\n",
       "      <td>0.0</td>\n",
       "      <td>0.0</td>\n",
       "      <td>0.0</td>\n",
       "      <td>0.0</td>\n",
       "      <td>0.0</td>\n",
       "    </tr>\n",
       "  </tbody>\n",
       "</table>\n",
       "<p>5 rows × 192981 columns</p>\n",
       "</div>"
      ],
      "text/plain": [
       "Run       SRR5377183  SRR5377184  SRR5330979  SRR5330980  SRR5330981  \\\n",
       "TRDD2            0.0         0.0         0.0         0.0         0.0   \n",
       "TRDD1            0.0         0.0         0.0         0.0         0.0   \n",
       "TRDD3            0.0         0.0         0.0         0.0         0.0   \n",
       "IGHD4-17         0.0         0.0         0.0         0.0         0.0   \n",
       "IGHD4-4          0.0         0.0         0.0         0.0         0.0   \n",
       "\n",
       "Run       SRR5330982  SRR5330983  SRR5330984  SRR5330985  SRR5330986  \\\n",
       "TRDD2            0.0         0.0         0.0         0.0         0.0   \n",
       "TRDD1            0.0         0.0         0.0         0.0         0.0   \n",
       "TRDD3            0.0         0.0         0.0         0.0         0.0   \n",
       "IGHD4-17         0.0         0.0         0.0         0.0         0.0   \n",
       "IGHD4-4          0.0         0.0         0.0         0.0         0.0   \n",
       "\n",
       "Run          ...      ERR1299345  ERR1299346  ERR1299347  ERR1299348  \\\n",
       "TRDD2        ...             0.0         0.0         0.0         0.0   \n",
       "TRDD1        ...             0.0         0.0         0.0         0.0   \n",
       "TRDD3        ...             0.0         0.0         0.0         0.0   \n",
       "IGHD4-17     ...             0.0         0.0         0.0         0.0   \n",
       "IGHD4-4      ...             0.0         0.0         0.0         0.0   \n",
       "\n",
       "Run       ERR1299349  ERR1299350  ERR1299351  ERR1299352  ERR1299353  \\\n",
       "TRDD2            0.0         0.0         0.0         0.0         0.0   \n",
       "TRDD1            0.0         0.0         0.0         0.0         0.0   \n",
       "TRDD3            0.0         0.0         0.0         0.0         0.0   \n",
       "IGHD4-17         0.0         0.0         0.0         0.0         0.0   \n",
       "IGHD4-4          0.0         0.0         0.0         0.0         0.0   \n",
       "\n",
       "Run       ERR1227267  \n",
       "TRDD2            0.0  \n",
       "TRDD1            0.0  \n",
       "TRDD3            0.0  \n",
       "IGHD4-17         0.0  \n",
       "IGHD4-4          0.0  \n",
       "\n",
       "[5 rows x 192981 columns]"
      ]
     },
     "execution_count": 6,
     "metadata": {},
     "output_type": "execute_result"
    }
   ],
   "source": [
    "rnaseqDf.head()"
   ]
  },
  {
   "cell_type": "markdown",
   "metadata": {},
   "source": [
    "### Query a single gene"
   ]
  },
  {
   "cell_type": "code",
   "execution_count": 7,
   "metadata": {},
   "outputs": [],
   "source": [
    "queryGene='TP53'"
   ]
  },
  {
   "cell_type": "code",
   "execution_count": 8,
   "metadata": {
    "scrolled": true
   },
   "outputs": [
    {
     "name": "stdout",
     "output_type": "stream",
     "text": [
      "CPU times: user 4 ms, sys: 0 ns, total: 4 ms\n",
      "Wall time: 5.48 ms\n"
     ]
    }
   ],
   "source": [
    "%time hitGeneS=rnaseqDf.loc[queryGene]"
   ]
  },
  {
   "cell_type": "code",
   "execution_count": 9,
   "metadata": {},
   "outputs": [
    {
     "name": "stdout",
     "output_type": "stream",
     "text": [
      "# sequencing runs extracted:  192981\n"
     ]
    }
   ],
   "source": [
    "print ('# sequencing runs extracted: ',len(hitGeneS))"
   ]
  },
  {
   "cell_type": "markdown",
   "metadata": {},
   "source": [
    "Distribution of expression over first 100 runs"
   ]
  },
  {
   "cell_type": "code",
   "execution_count": 21,
   "metadata": {},
   "outputs": [
    {
     "data": {
      "text/plain": [
       "<matplotlib.axes._subplots.AxesSubplot at 0x7f62bbba32b0>"
      ]
     },
     "execution_count": 21,
     "metadata": {},
     "output_type": "execute_result"
    },
    {
     "data": {
      "image/png": "[encoded data removed]",
      "text/plain": [
       "<Figure size 432x288 with 1 Axes>"
      ]
     },
     "metadata": {
      "needs_background": "light"
     },
     "output_type": "display_data"
    }
   ],
   "source": [
    "%matplotlib inline\n",
    "\n",
    "#pandas sample is slow for some reason, use numpy choice instead. \n",
    "mySrrs=np.random.choice(hitGeneS.index,size=100)\n",
    "tmpS=hitGeneS.loc[mySrrs]\n",
    "tmpS.hist()"
   ]
  },
  {
   "cell_type": "code",
   "execution_count": null,
   "metadata": {},
   "outputs": [],
   "source": []
  }
 ],
 "metadata": {
  "kernelspec": {
   "display_name": "Python [conda env:skymap]",
   "language": "python",
   "name": "conda-env-skymap-py"
  },
  "language_info": {
   "codemirror_mode": {
    "name": "ipython",
    "version": 3
   },
   "file_extension": ".py",
   "mimetype": "text/x-python",
   "name": "python",
   "nbconvert_exporter": "python",
   "pygments_lexer": "ipython3",
   "version": "3.6.6"
  }
 },
 "nbformat": 4,
 "nbformat_minor": 2
}
