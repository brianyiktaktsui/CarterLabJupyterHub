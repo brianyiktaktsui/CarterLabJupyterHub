{
 "cells": [
  {
   "cell_type": "markdown",
   "metadata": {},
   "source": [
    "\n",
    "# Summary\n",
    "\n",
    "The purpose of this JupyterHub is to let the community to retrieve public data at ease. For example, \n",
    "1. you can retrieve the expression of a gene of >400,000 public sequencing profiles in < 1 second,  or \n",
    "2. extract the allelic read counts of a particular sequencing profile in < 1 second. \n",
    "\n",
    "In order to do so, we provide:\n",
    "1. a single data matrix for each omic layer for each species that spans a total of >400k sequencing runs from all the public studies, which is done by reprocessing petabytes worth of sequencing data \n",
    "2. a biological metadata file that describes the relationships between the sequencing runs and also the keywords extracted from over 3 million free text annotations using NLP.\n",
    "3. a technical metadata file that describes the relationships between the sequencing runs.\n",
    "\n",
    "\n",
    "\n",
    "\n",
    "\n",
    "# Query and analyze the reprocessed data\n",
    "* [RNA-seq](./RNAseqQuerying.ipynb)\n",
    "* [Microbe](./MicrobeQuerying.ipynb)\n",
    "* [Allelic read count](./plotAllelicReadCount.ipynb) \n",
    "\n",
    "### Example data loading\n",
    "* [Loading variant data quantified in allelic read counts](./loadAllelicReadCountBySrrId.ipynb)\n",
    "* [Loading RNA-seq data quantified in transcript counts](./loadingRNAseqByGene.ipynb)\n",
    "* [Loading in all the technical and biological metadata](./loadMetaData_hub.ipynb)\n"
   ]
  },
  {
   "cell_type": "markdown",
   "metadata": {},
   "source": [
    "# Auxilary\n",
    "\n",
    "### [Click here to switch the interface to Jupyter Lab](../../lab/)\n",
    "It's quite a bit easier to use IMHO. "
   ]
  },
  {
   "cell_type": "markdown",
   "metadata": {},
   "source": [
    "###  Feel free to email at skymap-info@googlegroups.com if you have any questions\n",
    "\n",
    "* Homepage: http://hannahcarterlab.org/jupyterhub"
   ]
  }
 ],
 "metadata": {
  "kernelspec": {
   "display_name": "Python 3",
   "language": "python",
   "name": "python3"
  },
  "language_info": {
   "codemirror_mode": {
    "name": "ipython",
    "version": 3
   },
   "file_extension": ".py",
   "mimetype": "text/x-python",
   "name": "python",
   "nbconvert_exporter": "python",
   "pygments_lexer": "ipython3",
   "version": "3.6.7"
  }
 },
 "nbformat": 4,
 "nbformat_minor": 2
}
