{
 "cells": [
  {
   "cell_type": "markdown",
   "metadata": {},
   "source": [
    "\n",
    "# Summary\n",
    "\n",
    "The purpose of this JupyterHub is to let the community to retrieve public data at ease. For example, \n",
    "1. you can retrieve the expression of a gene of >400,000 public sequencing profiles in < 1 second,  or \n",
    "2. extract the allelic read counts of a particular sequencing profile in < 1 second. \n",
    "\n",
    "In order to do so, we provide:\n",
    "1. a single data matrix for each omic layer for each species that spans a total of >400k sequencing runs from all the public studies, which is done by reprocessing petabytes worth of sequencing data \n",
    "2. a biological metadata file that describes the relationships between the sequencing runs and also the keywords extracted from over 3 million free text annotations using NLP.\n",
    "3. a technical metadata file that describes the relationships between the sequencing runs.\n",
    "\n",
    "\n",
    "\n",
    "\n",
    "\n",
    "# Notebooks\n",
    "### End-to-end analysis\n",
    "* [Query and generate RNA-seq publication figures using reprocessed data](./RNAseqQuerying.ipynb)\n",
    "\n",
    "### Example data loading\n",
    "* [Loading variant data quantified in allelic read counts](./loadAllelicReadCountBySrrId.ipynb)\n",
    "* [Loading RNA-seq data quantified in transcript counts](./loadingRNAseqByGene.ipynb)\n",
    "* [Loading in all the technical and biological metadata](./loadMetaData_hub.ipynb)\n"
   ]
  },
  {
   "cell_type": "markdown",
   "metadata": {},
   "source": [
    "### Bulk download FTP"
   ]
  },
  {
   "cell_type": "code",
   "execution_count": null,
   "metadata": {},
   "outputs": [],
   "source": [
    "%%html\n",
    "<a href=\"ftp://download.hannahcarterlab.org/efs/all_seq/\" target=\"_blank\">\n",
    "Click me to go to the SkyMap FTP site to download all the data in bulk!</a>"
   ]
  },
  {
   "cell_type": "markdown",
   "metadata": {},
   "source": [
    "# Auxilary\n",
    "\n",
    "### [Click here to switch the interface to Jupyter Lab](../../lab/)\n",
    "It's quite a bit easier to use IMHO. "
   ]
  },
  {
   "cell_type": "markdown",
   "metadata": {},
   "source": [
    "# Limitations\n",
    "\n",
    "The JupyterHub sessions are temporary and will be culled after being inactive for 1 hour. \n",
    "\n",
    "SkyMap data is mainly derived from the SRA. Therefore the limitation of data in Skymap is very similar to that of the SRA, listed as the followings:  \n",
    "* Primary human data are rare in SkyMap. Unfortunately, most of the data derived from primary human samples requires dbGap approval, which requires filing an application for each study which makes it impossible for us to pull all the primary human data.\n",
    "* Sometimes the RNAseq are not mRNA-seq, but miRNA-seq or something else. Our RNAseq pipeline only captures the coding transcripts. \n",
    "* Batch effect when comparing across studies\n",
    "* Variations in sequencing qualities\n"
   ]
  },
  {
   "cell_type": "markdown",
   "metadata": {},
   "source": [
    "###  Feel free to email at skymap-info@googlegroups.com if you have any questions\n",
    "\n",
    "GitHub: https://github.com/brianyiktaktsui/Skymap"
   ]
  }
 ],
 "metadata": {
  "kernelspec": {
   "display_name": "Python 3",
   "language": "python",
   "name": "python3"
  },
  "language_info": {
   "codemirror_mode": {
    "name": "ipython",
    "version": 3
   },
   "file_extension": ".py",
   "mimetype": "text/x-python",
   "name": "python",
   "nbconvert_exporter": "python",
   "pygments_lexer": "ipython3",
   "version": "3.6.7"
  }
 },
 "nbformat": 4,
 "nbformat_minor": 2
}
