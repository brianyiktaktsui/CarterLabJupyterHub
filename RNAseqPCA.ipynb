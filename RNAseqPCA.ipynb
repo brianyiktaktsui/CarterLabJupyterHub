{
 "cells": [
  {
   "cell_type": "markdown",
   "metadata": {
    "heading_collapsed": true
   },
   "source": [
    "### Init"
   ]
  },
  {
   "cell_type": "code",
   "execution_count": null,
   "metadata": {
    "hidden": true,
    "init_cell": true
   },
   "outputs": [],
   "source": [
    "import numpy as np\n",
    "import pandas as pd\n",
    "\n",
    "hitDf=pd.read_pickle('./tmp.profile.pickle')\n",
    "inputAnalyzeDf=np.log2(hitDf+1)"
   ]
  },
  {
   "cell_type": "markdown",
   "metadata": {
    "heading_collapsed": true
   },
   "source": [
    "### code PCA 2D"
   ]
  },
  {
   "cell_type": "code",
   "execution_count": null,
   "metadata": {
    "hidden": true,
    "init_cell": true
   },
   "outputs": [],
   "source": [
    "#plotPcs=[0,1]\n",
    "\n",
    "inPcaDf=inputAnalyzeDf.T\n",
    "\n",
    "from sklearn import decomposition\n",
    "import seaborn as sns\n",
    "import plotly.graph_objs as go\n",
    "from plotly.offline import iplot, init_notebook_mode\n",
    "init_notebook_mode()\n",
    "\n",
    "\n",
    "PCA=decomposition.PCA(n_components=3)\n",
    "pcaM=PCA.fit_transform((inPcaDf))\n",
    "pcaDf=pd.DataFrame( data=pcaM,index=inPcaDf.index)\n",
    "\n",
    "layout = go.Layout(\n",
    "    yaxis={'title':\"PC1\"},\n",
    "    xaxis={'title':\"PC0\"}\n",
    ")\n",
    "\n",
    "fig = go.Figure(layout=layout)\n",
    "for label, sub_pca_df in pcaDf.groupby('queryLabel'):\n",
    "    fig.add_scatter(x=sub_pca_df[0], y=sub_pca_df[1],\n",
    "                      name=label,\n",
    "                    hovertext=sub_pca_df.index.get_level_values('Description'),\n",
    "                    mode = 'markers')\n"
   ]
  },
  {
   "cell_type": "markdown",
   "metadata": {},
   "source": [
    "### Interactive PCA 2D\n",
    "to show that samples are grouped in the higher dimensional space according to the class"
   ]
  },
  {
   "cell_type": "code",
   "execution_count": null,
   "metadata": {
    "init_cell": true
   },
   "outputs": [],
   "source": [
    "iplot(fig)"
   ]
  },
  {
   "cell_type": "markdown",
   "metadata": {
    "heading_collapsed": true
   },
   "source": [
    "### code PCA 3D"
   ]
  },
  {
   "cell_type": "code",
   "execution_count": null,
   "metadata": {
    "hidden": true,
    "init_cell": true
   },
   "outputs": [],
   "source": [
    "layout_3d = go.Layout(\n",
    "                    scene = dict(\n",
    "                    xaxis = dict(\n",
    "                        title='PC0'),\n",
    "                    yaxis = dict(\n",
    "                        title='PC1',),\n",
    "                    zaxis = dict(\n",
    "                        title='PC2',),),\n",
    "                  )\n",
    "\n",
    "fig = go.Figure(layout=layout_3d)\n",
    "for label, sub_pca_df in pcaDf.groupby('queryLabel'):\n",
    "    fig.add_scatter3d(x=sub_pca_df[0], y=sub_pca_df[1],z=sub_pca_df[2],\n",
    "                      name=label,\n",
    "                    hovertext=sub_pca_df.index.get_level_values('Description'),\n",
    "                    mode = 'markers')\n"
   ]
  },
  {
   "cell_type": "markdown",
   "metadata": {},
   "source": [
    "### Interactive PCA 3D\n",
    "\n",
    "Sometimes the first PC is picking up just the batch effect. 3D visualization makes it lot easier to see the seperation"
   ]
  },
  {
   "cell_type": "code",
   "execution_count": null,
   "metadata": {
    "init_cell": true
   },
   "outputs": [],
   "source": [
    "iplot(fig)"
   ]
  }
 ],
 "metadata": {
  "kernelspec": {
   "display_name": "Python 3",
   "language": "python",
   "name": "python3"
  },
  "language_info": {
   "codemirror_mode": {
    "name": "ipython",
    "version": 3
   },
   "file_extension": ".py",
   "mimetype": "text/x-python",
   "name": "python",
   "nbconvert_exporter": "python",
   "pygments_lexer": "ipython3",
   "version": "3.6.7"
  }
 },
 "nbformat": 4,
 "nbformat_minor": 2
}
