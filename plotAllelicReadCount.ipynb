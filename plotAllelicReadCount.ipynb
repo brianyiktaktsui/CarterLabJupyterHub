{
 "cells": [
  {
   "cell_type": "markdown",
   "metadata": {},
   "source": []
  },
  {
   "cell_type": "code",
   "execution_count": 4,
   "metadata": {},
   "outputs": [
    {
     "name": "stderr",
     "output_type": "stream",
     "text": [
      "/opt/conda/lib/python3.6/importlib/_bootstrap.py:219: RuntimeWarning: numpy.dtype size changed, may indicate binary incompatibility. Expected 96, got 88\n",
      "  return f(*args, **kwds)\n",
      "/opt/conda/lib/python3.6/importlib/_bootstrap.py:219: RuntimeWarning: numpy.dtype size changed, may indicate binary incompatibility. Expected 96, got 88\n",
      "  return f(*args, **kwds)\n"
     ]
    }
   ],
   "source": [
    "import pandas as pd"
   ]
  },
  {
   "cell_type": "code",
   "execution_count": 14,
   "metadata": {},
   "outputs": [],
   "source": [
    "queryStudy='SRP067759'"
   ]
  },
  {
   "cell_type": "code",
   "execution_count": 15,
   "metadata": {},
   "outputs": [],
   "source": [
    "sraDumpDf=pd.read_pickle('/home/jovyan/efs/all_seq/meta_data/sra_dump.pickle')"
   ]
  },
  {
   "cell_type": "code",
   "execution_count": 68,
   "metadata": {},
   "outputs": [
    {
     "name": "stderr",
     "output_type": "stream",
     "text": [
      "/opt/conda/lib/python3.6/site-packages/IPython/core/interactiveshell.py:2785: DtypeWarning: Columns (0) have mixed types. Specify dtype option on import or set low_memory=False.\n",
      "  interactivity=interactivity, compiler=compiler, result=result)\n"
     ]
    }
   ],
   "source": [
    "vcfDf=pd.read_csv('/home/jovyan/efs/all_seq/meta_data/All_20170710.f1_byte2_not_00.vcf.gz',comment='#',sep='\\s+',header=None)"
   ]
  },
  {
   "cell_type": "code",
   "execution_count": 69,
   "metadata": {},
   "outputs": [],
   "source": [
    "vcfDf.columns=['CHROM', 'POS' ,  'ID' , 'REF' ,'ALT', 'QUAL' , 'FILTER', 'INFO']\n"
   ]
  },
  {
   "cell_type": "code",
   "execution_count": 70,
   "metadata": {},
   "outputs": [],
   "source": [
    "vcfDf['CHROM']=vcfDf['CHROM'].astype(str)\n",
    "vcfDf['POS']=vcfDf['POS'].astype(int)"
   ]
  },
  {
   "cell_type": "code",
   "execution_count": null,
   "metadata": {},
   "outputs": [],
   "source": []
  },
  {
   "cell_type": "code",
   "execution_count": 17,
   "metadata": {},
   "outputs": [],
   "source": [
    "hitSrrs=sraDumpDf.index[sraDumpDf.Study==queryStudy]"
   ]
  },
  {
   "cell_type": "code",
   "execution_count": 18,
   "metadata": {},
   "outputs": [],
   "source": [
    "FilePostFix='XXXX'"
   ]
  },
  {
   "cell_type": "code",
   "execution_count": 19,
   "metadata": {},
   "outputs": [],
   "source": [
    "filesToLoadIn=(hitSrrs.str[:-len((FilePostFix))]+FilePostFix).unique()"
   ]
  },
  {
   "cell_type": "code",
   "execution_count": 20,
   "metadata": {},
   "outputs": [],
   "source": [
    "#Run_db\tRun_digits\n",
    "hitSrrMetaDf=pd.Series( hitSrrs).str.extract('(?P<Run_db>\\wRR)(?P<Run_digits>\\d+)')"
   ]
  },
  {
   "cell_type": "code",
   "execution_count": 21,
   "metadata": {},
   "outputs": [],
   "source": [
    "hitSrrMetaDf['Run_digits']=hitSrrMetaDf['Run_digits'].astype(int)"
   ]
  },
  {
   "cell_type": "code",
   "execution_count": 22,
   "metadata": {},
   "outputs": [],
   "source": [
    "baseDir=\"/home/jovyan/efs/all_seq/snp/mergedBySrr/\""
   ]
  },
  {
   "cell_type": "code",
   "execution_count": 24,
   "metadata": {},
   "outputs": [
    {
     "name": "stdout",
     "output_type": "stream",
     "text": [
      "CPU times: user 12.9 s, sys: 1.2 s, total: 14.1 s\n",
      "Wall time: 14.5 s\n",
      "1.385616236\n"
     ]
    }
   ],
   "source": [
    "myL=[]\n",
    "for fileToLoadIn in filesToLoadIn:\n",
    "    %time tmpDf=pd.read_pickle(baseDir+fileToLoadIn+'.pickle.gz')\n",
    "    print (tmpDf.memory_usage().sum()/10.0**9)\n",
    "    m_runDigits=tmpDf.index.get_level_values('Run_digits').isin(hitSrrMetaDf['Run_digits'])\n",
    "    m_runDb=tmpDf.index.get_level_values('Run_db')==fileToLoadIn[:3]#.isin(hitSrrMetaDf['Run_digits'])\n",
    "    tmpDf_sub=tmpDf[m_runDigits&m_runDb].copy()\n",
    "    del tmpDf\n",
    "    myL.append(tmpDf_sub)\n",
    "    break"
   ]
  },
  {
   "cell_type": "code",
   "execution_count": 25,
   "metadata": {},
   "outputs": [],
   "source": [
    "mergedDf=pd.concat(myL,axis=0)"
   ]
  },
  {
   "cell_type": "code",
   "execution_count": 132,
   "metadata": {},
   "outputs": [],
   "source": [
    "queryChr,queryPos=\"7\",140753336\n",
    "windowSize=20"
   ]
  },
  {
   "cell_type": "code",
   "execution_count": 162,
   "metadata": {},
   "outputs": [],
   "source": [
    "m_chrom=mergedDf.index.get_level_values('Chr')=='7'"
   ]
  },
  {
   "cell_type": "code",
   "execution_count": 163,
   "metadata": {},
   "outputs": [],
   "source": [
    "m_pos_lower=(mergedDf.index.get_level_values('Pos')>(queryPos-windowSize))\n",
    "m_pos_upper=(mergedDf.index.get_level_values('Pos')<(queryPos+windowSize))"
   ]
  },
  {
   "cell_type": "code",
   "execution_count": 164,
   "metadata": {},
   "outputs": [],
   "source": [
    "mergedDf_sub=mergedDf[m_pos_lower&m_chrom&m_pos_upper]"
   ]
  },
  {
   "cell_type": "code",
   "execution_count": 178,
   "metadata": {},
   "outputs": [],
   "source": [
    "mergedDf_rd=mergedDf_sub[mergedDf_sub['ReadDepth']>=2]"
   ]
  },
  {
   "cell_type": "code",
   "execution_count": 180,
   "metadata": {},
   "outputs": [],
   "source": [
    "mergedDf_rd_reset=mergedDf_rd.reset_index()#.set_index(['Run_db','Run_digits'])"
   ]
  },
  {
   "cell_type": "code",
   "execution_count": 181,
   "metadata": {},
   "outputs": [],
   "source": [
    "mergedDf_rd_reset['Chr']=mergedDf_rd_reset['Chr'].astype(str)"
   ]
  },
  {
   "cell_type": "code",
   "execution_count": 182,
   "metadata": {},
   "outputs": [],
   "source": [
    "mergedDf_rd_reset['Chr']=mergedDf_rd_reset['Chr'].astype(str)\n",
    "mergedDf_rd_reset['Pos']=mergedDf_rd_reset['Pos'].astype(int)"
   ]
  },
  {
   "cell_type": "code",
   "execution_count": 183,
   "metadata": {},
   "outputs": [],
   "source": [
    "mutlI=mergedDf_rd_reset.set_index(['Chr','Pos']).index"
   ]
  },
  {
   "cell_type": "code",
   "execution_count": 184,
   "metadata": {},
   "outputs": [],
   "source": [
    "posToRefS=vcfDf.set_index(['CHROM','POS'])['REF']\n",
    "\n",
    "posToRefS=posToRefS.str[0].groupby(['CHROM','POS']).first()"
   ]
  },
  {
   "cell_type": "code",
   "execution_count": 185,
   "metadata": {},
   "outputs": [],
   "source": [
    "refS=posToRefS[mutlI].values"
   ]
  },
  {
   "cell_type": "code",
   "execution_count": 186,
   "metadata": {},
   "outputs": [],
   "source": [
    "mergedDf_rd_reset['Ref']=refS"
   ]
  },
  {
   "cell_type": "code",
   "execution_count": 187,
   "metadata": {},
   "outputs": [],
   "source": [
    "mergedDf_rd_reset['AltBase']=mergedDf_rd_reset.Ref!=mergedDf_rd_reset.base"
   ]
  },
  {
   "cell_type": "code",
   "execution_count": 188,
   "metadata": {},
   "outputs": [],
   "source": [
    "countDf=mergedDf_rd_reset.groupby(['Chr','Pos','AltBase']).size().unstack().fillna(0)"
   ]
  },
  {
   "cell_type": "code",
   "execution_count": 189,
   "metadata": {},
   "outputs": [],
   "source": [
    "afDf=(countDf.T/countDf.T.sum(axis=0)).T"
   ]
  },
  {
   "cell_type": "code",
   "execution_count": 190,
   "metadata": {},
   "outputs": [
    {
     "data": {
      "text/plain": [
       "<matplotlib.lines.Line2D at 0x7efe1de2c3c8>"
      ]
     },
     "execution_count": 190,
     "metadata": {},
     "output_type": "execute_result"
    },
    {
     "data": {
      "image/png": "[encoded data removed]",
      "text/plain": [
       "<Figure size 432x288 with 1 Axes>"
      ]
     },
     "metadata": {},
     "output_type": "display_data"
    }
   ],
   "source": [
    "%matplotlib inline\n",
    "import matplotlib.pyplot as plt\n",
    "y=afDf[True]\n",
    "x=afDf.index.get_level_values('Pos')\n",
    "plt.scatter(x=x,y=y)\n",
    "plt.axvline(queryPos)"
   ]
  },
  {
   "cell_type": "code",
   "execution_count": null,
   "metadata": {},
   "outputs": [],
   "source": []
  },
  {
   "cell_type": "code",
   "execution_count": null,
   "metadata": {},
   "outputs": [],
   "source": []
  },
  {
   "cell_type": "code",
   "execution_count": null,
   "metadata": {},
   "outputs": [],
   "source": []
  },
  {
   "cell_type": "code",
   "execution_count": null,
   "metadata": {},
   "outputs": [],
   "source": []
  }
 ],
 "metadata": {
  "kernelspec": {
   "display_name": "Python 3",
   "language": "python",
   "name": "python3"
  },
  "language_info": {
   "codemirror_mode": {
    "name": "ipython",
    "version": 3
   },
   "file_extension": ".py",
   "mimetype": "text/x-python",
   "name": "python",
   "nbconvert_exporter": "python",
   "pygments_lexer": "ipython3",
   "version": "3.6.7"
  }
 },
 "nbformat": 4,
 "nbformat_minor": 2
}
