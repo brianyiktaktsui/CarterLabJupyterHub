{
 "cells": [
  {
   "cell_type": "markdown",
   "metadata": {},
   "source": [
    "### slice "
   ]
  },
  {
   "cell_type": "code",
   "execution_count": null,
   "metadata": {},
   "outputs": [],
   "source": [
    "import pandas as pd\n",
    "import numpy as np"
   ]
  },
  {
   "cell_type": "code",
   "execution_count": null,
   "metadata": {},
   "outputs": [],
   "source": [
    "baseDir='/home/jovyan/efs/all_seq/rnaseq_merged/'\n",
    "\n",
    "def loadDf(fname,mmap_mode='r'):\n",
    "    with open(fname+'.index.txt') as f:\n",
    "        myIndex=map(lambda s:s.replace(\"\\n\",\"\"), f.readlines())\n",
    "    with open(fname+'.columns.txt') as f:\n",
    "        myColumns=map(lambda s:s.replace(\"\\n\",\"\"), f.readlines())\n",
    "    tmpMatrix=np.load(fname+\".npy\",mmap_mode=mmap_mode)\n",
    "    tmpDf=pd.DataFrame(tmpMatrix,index=myIndex,columns=myColumns)\n",
    "    tmpDf.columns.name='Run'\n",
    "    return tmpDf"
   ]
  },
  {
   "cell_type": "code",
   "execution_count": null,
   "metadata": {},
   "outputs": [],
   "source": [
    "expression_metric='tpm' #[\"tpm\",\"est_counts\"]\n",
    "specie='Mus_musculus'\n",
    "data_matrix_dir=baseDir+'/{specie}.gene_symbol.{expression_metric}'.format(specie=specie,\n",
    "                                            expression_metric=expression_metric)\n"
   ]
  },
  {
   "cell_type": "code",
   "execution_count": null,
   "metadata": {},
   "outputs": [],
   "source": [
    "#a memory mapped dataframe\n",
    "rnaseqDf=loadDf(data_matrix_dir)"
   ]
  },
  {
   "cell_type": "code",
   "execution_count": null,
   "metadata": {},
   "outputs": [],
   "source": [
    "!ls -lah  ~/efs/all_seq/rnaseq_merged//Mus_musculus.gene_symbol.tpm.index.txt"
   ]
  },
  {
   "cell_type": "markdown",
   "metadata": {},
   "source": [
    "layout of expression matrix"
   ]
  },
  {
   "cell_type": "code",
   "execution_count": null,
   "metadata": {},
   "outputs": [],
   "source": [
    "rnaseqDf.head()"
   ]
  },
  {
   "cell_type": "code",
   "execution_count": null,
   "metadata": {},
   "outputs": [],
   "source": [
    "#(rnaseqDf['SRR2177632']>0).sum()"
   ]
  },
  {
   "cell_type": "code",
   "execution_count": null,
   "metadata": {},
   "outputs": [],
   "source": [
    "'SRR2177632' in rnaseqDf.columns"
   ]
  },
  {
   "cell_type": "code",
   "execution_count": null,
   "metadata": {},
   "outputs": [],
   "source": [
    "%time hitGeneS=rnaseqDf.loc['Trp53']"
   ]
  },
  {
   "cell_type": "markdown",
   "metadata": {},
   "source": [
    "TP53 TPM level across 126064 RNAseq human samples"
   ]
  },
  {
   "cell_type": "code",
   "execution_count": null,
   "metadata": {},
   "outputs": [],
   "source": [
    "len(hitGeneS)"
   ]
  },
  {
   "cell_type": "markdown",
   "metadata": {},
   "source": [
    "examples"
   ]
  },
  {
   "cell_type": "code",
   "execution_count": null,
   "metadata": {},
   "outputs": [],
   "source": [
    "hitGeneS.head(n=30)"
   ]
  },
  {
   "cell_type": "code",
   "execution_count": null,
   "metadata": {},
   "outputs": [],
   "source": []
  }
 ],
 "metadata": {
  "kernelspec": {
   "display_name": "Python [conda env:skymap]",
   "language": "python",
   "name": "conda-env-skymap-py"
  },
  "language_info": {
   "codemirror_mode": {
    "name": "ipython",
    "version": 3
   },
   "file_extension": ".py",
   "mimetype": "text/x-python",
   "name": "python",
   "nbconvert_exporter": "python",
   "pygments_lexer": "ipython3",
   "version": "3.6.6"
  }
 },
 "nbformat": 4,
 "nbformat_minor": 2
}
