{
 "cells": [
  {
   "cell_type": "markdown",
   "metadata": {},
   "source": [
    "### slice "
   ]
  },
  {
   "cell_type": "code",
   "execution_count": 1,
   "metadata": {},
   "outputs": [],
   "source": [
    "import pandas as pd\n",
    "import numpy as np"
   ]
  },
  {
   "cell_type": "code",
   "execution_count": 6,
   "metadata": {},
   "outputs": [],
   "source": [
    "baseDir='/home/jovyan/efs/all_seq/rnaseq_merged/'\n",
    "\n",
    "def loadDf(fname,mmap_mode='r'):\n",
    "    with open(fname+'.index.txt') as f:\n",
    "        myIndex=map(lambda s:s.replace(\"\\n\",\"\"), f.readlines())\n",
    "    with open(fname+'.columns.txt') as f:\n",
    "        myColumns=map(lambda s:s.replace(\"\\n\",\"\"), f.readlines())\n",
    "    tmpMatrix=np.load(fname+\".npy\",mmap_mode=mmap_mode)\n",
    "    tmpDf=pd.DataFrame(tmpMatrix,index=myIndex,columns=myColumns)\n",
    "    tmpDf.columns.name='Run'\n",
    "    return tmpDf"
   ]
  },
  {
   "cell_type": "code",
   "execution_count": 7,
   "metadata": {},
   "outputs": [],
   "source": [
    "expression_metric='tpm' #[\"tpm\",\"est_counts\"]\n",
    "specie='Mus_musculus'\n",
    "data_matrix_dir=baseDir+'/{specie}.gene_symbol.{expression_metric}'.format(specie=specie,\n",
    "                                            expression_metric=expression_metric)\n"
   ]
  },
  {
   "cell_type": "code",
   "execution_count": 8,
   "metadata": {},
   "outputs": [],
   "source": [
    "#a memory mapped dataframe\n",
    "rnaseqDf=loadDf(data_matrix_dir)"
   ]
  },
  {
   "cell_type": "code",
   "execution_count": 9,
   "metadata": {},
   "outputs": [
    {
     "name": "stdout",
     "output_type": "stream",
     "text": [
      "-rw-r--r-- 1 500 500 255K Oct 12 17:32 /home/jovyan/efs/all_seq/rnaseq_merged//Mus_musculus.gene_symbol.tpm.index.txt\r\n"
     ]
    }
   ],
   "source": [
    "!ls -lah  ~/efs/all_seq/rnaseq_merged//Mus_musculus.gene_symbol.tpm.index.txt"
   ]
  },
  {
   "cell_type": "markdown",
   "metadata": {},
   "source": [
    "layout of expression matrix"
   ]
  },
  {
   "cell_type": "code",
   "execution_count": 10,
   "metadata": {},
   "outputs": [
    {
     "data": {
      "text/html": [
       "<div>\n",
       "<style scoped>\n",
       "    .dataframe tbody tr th:only-of-type {\n",
       "        vertical-align: middle;\n",
       "    }\n",
       "\n",
       "    .dataframe tbody tr th {\n",
       "        vertical-align: top;\n",
       "    }\n",
       "\n",
       "    .dataframe thead th {\n",
       "        text-align: right;\n",
       "    }\n",
       "</style>\n",
       "<table border=\"1\" class=\"dataframe\">\n",
       "  <thead>\n",
       "    <tr style=\"text-align: right;\">\n",
       "      <th>Run</th>\n",
       "      <th>SRR2297454</th>\n",
       "      <th>SRR2297455</th>\n",
       "      <th>SRR2297456</th>\n",
       "      <th>SRR2297457</th>\n",
       "      <th>SRR2297458</th>\n",
       "      <th>SRR2229881</th>\n",
       "      <th>SRR2229882</th>\n",
       "      <th>SRR2229883</th>\n",
       "      <th>SRR2229884</th>\n",
       "      <th>SRR2229885</th>\n",
       "      <th>...</th>\n",
       "      <th>SRR595004</th>\n",
       "      <th>SRR595005</th>\n",
       "      <th>SRR595006</th>\n",
       "      <th>SRR595007</th>\n",
       "      <th>SRR595008</th>\n",
       "      <th>SRR595009</th>\n",
       "      <th>SRR595010</th>\n",
       "      <th>SRR595011</th>\n",
       "      <th>SRR597735</th>\n",
       "      <th>SRR597736</th>\n",
       "    </tr>\n",
       "  </thead>\n",
       "  <tbody>\n",
       "    <tr>\n",
       "      <th>Trdd2</th>\n",
       "      <td>0.0</td>\n",
       "      <td>0.0</td>\n",
       "      <td>0.0</td>\n",
       "      <td>0.0</td>\n",
       "      <td>0.0</td>\n",
       "      <td>0.0</td>\n",
       "      <td>0.0</td>\n",
       "      <td>0.0</td>\n",
       "      <td>0.0</td>\n",
       "      <td>0.0</td>\n",
       "      <td>...</td>\n",
       "      <td>0.0</td>\n",
       "      <td>0.0</td>\n",
       "      <td>0.0</td>\n",
       "      <td>0.0</td>\n",
       "      <td>0.0</td>\n",
       "      <td>0.0</td>\n",
       "      <td>0.0</td>\n",
       "      <td>0.0</td>\n",
       "      <td>0.0</td>\n",
       "      <td>0.0</td>\n",
       "    </tr>\n",
       "    <tr>\n",
       "      <th>Trdd1</th>\n",
       "      <td>0.0</td>\n",
       "      <td>0.0</td>\n",
       "      <td>0.0</td>\n",
       "      <td>0.0</td>\n",
       "      <td>0.0</td>\n",
       "      <td>0.0</td>\n",
       "      <td>0.0</td>\n",
       "      <td>0.0</td>\n",
       "      <td>0.0</td>\n",
       "      <td>0.0</td>\n",
       "      <td>...</td>\n",
       "      <td>0.0</td>\n",
       "      <td>0.0</td>\n",
       "      <td>0.0</td>\n",
       "      <td>0.0</td>\n",
       "      <td>0.0</td>\n",
       "      <td>0.0</td>\n",
       "      <td>0.0</td>\n",
       "      <td>0.0</td>\n",
       "      <td>0.0</td>\n",
       "      <td>0.0</td>\n",
       "    </tr>\n",
       "    <tr>\n",
       "      <th>Trbd1</th>\n",
       "      <td>0.0</td>\n",
       "      <td>0.0</td>\n",
       "      <td>0.0</td>\n",
       "      <td>0.0</td>\n",
       "      <td>0.0</td>\n",
       "      <td>0.0</td>\n",
       "      <td>0.0</td>\n",
       "      <td>0.0</td>\n",
       "      <td>0.0</td>\n",
       "      <td>0.0</td>\n",
       "      <td>...</td>\n",
       "      <td>0.0</td>\n",
       "      <td>0.0</td>\n",
       "      <td>0.0</td>\n",
       "      <td>0.0</td>\n",
       "      <td>0.0</td>\n",
       "      <td>0.0</td>\n",
       "      <td>0.0</td>\n",
       "      <td>0.0</td>\n",
       "      <td>0.0</td>\n",
       "      <td>0.0</td>\n",
       "    </tr>\n",
       "    <tr>\n",
       "      <th>Trbd2</th>\n",
       "      <td>0.0</td>\n",
       "      <td>0.0</td>\n",
       "      <td>0.0</td>\n",
       "      <td>0.0</td>\n",
       "      <td>0.0</td>\n",
       "      <td>0.0</td>\n",
       "      <td>0.0</td>\n",
       "      <td>0.0</td>\n",
       "      <td>0.0</td>\n",
       "      <td>0.0</td>\n",
       "      <td>...</td>\n",
       "      <td>0.0</td>\n",
       "      <td>0.0</td>\n",
       "      <td>0.0</td>\n",
       "      <td>0.0</td>\n",
       "      <td>0.0</td>\n",
       "      <td>0.0</td>\n",
       "      <td>0.0</td>\n",
       "      <td>0.0</td>\n",
       "      <td>0.0</td>\n",
       "      <td>0.0</td>\n",
       "    </tr>\n",
       "    <tr>\n",
       "      <th>Ighd4-1</th>\n",
       "      <td>0.0</td>\n",
       "      <td>0.0</td>\n",
       "      <td>0.0</td>\n",
       "      <td>0.0</td>\n",
       "      <td>0.0</td>\n",
       "      <td>0.0</td>\n",
       "      <td>0.0</td>\n",
       "      <td>0.0</td>\n",
       "      <td>0.0</td>\n",
       "      <td>0.0</td>\n",
       "      <td>...</td>\n",
       "      <td>0.0</td>\n",
       "      <td>0.0</td>\n",
       "      <td>0.0</td>\n",
       "      <td>0.0</td>\n",
       "      <td>0.0</td>\n",
       "      <td>0.0</td>\n",
       "      <td>0.0</td>\n",
       "      <td>0.0</td>\n",
       "      <td>0.0</td>\n",
       "      <td>0.0</td>\n",
       "    </tr>\n",
       "  </tbody>\n",
       "</table>\n",
       "<p>5 rows × 225203 columns</p>\n",
       "</div>"
      ],
      "text/plain": [
       "Run      SRR2297454  SRR2297455  SRR2297456  SRR2297457  SRR2297458  \\\n",
       "Trdd2           0.0         0.0         0.0         0.0         0.0   \n",
       "Trdd1           0.0         0.0         0.0         0.0         0.0   \n",
       "Trbd1           0.0         0.0         0.0         0.0         0.0   \n",
       "Trbd2           0.0         0.0         0.0         0.0         0.0   \n",
       "Ighd4-1         0.0         0.0         0.0         0.0         0.0   \n",
       "\n",
       "Run      SRR2229881  SRR2229882  SRR2229883  SRR2229884  SRR2229885  \\\n",
       "Trdd2           0.0         0.0         0.0         0.0         0.0   \n",
       "Trdd1           0.0         0.0         0.0         0.0         0.0   \n",
       "Trbd1           0.0         0.0         0.0         0.0         0.0   \n",
       "Trbd2           0.0         0.0         0.0         0.0         0.0   \n",
       "Ighd4-1         0.0         0.0         0.0         0.0         0.0   \n",
       "\n",
       "Run        ...      SRR595004  SRR595005  SRR595006  SRR595007  SRR595008  \\\n",
       "Trdd2      ...            0.0        0.0        0.0        0.0        0.0   \n",
       "Trdd1      ...            0.0        0.0        0.0        0.0        0.0   \n",
       "Trbd1      ...            0.0        0.0        0.0        0.0        0.0   \n",
       "Trbd2      ...            0.0        0.0        0.0        0.0        0.0   \n",
       "Ighd4-1    ...            0.0        0.0        0.0        0.0        0.0   \n",
       "\n",
       "Run      SRR595009  SRR595010  SRR595011  SRR597735  SRR597736  \n",
       "Trdd2          0.0        0.0        0.0        0.0        0.0  \n",
       "Trdd1          0.0        0.0        0.0        0.0        0.0  \n",
       "Trbd1          0.0        0.0        0.0        0.0        0.0  \n",
       "Trbd2          0.0        0.0        0.0        0.0        0.0  \n",
       "Ighd4-1        0.0        0.0        0.0        0.0        0.0  \n",
       "\n",
       "[5 rows x 225203 columns]"
      ]
     },
     "execution_count": 10,
     "metadata": {},
     "output_type": "execute_result"
    }
   ],
   "source": [
    "rnaseqDf.head()"
   ]
  },
  {
   "cell_type": "code",
   "execution_count": 15,
   "metadata": {},
   "outputs": [],
   "source": [
    "#(rnaseqDf['SRR2177632']>0).sum()"
   ]
  },
  {
   "cell_type": "code",
   "execution_count": 12,
   "metadata": {},
   "outputs": [
    {
     "data": {
      "text/plain": [
       "True"
      ]
     },
     "execution_count": 12,
     "metadata": {},
     "output_type": "execute_result"
    }
   ],
   "source": [
    "'SRR2177632' in rnaseqDf.columns"
   ]
  },
  {
   "cell_type": "code",
   "execution_count": 16,
   "metadata": {
    "scrolled": true
   },
   "outputs": [
    {
     "name": "stdout",
     "output_type": "stream",
     "text": [
      "CPU times: user 0 ns, sys: 0 ns, total: 0 ns\n",
      "Wall time: 326 µs\n"
     ]
    }
   ],
   "source": [
    "%time hitGeneS=rnaseqDf.loc['Trp53']"
   ]
  },
  {
   "cell_type": "markdown",
   "metadata": {},
   "source": [
    "TP53 TPM level across 126064 RNAseq human samples"
   ]
  },
  {
   "cell_type": "code",
   "execution_count": 17,
   "metadata": {},
   "outputs": [
    {
     "data": {
      "text/plain": [
       "225203"
      ]
     },
     "execution_count": 17,
     "metadata": {},
     "output_type": "execute_result"
    }
   ],
   "source": [
    "len(hitGeneS)"
   ]
  },
  {
   "cell_type": "markdown",
   "metadata": {},
   "source": [
    "examples"
   ]
  },
  {
   "cell_type": "code",
   "execution_count": 18,
   "metadata": {},
   "outputs": [
    {
     "data": {
      "text/plain": [
       "Run\n",
       "SRR2297454     69.141090\n",
       "SRR2297455     72.389725\n",
       "SRR2297456     68.895370\n",
       "SRR2297457     45.453300\n",
       "SRR2297458     53.184731\n",
       "SRR2229881    103.297157\n",
       "SRR2229882    107.695244\n",
       "SRR2229883    107.549568\n",
       "SRR2229884    101.318718\n",
       "SRR2229885    114.171509\n",
       "SRR2229886     96.441261\n",
       "SRR2229887    172.167007\n",
       "SRR2229888    171.330200\n",
       "SRR2229889    169.951904\n",
       "SRR2229890    180.121170\n",
       "SRR2229891    173.827301\n",
       "SRR2229892    169.816269\n",
       "SRR2229893    100.135689\n",
       "SRR2229894    100.328629\n",
       "SRR2229895    102.007210\n",
       "SRR2229896     96.868530\n",
       "SRR2229897     97.072441\n",
       "SRR2229898    106.739723\n",
       "SRR2229911     29.394123\n",
       "SRR2229912     36.435078\n",
       "SRR2229913     39.928829\n",
       "SRR2229914     29.433756\n",
       "SRR2229915     31.875172\n",
       "SRR2229916     27.196136\n",
       "SRR2229917     45.184849\n",
       "Name: Trp53, dtype: float32"
      ]
     },
     "execution_count": 18,
     "metadata": {},
     "output_type": "execute_result"
    }
   ],
   "source": [
    "hitGeneS.head(n=30)"
   ]
  },
  {
   "cell_type": "code",
   "execution_count": null,
   "metadata": {},
   "outputs": [],
   "source": []
  }
 ],
 "metadata": {
  "kernelspec": {
   "display_name": "Python [conda env:skymap]",
   "language": "python",
   "name": "conda-env-skymap-py"
  },
  "language_info": {
   "codemirror_mode": {
    "name": "ipython",
    "version": 3
   },
   "file_extension": ".py",
   "mimetype": "text/x-python",
   "name": "python",
   "nbconvert_exporter": "python",
   "pygments_lexer": "ipython3",
   "version": "3.6.6"
  }
 },
 "nbformat": 4,
 "nbformat_minor": 2
}
