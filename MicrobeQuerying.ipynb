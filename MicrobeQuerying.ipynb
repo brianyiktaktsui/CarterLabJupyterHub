{
 "cells": [
  {
   "cell_type": "markdown",
   "metadata": {
    "heading_collapsed": true
   },
   "source": [
    "### Init"
   ]
  },
  {
   "cell_type": "code",
   "execution_count": null,
   "metadata": {
    "hidden": true,
    "init_cell": true
   },
   "outputs": [],
   "source": [
    "#import  RNAseqQueryingInit\n",
    "##static params\n",
    "baseDir='/home/jovyan/efs/all_seq/microbes/' #Base directory\n",
    "\n",
    "import warnings\n",
    "warnings.filterwarnings('ignore')\n",
    "import ipywidgets as widgets\n",
    "import os\n",
    "import pandas as pd\n",
    "from IPython.display import display,Javascript\n",
    "from ipywidgets import  Layout\n",
    "\n",
    "\n",
    "def run_all(ev):\n",
    "    display(Javascript('IPython.notebook.execute_cells_below()'))\n",
    "\n",
    "exampleQuery='HeLa Cells' \n",
    "style = {'description_width': 'initial'}\n",
    "widget_query=widgets.Text(\n",
    "    #value='',\n",
    "    placeholder='Enter conditions seperated by comma to search and compare: eg. B-Cell,T-Cell',\n",
    "    description='',\n",
    "    disabled=False,\n",
    "    #description='(50% width, 80px height) button',\n",
    "    layout=widgets.Layout(width='80%', height='50px'),\n",
    "    style=style\n",
    "    \n",
    ")\n",
    "\n",
    "baseDir_FnameS=pd.Series(os.listdir(baseDir))\n",
    "speciesWithReprocessedData=baseDir_FnameS[baseDir_FnameS.str.contains('.npy$')].str.split('.').str[0].unique()\n",
    "\"\"\"\n",
    "widget_specie=widgets.Select(\n",
    "    options=speciesWithReprocessedData,\n",
    "    value='Homo_sapiens',\n",
    "    # rows=10,\n",
    "    description='Select your species:',\n",
    "    disabled=False,\n",
    "    style=style\n",
    ")\"\"\"\n",
    "\n",
    "button_query = widgets.Button(description=\"Search\",\n",
    "                             layout=Layout(width='20%', height='10%'))\n",
    "button_query.on_click(run_all)\n",
    "button_query.style.button_color='lightblue'\n",
    "accordion = widgets.HBox(children=[widget_query,button_query])\n",
    "\n",
    "checkbox_exportCSV=widgets.Checkbox(\n",
    "    value=False,\n",
    "    description='Export output matrix as CSV',\n",
    "    disabled=False\n",
    ")\n"
   ]
  },
  {
   "cell_type": "markdown",
   "metadata": {},
   "source": [
    "# Search and compare RNA-seq profiles based on experimental conditions\n",
    "\n",
    "**Refresh page if you do not see the ipywidgets from below**"
   ]
  },
  {
   "cell_type": "code",
   "execution_count": null,
   "metadata": {
    "init_cell": true
   },
   "outputs": [],
   "source": [
    "bacterialAnnotationLevel=2 #feel free to increase the bacterial clade resolution\n",
    "display(accordion)\n",
    "#display(widget_specie)\n",
    "display(checkbox_exportCSV)"
   ]
  },
  {
   "cell_type": "markdown",
   "metadata": {},
   "source": [
    "<br/>\n",
    "<br/>\n",
    "<br/>\n",
    "<br/>\n",
    "<br/>\n",
    "<br/>\n",
    "<br/>\n",
    "<br/>\n",
    "<br/>\n",
    "<br/>\n",
    "<br/>\n",
    "<br/>\n",
    "\n"
   ]
  },
  {
   "cell_type": "markdown",
   "metadata": {},
   "source": [
    "# Execution"
   ]
  },
  {
   "cell_type": "markdown",
   "metadata": {},
   "source": [
    "### More parameters: \n",
    "\n",
    "expression_metric: Those are Kallisto expression metric: \"tpm\",\"est_counts\"\n",
    "baseDir: if run locally, change it to mirror our path."
   ]
  },
  {
   "cell_type": "code",
   "execution_count": null,
   "metadata": {},
   "outputs": [],
   "source": [
    "#from  RNAseqQueryingInit import *\n",
    "import re"
   ]
  },
  {
   "cell_type": "code",
   "execution_count": null,
   "metadata": {},
   "outputs": [],
   "source": [
    "expression_metric='tpm' #"
   ]
  },
  {
   "cell_type": "code",
   "execution_count": null,
   "metadata": {},
   "outputs": [],
   "source": [
    "#querySpecie=widget_specie.get_interact_value()"
   ]
  },
  {
   "cell_type": "code",
   "execution_count": null,
   "metadata": {},
   "outputs": [],
   "source": [
    "queryStr=widget_query.get_interact_value()\n",
    "\n",
    "listOfQueries=re.split(\" *, *\", queryStr)\n",
    "\n",
    "if len(queryStr)<3:\n",
    "    raise ValueError('Please provide a query with more than 3 characters')\n",
    "#if len(listOfQueries)<2:\n",
    "#    raise ValueError('Please provide a query with more than 2 conditions')\n"
   ]
  },
  {
   "cell_type": "code",
   "execution_count": null,
   "metadata": {},
   "outputs": [],
   "source": [
    "queryLabelToRegexDict=dict(zip(listOfQueries,listOfQueries))"
   ]
  },
  {
   "cell_type": "markdown",
   "metadata": {},
   "source": [
    "## Data loading"
   ]
  },
  {
   "cell_type": "markdown",
   "metadata": {},
   "source": [
    "### load in SRS biospecieman annotations"
   ]
  },
  {
   "cell_type": "code",
   "execution_count": null,
   "metadata": {},
   "outputs": [],
   "source": [
    "%matplotlib notebook\n",
    "\n",
    "import pandas as pd\n",
    "import numpy as np\n",
    "\n",
    "allSRS_pickle_dir='/home/jovyan/efs/all_seq/meta_data/allSRS.with_processed_data.flat.pickle.gz'\n",
    "%time allSRS=pd.read_pickle(allSRS_pickle_dir)\n",
    "allSRS.index.names=['SRS']"
   ]
  },
  {
   "cell_type": "markdown",
   "metadata": {},
   "source": [
    "### load in technical metadata"
   ]
  },
  {
   "cell_type": "code",
   "execution_count": null,
   "metadata": {},
   "outputs": [],
   "source": [
    "sra_dump_pickle_dir='/home/jovyan/efs/all_seq/meta_data/sra_dump.fastqc.bowtie_algn.pickle'\n",
    "%time technical_meta_data_df=pd.read_pickle(sra_dump_pickle_dir)\n",
    "technical_meta_data_df[('SRAmeta','Run')]=technical_meta_data_df.index"
   ]
  },
  {
   "cell_type": "markdown",
   "metadata": {},
   "source": [
    "### load the expression matrix\n",
    "\n",
    "Check files in baseDir directory for more species"
   ]
  },
  {
   "cell_type": "code",
   "execution_count": null,
   "metadata": {},
   "outputs": [],
   "source": [
    "def loadDf(fname,mmap_mode='r'):\n",
    "    with open(fname+'.index.txt') as f:\n",
    "        myIndex=map(lambda s:s.replace(\"\\n\",\"\"), f.readlines())\n",
    "    with open(fname+'.columns.txt') as f:\n",
    "        myColumns=map(lambda s:s.replace(\"\\n\",\"\"), f.readlines())\n",
    "    tmpMatrix=np.load(fname+\".npy\",mmap_mode=mmap_mode)\n",
    "    tmpDf=pd.DataFrame(tmpMatrix,index=myIndex,columns=myColumns)\n",
    "    tmpDf.columns.name='Run'\n",
    "    return tmpDf\n",
    "data_matrix_dir=baseDir+'microbes'\n",
    "\n",
    "%time rnaseqDf=loadDf(data_matrix_dir)"
   ]
  },
  {
   "cell_type": "code",
   "execution_count": null,
   "metadata": {},
   "outputs": [],
   "source": [
    "#!ls $baseDir"
   ]
  },
  {
   "cell_type": "markdown",
   "metadata": {},
   "source": [
    "### Find the relevent SRS (Sample  IDs)  \n"
   ]
  },
  {
   "cell_type": "code",
   "execution_count": null,
   "metadata": {},
   "outputs": [],
   "source": [
    "myL=[]\n",
    "for  queryRegex in queryLabelToRegexDict.values():\n",
    "    %time hitSrsS=allSRS[allSRS.str.contains(queryRegex,case=False)]\n",
    "    myL.append(hitSrsS)\n",
    "\n",
    "queryLabel='queryLabel'\n",
    "mergeS=pd.concat(myL,keys=queryLabelToRegexDict.keys(),names=[queryLabel])\n",
    "mergeS_noDup=mergeS.groupby(['SRS','queryLabel']).first()\n",
    "unqiueHitMask=mergeS_noDup.groupby('SRS').size()==1\n",
    "unqiueHitSrs=unqiueHitMask.index[unqiueHitMask]\n",
    "mergeS_noDup_unique=mergeS_noDup[mergeS_noDup.index.get_level_values('SRS').isin(unqiueHitSrs)]"
   ]
  },
  {
   "cell_type": "markdown",
   "metadata": {},
   "source": [
    "Number of SRS per query class"
   ]
  },
  {
   "cell_type": "code",
   "execution_count": null,
   "metadata": {},
   "outputs": [],
   "source": [
    "mergeS_noDup_unique.groupby(queryLabel).size()"
   ]
  },
  {
   "cell_type": "code",
   "execution_count": null,
   "metadata": {},
   "outputs": [],
   "source": [
    "srsToClasses_all=mergeS_noDup_unique.reset_index().set_index(['SRS'])['queryLabel']\n",
    "\n",
    "srsToClasses=srsToClasses_all"
   ]
  },
  {
   "cell_type": "markdown",
   "metadata": {},
   "source": [
    "### map SRS Ids to SRR Ids"
   ]
  },
  {
   "cell_type": "code",
   "execution_count": null,
   "metadata": {},
   "outputs": [],
   "source": [
    "m_SRAMeta=technical_meta_data_df[('SRAmeta','Sample')].isin(srsToClasses.index)\n",
    "technical_meta_data_df_hit=technical_meta_data_df[m_SRAMeta]\n",
    "\n",
    "SRAMetasrsCorrespondingQuery=srsToClasses.loc[technical_meta_data_df_hit[('SRAmeta','Sample')]].values\n",
    "technical_meta_data_df_hit[('SRAmeta',queryLabel)]=SRAMetasrsCorrespondingQuery\n",
    "relevantMetaColsL=[('SRAmeta',queryLabel),('SRAmeta','Study'),('SRAmeta','Sample'),('SRAmeta','Run'),('SRAmeta','ScientificName')]\n",
    "technical_meta_data_df_sub=technical_meta_data_df_hit[relevantMetaColsL]\n",
    "designDf=technical_meta_data_df_sub['SRAmeta']"
   ]
  },
  {
   "cell_type": "markdown",
   "metadata": {},
   "source": [
    "Top species with # of reprocessed profiles"
   ]
  },
  {
   "cell_type": "code",
   "execution_count": null,
   "metadata": {},
   "outputs": [],
   "source": [
    "print ('# expression profiles per query class and species available in SRA: ',designDf.groupby(['queryLabel','ScientificName']).size())"
   ]
  },
  {
   "cell_type": "code",
   "execution_count": null,
   "metadata": {},
   "outputs": [],
   "source": [
    "hitSrsAllAnnotS=allSRS[allSRS.index.get_level_values('SRS').isin(mergeS.index.get_level_values('SRS'))]"
   ]
  },
  {
   "cell_type": "code",
   "execution_count": null,
   "metadata": {},
   "outputs": [],
   "source": [
    "srsToTextS=hitSrsAllAnnotS"
   ]
  },
  {
   "cell_type": "code",
   "execution_count": null,
   "metadata": {},
   "outputs": [],
   "source": [
    "srsToTextS=pd.Series(data=\"NCBI SRA SRS:\"+srsToTextS.index+' <br> '+srsToTextS.values,index=srsToTextS.index)"
   ]
  },
  {
   "cell_type": "code",
   "execution_count": null,
   "metadata": {},
   "outputs": [],
   "source": [
    "designDf['Description']=srsToTextS[designDf.Sample].values"
   ]
  },
  {
   "cell_type": "markdown",
   "metadata": {},
   "source": [
    "### Subset the set of reprocessed data"
   ]
  },
  {
   "cell_type": "code",
   "execution_count": null,
   "metadata": {},
   "outputs": [],
   "source": [
    "%time designDf_specie=designDf[(designDf.Run.isin(rnaseqDf.columns))]\n",
    "queryDesignDf=designDf_specie"
   ]
  },
  {
   "cell_type": "code",
   "execution_count": null,
   "metadata": {},
   "outputs": [],
   "source": [
    "print ('Number of samples per query class that have data reprocessed in SkyMap: ',designDf_specie.groupby(queryLabel).size())\n"
   ]
  },
  {
   "cell_type": "code",
   "execution_count": null,
   "metadata": {},
   "outputs": [],
   "source": [
    "#rnaseqDf"
   ]
  },
  {
   "cell_type": "code",
   "execution_count": null,
   "metadata": {},
   "outputs": [],
   "source": [
    "from tqdm import tqdm"
   ]
  },
  {
   "cell_type": "code",
   "execution_count": null,
   "metadata": {},
   "outputs": [],
   "source": [
    "%time hitDf=pd.DataFrame( list(tqdm (map( lambda srrId: rnaseqDf[srrId],queryDesignDf.Run)))).T\n"
   ]
  },
  {
   "cell_type": "code",
   "execution_count": null,
   "metadata": {},
   "outputs": [],
   "source": [
    "hitDf.columns=queryDesignDf.set_index(queryDesignDf.columns.tolist()).index"
   ]
  },
  {
   "cell_type": "code",
   "execution_count": null,
   "metadata": {},
   "outputs": [],
   "source": [
    "bacterialAnnotationDf=pd.read_pickle('../efs/all_seq/microbes/bacterial.annot.pickle')\n",
    "viralAnnotationS=pd.read_pickle('../efs/all_seq/microbes/viral.annot.pickle')"
   ]
  },
  {
   "cell_type": "code",
   "execution_count": null,
   "metadata": {},
   "outputs": [],
   "source": [
    "renameS=pd.concat([bacterialAnnotationDf[bacterialAnnotationLevel],viralAnnotationS])"
   ]
  },
  {
   "cell_type": "code",
   "execution_count": null,
   "metadata": {},
   "outputs": [],
   "source": [
    "renameS=renameS.groupby(renameS.index).first()"
   ]
  },
  {
   "cell_type": "code",
   "execution_count": null,
   "metadata": {},
   "outputs": [],
   "source": [
    "hitDf.index=renameS[hitDf.index].values"
   ]
  },
  {
   "cell_type": "code",
   "execution_count": null,
   "metadata": {},
   "outputs": [],
   "source": [
    "hitDf_summed=hitDf.sum(axis=0,level=[0])"
   ]
  },
  {
   "cell_type": "markdown",
   "metadata": {},
   "source": [
    "# Export and download the expression matrix\n"
   ]
  },
  {
   "cell_type": "markdown",
   "metadata": {},
   "source": [
    "### Output: fully annotated matrix matrix\n",
    "\n",
    "The quantification metric is TPM by default. Expand and change the parameters in code section \"Execution\" if you want raw counts instead. \n",
    "\n",
    "Example layout is listed in the cell below"
   ]
  },
  {
   "cell_type": "code",
   "execution_count": null,
   "metadata": {},
   "outputs": [],
   "source": [
    "#hitDf"
   ]
  },
  {
   "cell_type": "markdown",
   "metadata": {},
   "source": [
    "Export the returned dataframe for analysis"
   ]
  },
  {
   "cell_type": "code",
   "execution_count": null,
   "metadata": {},
   "outputs": [],
   "source": [
    "hitDf_summed.head()"
   ]
  },
  {
   "cell_type": "code",
   "execution_count": null,
   "metadata": {},
   "outputs": [],
   "source": [
    "m_with_microbe_read=(hitDf_summed.sum(axis=0)>0)\n",
    "m_with_microbe_read.mean()"
   ]
  },
  {
   "cell_type": "code",
   "execution_count": null,
   "metadata": {},
   "outputs": [],
   "source": [
    "hitDf_summed_withData=hitDf_summed.loc[:,m_with_microbe_read]"
   ]
  },
  {
   "cell_type": "code",
   "execution_count": null,
   "metadata": {},
   "outputs": [],
   "source": [
    "hitDf_summed_withData.to_pickle('./tmp.profile.pickle')"
   ]
  },
  {
   "cell_type": "markdown",
   "metadata": {},
   "source": [
    "\n",
    "Hit the following button to download the expression profile matrix. \n",
    "If you see a dialogue box when you hit the following download button, click \"Leave page\""
   ]
  },
  {
   "cell_type": "code",
   "execution_count": null,
   "metadata": {},
   "outputs": [],
   "source": [
    "if checkbox_exportCSV.get_interact_value():\n",
    "    hitDf.to_csv('./tmp.csv')\n",
    "    from IPython.core.display import display, HTML\n",
    "    display(HTML('<form method=\"get\" action=\"tmp.csv\">\\\n",
    "       <button type=\"submit\">Click here to download the profile matrix as an CSV file</button>\\\n",
    "    </form>'))"
   ]
  },
  {
   "cell_type": "markdown",
   "metadata": {},
   "source": [
    "# Click here to view the analysis associated with the returned matrix\n",
    "**Please make sure you have run \"search\" before running the following analysis:**\n",
    "* [Volcano plot with t-test (Works only when there are more than 2 conditions)](VolcanoPlot.ipynb)\n",
    "* [Boxplot showing the read counts levels of a microbe sequence ](QueryGenesInConditions.ipynb)\n",
    "* [Interactive PCA 2D/ 3D ](./RNAseqPCA.ipynb)\n",
    "* [Interactive TSNE](./RNAseqTSNE.ipynb)\n",
    "\n",
    "\n",
    "The raw counts probably gonna suck hard for for PCA and TSNE analysis. It's preferable that you use the microbe data caustiously. "
   ]
  }
 ],
 "metadata": {
  "kernelspec": {
   "display_name": "Python 3",
   "language": "python",
   "name": "python3"
  },
  "language_info": {
   "codemirror_mode": {
    "name": "ipython",
    "version": 3
   },
   "file_extension": ".py",
   "mimetype": "text/x-python",
   "name": "python",
   "nbconvert_exporter": "python",
   "pygments_lexer": "ipython3",
   "version": "3.6.7"
  }
 },
 "nbformat": 4,
 "nbformat_minor": 2
}
