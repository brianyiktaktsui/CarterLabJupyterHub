{
 "cells": [
  {
   "cell_type": "markdown",
   "metadata": {},
   "source": [
    "# Technical metadata: relationships between sequencing runs, biospecieman annotation, study \n",
    "\n",
    "Also contains bowtie and fastqc read mapping statistics to targetted SNP reference.  \n",
    "\n",
    "For more information about the IDs being used, please reference the follow site:\n",
    "\n",
    "https://www.ncbi.nlm.nih.gov/books/NBK56913/\n",
    "\n",
    "\n",
    "Change the meta data directory to your own local copy with the same file name. "
   ]
  },
  {
   "cell_type": "markdown",
   "metadata": {},
   "source": [
    "#### layout of technical_meta_data_df\n",
    "\n",
    "##### SRAmeta (column level 1)\n",
    "Index: SRA sequencing runs (SRR Ids)\n",
    "\n",
    "|Column name| meaning|\n",
    "|:---:|:----:|\n",
    "|Experiment| SRA Experiment ID|\n",
    "|Sample| SRA biospecieman ID|\n",
    "|Study| SRA Study ID|\n",
    "|ScientificName|Species|\n",
    "|LibraryStrategy| {RNAseq, WXS, Chip-seq, WGS, ...} |\n",
    "|LibraryLayout| [PAIRED, SINGLE]|\n",
    "|Spots||\n",
    "|Bases| |\n",
    "|Status||\n",
    "|proj_accession_Submission||\n",
    "|proj_accession_Status||\n",
    "|proj_accession_Updated||\n",
    "|proj_accession_Published||\n",
    "|proj_accession_Received||\n",
    "|proj_accession_Type||\n",
    "|proj_accession_Center||\n",
    "|proj_accession_Visibility||\n",
    "|proj_accession_Loaded||\n",
    "|proj_accession_ReplacedBy||\n",
    "|new_ScientificName||\n",
    "|Run_db||\n",
    "|Run_digits||\n",
    "|Member_Name||\n",
    "\n",
    "##### SRAmeta (column level 1)\n",
    "** bowtie2: mapping statistics on reference SNP genome **\n",
    "\n",
    "\n",
    "|Column name| meaning|\n",
    "|:---:|:----:|\n",
    "|(\\d+) \\([0-9.]*%\\) aligned >1 times| % multi mapped reads|\n",
    "|(\\d+) \\([0-9.]*%\\) aligned exactly 1 time| % multi uniquely mapped reads |\n",
    "|(\\d+) mates make up the pairs| # of pair ended reads |\n",
    "|(\\d+) reads; of these:| # of single ended reads |\n",
    "\n",
    "##### FASTQC (column level 1)\n",
    "|Column name| meaning|\n",
    "|:---:|:----:|\n",
    "|Adapter sequence:(.*)| |\n",
    "|Reads with adapters:\\s+([0-9,]+)||\n",
    "|Total basepairs processed:\\s+([0-9,]+)||\n",
    "|Total reads processed:\\s+([0-9,]+)||\n",
    "|Total written \\(filtered\\):\\s+([0-9,]+)||"
   ]
  },
  {
   "cell_type": "code",
   "execution_count": 2,
   "metadata": {},
   "outputs": [
    {
     "name": "stdout",
     "output_type": "stream",
     "text": [
      "CPU times: user 4.23 s, sys: 1.64 s, total: 5.87 s\n",
      "Wall time: 7.73 s\n"
     ]
    }
   ],
   "source": [
    "import pandas as pd\n",
    "\n",
    "sra_dump_pickle_dir='/home/jovyan/efs/all_seq/meta_data/sra_dump.fastqc.bowtie_algn.pickle'\n",
    "\n",
    "%time technical_meta_data_df=pd.read_pickle(sra_dump_pickle_dir)"
   ]
  },
  {
   "cell_type": "markdown",
   "metadata": {},
   "source": [
    "### slicing a single  sequencing run (SRR)"
   ]
  },
  {
   "cell_type": "code",
   "execution_count": 4,
   "metadata": {},
   "outputs": [
    {
     "name": "stdout",
     "output_type": "stream",
     "text": [
      "CPU times: user 2.52 s, sys: 52 ms, total: 2.58 s\n",
      "Wall time: 2.56 s\n"
     ]
    },
    {
     "data": {
      "text/plain": [
       "SRAmeta  Member_Name                                                                            default\n",
       "         Experiment                                                                           SRX159751\n",
       "         Sample                                                                               SRS350134\n",
       "         Study                                                                                SRP014312\n",
       "         Spots                                                                                   272785\n",
       "         Bases                                                                              1.52357e+08\n",
       "         Status                                                                                    live\n",
       "         ScientificName                                                                    Homo_sapiens\n",
       "         LibraryStrategy                                                                            WGS\n",
       "         LibraryLayout                                                                           SINGLE\n",
       "         proj_accession_Submission                                                            SRA055939\n",
       "         proj_accession_Status                                                                     live\n",
       "         proj_accession_Updated                                                     2013-07-29 00:00:00\n",
       "         proj_accession_Published                                                   2012-07-17 00:00:00\n",
       "         proj_accession_Received                                                    2012-07-13 00:00:00\n",
       "         proj_accession_Type                                                                        RUN\n",
       "         proj_accession_Center                                                  Medical University Graz\n",
       "         proj_accession_Visibility                                                               public\n",
       "         proj_accession_Loaded                                                                        1\n",
       "         proj_accession_ReplacedBy                                                                    -\n",
       "         new_ScientificName                                                                Homo_sapiens\n",
       "         Run_db                                                                                     SRR\n",
       "         Run_digits                                                                              521279\n",
       "bowtie2  (\\d+) \\([0-9.]*%\\) aligned >1 times                                                         83\n",
       "         (\\d+) \\([0-9.]*%\\) aligned exactly 1 time                                                86679\n",
       "         (\\d+) mates make up the pairs                                                              NaN\n",
       "         (\\d+) reads; of these:                                                                  272785\n",
       "fastqc   Adapter sequence:(.*)                         'AGATCGGAAGAGC' (Illumina TruSeq, Sanger iPCR...\n",
       "         Reads with adapters:\\s+([0-9,]+)                                                           863\n",
       "         Total basepairs processed:\\s+([0-9,]+)                                               1,027,903\n",
       "         Total reads processed:\\s+([0-9,]+)                                                       2,500\n",
       "         Total written \\(filtered\\):\\s+([0-9,]+)                                                768,714\n",
       "Name: SRR521279, dtype: object"
      ]
     },
     "execution_count": 4,
     "metadata": {},
     "output_type": "execute_result"
    }
   ],
   "source": [
    "querySrrId='SRR521279'\n",
    "%time technical_meta_data_df.loc[querySrrId]#.head(n=15)#.to_frame()"
   ]
  },
  {
   "cell_type": "markdown",
   "metadata": {},
   "source": [
    "#  Biospcieman metadata (SRA SRS)\n",
    "\n",
    "|Level| name|\n",
    "|--|--|\n",
    "|allSRS.index.get_level_values(0)| SRS ids|\n",
    "|allSRS.index.get_level_values(1)| BioSample attribute|\n",
    "|allSRS.values|textual annotation from submitters|"
   ]
  },
  {
   "cell_type": "code",
   "execution_count": 6,
   "metadata": {},
   "outputs": [
    {
     "name": "stdout",
     "output_type": "stream",
     "text": [
      "CPU times: user 4.98 s, sys: 336 ms, total: 5.32 s\n",
      "Wall time: 5.32 s\n"
     ]
    }
   ],
   "source": [
    "#%%time\n",
    "allSRS_pickle_dir='/home/jovyan/efs/all_seq/meta_data/allSRS.with_processed_data.pickle.gz'\n",
    "%time allSRS=pd.read_pickle(allSRS_pickle_dir)"
   ]
  },
  {
   "cell_type": "code",
   "execution_count": 8,
   "metadata": {},
   "outputs": [
    {
     "data": {
      "text/plain": [
       "pandas.core.series.Series"
      ]
     },
     "execution_count": 8,
     "metadata": {},
     "output_type": "execute_result"
    }
   ],
   "source": [
    "type(allSRS)"
   ]
  },
  {
   "cell_type": "code",
   "execution_count": 7,
   "metadata": {},
   "outputs": [
    {
     "data": {
      "text/plain": [
       "ERS351018  TITLE                                                      Homo sapiens\n",
       "           SCIENTIFIC_NAME                                            Homo sapiens\n",
       "           SUBMITTER_ID          NOMO_1_vehicle_24h_1-sc-2013-09-25T09:51:29Z-1...\n",
       "           Strain                                                                 \n",
       "           Sample Description    Leukaemic cell line treated for 24h with vehic...\n",
       "dtype: object"
      ]
     },
     "execution_count": 7,
     "metadata": {},
     "output_type": "execute_result"
    }
   ],
   "source": [
    "allSRS.head()"
   ]
  },
  {
   "cell_type": "code",
   "execution_count": 14,
   "metadata": {},
   "outputs": [
    {
     "name": "stdout",
     "output_type": "stream",
     "text": [
      "# of SRS with data processed: 411535\n"
     ]
    }
   ],
   "source": [
    "print ('# of SRS with data processed:',allSRS.index.get_level_values(0).nunique())"
   ]
  },
  {
   "cell_type": "code",
   "execution_count": 11,
   "metadata": {},
   "outputs": [
    {
     "name": "stdout",
     "output_type": "stream",
     "text": [
      "CPU times: user 20 ms, sys: 0 ns, total: 20 ms\n",
      "Wall time: 16.7 ms\n"
     ]
    }
   ],
   "source": [
    "age_m=allSRS.index.get_level_values(1)=='age'\n",
    "%time allSRS_age=allSRS[age_m]"
   ]
  },
  {
   "cell_type": "code",
   "execution_count": 15,
   "metadata": {},
   "outputs": [
    {
     "name": "stdout",
     "output_type": "stream",
     "text": [
      "# of samples with age association: 118493\n"
     ]
    }
   ],
   "source": [
    "print (\"# of samples with age association:\",len(allSRS_age))"
   ]
  },
  {
   "cell_type": "markdown",
   "metadata": {},
   "source": [
    "### Experimental annotations\n",
    "\n",
    "For SRX, you probably need to download it first and load it in with a machine that has >10GB of RAM. "
   ]
  },
  {
   "cell_type": "code",
   "execution_count": null,
   "metadata": {},
   "outputs": [],
   "source": [
    "allSRX_pickle_dir='/home/jovyan/efs/all_seq/meta_data/allSRX.with_processed_data.pickle.gz'"
   ]
  }
 ],
 "metadata": {
  "kernelspec": {
   "display_name": "Python [conda env:skymap]",
   "language": "python",
   "name": "conda-env-skymap-py"
  },
  "language_info": {
   "codemirror_mode": {
    "name": "ipython",
    "version": 3
   },
   "file_extension": ".py",
   "mimetype": "text/x-python",
   "name": "python",
   "nbconvert_exporter": "python",
   "pygments_lexer": "ipython3",
   "version": "3.6.6"
  }
 },
 "nbformat": 4,
 "nbformat_minor": 2
}
