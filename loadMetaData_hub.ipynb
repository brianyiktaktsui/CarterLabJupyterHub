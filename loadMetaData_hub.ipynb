{
 "cells": [
  {
   "cell_type": "markdown",
   "metadata": {},
   "source": [
    "# Technical metadata: relationships between sequencing runs, biospecieman annotation, study \n",
    "\n",
    "Also contains bowtie and fastqc read mapping statistics to targetted SNP reference.  \n",
    "\n",
    "For more information about the IDs being used, please reference the follow site:\n",
    "\n",
    "https://www.ncbi.nlm.nih.gov/books/NBK56913/\n",
    "\n",
    "\n",
    "Change the meta data directory to your own local copy with the same file name. "
   ]
  },
  {
   "cell_type": "markdown",
   "metadata": {},
   "source": [
    "#### layout of technical_meta_data_df\n",
    "\n",
    "##### SRAmeta (column level 1)\n",
    "Index: SRA sequencing runs (SRR Ids)\n",
    "\n",
    "|Column name| meaning|\n",
    "|:---:|:----:|\n",
    "|Experiment| SRA Experiment ID|\n",
    "|Sample| SRA biospecieman ID|\n",
    "|Study| SRA Study ID|\n",
    "|ScientificName|Species|\n",
    "|LibraryStrategy| {RNAseq, WXS, Chip-seq, WGS, ...} |\n",
    "|LibraryLayout| [PAIRED, SINGLE]|\n",
    "|Spots||\n",
    "|Bases| |\n",
    "|Status||\n",
    "|proj_accession_Submission||\n",
    "|proj_accession_Status||\n",
    "|proj_accession_Updated||\n",
    "|proj_accession_Published||\n",
    "|proj_accession_Received||\n",
    "|proj_accession_Type||\n",
    "|proj_accession_Center||\n",
    "|proj_accession_Visibility||\n",
    "|proj_accession_Loaded||\n",
    "|proj_accession_ReplacedBy||\n",
    "|new_ScientificName||\n",
    "|Run_db||\n",
    "|Run_digits||\n",
    "|Member_Name||\n",
    "\n",
    "##### SRAmeta (column level 1)\n",
    "** bowtie2: mapping statistics on reference SNP genome **\n",
    "\n",
    "\n",
    "|Column name| meaning|\n",
    "|:---:|:----:|\n",
    "|(\\d+) \\([0-9.]*%\\) aligned >1 times| % multi mapped reads|\n",
    "|(\\d+) \\([0-9.]*%\\) aligned exactly 1 time| % multi uniquely mapped reads |\n",
    "|(\\d+) mates make up the pairs| # of pair ended reads |\n",
    "|(\\d+) reads; of these:| # of single ended reads |\n",
    "\n",
    "##### FASTQC (column level 1)\n",
    "|Column name| meaning|\n",
    "|:---:|:----:|\n",
    "|Adapter sequence:(.*)| |\n",
    "|Reads with adapters:\\s+([0-9,]+)||\n",
    "|Total basepairs processed:\\s+([0-9,]+)||\n",
    "|Total reads processed:\\s+([0-9,]+)||\n",
    "|Total written \\(filtered\\):\\s+([0-9,]+)||"
   ]
  },
  {
   "cell_type": "code",
   "execution_count": null,
   "metadata": {},
   "outputs": [],
   "source": [
    "import pandas as pd\n",
    "\n",
    "sra_dump_pickle_dir='/home/jovyan/efs/all_seq/meta_data/sra_dump.fastqc.bowtie_algn.pickle'\n",
    "\n",
    "%time technical_meta_data_df=pd.read_pickle(sra_dump_pickle_dir)"
   ]
  },
  {
   "cell_type": "markdown",
   "metadata": {},
   "source": [
    "### slicing a single  sequencing run (SRR)"
   ]
  },
  {
   "cell_type": "code",
   "execution_count": null,
   "metadata": {},
   "outputs": [],
   "source": [
    "querySrrId='SRR521279'\n",
    "%time technical_meta_data_df.loc[querySrrId]#.head(n=15)#.to_frame()"
   ]
  },
  {
   "cell_type": "markdown",
   "metadata": {},
   "source": [
    "#  Biospcieman metadata (SRA SRS)\n",
    "\n",
    "|Level| name|\n",
    "|--|--|\n",
    "|allSRS.index.get_level_values(0)| SRS ids|\n",
    "|allSRS.index.get_level_values(1)| BioSample attribute|\n",
    "|allSRS.values|textual annotation from submitters|"
   ]
  },
  {
   "cell_type": "code",
   "execution_count": null,
   "metadata": {},
   "outputs": [],
   "source": [
    "#%%time\n",
    "allSRS_pickle_dir='/home/jovyan/efs/all_seq/meta_data/allSRS.with_processed_data.pickle.gz'\n",
    "%time allSRS=pd.read_pickle(allSRS_pickle_dir)"
   ]
  },
  {
   "cell_type": "code",
   "execution_count": null,
   "metadata": {},
   "outputs": [],
   "source": [
    "type(allSRS)"
   ]
  },
  {
   "cell_type": "code",
   "execution_count": null,
   "metadata": {},
   "outputs": [],
   "source": [
    "allSRS.head()"
   ]
  },
  {
   "cell_type": "code",
   "execution_count": null,
   "metadata": {},
   "outputs": [],
   "source": [
    "print ('# of SRS with data processed:',allSRS.index.get_level_values(0).nunique())"
   ]
  },
  {
   "cell_type": "code",
   "execution_count": null,
   "metadata": {},
   "outputs": [],
   "source": [
    "age_m=allSRS.index.get_level_values(1)=='age'\n",
    "%time allSRS_age=allSRS[age_m]"
   ]
  },
  {
   "cell_type": "code",
   "execution_count": null,
   "metadata": {},
   "outputs": [],
   "source": [
    "print (\"# of samples with age association:\",len(allSRS_age))"
   ]
  },
  {
   "cell_type": "markdown",
   "metadata": {},
   "source": [
    "### Experimental annotations\n",
    "\n",
    "For SRX, you probably need to download it first and load it in with a machine that has >10GB of RAM. "
   ]
  },
  {
   "cell_type": "code",
   "execution_count": null,
   "metadata": {},
   "outputs": [],
   "source": [
    "allSRX_pickle_dir='/home/jovyan/efs/all_seq/meta_data/allSRX.with_processed_data.pickle.gz'"
   ]
  }
 ],
 "metadata": {
  "kernelspec": {
   "display_name": "Python [conda env:skymap]",
   "language": "python",
   "name": "conda-env-skymap-py"
  },
  "language_info": {
   "codemirror_mode": {
    "name": "ipython",
    "version": 3
   },
   "file_extension": ".py",
   "mimetype": "text/x-python",
   "name": "python",
   "nbconvert_exporter": "python",
   "pygments_lexer": "ipython3",
   "version": "3.6.6"
  }
 },
 "nbformat": 4,
 "nbformat_minor": 2
}
