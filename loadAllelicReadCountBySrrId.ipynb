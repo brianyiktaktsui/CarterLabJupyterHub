{
 "cells": [
  {
   "cell_type": "markdown",
   "metadata": {},
   "source": [
    "\n",
    "Click run all for this jupyter notebook, please send an email to btsui@eng.ucsd.edu if there is any error. "
   ]
  },
  {
   "cell_type": "markdown",
   "metadata": {},
   "source": [
    "### Input: query SRR Id"
   ]
  },
  {
   "cell_type": "code",
   "execution_count": null,
   "metadata": {},
   "outputs": [],
   "source": [
    "query_SRR='ERR126304'"
   ]
  },
  {
   "cell_type": "markdown",
   "metadata": {},
   "source": [
    "### Static params"
   ]
  },
  {
   "cell_type": "code",
   "execution_count": null,
   "metadata": {},
   "outputs": [],
   "source": [
    "import pandas as pd\n",
    "import re \n",
    "chunkSize=int(10**5)\n",
    "shrinkFactor=100\n",
    "newChunkSize=int(chunkSize/shrinkFactor)\n",
    "base_mergedBySRR_dir='/home/jovyan/efs/all_seq/snp/hg38/mergedBySRR_smallerChunk/'"
   ]
  },
  {
   "cell_type": "markdown",
   "metadata": {},
   "source": [
    "### Slice the data out"
   ]
  },
  {
   "cell_type": "code",
   "execution_count": null,
   "metadata": {},
   "outputs": [],
   "source": [
    "query_Run_digits=int(re.search(r\"\\d+\", query_SRR).group(0))\n",
    "query_Run_db=re.search(r\"\\wRR+\", query_SRR).group(0)\n",
    "#currently fixed, just use this\n",
    "ithChunk=int(query_Run_digits/newChunkSize)*newChunkSize\n",
    "print (ithChunk)\n",
    "%time tmpDf=pd.read_pickle('{}/{}.pickle.gz'.format(base_mergedBySRR_dir,ithChunk))"
   ]
  },
  {
   "cell_type": "code",
   "execution_count": null,
   "metadata": {},
   "outputs": [],
   "source": [
    "%time hitDf=tmpDf.loc[[query_Run_db,query_Run_digits]]"
   ]
  },
  {
   "cell_type": "markdown",
   "metadata": {},
   "source": [
    "### Output : Allelic read count profile from query SRR ID"
   ]
  },
  {
   "cell_type": "code",
   "execution_count": null,
   "metadata": {},
   "outputs": [],
   "source": [
    "hitDf"
   ]
  },
  {
   "cell_type": "markdown",
   "metadata": {},
   "source": [
    "# Diagnosis\n",
    "\n",
    "if you run into memory issue, I highly recommend trying out [AWS](https://aws.amazon.com/) machines. "
   ]
  },
  {
   "cell_type": "code",
   "execution_count": null,
   "metadata": {},
   "outputs": [],
   "source": [
    "memory_usageS=tmpDf.memory_usage()"
   ]
  },
  {
   "cell_type": "code",
   "execution_count": null,
   "metadata": {},
   "outputs": [],
   "source": [
    "print ('{} GB of RAM was for storing the pickle'.format(memory_usageS.sum()/(10**9)))"
   ]
  },
  {
   "cell_type": "code",
   "execution_count": null,
   "metadata": {},
   "outputs": [],
   "source": []
  }
 ],
 "metadata": {
  "kernelspec": {
   "display_name": "Python [conda env:skymap]",
   "language": "python",
   "name": "conda-env-skymap-py"
  },
  "language_info": {
   "codemirror_mode": {
    "name": "ipython",
    "version": 3
   },
   "file_extension": ".py",
   "mimetype": "text/x-python",
   "name": "python",
   "nbconvert_exporter": "python",
   "pygments_lexer": "ipython3",
   "version": "3.6.6"
  }
 },
 "nbformat": 4,
 "nbformat_minor": 2
}
