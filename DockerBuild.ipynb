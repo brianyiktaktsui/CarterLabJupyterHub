{
 "cells": [
  {
   "cell_type": "code",
   "execution_count": 11,
   "metadata": {},
   "outputs": [],
   "source": [
    "#!docker build -t jhubuserimage ."
   ]
  },
  {
   "cell_type": "code",
   "execution_count": 1,
   "metadata": {
    "scrolled": true
   },
   "outputs": [
    {
     "name": "stdout",
     "output_type": "stream",
     "text": [
      "Sending build context to Docker daemon   2.56kB\n",
      "Step 1/8 : FROM jupyter/minimal-notebook:177037d09156\n",
      " ---> c656e0daddcd\n",
      "Step 2/8 : RUN pip install nbgitpuller\n",
      " ---> Using cache\n",
      " ---> f240a091527d\n",
      "Step 3/8 : RUN jupyter serverextension enable --py nbgitpuller --sys-prefix\n",
      " ---> Using cache\n",
      " ---> eede60f3897d\n",
      "Step 4/8 : RUN conda create --yes -n skymap jupyter python=3.6 pandas=0.23.4 seaborn=0.8.1 scikit-learn=0.19.1\n",
      " ---> Using cache\n",
      " ---> 419cf95a94c6\n",
      "Step 5/8 : RUN conda install --yes -n skymap nb_conda_kernels\n",
      " ---> Using cache\n",
      " ---> 1547e0122261\n",
      "Step 6/8 : RUN conda install --yes nb_conda_kernels\n",
      " ---> Using cache\n",
      " ---> 116782c40be2\n",
      "Step 7/8 : RUN conda install --yes -n skymap -c bioconda kallisto=0.44.0\n",
      " ---> Using cache\n",
      " ---> a0d7f8c224e4\n",
      "Step 8/8 : RUN conda install --yes -n skymap -c  bioconda trim-galore=0.4.1\n",
      " ---> Using cache\n",
      " ---> 542a2bceb5ab\n",
      "Successfully built 542a2bceb5ab\n",
      "Successfully tagged jhubuserimage:latest\n"
     ]
    }
   ],
   "source": [
    "!docker build -t jhubuserimage ./Docker/"
   ]
  },
  {
   "cell_type": "code",
   "execution_count": 2,
   "metadata": {},
   "outputs": [],
   "source": [
    "#!ls ./Docker/"
   ]
  },
  {
   "cell_type": "code",
   "execution_count": 5,
   "metadata": {},
   "outputs": [],
   "source": [
    "!docker tag jhubuserimage btsui/get-started:v1"
   ]
  },
  {
   "cell_type": "code",
   "execution_count": 6,
   "metadata": {
    "scrolled": false
   },
   "outputs": [
    {
     "name": "stdout",
     "output_type": "stream",
     "text": [
      "The push refers to repository [docker.io/btsui/get-started]\n",
      "\n",
      "\u001b[1B4e51dbbb: Preparing \n",
      "\u001b[1B7480855b: Preparing \n",
      "\u001b[1Be1ce013c: Preparing \n",
      "\u001b[1Ba80b81a5: Preparing \n",
      "\u001b[1B166b5e85: Preparing \n",
      "\u001b[1Bc7627d68: Preparing \n",
      "\u001b[1B56d36c2e: Preparing \n",
      "\u001b[1B5181b506: Preparing \n",
      "\u001b[1Bee17775b: Preparing \n",
      "\u001b[1B5b52c024: Preparing \n",
      "\u001b[1B7ac9fb89: Preparing \n",
      "\u001b[1B75f3081f: Preparing \n",
      "\u001b[1B9aed2bb5: Preparing \n",
      "\u001b[1B6e3c6d85: Preparing \n",
      "\u001b[1Bc6d3bd63: Preparing \n",
      "\u001b[1B27e2d6f2: Preparing \n",
      "\u001b[1Ba05e26d1: Preparing \n",
      "\u001b[1B7668bb42: Preparing \n",
      "\u001b[1B044abddc: Preparing \n",
      "\u001b[1B98dfc824: Preparing \n",
      "\u001b[1Be9ead074: Preparing \n",
      "\u001b[1Bd60bcacf: Preparing \n",
      "\u001b[1Bf072feec: Preparing \n",
      "\u001b[1B5e448177: Preparing \n",
      "\u001b[1B999a0cb1: Preparing \n"
     ]
    },
    {
     "name": "stdout",
     "output_type": "stream",
     "text": [
      "\u001b[26Be51dbbb: Pushing  278.8MB/549.2MB26A\u001b[1K\u001b[K\u001b[19A\u001b[1K\u001b[K\u001b[26A\u001b[1K\u001b[K\u001b[26A\u001b[1K\u001b[K\u001b[26A\u001b[1K\u001b[K\u001b[26A\u001b[1K\u001b[K\u001b[16A\u001b[1K\u001b[K\u001b[18A\u001b[1K\u001b[K\u001b[25A\u001b[1K\u001b[K\u001b[26A\u001b[1K\u001b[K\u001b[17A\u001b[1K\u001b[K\u001b[26A\u001b[1K\u001b[K\u001b[26A\u001b[1K\u001b[K\u001b[13A\u001b[1K\u001b[K\u001b[15A\u001b[1K\u001b[K\u001b[26A\u001b[1K\u001b[K\u001b[14A\u001b[1K\u001b[K\u001b[26A\u001b[1K\u001b[K\u001b[25A\u001b[1K\u001b[K\u001b[12A\u001b[1K\u001b[K\u001b[11A\u001b[1K\u001b[K\u001b[26A\u001b[1K\u001b[K\u001b[10A\u001b[1K\u001b[K\u001b[26A\u001b[1K\u001b[K\u001b[26A\u001b[1K\u001b[K\u001b[9A\u001b[1K\u001b[K\u001b[25A\u001b[1K\u001b[K\u001b[8A\u001b[1K\u001b[K\u001b[7A\u001b[1K\u001b[K\u001b[25A\u001b[1K\u001b[K\u001b[25A\u001b[1K\u001b[K\u001b[26A\u001b[1K\u001b[K\u001b[25A\u001b[1K\u001b[K\u001b[6A\u001b[1K\u001b[K\u001b[5A\u001b[1K\u001b[K\u001b[25A\u001b[1K\u001b[K\u001b[3A\u001b[1K\u001b[K\u001b[26A\u001b[1K\u001b[K\u001b[25A\u001b[1K\u001b[K\u001b[25A\u001b[1K\u001b[K\u001b[26A\u001b[1K\u001b[K\u001b[25A\u001b[1K\u001b[K\u001b[2A\u001b[1K\u001b[K\u001b[25A\u001b[1K\u001b[K\u001b[26A\u001b[1K\u001b[K\u001b[4A\u001b[1K\u001b[K\u001b[25A\u001b[1K\u001b[K\u001b[25A\u001b[1K\u001b[K\u001b[1A\u001b[1K\u001b[K\u001b[25A\u001b[1K\u001b[K\u001b[26A\u001b[1K\u001b[K\u001b[25A\u001b[1K\u001b[K\u001b[25A\u001b[1K\u001b[K\u001b[25A\u001b[1K\u001b[K\u001b[26A\u001b[1K\u001b[K\u001b[25A\u001b[1K\u001b[K\u001b[25A\u001b[1K\u001b[K\u001b[25A\u001b[1K\u001b[K\u001b[26A\u001b[1K\u001b[K\u001b[25A\u001b[1K\u001b[K\u001b[25A\u001b[1K\u001b[K\u001b[26A\u001b[1K\u001b[K\u001b[26A\u001b[1K\u001b[K\u001b[26A\u001b[1K\u001b[K\u001b[26A\u001b[1K\u001b[K\u001b[25A\u001b[1K\u001b[K\u001b[26A\u001b[1K\u001b[K\u001b[25A\u001b[1K\u001b[K\u001b[25A\u001b[1K\u001b[K\u001b[26A\u001b[1K\u001b[K\u001b[25A\u001b[1K\u001b[K\u001b[25A\u001b[1K\u001b[K\u001b[26A\u001b[1K\u001b[K\u001b[26A\u001b[1K\u001b[K\u001b[25A\u001b[1K\u001b[K\u001b[26A\u001b[1K\u001b[K\u001b[26A\u001b[1K\u001b[K\u001b[26A\u001b[1K\u001b[K\u001b[26A\u001b[1K\u001b[K\u001b[26A\u001b[1K\u001b[K\u001b[26A\u001b[1K\u001b[K\u001b[26A\u001b[1K\u001b[K\u001b[26A\u001b[1K\u001b[K\u001b[26A\u001b[1K\u001b[K\u001b[26A\u001b[1K\u001b[K\u001b[26A\u001b[1K\u001b[K\u001b[26A\u001b[1K\u001b[K\u001b[26A\u001b[1K\u001b[K\u001b[26A\u001b[1K\u001b[K\u001b[26A\u001b[1K\u001b[K\u001b[26A\u001b[1K\u001b[K\u001b[26A\u001b[1K\u001b[K\u001b[26A\u001b[1K\u001b[K\u001b[26A\u001b[1K\u001b[K\u001b[26A\u001b[1K\u001b[K\u001b[25A\u001b[1K\u001b[K\u001b[26A\u001b[1K\u001b[K\u001b[25A\u001b[1K\u001b[K\u001b[26A\u001b[1K\u001b[K\u001b[26A\u001b[1K\u001b[K\u001b[26A\u001b[1K\u001b[K\u001b[26A\u001b[1K\u001b[K\u001b[26A\u001b[1K\u001b[K\u001b[26A\u001b[1K\u001b[K\u001b[26A\u001b[1K\u001b[K\u001b[26A\u001b[1K\u001b[K\u001b[26A\u001b[1K\u001b[K\u001b[26A\u001b[1K\u001b[K\u001b[26A\u001b[1K\u001b[K\u001b[26A\u001b[1K\u001b[K\u001b[26A\u001b[1K\u001b[K\u001b[26A\u001b[1K\u001b[K\u001b[26A\u001b[1K\u001b[K\u001b[26A\u001b[1K\u001b[K\u001b[26A\u001b[1K\u001b[K\u001b[26A\u001b[1K\u001b[K\u001b[26A\u001b[1K\u001b[K\u001b[25A\u001b[1K\u001b[K\u001b[26A\u001b[1K\u001b[K\u001b[25A\u001b[1K\u001b[K\u001b[26A\u001b[1K\u001b[K\u001b[26A\u001b[1K\u001b[K\u001b[25A\u001b[1K\u001b[K\u001b[26A\u001b[1K\u001b[K\u001b[25A\u001b[1K\u001b[K\u001b[26A\u001b[1K\u001b[K\u001b[25A\u001b[1K\u001b[K\u001b[26A\u001b[1K\u001b[K\u001b[25A\u001b[1K\u001b[K\u001b[25A\u001b[1K\u001b[K\u001b[25A\u001b[1K\u001b[K\u001b[26A\u001b[1K\u001b[K\u001b[25A\u001b[1K\u001b[K\u001b[26A\u001b[1K\u001b[K\u001b[26A\u001b[1K\u001b[K\u001b[25A\u001b[1K\u001b[K\u001b[26A\u001b[1K\u001b[K\u001b[25A\u001b[1K\u001b[K\u001b[25A\u001b[1K\u001b[K\u001b[26A\u001b[1K\u001b[K\u001b[25A\u001b[1K\u001b[K\u001b[26A\u001b[1K\u001b[K\u001b[26A\u001b[1K\u001b[K\u001b[25A\u001b[1K\u001b[K\u001b[26A\u001b[1K\u001b[K\u001b[26A\u001b[1K\u001b[K\u001b[26A\u001b[1K\u001b[K\u001b[26A\u001b[1K\u001b[K\u001b[25A\u001b[1K\u001b[K\u001b[25A\u001b[1K\u001b[K\u001b[26A\u001b[1K\u001b[K\u001b[25A\u001b[1K\u001b[K\u001b[26A\u001b[1K\u001b[K\u001b[25A\u001b[1K\u001b[K\u001b[26A\u001b[1K\u001b[K\u001b[25A\u001b[1K\u001b[K\u001b[25A\u001b[1K\u001b[K\u001b[26A\u001b[1K\u001b[K\u001b[25A\u001b[1K\u001b[K\u001b[26A\u001b[1K\u001b[K\u001b[26A\u001b[1K\u001b[K\u001b[26A\u001b[1K\u001b[K\u001b[26A\u001b[1K\u001b[K\u001b[25A\u001b[1K\u001b[K\u001b[25A\u001b[1K\u001b[K\u001b[26A\u001b[1K\u001b[K\u001b[25A\u001b[1K\u001b[K\u001b[26A\u001b[1K\u001b[K\u001b[25A\u001b[1K\u001b[K\u001b[26A\u001b[1K\u001b[K\u001b[25A\u001b[1K\u001b[K\u001b[26A\u001b[1K\u001b[K\u001b[25A\u001b[1K\u001b[K\u001b[26A\u001b[1K\u001b[K\u001b[26A\u001b[1K\u001b[K\u001b[25A\u001b[1K\u001b[K\u001b[25A\u001b[1K\u001b[K\u001b[26A\u001b[1K\u001b[K\u001b[25A\u001b[1K\u001b[K\u001b[26A\u001b[1K\u001b[K\u001b[25A\u001b[1K\u001b[K\u001b[26A\u001b[1K\u001b[K\u001b[25A\u001b[1K\u001b[K\u001b[25A\u001b[1K\u001b[K\u001b[26A\u001b[1K\u001b[K\u001b[25A\u001b[1K\u001b[K\u001b[25A\u001b[1K\u001b[K\u001b[26A\u001b[1K\u001b[K\u001b[25A\u001b[1K\u001b[K\u001b[25A\u001b[1K\u001b[K\u001b[26A\u001b[1K\u001b[K\u001b[25A\u001b[1K\u001b[K\u001b[26A\u001b[1K\u001b[K\u001b[25A\u001b[1K\u001b[K\u001b[25A\u001b[1K\u001b[K\u001b[26A\u001b[1K\u001b[K\u001b[25A\u001b[1K\u001b[K\u001b[26A\u001b[1K\u001b[K\u001b[25A\u001b[1K\u001b[K\u001b[26A\u001b[1K\u001b[K\u001b[26A\u001b[1K\u001b[K\u001b[25A\u001b[1K\u001b[K\u001b[26A\u001b[1K\u001b[K\u001b[25A\u001b[1K\u001b[K\u001b[26A\u001b[1K\u001b[K\u001b[25A\u001b[1K\u001b[K\u001b[26A\u001b[1K\u001b[K\u001b[25A\u001b[1K\u001b[K\u001b[26A\u001b[1K\u001b[K\u001b[26A\u001b[1K\u001b[K\u001b[25A\u001b[1K\u001b[K\u001b[26A\u001b[1K\u001b[K\u001b[25A\u001b[1K\u001b[K\u001b[26A\u001b[1K\u001b[K\u001b[25A\u001b[1K\u001b[K\u001b[26A\u001b[1K\u001b[K\u001b[26A\u001b[1K\u001b[K\u001b[25A\u001b[1K\u001b[K\u001b[26A\u001b[1K\u001b[K\u001b[26A\u001b[1K\u001b[K\u001b[26A\u001b[1K\u001b[K\u001b[26A\u001b[1K\u001b[K\u001b[25A\u001b[1K\u001b[K\u001b[26A\u001b[1K\u001b[K\u001b[25A\u001b[1K\u001b[K\u001b[26A\u001b[1K\u001b[K\u001b[25A\u001b[1K\u001b[K\u001b[26A\u001b[1K\u001b[K\u001b[26A\u001b[1K\u001b[K\u001b[25A\u001b[1K\u001b[K\u001b[26A\u001b[1K\u001b[K\u001b[25A\u001b[1K\u001b[K\u001b[26A\u001b[1K\u001b[K\u001b[26A\u001b[1K\u001b[K\u001b[26A\u001b[1K\u001b[K\u001b[25A\u001b[1K\u001b[K\u001b[26A\u001b[1K\u001b[K\u001b[25A\u001b[1K\u001b[K\u001b[26A\u001b[1K\u001b[K\u001b[25A\u001b[1K\u001b[K\u001b[25A\u001b[1K\u001b[K\u001b[25A\u001b[1K\u001b[K\u001b[26A\u001b[1K\u001b[K\u001b[25A\u001b[1K\u001b[K\u001b[25A\u001b[1K\u001b[K\u001b[25A\u001b[1K\u001b[K\u001b[25A\u001b[1K\u001b[K\u001b[25A\u001b[1K\u001b[K\u001b[26A\u001b[1K\u001b[K\u001b[25A\u001b[1K\u001b[K\u001b[25A\u001b[1K\u001b[K\u001b[26A\u001b[1K\u001b[K\u001b[25A\u001b[1K\u001b[KPushing  76.49MB/170.4MB\u001b[25A\u001b[1K\u001b[K\u001b[26A\u001b[1K\u001b[K\u001b[26A\u001b[1K\u001b[K\u001b[26A\u001b[1K\u001b[K\u001b[25A\u001b[1K\u001b[K\u001b[26A\u001b[1K\u001b[K\u001b[25A\u001b[1K\u001b[K\u001b[26A\u001b[1K\u001b[K\u001b[25A\u001b[1K\u001b[K\u001b[26A\u001b[1K\u001b[K\u001b[26A\u001b[1K\u001b[K\u001b[25A\u001b[1K\u001b[K\u001b[26A\u001b[1K\u001b[K\u001b[25A\u001b[1K\u001b[K\u001b[26A\u001b[1K\u001b[K\u001b[25A\u001b[1K\u001b[K\u001b[26A\u001b[1K\u001b[K\u001b[25A\u001b[1K\u001b[K\u001b[26A\u001b[1K\u001b[K\u001b[25A\u001b[1K\u001b[K\u001b[26A\u001b[1K\u001b[K\u001b[25A\u001b[1K\u001b[K\u001b[25A\u001b[1K\u001b[K\u001b[26A\u001b[1K\u001b[K\u001b[26A\u001b[1K\u001b[K\u001b[25A\u001b[1K\u001b[K\u001b[26A\u001b[1K\u001b[K\u001b[25A\u001b[1K\u001b[K\u001b[26A\u001b[1K\u001b[K\u001b[25A\u001b[1K\u001b[K\u001b[26A\u001b[1K\u001b[K\u001b[25A\u001b[1K\u001b[K\u001b[26A\u001b[1K\u001b[K\u001b[25A\u001b[1K\u001b[K\u001b[25A\u001b[1K\u001b[K\u001b[26A\u001b[1K\u001b[K\u001b[25A\u001b[1K\u001b[K\u001b[25A\u001b[1K\u001b[K\u001b[26A\u001b[1K\u001b[K\u001b[25A\u001b[1K\u001b[K\u001b[25A\u001b[1K\u001b[K\u001b[25A\u001b[1K\u001b[K\u001b[26A\u001b[1K\u001b[K\u001b[25A\u001b[1K\u001b[K\u001b[26A\u001b[1K\u001b[K\u001b[25A\u001b[1K\u001b[K\u001b[25A\u001b[1K\u001b[K\u001b[26A\u001b[1K\u001b[K\u001b[25A\u001b[1K\u001b[K\u001b[25A\u001b[1K\u001b[K\u001b[25A\u001b[1K\u001b[K\u001b[26A\u001b[1K\u001b[K\u001b[25A\u001b[1K\u001b[K\u001b[26A\u001b[1K\u001b[K\u001b[25A\u001b[1K\u001b[K\u001b[26A\u001b[1K\u001b[K\u001b[25A\u001b[1K\u001b[K\u001b[26A\u001b[1K\u001b[K\u001b[25A\u001b[1K\u001b[K\u001b[25A\u001b[1K\u001b[K\u001b[25A\u001b[1K\u001b[K\u001b[25A\u001b[1K\u001b[K\u001b[25A\u001b[1K\u001b[K\u001b[25A\u001b[1K\u001b[K\u001b[26A\u001b[1K\u001b[K\u001b[25A\u001b[1K\u001b[K\u001b[26A\u001b[1K\u001b[K\u001b[26A\u001b[1K\u001b[K\u001b[25A\u001b[1K\u001b[K\u001b[25A\u001b[1K\u001b[K\u001b[25A\u001b[1K\u001b[K\u001b[26A\u001b[1K\u001b[K\u001b[26A\u001b[1K\u001b[K\u001b[26A\u001b[1K\u001b[K\u001b[25A\u001b[1K\u001b[K\u001b[26A\u001b[1K\u001b[K\u001b[25A\u001b[1K\u001b[K\u001b[25A\u001b[1K\u001b[K\u001b[26A\u001b[1K\u001b[K\u001b[25A\u001b[1K\u001b[K\u001b[25A\u001b[1K\u001b[K\u001b[26A\u001b[1K\u001b[K\u001b[25A\u001b[1K\u001b[K\u001b[25A\u001b[1K\u001b[K\u001b[26A\u001b[1K\u001b[K\u001b[25A\u001b[1K\u001b[K\u001b[26A\u001b[1K\u001b[K\u001b[25A\u001b[1K\u001b[K\u001b[25A\u001b[1K\u001b[K\u001b[26A\u001b[1K\u001b[K\u001b[25A\u001b[1K\u001b[K\u001b[25A\u001b[1K\u001b[K\u001b[26A\u001b[1K\u001b[K\u001b[25A\u001b[1K\u001b[K\u001b[26A\u001b[1K\u001b[K\u001b[25A\u001b[1K\u001b[K\u001b[26A\u001b[1K\u001b[K\u001b[26A\u001b[1K\u001b[K\u001b[26A\u001b[1K\u001b[K\u001b[25A\u001b[1K\u001b[K\u001b[25A\u001b[1K\u001b[K\u001b[26A\u001b[1K\u001b[K\u001b[26A\u001b[1K\u001b[K\u001b[25A\u001b[1K\u001b[K\u001b[25A\u001b[1K\u001b[K\u001b[26A\u001b[1K\u001b[K\u001b[25A\u001b[1K\u001b[K\u001b[25A\u001b[1K\u001b[K\u001b[26A\u001b[1K\u001b[K\u001b[26A\u001b[1K\u001b[K\u001b[26A\u001b[1K\u001b[K\u001b[25A\u001b[1K\u001b[K\u001b[26A\u001b[1K\u001b[K\u001b[25A\u001b[1K\u001b[K\u001b[26A\u001b[1K\u001b[K\u001b[25A\u001b[1K\u001b[K\u001b[25A\u001b[1K\u001b[K\u001b[25A\u001b[1K\u001b[K\u001b[25A\u001b[1K\u001b[K\u001b[26A\u001b[1K\u001b[K\u001b[26A\u001b[1K\u001b[K\u001b[26A\u001b[1K\u001b[K\u001b[25A\u001b[1K\u001b[K\u001b[25A\u001b[1K\u001b[K\u001b[26A\u001b[1K\u001b[K\u001b[26A\u001b[1K\u001b[K\u001b[25A\u001b[1K\u001b[K\u001b[26A\u001b[1K\u001b[K\u001b[25A\u001b[1K\u001b[K\u001b[25A\u001b[1K\u001b[K\u001b[26A\u001b[1K\u001b[K\u001b[26A\u001b[1K\u001b[K\u001b[25A\u001b[1K\u001b[K\u001b[26A\u001b[1K\u001b[K\u001b[25A\u001b[1K\u001b[K\u001b[26A\u001b[1K\u001b[K\u001b[25A\u001b[1K\u001b[K\u001b[26A\u001b[1K\u001b[K\u001b[26A\u001b[1K\u001b[K\u001b[25A\u001b[1K\u001b[K\u001b[26A\u001b[1K\u001b[K\u001b[25A\u001b[1K\u001b[K\u001b[25A\u001b[1K\u001b[K\u001b[26A\u001b[1K\u001b[K\u001b[26A\u001b[1K\u001b[K\u001b[25A\u001b[1K\u001b[K\u001b[25A\u001b[1K\u001b[K\u001b[26A\u001b[1K\u001b[K\u001b[25A\u001b[1K\u001b[K\u001b[25A\u001b[1K\u001b[K\u001b[26A\u001b[1K\u001b[K\u001b[25A\u001b[1K\u001b[K\u001b[26A\u001b[1K\u001b[K\u001b[26A\u001b[1K\u001b[K\u001b[25A\u001b[1K\u001b[K\u001b[26A\u001b[1K\u001b[K\u001b[26A\u001b[1K\u001b[K\u001b[26A\u001b[1K\u001b[K\u001b[25A\u001b[1K\u001b[K\u001b[26A\u001b[1K\u001b[K\u001b[26A\u001b[1K\u001b[K\u001b[25A\u001b[1K\u001b[K\u001b[26A\u001b[1K\u001b[K\u001b[26A\u001b[1K\u001b[K\u001b[25A\u001b[1K\u001b[K\u001b[26A\u001b[1K\u001b[K\u001b[25A\u001b[1K\u001b[K\u001b[25A\u001b[1K\u001b[K\u001b[26A\u001b[1K\u001b[K\u001b[25A\u001b[1K\u001b[K\u001b[26A\u001b[1K\u001b[K\u001b[26A\u001b[1K\u001b[K\u001b[25A\u001b[1K\u001b[K\u001b[26A\u001b[1K\u001b[K\u001b[25A\u001b[1K\u001b[K\u001b[26A\u001b[1K\u001b[K\u001b[26A\u001b[1K\u001b[K\u001b[26A\u001b[1K\u001b[K\u001b[25A\u001b[1K\u001b[K\u001b[26A\u001b[1K\u001b[K\u001b[26A\u001b[1K\u001b[K\u001b[25A\u001b[1K\u001b[K\u001b[26A\u001b[1K\u001b[K\u001b[26A\u001b[1K\u001b[K\u001b[26A\u001b[1K\u001b[K\u001b[26A\u001b[1K\u001b[K\u001b[25A\u001b[1K\u001b[K\u001b[25A\u001b[1K\u001b[K\u001b[26A\u001b[1K\u001b[K\u001b[25A\u001b[1K\u001b[K\u001b[26A\u001b[1K\u001b[K\u001b[26A\u001b[1K\u001b[K\u001b[25A\u001b[1K\u001b[K\u001b[26A\u001b[1K\u001b[K\u001b[26A\u001b[1K\u001b[K\u001b[26A\u001b[1K\u001b[K\u001b[26A\u001b[1K\u001b[K\u001b[26A\u001b[1K\u001b[K\u001b[26A\u001b[1K\u001b[K\u001b[26A\u001b[1K\u001b[K\u001b[26A\u001b[1K\u001b[K\u001b[26A\u001b[1K\u001b[K\u001b[26A\u001b[1K\u001b[K\u001b[26A\u001b[1K\u001b[K\u001b[25A\u001b[1K\u001b[K\u001b[25A\u001b[1K\u001b[K\u001b[26A\u001b[1K\u001b[K\u001b[26A\u001b[1K\u001b[K\u001b[26A\u001b[1K\u001b[K\u001b[25A\u001b[1K\u001b[K\u001b[26A\u001b[1K\u001b[K\u001b[26A\u001b[1K\u001b[K\u001b[26A\u001b[1K\u001b[K\u001b[26A\u001b[1K\u001b[K\u001b[26A\u001b[1K\u001b[K\u001b[26A\u001b[1K\u001b[K\u001b[25A\u001b[1K\u001b[K\u001b[26A\u001b[1K\u001b[K\u001b[26A\u001b[1K\u001b[K\u001b[26A\u001b[1K\u001b[K\u001b[26A\u001b[1K\u001b[K\u001b[26A\u001b[1K\u001b[K\u001b[26A\u001b[1K\u001b[K\u001b[26A\u001b[1K\u001b[K\u001b[25A\u001b[1K\u001b[K\u001b[26A\u001b[1K\u001b[K\u001b[26A\u001b[1K\u001b[K\u001b[26A\u001b[1K\u001b[K\u001b[25A\u001b[1K\u001b[K\u001b[26A\u001b[1K\u001b[K\u001b[25A\u001b[1K\u001b[K\u001b[26A\u001b[1K\u001b[K\u001b[26A\u001b[1K\u001b[K\u001b[26A\u001b[1K\u001b[K\u001b[26A\u001b[1K\u001b[K\u001b[25A\u001b[1K\u001b[K\u001b[26A\u001b[1K\u001b[K\u001b[26A\u001b[1K\u001b[K\u001b[26A\u001b[1K\u001b[K\u001b[26A\u001b[1K\u001b[K\u001b[26A\u001b[1K\u001b[K\u001b[25A\u001b[1K\u001b[K\u001b[26A\u001b[1K\u001b[K\u001b[26A\u001b[1K\u001b[K\u001b[26A\u001b[1K\u001b[K\u001b[25A\u001b[1K\u001b[K\u001b[26A\u001b[1K\u001b[K\u001b[26A\u001b[1K\u001b[K\u001b[26A\u001b[1K\u001b[K\u001b[25A\u001b[1K\u001b[K\u001b[26A\u001b[1K\u001b[K\u001b[26A\u001b[1K\u001b[K\u001b[26A\u001b[1K\u001b[K\u001b[26A\u001b[1K\u001b[K\u001b[25A\u001b[1K\u001b[K\u001b[26A\u001b[1K\u001b[K\u001b[26A\u001b[1K\u001b[K\u001b[26A\u001b[1K\u001b[K\u001b[25A\u001b[1K\u001b[K\u001b[26A\u001b[1K\u001b[K\u001b[26A\u001b[1K\u001b[K\u001b[26A\u001b[1K\u001b[K\u001b[26A\u001b[1K\u001b[K\u001b[26A\u001b[1K\u001b[K\u001b[25A\u001b[1K\u001b[K\u001b[26A\u001b[1K\u001b[K\u001b[26A\u001b[1K\u001b[K\u001b[26A\u001b[1K\u001b[K\u001b[25A\u001b[1K\u001b[K\u001b[26A\u001b[1K\u001b[K\u001b[26A\u001b[1K\u001b[K\u001b[25A\u001b[1K\u001b[K\u001b[26A\u001b[1K\u001b[K\u001b[26A\u001b[1K\u001b[K\u001b[25A\u001b[1K\u001b[K\u001b[25A\u001b[1K\u001b[K\u001b[26A\u001b[1K\u001b[K\u001b[25A\u001b[1K\u001b[K\u001b[26A\u001b[1K\u001b[K\u001b[25A\u001b[1K\u001b[K\u001b[26A\u001b[1K\u001b[K\u001b[25A\u001b[1K\u001b[K\u001b[25A\u001b[1K\u001b[K\u001b[25A\u001b[1K\u001b[K\u001b[26A\u001b[1K\u001b[K\u001b[26A\u001b[1K\u001b[K\u001b[25A\u001b[1K\u001b[K\u001b[25A\u001b[1K\u001b[K\u001b[25A\u001b[1K\u001b[K\u001b[25A\u001b[1K\u001b[K\u001b[25A\u001b[1K\u001b[K\u001b[26A\u001b[1K\u001b[K\u001b[25A\u001b[1K\u001b[K\u001b[26A\u001b[1K\u001b[K\u001b[25A\u001b[1K\u001b[K\u001b[25A\u001b[1K\u001b[K\u001b[26A\u001b[1K\u001b[K\u001b[25A\u001b[1K\u001b[K\u001b[25A\u001b[1K\u001b[K\u001b[26A\u001b[1K\u001b[K\u001b[25A\u001b[1K\u001b[K\u001b[26A\u001b[1K\u001b[K\u001b[26A\u001b[1K\u001b[K\u001b[25A\u001b[1K\u001b[K\u001b[26A\u001b[1K\u001b[K\u001b[26A\u001b[1K\u001b[K\u001b[25A\u001b[1K\u001b[K\u001b[26A\u001b[1K\u001b[K\u001b[26A\u001b[1K\u001b[K\u001b[26A\u001b[1K\u001b[K\u001b[26A\u001b[1K\u001b[K\u001b[25A\u001b[1K\u001b[K\u001b[26A\u001b[1K\u001b[K\u001b[26A\u001b[1K\u001b[K\u001b[26A\u001b[1K\u001b[K\u001b[25A\u001b[1K\u001b[K\u001b[25A\u001b[1K\u001b[K\u001b[26A\u001b[1K\u001b[K\u001b[26A\u001b[1K\u001b[K\u001b[26A\u001b[1K\u001b[K\u001b[26A\u001b[1K\u001b[K\u001b[26A\u001b[1K\u001b[K\u001b[26A\u001b[1K\u001b[K\u001b[26A\u001b[1K\u001b[K\u001b[26A\u001b[1K\u001b[K\u001b[26A\u001b[1K\u001b[K\u001b[26A\u001b[1K\u001b[K\u001b[26A\u001b[1K\u001b[K\u001b[26A\u001b[1K\u001b[K\u001b[26A\u001b[1K\u001b[K\u001b[26A\u001b[1K\u001b[K\u001b[26A\u001b[1K\u001b[K\u001b[26A\u001b[1K\u001b[K\u001b[26A\u001b[1K\u001b[K\u001b[26A\u001b[1K\u001b[K\u001b[26A\u001b[1K\u001b[K\u001b[26A\u001b[1K\u001b[K\u001b[26A\u001b[1K\u001b[K\u001b[26A\u001b[1K\u001b[K\u001b[26A\u001b[1K\u001b[K\u001b[26A\u001b[1K\u001b[K\u001b[26A\u001b[1K\u001b[K\u001b[26A\u001b[1K\u001b[K\u001b[26A\u001b[1K\u001b[K\u001b[26A\u001b[1K\u001b[K\u001b[26A\u001b[1K\u001b[K\u001b[26A\u001b[1K\u001b[K\u001b[26A\u001b[1K\u001b[K\u001b[25A\u001b[1K\u001b[K\u001b[26A\u001b[1K\u001b[K\u001b[26A\u001b[1K\u001b[K\u001b[26A\u001b[1K\u001b[K\u001b[26A\u001b[1K\u001b[K\u001b[26A\u001b[1K\u001b[K\u001b[26A\u001b[1K\u001b[K\u001b[26A\u001b[1K\u001b[K\u001b[26A\u001b[1K\u001b[K\u001b[26A\u001b[1K\u001b[K\u001b[26A\u001b[1K\u001b[K\u001b[26A\u001b[1K\u001b[K\u001b[26A\u001b[1K\u001b[K\u001b[26A\u001b[1K\u001b[K\u001b[26A\u001b[1K\u001b[K\u001b[26A\u001b[1K\u001b[K\u001b[26A\u001b[1K\u001b[K\u001b[26A\u001b[1K\u001b[K\u001b[26A\u001b[1K\u001b[K\u001b[26A\u001b[1K\u001b[K\u001b[26A\u001b[1K\u001b[K\u001b[26A\u001b[1K\u001b[K\u001b[26A\u001b[1K\u001b[K\u001b[26A\u001b[1K\u001b[K\u001b[26A\u001b[1K\u001b[K\u001b[26A\u001b[1K\u001b[K\u001b[26A\u001b[1K\u001b[K\u001b[26A\u001b[1K\u001b[K\u001b[26A\u001b[1K\u001b[K\u001b[26A\u001b[1K\u001b[K\u001b[26A\u001b[1K\u001b[K\u001b[26A\u001b[1K\u001b[K\u001b[26A\u001b[1K\u001b[K\u001b[26A\u001b[1K\u001b[K\u001b[26A\u001b[1K\u001b[K\u001b[26A\u001b[1K\u001b[K\u001b[26A\u001b[1K\u001b[K\u001b[26A\u001b[1K\u001b[K\u001b[26A\u001b[1K\u001b[K\u001b[26A\u001b[1K\u001b[K\u001b[26A\u001b[1K\u001b[K\u001b[26A\u001b[1K\u001b[K\u001b[26A\u001b[1K\u001b[K\u001b[26A\u001b[1K\u001b[K\u001b[26A\u001b[1K\u001b[K\u001b[26A\u001b[1K\u001b[K\u001b[26A\u001b[1K\u001b[K\u001b[26A\u001b[1K\u001b[K\u001b[26A\u001b[1K\u001b[K\u001b[26A\u001b[1K\u001b[K\u001b[26A\u001b[1K\u001b[K\u001b[26A\u001b[1K\u001b[K\u001b[26A\u001b[1K\u001b[K\u001b[26A\u001b[1K\u001b[K\u001b[26A\u001b[1K\u001b[K\u001b[26A\u001b[1K\u001b[K\u001b[26A\u001b[1K\u001b[K\u001b[26A\u001b[1K\u001b[K\u001b[26A\u001b[1K\u001b[K\u001b[26A\u001b[1K\u001b[K\u001b[26A\u001b[1K\u001b[K\u001b[26A\u001b[1K\u001b[K\u001b[26A\u001b[1K\u001b[K\u001b[26A\u001b[1K\u001b[K\u001b[26A\u001b[1K\u001b[K\u001b[26A\u001b[1K\u001b[K\u001b[26A\u001b[1K\u001b[K\u001b[26A\u001b[1K\u001b[K\u001b[26A\u001b[1K\u001b[K\u001b[26A\u001b[1K\u001b[K\u001b[26A\u001b[1K\u001b[K\u001b[26A\u001b[1K\u001b[K\u001b[26A\u001b[1K\u001b[K\u001b[26A\u001b[1K\u001b[K\u001b[26A\u001b[1K\u001b[K\u001b[26A\u001b[1K\u001b[K\u001b[26A\u001b[1K\u001b[K\u001b[26A\u001b[1K\u001b[K"
     ]
    },
    {
     "name": "stdout",
     "output_type": "stream",
     "text": [
      "\u001b[26Be51dbbb: Pushed   553.6MB/549.2MB\u001b[26A\u001b[1K\u001b[K\u001b[26A\u001b[1K\u001b[K\u001b[26A\u001b[1K\u001b[K\u001b[26A\u001b[1K\u001b[K\u001b[26A\u001b[1K\u001b[K\u001b[26A\u001b[1K\u001b[K\u001b[26A\u001b[1K\u001b[K\u001b[26A\u001b[1K\u001b[K\u001b[26A\u001b[1K\u001b[K\u001b[26A\u001b[1K\u001b[K\u001b[26A\u001b[1K\u001b[K\u001b[26A\u001b[1K\u001b[K\u001b[26A\u001b[1K\u001b[K\u001b[26A\u001b[1K\u001b[K\u001b[26A\u001b[1K\u001b[K\u001b[26A\u001b[1K\u001b[K\u001b[26A\u001b[1K\u001b[K\u001b[26A\u001b[1K\u001b[K\u001b[26A\u001b[1K\u001b[K\u001b[26A\u001b[1K\u001b[K\u001b[26A\u001b[1K\u001b[K\u001b[26A\u001b[1K\u001b[K\u001b[26A\u001b[1K\u001b[K\u001b[26A\u001b[1K\u001b[K\u001b[26A\u001b[1K\u001b[K\u001b[26A\u001b[1K\u001b[K\u001b[26A\u001b[1K\u001b[K\u001b[26A\u001b[1K\u001b[K\u001b[26A\u001b[1K\u001b[K\u001b[26A\u001b[1K\u001b[K\u001b[26A\u001b[1K\u001b[K\u001b[26A\u001b[1K\u001b[K\u001b[26A\u001b[1K\u001b[K\u001b[26A\u001b[1K\u001b[K\u001b[26A\u001b[1K\u001b[K\u001b[26A\u001b[1K\u001b[K\u001b[26A\u001b[1K\u001b[K\u001b[26A\u001b[1K\u001b[K\u001b[26A\u001b[1K\u001b[K\u001b[26A\u001b[1K\u001b[K\u001b[26A\u001b[1K\u001b[K\u001b[26A\u001b[1K\u001b[K\u001b[26A\u001b[1K\u001b[K\u001b[26A\u001b[1K\u001b[K\u001b[26A\u001b[1K\u001b[K\u001b[26A\u001b[1K\u001b[K\u001b[26A\u001b[1K\u001b[K\u001b[26A\u001b[1K\u001b[K\u001b[26A\u001b[1K\u001b[KPushing  307.8MB/549.2MB\u001b[26A\u001b[1K\u001b[K\u001b[26A\u001b[1K\u001b[K\u001b[26A\u001b[1K\u001b[K\u001b[26A\u001b[1K\u001b[K\u001b[26A\u001b[1K\u001b[K\u001b[26A\u001b[1K\u001b[K\u001b[26A\u001b[1K\u001b[K\u001b[26A\u001b[1K\u001b[K\u001b[26A\u001b[1K\u001b[K\u001b[26A\u001b[1K\u001b[K\u001b[26A\u001b[1K\u001b[K\u001b[26A\u001b[1K\u001b[K\u001b[26A\u001b[1K\u001b[K\u001b[26A\u001b[1K\u001b[K\u001b[26A\u001b[1K\u001b[K\u001b[26A\u001b[1K\u001b[K\u001b[26A\u001b[1K\u001b[K\u001b[26A\u001b[1K\u001b[K\u001b[26A\u001b[1K\u001b[K\u001b[26A\u001b[1K\u001b[K\u001b[26A\u001b[1K\u001b[K\u001b[26A\u001b[1K\u001b[K\u001b[26A\u001b[1K\u001b[K\u001b[26A\u001b[1K\u001b[K\u001b[26A\u001b[1K\u001b[K\u001b[26A\u001b[1K\u001b[K\u001b[26A\u001b[1K\u001b[K\u001b[26A\u001b[1K\u001b[K\u001b[26A\u001b[1K\u001b[K\u001b[26A\u001b[1K\u001b[K\u001b[26A\u001b[1K\u001b[K\u001b[26A\u001b[1K\u001b[K\u001b[26A\u001b[1K\u001b[K\u001b[26A\u001b[1K\u001b[K\u001b[26A\u001b[1K\u001b[K\u001b[26A\u001b[1K\u001b[K\u001b[26A\u001b[1K\u001b[K\u001b[26A\u001b[1K\u001b[K\u001b[26A\u001b[1K\u001b[K\u001b[26A\u001b[1K\u001b[K\u001b[26A\u001b[1K\u001b[K\u001b[26A\u001b[1K\u001b[K\u001b[26A\u001b[1K\u001b[K\u001b[26A\u001b[1K\u001b[K\u001b[26A\u001b[1K\u001b[K\u001b[26A\u001b[1K\u001b[K\u001b[26A\u001b[1K\u001b[K\u001b[26A\u001b[1K\u001b[K\u001b[26A\u001b[1K\u001b[K\u001b[26A\u001b[1K\u001b[K\u001b[26A\u001b[1K\u001b[K\u001b[26A\u001b[1K\u001b[K\u001b[26A\u001b[1K\u001b[K\u001b[26A\u001b[1K\u001b[K\u001b[26A\u001b[1K\u001b[K\u001b[26A\u001b[1K\u001b[K\u001b[26A\u001b[1K\u001b[K\u001b[26A\u001b[1K\u001b[K\u001b[26A\u001b[1K\u001b[K\u001b[26A\u001b[1K\u001b[K\u001b[26A\u001b[1K\u001b[K\u001b[26A\u001b[1K\u001b[K\u001b[26A\u001b[1K\u001b[K\u001b[26A\u001b[1K\u001b[K\u001b[26A\u001b[1K\u001b[K\u001b[26A\u001b[1K\u001b[K\u001b[26A\u001b[1K\u001b[K\u001b[26A\u001b[1K\u001b[K\u001b[26A\u001b[1K\u001b[K\u001b[26A\u001b[1K\u001b[K\u001b[26A\u001b[1K\u001b[K\u001b[26A\u001b[1K\u001b[K\u001b[26A\u001b[1K\u001b[K\u001b[26A\u001b[1K\u001b[K\u001b[26A\u001b[1K\u001b[K\u001b[26A\u001b[1K\u001b[K\u001b[26A\u001b[1K\u001b[K\u001b[26A\u001b[1K\u001b[K\u001b[26A\u001b[1K\u001b[K\u001b[26A\u001b[1K\u001b[K\u001b[26A\u001b[1K\u001b[K\u001b[26A\u001b[1K\u001b[K\u001b[26A\u001b[1K\u001b[K\u001b[26A\u001b[1K\u001b[K\u001b[26A\u001b[1K\u001b[K\u001b[26A\u001b[1K\u001b[K\u001b[26A\u001b[1K\u001b[K\u001b[26A\u001b[1K\u001b[K\u001b[26A\u001b[1K\u001b[K\u001b[26A\u001b[1K\u001b[K\u001b[26A\u001b[1K\u001b[K\u001b[26A\u001b[1K\u001b[K\u001b[26A\u001b[1K\u001b[K\u001b[26A\u001b[1K\u001b[K\u001b[26A\u001b[1K\u001b[K\u001b[26A\u001b[1K\u001b[K\u001b[26A\u001b[1K\u001b[K\u001b[26A\u001b[1K\u001b[K\u001b[26A\u001b[1K\u001b[K\u001b[26A\u001b[1K\u001b[K\u001b[26A\u001b[1K\u001b[K\u001b[26A\u001b[1K\u001b[K\u001b[26A\u001b[1K\u001b[K\u001b[26A\u001b[1K\u001b[K\u001b[26A\u001b[1K\u001b[K\u001b[26A\u001b[1K\u001b[K\u001b[26A\u001b[1K\u001b[K\u001b[26A\u001b[1K\u001b[K\u001b[26A\u001b[1K\u001b[K\u001b[26A\u001b[1K\u001b[K\u001b[26A\u001b[1K\u001b[K\u001b[26A\u001b[1K\u001b[K\u001b[26A\u001b[1K\u001b[K\u001b[26A\u001b[1K\u001b[K\u001b[26A\u001b[1K\u001b[K\u001b[26A\u001b[1K\u001b[K\u001b[26A\u001b[1K\u001b[K\u001b[26A\u001b[1K\u001b[K\u001b[26A\u001b[1K\u001b[K\u001b[26A\u001b[1K\u001b[K\u001b[26A\u001b[1K\u001b[K\u001b[26A\u001b[1K\u001b[K\u001b[26A\u001b[1K\u001b[K\u001b[26A\u001b[1K\u001b[K\u001b[26A\u001b[1K\u001b[K\u001b[26A\u001b[1K\u001b[K\u001b[26A\u001b[1K\u001b[K\u001b[26A\u001b[1K\u001b[K\u001b[26A\u001b[1K\u001b[K\u001b[26A\u001b[1K\u001b[K\u001b[26A\u001b[1K\u001b[K\u001b[26A\u001b[1K\u001b[K\u001b[26A\u001b[1K\u001b[K\u001b[26A\u001b[1K\u001b[K\u001b[26A\u001b[1K\u001b[K\u001b[26A\u001b[1K\u001b[K\u001b[26A\u001b[1K\u001b[K\u001b[26A\u001b[1K\u001b[K\u001b[26A\u001b[1K\u001b[K\u001b[26A\u001b[1K\u001b[K\u001b[26A\u001b[1K\u001b[K\u001b[26A\u001b[1K\u001b[K\u001b[26A\u001b[1K\u001b[K\u001b[26A\u001b[1K\u001b[K\u001b[26A\u001b[1K\u001b[K\u001b[26A\u001b[1K\u001b[K\u001b[26A\u001b[1K\u001b[K\u001b[26A\u001b[1K\u001b[K\u001b[26A\u001b[1K\u001b[K\u001b[26A\u001b[1K\u001b[K\u001b[26A\u001b[1K\u001b[K\u001b[26A\u001b[1K\u001b[K\u001b[26A\u001b[1K\u001b[K\u001b[26A\u001b[1K\u001b[K\u001b[26A\u001b[1K\u001b[K\u001b[26A\u001b[1K\u001b[K\u001b[26A\u001b[1K\u001b[K\u001b[26A\u001b[1K\u001b[K\u001b[26A\u001b[1K\u001b[K\u001b[26A\u001b[1K\u001b[K\u001b[26A\u001b[1K\u001b[K\u001b[26A\u001b[1K\u001b[K\u001b[26A\u001b[1K\u001b[K\u001b[26A\u001b[1K\u001b[K\u001b[26A\u001b[1K\u001b[K\u001b[26A\u001b[1K\u001b[K\u001b[26A\u001b[1K\u001b[K\u001b[26A\u001b[1K\u001b[K\u001b[26A\u001b[1K\u001b[K\u001b[26A\u001b[1K\u001b[K\u001b[26A\u001b[1K\u001b[K\u001b[26A\u001b[1K\u001b[K\u001b[26A\u001b[1K\u001b[K\u001b[26A\u001b[1K\u001b[K\u001b[26A\u001b[1K\u001b[K\u001b[26A\u001b[1K\u001b[K\u001b[26A\u001b[1K\u001b[K\u001b[26A\u001b[1K\u001b[K\u001b[26A\u001b[1K\u001b[K\u001b[26A\u001b[1K\u001b[K\u001b[26A\u001b[1K\u001b[K\u001b[26A\u001b[1K\u001b[K\u001b[26A\u001b[1K\u001b[K\u001b[26A\u001b[1K\u001b[K\u001b[26A\u001b[1K\u001b[K\u001b[26A\u001b[1K\u001b[K\u001b[26A\u001b[1K\u001b[K\u001b[26A\u001b[1K\u001b[K\u001b[26A\u001b[1K\u001b[K\u001b[26A\u001b[1K\u001b[K\u001b[26A\u001b[1K\u001b[K\u001b[26A\u001b[1K\u001b[K\u001b[26A\u001b[1K\u001b[K\u001b[26A\u001b[1K\u001b[K\u001b[26A\u001b[1K\u001b[K\u001b[26A\u001b[1K\u001b[K\u001b[26A\u001b[1K\u001b[K\u001b[26A\u001b[1K\u001b[K\u001b[26A\u001b[1K\u001b[K\u001b[26A\u001b[1K\u001b[K\u001b[26A\u001b[1K\u001b[K\u001b[26A\u001b[1K\u001b[K\u001b[26A\u001b[1K\u001b[K\u001b[26A\u001b[1K\u001b[K\u001b[26A\u001b[1K\u001b[K\u001b[26A\u001b[1K\u001b[K\u001b[26A\u001b[1K\u001b[K\u001b[26A\u001b[1K\u001b[K\u001b[26A\u001b[1K\u001b[K\u001b[26A\u001b[1K\u001b[K\u001b[26A\u001b[1K\u001b[K\u001b[26A\u001b[1K\u001b[K\u001b[26A\u001b[1K\u001b[K\u001b[26A\u001b[1K\u001b[K\u001b[26A\u001b[1K\u001b[K\u001b[26A\u001b[1K\u001b[K\u001b[26A\u001b[1K\u001b[K\u001b[26A\u001b[1K\u001b[K\u001b[26A\u001b[1K\u001b[K\u001b[26A\u001b[1K\u001b[K\u001b[26A\u001b[1K\u001b[K\u001b[26A\u001b[1K\u001b[K\u001b[26A\u001b[1K\u001b[K\u001b[26A\u001b[1K\u001b[K\u001b[26A\u001b[1K\u001b[K\u001b[26A\u001b[1K\u001b[K\u001b[26A\u001b[1K\u001b[K\u001b[26A\u001b[1K\u001b[K\u001b[26A\u001b[1K\u001b[K\u001b[26A\u001b[1K\u001b[K\u001b[26A\u001b[1K\u001b[K\u001b[26A\u001b[1K\u001b[K\u001b[26A\u001b[1K\u001b[K\u001b[26A\u001b[1K\u001b[K\u001b[26A\u001b[1K\u001b[K\u001b[26A\u001b[1K\u001b[K\u001b[26A\u001b[1K\u001b[K\u001b[26A\u001b[1K\u001b[K\u001b[26A\u001b[1K\u001b[K\u001b[26A\u001b[1K\u001b[K\u001b[26A\u001b[1K\u001b[K\u001b[26A\u001b[1K\u001b[K\u001b[26A\u001b[1K\u001b[K\u001b[26A\u001b[1K\u001b[K\u001b[26A\u001b[1K\u001b[K\u001b[26A\u001b[1K\u001b[K\u001b[26A\u001b[1K\u001b[K\u001b[26A\u001b[1K\u001b[K\u001b[26A\u001b[1K\u001b[K\u001b[26A\u001b[1K\u001b[K\u001b[26A\u001b[1K\u001b[K\u001b[26A\u001b[1K\u001b[K\u001b[26A\u001b[1K\u001b[K\u001b[26A\u001b[1K\u001b[K\u001b[26A\u001b[1K\u001b[K\u001b[26A\u001b[1K\u001b[K\u001b[26A\u001b[1K\u001b[K\u001b[26A\u001b[1K\u001b[K\u001b[26A\u001b[1K\u001b[K\u001b[26A\u001b[1K\u001b[K\u001b[26A\u001b[1K\u001b[K\u001b[26A\u001b[1K\u001b[K\u001b[26A\u001b[1K\u001b[K\u001b[26A\u001b[1K\u001b[K\u001b[26A\u001b[1K\u001b[K\u001b[26A\u001b[1K\u001b[K\u001b[26A\u001b[1K\u001b[K\u001b[26A\u001b[1K\u001b[K\u001b[26A\u001b[1K\u001b[K\u001b[26A\u001b[1K\u001b[K\u001b[26A\u001b[1K\u001b[K\u001b[26A\u001b[1K\u001b[K\u001b[26A\u001b[1K\u001b[K\u001b[26A\u001b[1K\u001b[K\u001b[26A\u001b[1K\u001b[K\u001b[26A\u001b[1K\u001b[K\u001b[26A\u001b[1K\u001b[K\u001b[26A\u001b[1K\u001b[K\u001b[26A\u001b[1K\u001b[K\u001b[26A\u001b[1K\u001b[K\u001b[26A\u001b[1K\u001b[K\u001b[26A\u001b[1K\u001b[K\u001b[26A\u001b[1K\u001b[K\u001b[26A\u001b[1K\u001b[K\u001b[26A\u001b[1K\u001b[K\u001b[26A\u001b[1K\u001b[K\u001b[26A\u001b[1K\u001b[K\u001b[26A\u001b[1K\u001b[K\u001b[26A\u001b[1K\u001b[K\u001b[26A\u001b[1K\u001b[K\u001b[26A\u001b[1K\u001b[K\u001b[26A\u001b[1K\u001b[K\u001b[26A\u001b[1K\u001b[K\u001b[26A\u001b[1K\u001b[K\u001b[26A\u001b[1K\u001b[K\u001b[26A\u001b[1K\u001b[K\u001b[26A\u001b[1K\u001b[K\u001b[26A\u001b[1K\u001b[K\u001b[26A\u001b[1K\u001b[K\u001b[26A\u001b[1K\u001b[K\u001b[26A\u001b[1K\u001b[K\u001b[26A\u001b[1K\u001b[K\u001b[26A\u001b[1K\u001b[K\u001b[26A\u001b[1K\u001b[K\u001b[26A\u001b[1K\u001b[K\u001b[26A\u001b[1K\u001b[K\u001b[26A\u001b[1K\u001b[K\u001b[26A\u001b[1K\u001b[K\u001b[26A\u001b[1K\u001b[K\u001b[26A\u001b[1K\u001b[K\u001b[26A\u001b[1K\u001b[K\u001b[26A\u001b[1K\u001b[K\u001b[26A\u001b[1K\u001b[K\u001b[26A\u001b[1K\u001b[K\u001b[26A\u001b[1K\u001b[K\u001b[26A\u001b[1K\u001b[K\u001b[26A\u001b[1K\u001b[K\u001b[26A\u001b[1K\u001b[K\u001b[26A\u001b[1K\u001b[K\u001b[26A\u001b[1K\u001b[K\u001b[26A\u001b[1K\u001b[K\u001b[26A\u001b[1K\u001b[K\u001b[26A\u001b[1K\u001b[K\u001b[26A\u001b[1K\u001b[K\u001b[26A\u001b[1K\u001b[K\u001b[26A\u001b[1K\u001b[K\u001b[26A\u001b[1K\u001b[K\u001b[26A\u001b[1K\u001b[K\u001b[26A\u001b[1K\u001b[K\u001b[26A\u001b[1K\u001b[K\u001b[26A\u001b[1K\u001b[K\u001b[26A\u001b[1K\u001b[K\u001b[26A\u001b[1K\u001b[K\u001b[26A\u001b[1K\u001b[K\u001b[26A\u001b[1K\u001b[K\u001b[26A\u001b[1K\u001b[K\u001b[26A\u001b[1K\u001b[K\u001b[26A\u001b[1K\u001b[K\u001b[26A\u001b[1K\u001b[K\u001b[26A\u001b[1K\u001b[K\u001b[26A\u001b[1K\u001b[K\u001b[26A\u001b[1K\u001b[K\u001b[26A\u001b[1K\u001b[K\u001b[26A\u001b[1K\u001b[K\u001b[26A\u001b[1K\u001b[K\u001b[26A\u001b[1K\u001b[K\u001b[26A\u001b[1K\u001b[K\u001b[26A\u001b[1K\u001b[K\u001b[26A\u001b[1K\u001b[K\u001b[26A\u001b[1K\u001b[K\u001b[26A\u001b[1K\u001b[K\u001b[26A\u001b[1K\u001b[K\u001b[26A\u001b[1K\u001b[Kv1: digest: sha256:3894af9356468f8cf9e623b866ecf0972d33782c99db0ad2ac2fca57511ea98f size: 5765\n"
     ]
    }
   ],
   "source": [
    "!docker push btsui/get-started:v1"
   ]
  },
  {
   "cell_type": "code",
   "execution_count": 10,
   "metadata": {},
   "outputs": [
    {
     "name": "stdout",
     "output_type": "stream",
     "text": [
      "/usr/local/bin/start-notebook.sh: ignoring /usr/local/bin/start-notebook.d/*\n",
      "\n",
      "Container must be run with group \"root\" to update passwd file\n",
      "Executing the command: jupyter notebook\n",
      "[I 20:26:21.136 NotebookApp] [nb_conda_kernels] enabled, 4 kernels found\n",
      "[I 20:26:21.147 NotebookApp] Writing notebook server cookie secret to /home/jovyan/.local/share/jupyter/runtime/notebook_cookie_secret\n",
      "[W 20:26:21.754 NotebookApp] WARNING: The notebook server is listening on all IP addresses and not using encryption. This is not recommended.\n",
      "[I 20:26:21.811 NotebookApp] JupyterLab extension loaded from /opt/conda/lib/python3.6/site-packages/jupyterlab\n",
      "[I 20:26:21.811 NotebookApp] JupyterLab application directory is /opt/conda/share/jupyter/lab\n",
      "[I 20:26:21.827 NotebookApp] Serving notebooks from local directory: /home/jovyan\n",
      "[I 20:26:21.827 NotebookApp] The Jupyter Notebook is running at:\n",
      "[I 20:26:21.827 NotebookApp] http://(a4fb8be6f7f4 or 127.0.0.1):8888/?token=ce582b4057246406e379044ded58282499bf0e2f5a5f2c98\n",
      "[I 20:26:21.827 NotebookApp] Use Control-C to stop this server and shut down all kernels (twice to skip confirmation).\n",
      "[C 20:26:21.828 NotebookApp] \n",
      "    \n",
      "    Copy/paste this URL into your browser when you connect for the first time,\n",
      "    to login with a token:\n",
      "        http://(a4fb8be6f7f4 or 127.0.0.1):8888/?token=ce582b4057246406e379044ded58282499bf0e2f5a5f2c98\n",
      "^C\n",
      "[I 20:26:26.076 NotebookApp] Interrupted...\n",
      "[I 20:26:26.078 NotebookApp] Shutting down 0 kernels\n"
     ]
    }
   ],
   "source": [
    "!docker run -p 8890:8888 jhubuserimage"
   ]
  },
  {
   "cell_type": "code",
   "execution_count": null,
   "metadata": {},
   "outputs": [],
   "source": []
  }
 ],
 "metadata": {
  "kernelspec": {
   "display_name": "Python 3",
   "language": "python",
   "name": "python3"
  },
  "language_info": {
   "codemirror_mode": {
    "name": "ipython",
    "version": 3
   },
   "file_extension": ".py",
   "mimetype": "text/x-python",
   "name": "python",
   "nbconvert_exporter": "python",
   "pygments_lexer": "ipython3",
   "version": "3.6.3"
  }
 },
 "nbformat": 4,
 "nbformat_minor": 2
}
