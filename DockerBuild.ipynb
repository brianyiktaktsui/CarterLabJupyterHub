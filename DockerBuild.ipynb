{
 "cells": [
  {
   "cell_type": "code",
   "execution_count": 25,
   "metadata": {},
   "outputs": [
    {
     "data": {
      "text/plain": [
       "'/Users/btsui/AWS/GithubProject/CarterLabJupyterHub'"
      ]
     },
     "execution_count": 25,
     "metadata": {},
     "output_type": "execute_result"
    }
   ],
   "source": [
    "pwd"
   ]
  },
  {
   "cell_type": "code",
   "execution_count": 6,
   "metadata": {},
   "outputs": [
    {
     "name": "stdout",
     "output_type": "stream",
     "text": [
      "Sending build context to Docker daemon  4.096kB\n",
      "Step 1/22 : FROM jupyter/minimal-notebook:177037d09156\n",
      " ---> c656e0daddcd\n",
      "Step 2/22 : RUN pip install nbgitpuller\n",
      " ---> Using cache\n",
      " ---> f240a091527d\n",
      "Step 3/22 : RUN jupyter serverextension enable --py nbgitpuller --sys-prefix\n",
      " ---> Using cache\n",
      " ---> eede60f3897d\n",
      "Step 4/22 : RUN conda install  --yes python=3.6 pandas=0.23.4 seaborn=0.8.1 scikit-learn=0.19.1\n",
      " ---> Running in be3083f7e1e5\n",
      "Solving environment: ...working... done\n",
      "\u001b[91m\n",
      "\n",
      "==> WARNING: A newer version of conda exists. <==\n",
      "  current version: 4.5.8\n",
      "  latest version: 4.5.11\n",
      "\n",
      "Please update conda by running\n",
      "\n",
      "    $ conda update -n base conda\n",
      "\n",
      "\n",
      "libxml2-2.9.8        |  1.8 MB | ########## | 100% \u001b[0m\u001b[91m\u001b[91m\u001b[91m\u001b[91m\u001b[91m\u001b[91m\u001b[91m\u001b[91m\u001b[91m\u001b[91m\u001b[91m\u001b[91m\u001b[91m\u001b[91m\n",
      "python-3.6.6         | 20.5 MB | ########## | 100% \u001b[0m\u001b[91m\u001b[91m\u001b[91m\u001b[91m\u001b[91m\u001b[91m\u001b[91m\u001b[91m\u001b[91m\u001b[91m\u001b[91m\u001b[91m\u001b[91m\u001b[91m\u001b[91m\u001b[91m\u001b[91m\u001b[91m\u001b[91m\u001b[91m\u001b[91m\u001b[91m\u001b[91m\u001b[91m\u001b[91m\u001b[91m\u001b[91m\u001b[91m\u001b[91m\u001b[91m\u001b[91m\u001b[91m\u001b[91m\u001b[91m\u001b[91m\u001b[91m\u001b[91m\u001b[91m\u001b[91m\u001b[91m\u001b[91m\u001b[91m\u001b[91m\u001b[91m\u001b[91m\u001b[91m\u001b[91m\u001b[91m\u001b[91m\u001b[91m\u001b[91m\u001b[91m\u001b[91m\u001b[91m\u001b[91m\u001b[91m\u001b[91m\u001b[91m\u001b[91m\u001b[91m\u001b[91m\u001b[91m\u001b[91m\u001b[91m\u001b[91m\u001b[91m\u001b[91m\u001b[91m\u001b[91m\u001b[91m\u001b[91m\u001b[91m\u001b[91m\u001b[91m\u001b[91m\u001b[91m\u001b[91m\u001b[91m\u001b[91m\u001b[91m\u001b[91m\u001b[91m\u001b[91m\u001b[91m\u001b[91m\u001b[91m\u001b[91m\u001b[91m\u001b[91m\u001b[91m\u001b[91m\u001b[91m\u001b[91m\u001b[91m\u001b[91m\u001b[91m\u001b[91m\u001b[91m\u001b[91m\u001b[91m\u001b[91m\u001b[91m\u001b[91m\u001b[91m\u001b[91m\u001b[91m\u001b[91m\u001b[91m\u001b[91m\u001b[91m\u001b[91m\u001b[91m\u001b[91m\u001b[91m\u001b[91m\u001b[91m\u001b[91m\u001b[91m\u001b[91m\u001b[91m\u001b[91m\u001b[91m\u001b[91m\u001b[91m\u001b[91m\u001b[91m\u001b[91m\u001b[91m\u001b[91m\u001b[91m\u001b[91m\u001b[91m\u001b[91m\u001b[91m\u001b[91m\u001b[91m\u001b[91m\u001b[91m\u001b[91m\u001b[91m\u001b[91m\u001b[91m\u001b[91m\u001b[91m\u001b[91m\u001b[91m\u001b[91m\u001b[91m\u001b[91m\u001b[91m\u001b[91m\u001b[91m\u001b[91m\u001b[91m\u001b[91m\u001b[91m\u001b[91m\u001b[91m\u001b[91m\u001b[91m\u001b[91m\u001b[91m\u001b[91m\u001b[91m\u001b[91m\u001b[91m\u001b[91m\u001b[91m\u001b[91m\u001b[91m\u001b[91m\u001b[91m\n",
      "certifi-2018.10.15   |  138 KB | ########## | 100% \u001b[0m\u001b[91m\u001b[91m\u001b[91m\n",
      "expat-2.2.5          |  144 KB | ########## | 100% \u001b[0m\u001b[91m\u001b[91m\n",
      "gst-plugins-base-1.1 |  2.7 MB | ########## | 100% \u001b[0m\u001b[91m\u001b[91m\u001b[91m\u001b[91m\u001b[91m\u001b[91m\u001b[91m\u001b[91m\u001b[91m\u001b[91m\u001b[91m\u001b[91m\u001b[91m\u001b[91m\u001b[91m\u001b[91m\u001b[91m\n",
      "dbus-1.13.0          |  560 KB | ########## | 100% \u001b[0m\u001b[91m\u001b[91m\u001b[91m\n",
      "matplotlib-2.2.3     |  9.2 MB | ########## | 100% \u001b[0m\u001b[91m\u001b[91m\u001b[91m\u001b[91m\u001b[91m\u001b[91m\u001b[91m\u001b[91m\u001b[91m\u001b[91m\u001b[91m\u001b[91m\u001b[91m\u001b[91m\u001b[91m\u001b[91m\u001b[91m\u001b[91m\u001b[91m\u001b[91m\u001b[91m\u001b[91m\u001b[91m\u001b[91m\u001b[91m\u001b[91m\u001b[91m\u001b[91m\u001b[91m\u001b[91m\u001b[91m\u001b[91m\u001b[91m\u001b[91m\u001b[91m\u001b[91m\u001b[91m\u001b[91m\u001b[91m\u001b[91m\u001b[91m\u001b[91m\u001b[91m\u001b[91m\u001b[91m\u001b[91m\u001b[91m\u001b[91m\u001b[91m\u001b[91m\u001b[91m\u001b[91m\u001b[91m\u001b[91m\u001b[91m\u001b[91m\u001b[91m\u001b[91m\u001b[91m\u001b[91m\u001b[91m\u001b[91m\u001b[91m\u001b[91m\u001b[91m\u001b[91m\u001b[91m\u001b[91m\u001b[91m\u001b[91m\u001b[91m\u001b[91m\u001b[91m\u001b[91m\u001b[91m\u001b[91m\u001b[91m\u001b[91m\u001b[91m\u001b[91m\u001b[91m\u001b[91m\u001b[91m\u001b[91m\u001b[91m\u001b[91m\u001b[91m\u001b[91m\u001b[91m\u001b[91m\u001b[91m\u001b[91m\u001b[91m\u001b[91m\u001b[91m\u001b[91m\u001b[91m\u001b[91m\u001b[91m\u001b[91m\u001b[91m\u001b[91m\u001b[91m\u001b[91m\u001b[91m\u001b[91m\u001b[91m\u001b[91m\u001b[91m\u001b[91m\u001b[91m\u001b[91m\u001b[91m\u001b[91m\u001b[91m\u001b[91m\n",
      "kiwisolver-1.0.1     |  924 KB | ########## | 100% \u001b[0m\u001b[91m\u001b[91m\u001b[91m\u001b[91m\u001b[91m\u001b[91m\n",
      "libuuid-2.32.1       |   24 KB | ########## | 100% \u001b[0m\u001b[91m\n",
      "openssl-1.0.2p       |  3.1 MB | ########## | 100% \u001b[0m\u001b[91m\u001b[91m\u001b[91m\u001b[91m\u001b[91m\u001b[91m\u001b[91m\u001b[91m\u001b[91m\u001b[91m\u001b[91m\u001b[91m\u001b[91m\u001b[91m\u001b[91m\u001b[91m\u001b[91m\u001b[91m\u001b[91m\u001b[91m\u001b[91m\u001b[91m\u001b[91m\u001b[91m\u001b[91m\u001b[91m\u001b[91m\u001b[91m\u001b[91m\u001b[91m\u001b[91m\u001b[91m\u001b[91m\u001b[91m\u001b[91m\u001b[91m\u001b[91m\n",
      "libgfortran-3.0.0    |  281 KB | ########## | 100% \u001b[0m\u001b[91m\u001b[91m\n",
      "glib-2.56.2          |  4.6 MB | ########## | 100% \u001b[0m\u001b[91m\u001b[91m\u001b[91m\u001b[91m\u001b[91m\u001b[91m\u001b[91m\u001b[91m\u001b[91m\u001b[91m\u001b[91m\u001b[91m\u001b[91m\u001b[91m\u001b[91m\u001b[91m\u001b[91m\u001b[91m\u001b[91m\u001b[91m\u001b[91m\u001b[91m\u001b[91m\u001b[91m\u001b[91m\u001b[91m\u001b[91m\u001b[91m\u001b[91m\u001b[91m\u001b[91m\u001b[91m\u001b[91m\u001b[91m\u001b[91m\u001b[91m\u001b[91m\u001b[91m\u001b[91m\u001b[91m\u001b[91m\u001b[91m\u001b[91m\u001b[91m\u001b[91m\u001b[91m\u001b[91m\u001b[91m\u001b[91m\u001b[91m\u001b[91m\u001b[91m\u001b[91m\u001b[91m\u001b[91m\u001b[91m\n",
      "icu-58.2             | 22.8 MB | ########## | 100% \u001b[0m\u001b[91m\u001b[91m\u001b[91m\u001b[91m\u001b[91m\u001b[91m\u001b[91m\u001b[91m\u001b[91m\u001b[91m\u001b[91m\u001b[91m\u001b[91m\u001b[91m\u001b[91m\u001b[91m\u001b[91m\u001b[91m\u001b[91m\u001b[91m\u001b[91m\u001b[91m\u001b[91m\u001b[91m\u001b[91m\u001b[91m\u001b[91m\u001b[91m\u001b[91m\u001b[91m\u001b[91m\u001b[91m\u001b[91m\u001b[91m\u001b[91m\u001b[91m\u001b[91m\u001b[91m\u001b[91m\u001b[91m\u001b[91m\u001b[91m\u001b[91m\u001b[91m\u001b[91m\u001b[91m\u001b[91m\u001b[91m\u001b[91m\u001b[91m\u001b[91m\u001b[91m\u001b[91m\u001b[91m\u001b[91m\u001b[91m\u001b[91m\u001b[91m\u001b[91m\u001b[91m\u001b[91m\u001b[91m\u001b[91m\u001b[91m\u001b[91m\u001b[91m\u001b[91m\u001b[91m\u001b[91m\u001b[91m\u001b[91m\u001b[91m\u001b[91m\u001b[91m\u001b[91m\u001b[91m\u001b[91m\u001b[91m\u001b[91m\u001b[91m\u001b[91m\u001b[91m\u001b[91m\u001b[91m\u001b[91m\u001b[91m\u001b[91m\u001b[91m\u001b[91m\u001b[91m\u001b[91m\u001b[91m\u001b[91m\u001b[91m\u001b[91m\u001b[91m\u001b[91m\u001b[91m\u001b[91m\u001b[91m\u001b[91m\u001b[91m\u001b[91m\u001b[91m\u001b[91m\u001b[91m\u001b[91m\u001b[91m\u001b[91m\u001b[91m\u001b[91m\u001b[91m\u001b[91m\u001b[91m\u001b[91m\u001b[91m\u001b[91m\u001b[91m\u001b[91m\u001b[91m\u001b[91m\u001b[91m\u001b[91m\u001b[91m\u001b[91m\u001b[91m\u001b[91m\u001b[91m\u001b[91m\u001b[91m\u001b[91m\u001b[91m\u001b[91m\u001b[91m\u001b[91m\u001b[91m\u001b[91m\u001b[91m\u001b[91m\u001b[91m\u001b[91m\u001b[91m\u001b[91m\u001b[91m\u001b[91m\u001b[91m\u001b[91m\u001b[91m\u001b[91m\u001b[91m\u001b[91m\u001b[91m\u001b[91m\u001b[91m\u001b[91m\u001b[91m\u001b[91m\u001b[91m\u001b[91m\u001b[91m\u001b[91m\u001b[91m\u001b[91m\u001b[91m\u001b[91m\u001b[91m\u001b[91m\u001b[91m\u001b[91m\u001b[91m\u001b[91m\u001b[91m\u001b[91m\u001b[91m\u001b[91m\u001b[91m\u001b[91m\u001b[91m\u001b[91m\u001b[91m\u001b[91m\u001b[91m\u001b[91m\u001b[91m\u001b[91m\u001b[91m\u001b[91m\u001b[91m\u001b[91m\u001b[91m\u001b[91m\u001b[91m\u001b[91m\u001b[91m\u001b[91m\u001b[91m\u001b[91m\u001b[91m\u001b[91m\u001b[91m\u001b[91m\u001b[91m\u001b[91m\u001b[91m\u001b[91m\u001b[91m\u001b[91m\u001b[91m\u001b[91m\u001b[91m\u001b[91m\u001b[91m\u001b[91m\u001b[91m\u001b[91m\u001b[91m\u001b[91m\u001b[91m\u001b[91m\u001b[91m\u001b[91m\u001b[91m\u001b[91m\u001b[91m\u001b[91m\u001b[91m\u001b[91m\u001b[91m\u001b[91m\u001b[91m\u001b[91m\u001b[91m\u001b[91m\u001b[91m\u001b[91m\u001b[91m\u001b[91m\u001b[91m\u001b[91m\u001b[91m\u001b[91m\u001b[91m\u001b[91m\u001b[91m\u001b[91m\u001b[91m\u001b[91m\u001b[91m\u001b[91m\u001b[91m\u001b[91m\u001b[91m\u001b[91m\u001b[91m\u001b[91m\u001b[91m\u001b[91m\u001b[91m\u001b[91m\u001b[91m\u001b[91m\u001b[91m\u001b[91m\u001b[91m\u001b[91m\u001b[91m\u001b[91m\u001b[91m\u001b[91m\u001b[91m\u001b[91m\u001b[91m\u001b[91m\u001b[91m\u001b[91m\u001b[91m\u001b[91m\u001b[91m\u001b[91m\u001b[91m\u001b[91m\u001b[91m\u001b[91m\u001b[91m\u001b[91m\u001b[91m\u001b[91m\u001b[91m\u001b[91m\u001b[91m\u001b[91m\u001b[91m\u001b[91m\u001b[91m\u001b[91m\u001b[91m\u001b[91m\u001b[91m\u001b[91m\u001b[91m\u001b[91m\u001b[91m\u001b[91m\u001b[91m\u001b[91m\n",
      "xorg-libxdmcp-1.1.2  |   17 KB | ########## | 100% \u001b[0m\u001b[91m\n",
      "gettext-0.19.8.1     |  3.5 MB | ########## | 100% \u001b[0m\u001b[91m\u001b[91m\u001b[91m\u001b[91m\u001b[91m\u001b[91m\u001b[91m\u001b[91m\u001b[91m\u001b[91m\u001b[91m\u001b[91m\u001b[91m\u001b[91m\u001b[91m\u001b[91m\u001b[91m\u001b[91m\u001b[91m\u001b[91m\u001b[91m\u001b[91m\u001b[91m\u001b[91m\u001b[91m\u001b[91m\u001b[91m\u001b[91m\u001b[91m\u001b[91m\u001b[91m\u001b[91m\u001b[91m\n",
      "xorg-libxau-1.0.8    |   12 KB | ########## | 100% \u001b[0m\u001b[91m\n",
      "libgcc-ng-8.2.0      |  7.6 MB | ########## | 100% \u001b[0m\u001b[91m\u001b[91m\u001b[91m\u001b[91m\u001b[91m\u001b[91m\u001b[91m\u001b[91m\u001b[91m\u001b[91m\u001b[91m\u001b[91m\u001b[91m\u001b[91m\u001b[91m\u001b[91m\u001b[91m\u001b[91m\u001b[91m\u001b[91m\u001b[91m\u001b[91m\u001b[91m\u001b[91m\u001b[91m\u001b[91m\u001b[91m\u001b[91m\u001b[91m\u001b[91m\u001b[91m\u001b[91m\u001b[91m\u001b[91m\u001b[91m\u001b[91m\u001b[91m\u001b[91m\u001b[91m\u001b[91m\u001b[91m\u001b[91m\u001b[91m\u001b[91m\u001b[91m\u001b[91m\u001b[91m\u001b[91m\u001b[91m\u001b[91m\u001b[91m\u001b[91m\u001b[91m\u001b[91m\u001b[91m\u001b[91m\u001b[91m\u001b[91m\u001b[91m\u001b[91m\u001b[91m\u001b[91m\u001b[91m\u001b[91m\u001b[91m\u001b[91m\u001b[91m\u001b[91m\u001b[91m\u001b[91m\u001b[91m\u001b[91m\u001b[91m\u001b[91m\u001b[91m\u001b[91m\u001b[91m\n",
      "pcre-8.41            |  243 KB | ########## | 100% \u001b[0m\u001b[91m\u001b[91m\u001b[91m\u001b[91m\u001b[91m\u001b[91m\u001b[91m\u001b[91m\n",
      "pyqt-5.6.0           |  5.4 MB | ########## | 100% \u001b[0m\u001b[91m\u001b[91m\u001b[91m\u001b[91m\u001b[91m\u001b[91m\u001b[91m\u001b[91m\u001b[91m\u001b[91m\u001b[91m\u001b[91m\u001b[91m\u001b[91m\u001b[91m\u001b[91m\u001b[91m\u001b[91m\u001b[91m\u001b[91m\u001b[91m\u001b[91m\u001b[91m\u001b[91m\u001b[91m\u001b[91m\u001b[91m\u001b[91m\u001b[91m\u001b[91m\u001b[91m\u001b[91m\u001b[91m\u001b[91m\u001b[91m\u001b[91m\u001b[91m\u001b[91m\u001b[91m\u001b[91m\u001b[91m\u001b[91m\u001b[91m\u001b[91m\u001b[91m\u001b[91m\u001b[91m\u001b[91m\u001b[91m\u001b[91m\u001b[91m\u001b[91m\u001b[91m\u001b[91m\u001b[91m\u001b[91m\u001b[91m\u001b[91m\u001b[91m\u001b[91m\u001b[91m\u001b[91m\u001b[91m\u001b[91m\u001b[91m\u001b[91m\u001b[91m\u001b[91m\u001b[91m\u001b[91m\u001b[91m\u001b[91m\u001b[91m\u001b[91m\u001b[91m\u001b[91m\u001b[91m\u001b[91m\u001b[91m\u001b[91m\u001b[91m\u001b[91m\u001b[91m\u001b[91m\u001b[91m\u001b[91m\u001b[91m\u001b[91m\u001b[91m\u001b[91m\u001b[91m\u001b[91m\u001b[91m\u001b[91m\u001b[91m\u001b[91m\u001b[91m\u001b[91m\u001b[91m\u001b[91m\u001b[91m\u001b[91m\u001b[91m\u001b[91m\u001b[91m\u001b[91m\u001b[91m\u001b[91m\u001b[91m\u001b[91m\u001b[91m\u001b[91m\u001b[91m\u001b[91m\u001b[91m\u001b[91m\u001b[91m\u001b[91m\u001b[91m\u001b[91m\u001b[91m\u001b[91m\u001b[91m\u001b[91m\u001b[91m\u001b[91m\u001b[91m\u001b[91m\u001b[91m\u001b[91m\u001b[91m\u001b[91m\u001b[91m\u001b[91m\u001b[91m\u001b[91m\u001b[91m\u001b[91m\u001b[91m\u001b[91m\u001b[91m\u001b[91m\n",
      "ca-certificates-2018 |  135 KB | ########## | 100% \u001b[0m\u001b[91m\u001b[91m\u001b[91m\u001b[91m\u001b[91m\u001b[91m\u001b[91m\u001b[91m\u001b[91m\n"
     ]
    },
    {
     "name": "stdout",
     "output_type": "stream",
     "text": [
      "scipy-1.1.0          | 40.3 MB | ##9        |  29% \u001b[0m\u001b[91m\u001b[91m\u001b[91m\u001b[91m\u001b[91m\u001b[91m\u001b[91m\u001b[91m\u001b[91m\u001b[91m\u001b[91m\u001b[91m\u001b[91m\u001b[91m\u001b[91m\u001b[91m\u001b[91m\u001b[91m\u001b[91m\u001b[91m\u001b[91m\u001b[91m\u001b[91m\u001b[91m\u001b[91m\u001b[91m\u001b[91m\u001b[91m\u001b[91m\u001b[91m\u001b[91m\u001b[91m\u001b[91m\u001b[91m\u001b[91m\u001b[91m\u001b[91m\u001b[91m\u001b[91m\u001b[91m\u001b[91m\u001b[91m\u001b[91m\u001b[91m\u001b[91m\u001b[91m\u001b[91m\u001b[91m\u001b[91m\u001b[91m\u001b[91m\u001b[91m\u001b[91m\u001b[91m\u001b[91m\u001b[91m\u001b[91m\u001b[91m\u001b[91m\u001b[91m\u001b[91m\u001b[91m\u001b[91m\u001b[91m\u001b[91m\u001b[91m\u001b[91m\u001b[91m\u001b[91m\u001b[91m\u001b[91m\u001b[91m\u001b[91m\u001b[91m\u001b[91m\u001b[91m\u001b[91m\u001b[91m\u001b[91m\u001b[91m\u001b[91m\u001b[91m\u001b[91m\u001b[91m\u001b[91m\u001b[91m\u001b[91m\u001b[91m\u001b[91m\u001b[91m\u001b[91m\u001b[91m\u001b[91m\u001b[91m\u001b[91m\u001b[91m\u001b[91m\u001b[91m\u001b[91m\u001b[91m\u001b[91m\u001b[91m\u001b[91m\u001b[91m\u001b[91m\u001b[91m\u001b[91m\u001b[91m\u001b[91m\u001b[91m\u001b[91m\u001b[91m\u001b[91m\u001b[91m\u001b[91m\u001b[91m\u001b[91m\u001b[91m\u001b[91m\u001b[91m\u001b[91m\u001b[91m\u001b[91m\u001b[91m\u001b[91m\u001b[91m\u001b[91m\u001b[91m\u001b[91m\u001b[91m\u001b[91m\u001b[91m\u001b[91m\u001b[91m\u001b[91m\u001b[91m\u001b[91m\u001b[91m\u001b[91m\u001b[91m\u001b[91m\u001b[91m\u001b[91m\u001b[91m\u001b[91m\u001b[91m\u001b[91m\u001b[91m\u001b[91m\u001b[91m\u001b[91m\u001b[91m\u001b[91m\u001b[91m\u001b[91m\u001b[91m\u001b[91m\u001b[91m\u001b[91m\u001b[91m\u001b[91m\u001b[91m\u001b[91m\u001b[91m\u001b[91m\u001b[91m\u001b[91m\u001b[91m\u001b[91m\u001b[91m\u001b[91m\u001b[91m\u001b[91m\u001b[91m\u001b[91m\u001b[91m\u001b[91m\u001b[91m\u001b[91m\u001b[91m\u001b[91m\u001b[91m\u001b[91m\u001b[91m\u001b[91m\u001b[91m\u001b[91m\u001b[91m\u001b[91m\u001b[91m\u001b[91m\u001b[91m\u001b[91m\u001b[91m\u001b[91m\u001b[91m\u001b[91m\u001b[91m\u001b[91m\u001b[91m\u001b[91m\u001b[91m\u001b[91m\u001b[91m\u001b[91m\u001b[91m\u001b[91m\u001b[91m\u001b[91m\u001b[91m\u001b[91m\u001b[91m\u001b[91m\u001b[91m\u001b[91m\u001b[91m\u001b[91m\u001b[91m\u001b[91m\u001b[91m\u001b[91m\u001b[91m\u001b[91m\u001b[91m\u001b[91m\u001b[91m\u001b[91m\u001b[91m\u001b[91m\u001b[91m\u001b[91m\u001b[91m\u001b[91m\u001b[91m\u001b[91m\u001b[91m\u001b[91m\u001b[91m\u001b[91m\u001b[91m\u001b[91m\u001b[91m\u001b[91m\u001b[91m\u001b[91m\u001b[91m\u001b[91m\u001b[91m\u001b[91m\u001b[91m\u001b[91m\u001b[91m\u001b[91m\u001b[91m\u001b[91m\u001b[91m\u001b[91m\u001b[91m\u001b[91m\u001b[91m\u001b[91m\u001b[91m\u001b[91m\u001b[91m\u001b[91m\u001b[91m\u001b[91m\u001b[91m\u001b[91m\u001b[91m\u001b[91m\u001b[91m\u001b[91m\u001b[91m\u001b[91m\u001b[91m\u001b[91m\u001b[91m\u001b[91m\u001b[91m\u001b[91m\u001b[91m\u001b[91m\u001b[91m\u001b[91m\u001b[91m\u001b[91m\u001b[91m\u001b[91m\u001b[91m\u001b[91m\u001b[91m\u001b[91m\u001b[91m\u001b[91m\u001b[91m\u001b[91m\u001b[91m\u001b[91m\u001b[91m\u001b[91m\u001b[91m\u001b[91m\u001b[91m\u001b[91m\u001b[91m\u001b[91m\u001b[91m\u001b[91m\u001b[91m\u001b[91m\u001b[91m\u001b[91m\u001b[91m\u001b[91m\u001b[91m\u001b[91m\u001b[91m\u001b[91m\u001b[91m\u001b[91m\u001b[91m\u001b[91m\u001b[91m\u001b[91m\u001b[91m\u001b[91m\u001b[91m\u001b[91m\u001b[91m\u001b[91m\u001b[91m\u001b[91m\u001b[91m\u001b[91m\u001b[91m\u001b[91m\u001b[91m\u001b[91m\u001b[91m\u001b[91m\u001b[91m\u001b[91m\u001b[91m\u001b[91m\u001b[91m\u001b[91m\u001b[91m\u001b[91m\u001b[91m\u001b[91m\u001b[91m\u001b[91m\u001b[91m\u001b[91m\u001b[91m\u001b[91m\u001b[91m\u001b[91m\u001b[91m\u001b[91m\u001b[91m\u001b[91m\u001b[91m\u001b[91m\u001b[91m\u001b[91m\u001b[91m\u001b[91m\u001b[91m\u001b[91m\u001b[91m\u001b[91m\u001b[91m\u001b[91m\u001b[91m\u001b[91m\u001b[91m\u001b[91m\u001b[91m\u001b[91m\u001b[91m\u001b[91m\u001b[91m\u001b[91m\u001b[91m\u001b[91m\u001b[91m\u001b[91m\u001b[91m\u001b[91m\u001b[91m\u001b[91m\u001b[91m\u001b[91m\u001b[91m\u001b[91m\u001b[91m\u001b[91m\u001b[91m\u001b[91m\u001b[91m\u001b[91m\u001b[91m\u001b[91m\u001b[91m\u001b[91m\u001b[91m\u001b[91m\u001b[91m\u001b[91m\u001b[91m\u001b[91m\u001b[91m\u001b[91m\u001b[91m\u001b[91m\u001b[91m\u001b[91m\u001b[91m^C\n"
     ]
    }
   ],
   "source": [
    "!docker build -t jhubuserimage ./Docker/"
   ]
  },
  {
   "cell_type": "code",
   "execution_count": 4,
   "metadata": {
    "scrolled": true
   },
   "outputs": [
    {
     "name": "stdout",
     "output_type": "stream",
     "text": [
      "/usr/local/bin/start-notebook.sh: ignoring /usr/local/bin/start-notebook.d/*\n",
      "\n",
      "Container must be run with group \"root\" to update passwd file\n",
      "Executing the command: jupyter notebook\n",
      "[I 18:36:10.195 NotebookApp] [nb_conda_kernels] enabled, 1 kernels found\n",
      "[I 18:36:10.203 NotebookApp] Writing notebook server cookie secret to /home/jovyan/.local/share/jupyter/runtime/notebook_cookie_secret\n",
      "[W 18:36:10.625 NotebookApp] WARNING: The notebook server is listening on all IP addresses and not using encryption. This is not recommended.\n",
      "[I 18:36:10.673 NotebookApp] [jupyter_nbextensions_configurator] enabled 0.4.0\n",
      "[I 18:36:10.712 NotebookApp] JupyterLab extension loaded from /opt/conda/lib/python3.6/site-packages/jupyterlab\n",
      "[I 18:36:10.712 NotebookApp] JupyterLab application directory is /opt/conda/share/jupyter/lab\n",
      "[I 18:36:10.733 NotebookApp] Serving notebooks from local directory: /home/jovyan\n",
      "[I 18:36:10.733 NotebookApp] The Jupyter Notebook is running at:\n",
      "[I 18:36:10.733 NotebookApp] http://(439c772492cf or 127.0.0.1):8888/?token=b6171b121dade98b803aa57b42b06b9180e663aa8f9d9a04\n",
      "[I 18:36:10.733 NotebookApp] Use Control-C to stop this server and shut down all kernels (twice to skip confirmation).\n",
      "[C 18:36:10.733 NotebookApp] \n",
      "    \n",
      "    Copy/paste this URL into your browser when you connect for the first time,\n",
      "    to login with a token:\n",
      "        http://(439c772492cf or 127.0.0.1):8888/?token=b6171b121dade98b803aa57b42b06b9180e663aa8f9d9a04\n",
      "^C\n",
      "[I 18:36:19.255 NotebookApp] Interrupted...\n",
      "[I 18:36:19.255 NotebookApp] Shutting down 0 kernels\n"
     ]
    }
   ],
   "source": [
    "!docker run -p 8890:8888 jhubuserimage "
   ]
  },
  {
   "cell_type": "code",
   "execution_count": 31,
   "metadata": {},
   "outputs": [],
   "source": [
    "#docker login\n",
    "#if still not working, use the "
   ]
  },
  {
   "cell_type": "code",
   "execution_count": 42,
   "metadata": {},
   "outputs": [],
   "source": [
    "#started:v1.1.1\n",
    "!docker tag jhubuserimage btsui/get-started:v1.1.3.4"
   ]
  },
  {
   "cell_type": "code",
   "execution_count": 43,
   "metadata": {
    "scrolled": true
   },
   "outputs": [
    {
     "name": "stdout",
     "output_type": "stream",
     "text": [
      "The push refers to repository [docker.io/btsui/get-started]\n",
      "\n",
      "\u001b[1B8b8b4237: Preparing \n",
      "\u001b[1Bed61458b: Preparing \n",
      "\u001b[1B16984442: Preparing \n",
      "\u001b[1B90897470: Preparing \n",
      "\u001b[1B29133cb6: Preparing \n",
      "\u001b[1B2d942fc0: Preparing \n",
      "\u001b[1Bbc324e28: Preparing \n",
      "\u001b[1B9f12ad64: Preparing \n",
      "\u001b[1B17f7c73d: Preparing \n",
      "\u001b[1B67eb70c0: Preparing \n",
      "\u001b[1B98a76178: Preparing \n",
      "\u001b[1Be7023848: Preparing \n",
      "\u001b[1B9a2b7e7b: Preparing \n",
      "\u001b[1Bc567bfc3: Preparing \n",
      "\u001b[1B36ca545a: Preparing \n",
      "\u001b[1Bc7627d68: Preparing \n",
      "\u001b[1B56d36c2e: Preparing \n",
      "\u001b[1B5181b506: Preparing \n",
      "\u001b[1Bee17775b: Preparing \n",
      "\u001b[1B5b52c024: Preparing \n",
      "\u001b[1B7ac9fb89: Preparing \n",
      "\u001b[1B75f3081f: Preparing \n",
      "\u001b[1B9aed2bb5: Preparing \n",
      "\u001b[1B6e3c6d85: Preparing \n",
      "\u001b[1Bc6d3bd63: Preparing \n",
      "\u001b[1B27e2d6f2: Preparing \n",
      "\u001b[1Ba05e26d1: Preparing \n",
      "\u001b[1B7668bb42: Preparing \n",
      "\u001b[1B044abddc: Preparing \n",
      "\u001b[1B98dfc824: Preparing \n",
      "\u001b[1Be9ead074: Preparing \n",
      "\u001b[1Bd60bcacf: Preparing \n",
      "\u001b[1Bf072feec: Preparing \n",
      "\u001b[1B5e448177: Preparing \n",
      "\u001b[1B999a0cb1: Preparing \n",
      "\u001b[1Bd50ee76a: Layer already exists K\u001b[36A\u001b[1K\u001b[K\u001b[34A\u001b[1K\u001b[K\u001b[28A\u001b[1K\u001b[K\u001b[29A\u001b[1K\u001b[K\u001b[26A\u001b[1K\u001b[K\u001b[27A\u001b[1K\u001b[K\u001b[23A\u001b[1K\u001b[K\u001b[21A\u001b[1K\u001b[K\u001b[19A\u001b[1K\u001b[K\u001b[16A\u001b[1K\u001b[K\u001b[36A\u001b[1K\u001b[K\u001b[15A\u001b[1K\u001b[K\u001b[14A\u001b[1K\u001b[K\u001b[11A\u001b[1K\u001b[K\u001b[9A\u001b[1K\u001b[K\u001b[10A\u001b[1K\u001b[K\u001b[8A\u001b[1K\u001b[K\u001b[6A\u001b[1K\u001b[K\u001b[4A\u001b[1K\u001b[K\u001b[5A\u001b[1K\u001b[K\u001b[2A\u001b[1K\u001b[Kv1.1.3.4: digest: sha256:65a043c07150f226b1df648e20e8ac2bb0dd22e0f5ba7031bb452e28a953bf50 size: 7872\n"
     ]
    }
   ],
   "source": [
    "!docker push btsui/get-started:v1.1.3.4"
   ]
  },
  {
   "cell_type": "code",
   "execution_count": null,
   "metadata": {
    "scrolled": false
   },
   "outputs": [],
   "source": []
  },
  {
   "cell_type": "code",
   "execution_count": 54,
   "metadata": {},
   "outputs": [],
   "source": [
    "#!conda install -p /Users/btsui/Downloads/ssh_conda/ -c anaconda ssh "
   ]
  },
  {
   "cell_type": "code",
   "execution_count": 22,
   "metadata": {},
   "outputs": [],
   "source": [
    "#!docker run --rm -p 10000:8888 -e JUPYTER_ENABLE_LAB=yes -v \"$PWD\":/home/jovyan/work jupyter/datascience-notebook:e5c5a7d3e52d\n"
   ]
  },
  {
   "cell_type": "code",
   "execution_count": null,
   "metadata": {},
   "outputs": [],
   "source": []
  }
 ],
 "metadata": {
  "kernelspec": {
   "display_name": "Python 3",
   "language": "python",
   "name": "python3"
  },
  "language_info": {
   "codemirror_mode": {
    "name": "ipython",
    "version": 3
   },
   "file_extension": ".py",
   "mimetype": "text/x-python",
   "name": "python",
   "nbconvert_exporter": "python",
   "pygments_lexer": "ipython3",
   "version": "3.6.7"
  }
 },
 "nbformat": 4,
 "nbformat_minor": 2
}
