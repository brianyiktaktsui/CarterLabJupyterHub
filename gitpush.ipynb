{
 "cells": [
  {
   "cell_type": "markdown",
   "metadata": {},
   "source": [
    "# Quickstart\n",
    "* [RNAseq loading example](./notebooks/loadingRNAseqByGene.ipynb)\n"
   ]
  },
  {
   "cell_type": "code",
   "execution_count": 1,
   "metadata": {},
   "outputs": [],
   "source": [
    "#!git rm ./README.md"
   ]
  },
  {
   "cell_type": "code",
   "execution_count": 2,
   "metadata": {},
   "outputs": [
    {
     "name": "stdout",
     "output_type": "stream",
     "text": [
      "From https://github.com/brianyiktaktsui/CarterLabJupyterHub\r\n",
      " * branch            master     -> FETCH_HEAD\r\n",
      "Already up to date.\r\n"
     ]
    }
   ],
   "source": [
    "!git pull https://github.com/brianyiktaktsui/CarterLabJupyterHub.git master"
   ]
  },
  {
   "cell_type": "code",
   "execution_count": null,
   "metadata": {},
   "outputs": [],
   "source": []
  },
  {
   "cell_type": "code",
   "execution_count": 22,
   "metadata": {},
   "outputs": [
    {
     "name": "stdout",
     "output_type": "stream",
     "text": [
      "[master 1a9a83e] removed plotly from confounding with the widget display at the beginning\n",
      " 1 file changed, 180 insertions(+), 6959 deletions(-)\n",
      " rewrite QueryGenesInConditions.ipynb (99%)\n"
     ]
    }
   ],
   "source": [
    "!git add ./RNAseqPCA.ipynb ./RNAseqQuerying.ipynb ./VolcanoPlot.ipynb ./QueryGenesInConditions.ipynb\n",
    "!git commit -m \"removed plotly from confounding with the widget display at the beginning\"\n"
   ]
  },
  {
   "cell_type": "code",
   "execution_count": 24,
   "metadata": {},
   "outputs": [
    {
     "name": "stdout",
     "output_type": "stream",
     "text": [
      "[master 8d0565a] Updating dockerfile with path removed\n",
      " 9 files changed, 230219 insertions(+), 113786 deletions(-)\n",
      " create mode 100644 QueryGenesInConditions.ipynb\n",
      " create mode 100644 RNAseqPCA.ipynb\n",
      " create mode 100644 RNAseqQuerying.ipynb\n",
      " create mode 100644 RNAseqTSNE.ipynb\n",
      " create mode 100644 VolcanoPlot.ipynb\n",
      " rename skymap_widget_imports.py => basicRNAseqAnalysis_imports.py (100%)\n"
     ]
    }
   ],
   "source": [
    "!git add ./Docker/Dockerfile  #./jupyter-notebooks/clean_notebooks/*\n",
    "!git commit -m \"Updating dockerfile with path removed\""
   ]
  },
  {
   "cell_type": "code",
   "execution_count": 18,
   "metadata": {},
   "outputs": [
    {
     "name": "stdout",
     "output_type": "stream",
     "text": [
      "On branch master\r\n",
      "Your branch is ahead of 'origin/master' by 1 commit.\r\n",
      "  (use \"git push\" to publish your local commits)\r\n",
      "\r\n",
      "Changes not staged for commit:\r\n",
      "\t\u001b[31mmodified:   .ipynb_checkpoints/DockerBuild-checkpoint.ipynb\u001b[m\r\n",
      "\t\u001b[31mmodified:   .ipynb_checkpoints/README-checkpoint.ipynb\u001b[m\r\n",
      "\t\u001b[31mmodified:   .ipynb_checkpoints/gitpush-checkpoint.ipynb\u001b[m\r\n",
      "\t\u001b[31mmodified:   DockerBuild.ipynb\u001b[m\r\n",
      "\t\u001b[31mmodified:   gitpush.ipynb\u001b[m\r\n",
      "\r\n",
      "Untracked files:\r\n",
      "\t\u001b[31m.ipynb_checkpoints/RNA-seq-checkpoint.ipynb\u001b[m\r\n",
      "\t\u001b[31m.ipynb_checkpoints/Untitled-checkpoint.ipynb\u001b[m\r\n",
      "\t\u001b[31m.ipynb_checkpoints/basicRNAseqAnalysis-checkpoint.ipynb\u001b[m\r\n",
      "\t\u001b[31m.ipynb_checkpoints/queryingRNAseqByGene-checkpoint.ipynb\u001b[m\r\n",
      "\r\n",
      "no changes added to commit\r\n"
     ]
    }
   ],
   "source": [
    "!git add start.sh  #./jupyter-notebooks/clean_notebooks/*\n",
    "!git commit -m \"updated code: \""
   ]
  },
  {
   "cell_type": "code",
   "execution_count": 23,
   "metadata": {},
   "outputs": [
    {
     "name": "stdout",
     "output_type": "stream",
     "text": [
      "Counting objects: 6, done.\n",
      "Delta compression using up to 2 threads.\n",
      "Compressing objects: 100% (6/6), done.\n",
      "Writing objects: 100% (6/6), 1.91 KiB | 1.91 MiB/s, done.\n",
      "Total 6 (delta 3), reused 0 (delta 0)\n",
      "remote: Resolving deltas: 100% (3/3), completed with 2 local objects.\u001b[K\n",
      "To https://github.com/brianyiktaktsui/CarterLabJupyterHub.git\n",
      "   5608369..1a9a83e  master -> master\n"
     ]
    }
   ],
   "source": [
    "\n",
    "!git push https://github.com/brianyiktaktsui/CarterLabJupyterHub.git master"
   ]
  },
  {
   "cell_type": "markdown",
   "metadata": {},
   "source": []
  },
  {
   "cell_type": "code",
   "execution_count": 5,
   "metadata": {},
   "outputs": [
    {
     "name": "stdout",
     "output_type": "stream",
     "text": [
      "Work with Jupyter notebook extensions\r\n",
      "\r\n",
      "Subcommands\r\n",
      "-----------\r\n",
      "\r\n",
      "Subcommands are launched as `jupyter nbextension cmd [args]`. For information on\r\n",
      "using subcommand 'cmd', do: `jupyter nbextension cmd -h`.\r\n",
      "\r\n",
      "install\r\n",
      "    Install an nbextension\r\n",
      "enable\r\n",
      "    Enable an nbextension\r\n",
      "disable\r\n",
      "    Disable an nbextension\r\n",
      "uninstall\r\n",
      "    Uninstall an nbextension\r\n",
      "list\r\n",
      "    List nbextensions\r\n",
      "\r\n",
      "Options\r\n",
      "-------\r\n",
      "\r\n",
      "Arguments that take values are actually convenience aliases to full\r\n",
      "Configurables, whose aliases are listed on the help line. For more information\r\n",
      "on full configurables, see '--help-all'.\r\n",
      "\r\n",
      "--debug\r\n",
      "    set log level to logging.DEBUG (maximize logging output)\r\n",
      "--user\r\n",
      "    Apply the operation only for the given user\r\n",
      "--system\r\n",
      "    Apply the operation system-wide\r\n",
      "--sys-prefix\r\n",
      "    Use sys.prefix as the prefix for installing nbextensions (for environments, packaging)\r\n",
      "--py\r\n",
      "    Install from a Python package\r\n",
      "--python\r\n",
      "    Install from a Python package\r\n",
      "--log-level=<Enum> (Application.log_level)\r\n",
      "    Default: 30\r\n",
      "    Choices: (0, 10, 20, 30, 40, 50, 'DEBUG', 'INFO', 'WARN', 'ERROR', 'CRITICAL')\r\n",
      "    Set the log level by value or name.\r\n",
      "--config=<Unicode> (JupyterApp.config_file)\r\n",
      "    Default: ''\r\n",
      "    Full path of a config file.\r\n",
      "\r\n",
      "To see all available configurables, use `--help-all`\r\n",
      "\r\n",
      "Examples\r\n",
      "--------\r\n",
      "\r\n",
      "    jupyter nbextension list                          # list all configured nbextensions\r\n",
      "    jupyter nbextension install --py <packagename>    # install an nbextension from a Python package\r\n",
      "    jupyter nbextension enable --py <packagename>     # enable all nbextensions in a Python package\r\n",
      "    jupyter nbextension disable --py <packagename>    # disable all nbextensions in a Python package\r\n",
      "    jupyter nbextension uninstall --py <packagename>  # uninstall an nbextension in a Python package\r\n",
      "\r\n"
     ]
    }
   ],
   "source": [
    "!jupyter nbextension --help"
   ]
  },
  {
   "cell_type": "code",
   "execution_count": null,
   "metadata": {},
   "outputs": [],
   "source": [
    "#git://github.com/mikehaertl/phpwkhtmltopdf.git\n"
   ]
  }
 ],
 "metadata": {
  "kernelspec": {
   "display_name": "Python 3",
   "language": "python",
   "name": "python3"
  },
  "language_info": {
   "codemirror_mode": {
    "name": "ipython",
    "version": 3
   },
   "file_extension": ".py",
   "mimetype": "text/x-python",
   "name": "python",
   "nbconvert_exporter": "python",
   "pygments_lexer": "ipython3",
   "version": "3.6.7"
  }
 },
 "nbformat": 4,
 "nbformat_minor": 2
}
