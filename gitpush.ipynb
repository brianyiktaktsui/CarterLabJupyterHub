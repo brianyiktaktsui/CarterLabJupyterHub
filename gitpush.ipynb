{
 "cells": [
  {
   "cell_type": "markdown",
   "metadata": {},
   "source": [
    "# Quickstart\n",
    "* [RNAseq loading example](./notebooks/loadingRNAseqByGene.ipynb)\n"
   ]
  },
  {
   "cell_type": "code",
   "execution_count": 2,
   "metadata": {},
   "outputs": [],
   "source": [
    "#!git rm ./README.md"
   ]
  },
  {
   "cell_type": "code",
   "execution_count": 6,
   "metadata": {},
   "outputs": [
    {
     "name": "stdout",
     "output_type": "stream",
     "text": [
      "Already up to date.\r\n"
     ]
    }
   ],
   "source": [
    "!git pull"
   ]
  },
  {
   "cell_type": "code",
   "execution_count": 8,
   "metadata": {},
   "outputs": [
    {
     "name": "stdout",
     "output_type": "stream",
     "text": [
      "[master de4d94b] updated code\r\n",
      " Committer: Brian Tsui <btsui@Brians-MacBook-Pro-3.local>\r\n",
      "Your name and email address were configured automatically based\r\n",
      "on your username and hostname. Please check that they are accurate.\r\n",
      "You can suppress this message by setting them explicitly. Run the\r\n",
      "following command and follow the instructions in your editor to edit\r\n",
      "your configuration file:\r\n",
      "\r\n",
      "    git config --global --edit\r\n",
      "\r\n",
      "After doing this, you may fix the identity used for this commit with:\r\n",
      "\r\n",
      "    git commit --amend --reset-author\r\n",
      "\r\n",
      " 5 files changed, 743 insertions(+), 664 deletions(-)\r\n",
      " rewrite DockerBuild.ipynb (90%)\r\n",
      " create mode 100644 RNA-seq.ipynb\r\n",
      " create mode 100644 Untitled.ipynb\r\n",
      " rewrite queryingRNAseqByGene.ipynb (80%)\r\n"
     ]
    }
   ],
   "source": [
    "!git add *.ipynb  #./jupyter-notebooks/clean_notebooks/*\n",
    "!git commit -m \"updated code \""
   ]
  },
  {
   "cell_type": "code",
   "execution_count": 9,
   "metadata": {},
   "outputs": [
    {
     "name": "stdout",
     "output_type": "stream",
     "text": [
      "[master aee40a0] Updating dockerfile with path removed\r\n",
      " Committer: Brian Tsui <btsui@Brians-MacBook-Pro-3.local>\r\n",
      "Your name and email address were configured automatically based\r\n",
      "on your username and hostname. Please check that they are accurate.\r\n",
      "You can suppress this message by setting them explicitly. Run the\r\n",
      "following command and follow the instructions in your editor to edit\r\n",
      "your configuration file:\r\n",
      "\r\n",
      "    git config --global --edit\r\n",
      "\r\n",
      "After doing this, you may fix the identity used for this commit with:\r\n",
      "\r\n",
      "    git commit --amend --reset-author\r\n",
      "\r\n",
      " 1 file changed, 6 insertions(+), 6 deletions(-)\r\n"
     ]
    }
   ],
   "source": [
    "!git add ./Docker/Dockerfile  #./jupyter-notebooks/clean_notebooks/*\n",
    "!git commit -m \"Updating dockerfile with path removed\""
   ]
  },
  {
   "cell_type": "code",
   "execution_count": 2,
   "metadata": {},
   "outputs": [
    {
     "name": "stdout",
     "output_type": "stream",
     "text": [
      "On branch master\r\n",
      "Your branch is ahead of 'origin/master' by 1 commit.\r\n",
      "  (use \"git push\" to publish your local commits)\r\n",
      "\r\n",
      "Changes not staged for commit:\r\n",
      "\t\u001b[31mmodified:   .ipynb_checkpoints/DockerBuild-checkpoint.ipynb\u001b[m\r\n",
      "\t\u001b[31mmodified:   .ipynb_checkpoints/README-checkpoint.ipynb\u001b[m\r\n",
      "\t\u001b[31mmodified:   .ipynb_checkpoints/gitpush-checkpoint.ipynb\u001b[m\r\n",
      "\t\u001b[31mmodified:   Docker/Dockerfile\u001b[m\r\n",
      "\t\u001b[31mmodified:   DockerBuild.ipynb\u001b[m\r\n",
      "\t\u001b[31mmodified:   gitpush.ipynb\u001b[m\r\n",
      "\t\u001b[31mmodified:   queryingRNAseqByGene.ipynb\u001b[m\r\n",
      "\r\n",
      "Untracked files:\r\n",
      "\t\u001b[31m.ipynb_checkpoints/RNA-seq-checkpoint.ipynb\u001b[m\r\n",
      "\t\u001b[31m.ipynb_checkpoints/Untitled-checkpoint.ipynb\u001b[m\r\n",
      "\t\u001b[31m.ipynb_checkpoints/basicRNAseqAnalysis-checkpoint.ipynb\u001b[m\r\n",
      "\t\u001b[31m.ipynb_checkpoints/queryingRNAseqByGene-checkpoint.ipynb\u001b[m\r\n",
      "\t\u001b[31mRNA-seq.ipynb\u001b[m\r\n",
      "\t\u001b[31mUntitled.ipynb\u001b[m\r\n",
      "\r\n",
      "no changes added to commit\r\n"
     ]
    }
   ],
   "source": [
    "!git add start.sh  #./jupyter-notebooks/clean_notebooks/*\n",
    "!git commit -m \"updated code: \""
   ]
  },
  {
   "cell_type": "code",
   "execution_count": 2,
   "metadata": {},
   "outputs": [
    {
     "name": "stdout",
     "output_type": "stream",
     "text": [
      "Counting objects: 3, done.\n",
      "Delta compression using up to 8 threads.\n",
      "Compressing objects: 100% (3/3), done.\n",
      "Writing objects: 100% (3/3), 4.78 KiB | 4.78 MiB/s, done.\n",
      "Total 3 (delta 1), reused 0 (delta 0)\n",
      "remote: Resolving deltas: 100% (1/1), completed with 1 local object.\u001b[K\n",
      "To github.com:brianyiktaktsui/CarterLabJupyterHub.git\n",
      "   3ef0f2c..85cedb5  master -> master\n"
     ]
    }
   ],
   "source": [
    "\n",
    "!git push"
   ]
  },
  {
   "cell_type": "markdown",
   "metadata": {},
   "source": []
  },
  {
   "cell_type": "code",
   "execution_count": 5,
   "metadata": {},
   "outputs": [
    {
     "name": "stdout",
     "output_type": "stream",
     "text": [
      "Work with Jupyter notebook extensions\r\n",
      "\r\n",
      "Subcommands\r\n",
      "-----------\r\n",
      "\r\n",
      "Subcommands are launched as `jupyter nbextension cmd [args]`. For information on\r\n",
      "using subcommand 'cmd', do: `jupyter nbextension cmd -h`.\r\n",
      "\r\n",
      "install\r\n",
      "    Install an nbextension\r\n",
      "enable\r\n",
      "    Enable an nbextension\r\n",
      "disable\r\n",
      "    Disable an nbextension\r\n",
      "uninstall\r\n",
      "    Uninstall an nbextension\r\n",
      "list\r\n",
      "    List nbextensions\r\n",
      "\r\n",
      "Options\r\n",
      "-------\r\n",
      "\r\n",
      "Arguments that take values are actually convenience aliases to full\r\n",
      "Configurables, whose aliases are listed on the help line. For more information\r\n",
      "on full configurables, see '--help-all'.\r\n",
      "\r\n",
      "--debug\r\n",
      "    set log level to logging.DEBUG (maximize logging output)\r\n",
      "--user\r\n",
      "    Apply the operation only for the given user\r\n",
      "--system\r\n",
      "    Apply the operation system-wide\r\n",
      "--sys-prefix\r\n",
      "    Use sys.prefix as the prefix for installing nbextensions (for environments, packaging)\r\n",
      "--py\r\n",
      "    Install from a Python package\r\n",
      "--python\r\n",
      "    Install from a Python package\r\n",
      "--log-level=<Enum> (Application.log_level)\r\n",
      "    Default: 30\r\n",
      "    Choices: (0, 10, 20, 30, 40, 50, 'DEBUG', 'INFO', 'WARN', 'ERROR', 'CRITICAL')\r\n",
      "    Set the log level by value or name.\r\n",
      "--config=<Unicode> (JupyterApp.config_file)\r\n",
      "    Default: ''\r\n",
      "    Full path of a config file.\r\n",
      "\r\n",
      "To see all available configurables, use `--help-all`\r\n",
      "\r\n",
      "Examples\r\n",
      "--------\r\n",
      "\r\n",
      "    jupyter nbextension list                          # list all configured nbextensions\r\n",
      "    jupyter nbextension install --py <packagename>    # install an nbextension from a Python package\r\n",
      "    jupyter nbextension enable --py <packagename>     # enable all nbextensions in a Python package\r\n",
      "    jupyter nbextension disable --py <packagename>    # disable all nbextensions in a Python package\r\n",
      "    jupyter nbextension uninstall --py <packagename>  # uninstall an nbextension in a Python package\r\n",
      "\r\n"
     ]
    }
   ],
   "source": [
    "!jupyter nbextension --help"
   ]
  },
  {
   "cell_type": "code",
   "execution_count": null,
   "metadata": {},
   "outputs": [],
   "source": [
    "#git clone https://github.com/brianyiktaktsui/CarterLabJupyterHub.git\n",
    "#git://github.com/mikehaertl/phpwkhtmltopdf.git\n"
   ]
  }
 ],
 "metadata": {
  "kernelspec": {
   "display_name": "Python 3",
   "language": "python",
   "name": "python3"
  },
  "language_info": {
   "codemirror_mode": {
    "name": "ipython",
    "version": 3
   },
   "file_extension": ".py",
   "mimetype": "text/x-python",
   "name": "python",
   "nbconvert_exporter": "python",
   "pygments_lexer": "ipython3",
   "version": "3.6.7"
  }
 },
 "nbformat": 4,
 "nbformat_minor": 2
}
