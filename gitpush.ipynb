{
 "cells": [
  {
   "cell_type": "markdown",
   "metadata": {},
   "source": [
    "# Quickstart\n",
    "* [RNAseq loading example](./notebooks/loadingRNAseqByGene.ipynb)\n"
   ]
  },
  {
   "cell_type": "code",
   "execution_count": 1,
   "metadata": {},
   "outputs": [],
   "source": [
    "#!git rm ./README.md"
   ]
  },
  {
   "cell_type": "code",
   "execution_count": 2,
   "metadata": {},
   "outputs": [
    {
     "name": "stdout",
     "output_type": "stream",
     "text": [
      "From https://github.com/brianyiktaktsui/CarterLabJupyterHub\r\n",
      " * branch            master     -> FETCH_HEAD\r\n",
      "Already up to date.\r\n"
     ]
    }
   ],
   "source": [
    "!git pull https://github.com/brianyiktaktsui/CarterLabJupyterHub.git master"
   ]
  },
  {
   "cell_type": "markdown",
   "metadata": {},
   "source": [
    "[Click](RNAseqQuerying.ipynb)"
   ]
  },
  {
   "cell_type": "code",
   "execution_count": 7,
   "metadata": {},
   "outputs": [],
   "source": [
    "import os\n",
    "import pandas as pd\n",
    "fnameS=pd.Series(os.listdir('./'))\n",
    "fnameS=fnameS[fnameS.str.contains('.ipynb$')&(fnameS!='gitpush.ipynb')]"
   ]
  },
  {
   "cell_type": "code",
   "execution_count": 16,
   "metadata": {},
   "outputs": [
    {
     "name": "stdout",
     "output_type": "stream",
     "text": [
      "[NbConvertApp] WARNING | Config option `template_path` not recognized by `NotebookExporter`.\n",
      "[NbConvertApp] Converting notebook TestPlotly.ipynb to notebook\n",
      "[NbConvertApp] Writing 2555 bytes to TestPlotly.ipynb\n",
      "[NbConvertApp] WARNING | Config option `template_path` not recognized by `NotebookExporter`.\n",
      "[NbConvertApp] Converting notebook README.ipynb to notebook\n",
      "[NbConvertApp] Writing 3716 bytes to README.ipynb\n",
      "[NbConvertApp] WARNING | Config option `template_path` not recognized by `NotebookExporter`.\n",
      "[NbConvertApp] Converting notebook DockerBuild.ipynb to notebook\n",
      "[NbConvertApp] Writing 2541 bytes to DockerBuild.ipynb\n",
      "[NbConvertApp] WARNING | Config option `template_path` not recognized by `NotebookExporter`.\n",
      "[NbConvertApp] Converting notebook queryingRNAseqByGene.ipynb to notebook\n",
      "[NbConvertApp] Writing 10796 bytes to queryingRNAseqByGene.ipynb\n",
      "[NbConvertApp] WARNING | Config option `template_path` not recognized by `NotebookExporter`.\n",
      "[NbConvertApp] Converting notebook loadAllelicReadCountBySrrId.ipynb to notebook\n",
      "[NbConvertApp] Writing 3114 bytes to loadAllelicReadCountBySrrId.ipynb\n",
      "[NbConvertApp] WARNING | Config option `template_path` not recognized by `NotebookExporter`.\n",
      "[NbConvertApp] Converting notebook basicRNAseqAnalysis.ipynb to notebook\n",
      "[NbConvertApp] Writing 20397 bytes to basicRNAseqAnalysis.ipynb\n",
      "[NbConvertApp] WARNING | Config option `template_path` not recognized by `NotebookExporter`.\n",
      "[NbConvertApp] Converting notebook VolcanoPlot.ipynb to notebook\n",
      "[NbConvertApp] Writing 3966 bytes to VolcanoPlot.ipynb\n",
      "[NbConvertApp] WARNING | Config option `template_path` not recognized by `NotebookExporter`.\n",
      "[NbConvertApp] Converting notebook download.ipynb to notebook\n",
      "[NbConvertApp] Writing 775 bytes to download.ipynb\n",
      "[NbConvertApp] WARNING | Config option `template_path` not recognized by `NotebookExporter`.\n",
      "[NbConvertApp] Converting notebook RNA-seq.ipynb to notebook\n",
      "[NbConvertApp] Writing 695 bytes to RNA-seq.ipynb\n",
      "[NbConvertApp] WARNING | Config option `template_path` not recognized by `NotebookExporter`.\n",
      "[NbConvertApp] Converting notebook loadMetaData_hub.ipynb to notebook\n",
      "[NbConvertApp] Writing 5535 bytes to loadMetaData_hub.ipynb\n",
      "[NbConvertApp] WARNING | Config option `template_path` not recognized by `NotebookExporter`.\n",
      "[NbConvertApp] Converting notebook RNAseqTSNE.ipynb to notebook\n",
      "[NbConvertApp] Writing 2604 bytes to RNAseqTSNE.ipynb\n",
      "[NbConvertApp] WARNING | Config option `template_path` not recognized by `NotebookExporter`.\n",
      "[NbConvertApp] Converting notebook RNAseqPCA.ipynb to notebook\n",
      "[NbConvertApp] Writing 3937 bytes to RNAseqPCA.ipynb\n",
      "[NbConvertApp] WARNING | Config option `template_path` not recognized by `NotebookExporter`.\n",
      "[NbConvertApp] Converting notebook RNAseqStudyClustermap.ipynb to notebook\n",
      "[NbConvertApp] Writing 2375 bytes to RNAseqStudyClustermap.ipynb\n",
      "[NbConvertApp] WARNING | Config option `template_path` not recognized by `NotebookExporter`.\n",
      "[NbConvertApp] Converting notebook RNAseqQuerying.ipynb to notebook\n",
      "[NbConvertApp] Writing 15289 bytes to RNAseqQuerying.ipynb\n",
      "[NbConvertApp] WARNING | Config option `template_path` not recognized by `NotebookExporter`.\n",
      "[NbConvertApp] Converting notebook QueryGenesInConditions.ipynb to notebook\n",
      "[NbConvertApp] Writing 4040 bytes to QueryGenesInConditions.ipynb\n",
      "[NbConvertApp] WARNING | Config option `template_path` not recognized by `NotebookExporter`.\n",
      "[NbConvertApp] Converting notebook extractFiles.ipynb to notebook\n",
      "[NbConvertApp] Writing 829 bytes to extractFiles.ipynb\n",
      "[NbConvertApp] WARNING | Config option `template_path` not recognized by `NotebookExporter`.\n",
      "[NbConvertApp] Converting notebook loadingRNAseqByGene.ipynb to notebook\n",
      "[NbConvertApp] Writing 3561 bytes to loadingRNAseqByGene.ipynb\n",
      "[NbConvertApp] WARNING | Config option `template_path` not recognized by `NotebookExporter`.\n",
      "[NbConvertApp] Converting notebook Untitled.ipynb to notebook\n",
      "[NbConvertApp] Writing 700 bytes to Untitled.ipynb\n"
     ]
    }
   ],
   "source": [
    "for fname in fnameS:\n",
    "    !jupyter nbconvert --ClearOutputPreprocessor.enabled=True --inplace {fname}"
   ]
  },
  {
   "cell_type": "code",
   "execution_count": 17,
   "metadata": {},
   "outputs": [
    {
     "name": "stdout",
     "output_type": "stream",
     "text": [
      "[master a08e8ca]  updated querying process\r\n",
      " 2 files changed, 20 insertions(+), 19 deletions(-)\r\n"
     ]
    }
   ],
   "source": [
    "!git add *.ipynb\n",
    "!git commit -m \" updated querying process\"\n"
   ]
  },
  {
   "cell_type": "code",
   "execution_count": 18,
   "metadata": {},
   "outputs": [
    {
     "name": "stdout",
     "output_type": "stream",
     "text": [
      "On branch master\r\n",
      "Your branch is ahead of 'origin/master' by 3 commits.\r\n",
      "  (use \"git push\" to publish your local commits)\r\n",
      "\r\n",
      "Changes not staged for commit:\r\n",
      "\t\u001b[31mmodified:   .ipynb_checkpoints/README-checkpoint.ipynb\u001b[m\r\n",
      "\t\u001b[31mmodified:   .ipynb_checkpoints/gitpush-checkpoint.ipynb\u001b[m\r\n",
      "\r\n",
      "Untracked files:\r\n",
      "\t\u001b[31m.ipynb_checkpoints/QueryGenesInConditions-checkpoint.ipynb\u001b[m\r\n",
      "\t\u001b[31m.ipynb_checkpoints/RNAseqPCA-checkpoint.ipynb\u001b[m\r\n",
      "\t\u001b[31m.ipynb_checkpoints/RNAseqQuerying-checkpoint.ipynb\u001b[m\r\n",
      "\r\n",
      "no changes added to commit\r\n"
     ]
    }
   ],
   "source": [
    "!git add ./Docker/Dockerfile  #./jupyter-notebooks/clean_notebooks/*\n",
    "!git commit -m \"Updating dockerfile with path removed\""
   ]
  },
  {
   "cell_type": "code",
   "execution_count": 19,
   "metadata": {},
   "outputs": [
    {
     "name": "stdout",
     "output_type": "stream",
     "text": [
      "On branch master\r\n",
      "Your branch is ahead of 'origin/master' by 3 commits.\r\n",
      "  (use \"git push\" to publish your local commits)\r\n",
      "\r\n",
      "Changes not staged for commit:\r\n",
      "\t\u001b[31mmodified:   .ipynb_checkpoints/README-checkpoint.ipynb\u001b[m\r\n",
      "\t\u001b[31mmodified:   .ipynb_checkpoints/gitpush-checkpoint.ipynb\u001b[m\r\n",
      "\r\n",
      "Untracked files:\r\n",
      "\t\u001b[31m.ipynb_checkpoints/QueryGenesInConditions-checkpoint.ipynb\u001b[m\r\n",
      "\t\u001b[31m.ipynb_checkpoints/RNAseqPCA-checkpoint.ipynb\u001b[m\r\n",
      "\t\u001b[31m.ipynb_checkpoints/RNAseqQuerying-checkpoint.ipynb\u001b[m\r\n",
      "\r\n",
      "no changes added to commit\r\n"
     ]
    }
   ],
   "source": [
    "!git add start.sh  #./jupyter-notebooks/clean_notebooks/*\n",
    "!git commit -m \"updated code: \""
   ]
  },
  {
   "cell_type": "code",
   "execution_count": 20,
   "metadata": {},
   "outputs": [],
   "source": [
    "!git config --global credential.helper cache\n"
   ]
  },
  {
   "cell_type": "code",
   "execution_count": 21,
   "metadata": {},
   "outputs": [
    {
     "name": "stdout",
     "output_type": "stream",
     "text": [
      "Counting objects: 4, done.\n",
      "Delta compression using up to 2 threads.\n",
      "Compressing objects: 100% (4/4), done.\n",
      "Writing objects: 100% (4/4), 645 bytes | 645.00 KiB/s, done.\n",
      "Total 4 (delta 3), reused 0 (delta 0)\n",
      "remote: Resolving deltas: 100% (3/3), completed with 3 local objects.\u001b[K\n",
      "To https://github.com/brianyiktaktsui/CarterLabJupyterHub.git\n",
      "   e7a7951..a08e8ca  master -> master\n"
     ]
    }
   ],
   "source": [
    "\n",
    "!git push https://github.com/brianyiktaktsui/CarterLabJupyterHub.git master"
   ]
  },
  {
   "cell_type": "markdown",
   "metadata": {},
   "source": []
  },
  {
   "cell_type": "code",
   "execution_count": null,
   "metadata": {},
   "outputs": [],
   "source": [
    "!jupyter nbextension --help"
   ]
  },
  {
   "cell_type": "code",
   "execution_count": null,
   "metadata": {},
   "outputs": [],
   "source": [
    "#git://github.com/mikehaertl/phpwkhtmltopdf.git\n"
   ]
  }
 ],
 "metadata": {
  "kernelspec": {
   "display_name": "Python 3",
   "language": "python",
   "name": "python3"
  },
  "language_info": {
   "codemirror_mode": {
    "name": "ipython",
    "version": 3
   },
   "file_extension": ".py",
   "mimetype": "text/x-python",
   "name": "python",
   "nbconvert_exporter": "python",
   "pygments_lexer": "ipython3",
   "version": "3.6.7"
  }
 },
 "nbformat": 4,
 "nbformat_minor": 2
}
