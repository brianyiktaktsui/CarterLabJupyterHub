{
 "cells": [
  {
   "cell_type": "markdown",
   "metadata": {
    "heading_collapsed": true
   },
   "source": [
    "### Init"
   ]
  },
  {
   "cell_type": "code",
   "execution_count": null,
   "metadata": {
    "hidden": true,
    "init_cell": true
   },
   "outputs": [],
   "source": [
    "import ipywidgets as widgets\n",
    "from ipywidgets import  Layout\n",
    "from IPython.display import display,Javascript\n",
    "import pandas as pd\n",
    "import numpy as np\n",
    "hitDf=pd.read_pickle('./tmp.profile.pickle')\n",
    "inputAnalyzeDf=np.log2(hitDf+1)\n",
    "listOfQueries=list(inputAnalyzeDf.columns.get_level_values('queryLabel').unique())\n",
    "wA=widgets.Dropdown(\n",
    "    options=listOfQueries,value=listOfQueries[0],description='condition A:',disabled=False,\n",
    ")\n",
    "wB=widgets.Dropdown(\n",
    "    options=listOfQueries,    value=listOfQueries[1],description='condition B:',disabled=False,\n",
    ")\n",
    "def run_all(ev):\n",
    "    display(Javascript('IPython.notebook.execute_cells_below()'))\n",
    "button_query = widgets.Button(description=\"Generate plot\",\n",
    "                             layout=Layout(width='20%', height='100%'))\n",
    "button_query.on_click(run_all)\n",
    "button_query.style.button_color='lightblue'"
   ]
  },
  {
   "cell_type": "markdown",
   "metadata": {},
   "source": [
    "### SELECT THE COMPARISON CLASS HERE AND CLICK BLUE BUTTON \"Generate plot\""
   ]
  },
  {
   "cell_type": "code",
   "execution_count": null,
   "metadata": {
    "init_cell": true
   },
   "outputs": [],
   "source": [
    "display(wA)\n",
    "display(wB)\n",
    "display(button_query)"
   ]
  },
  {
   "cell_type": "markdown",
   "metadata": {
    "heading_collapsed": true
   },
   "source": [
    "### Code"
   ]
  },
  {
   "cell_type": "code",
   "execution_count": null,
   "metadata": {
    "hidden": true
   },
   "outputs": [],
   "source": [
    "import plotly.graph_objs as go\n",
    "from plotly.offline import iplot, init_notebook_mode\n",
    "init_notebook_mode()"
   ]
  },
  {
   "cell_type": "code",
   "execution_count": null,
   "metadata": {
    "hidden": true
   },
   "outputs": [],
   "source": [
    "from scipy import stats\n",
    "expression_effect_size_filter=0.0 \n",
    "labelA=wA.get_interact_value()\n",
    "labelB=wB.get_interact_value()\n",
    "t,p=stats.ttest_ind(inputAnalyzeDf[labelA],inputAnalyzeDf[labelB],axis=1)\n",
    "effectDiff=inputAnalyzeDf[labelA].mean(axis=1)-inputAnalyzeDf[labelB].mean(axis=1)\n",
    "effectLabel='expression of : \"{}\" - \"{}\"'.format(labelA, labelB)\n",
    "tmpDf=pd.DataFrame({'t':t,'-log10(p)':-np.log10(p),effectLabel:effectDiff,'u':inputAnalyzeDf.mean(axis=1)},index=inputAnalyzeDf.index)\n",
    "plotDf=tmpDf[tmpDf['u']>=expression_effect_size_filter].dropna()\n",
    "yLabel='-log10(p)'\n",
    "xLabel=effectLabel\n",
    "\n",
    "layout = go.Layout(\n",
    "    yaxis={'title':\"-log10(p)\"},\n",
    "    xaxis={'title':\"{} - {}\".format(labelA,labelB)}\n",
    ")\n",
    "fig = go.Figure(layout=layout)\n",
    "#m=plotDf.index.isin(annotateGenesList)\n",
    "fig.add_scatter( x=plotDf[xLabel],y=plotDf[yLabel],mode='markers',hovertext=plotDf.index.values,name='')\n",
    "\n"
   ]
  },
  {
   "cell_type": "markdown",
   "metadata": {},
   "source": [
    "### Plot"
   ]
  },
  {
   "cell_type": "code",
   "execution_count": null,
   "metadata": {},
   "outputs": [],
   "source": [
    "iplot(fig)"
   ]
  }
 ],
 "metadata": {
  "celltoolbar": "Initialization Cell",
  "kernelspec": {
   "display_name": "Python 3",
   "language": "python",
   "name": "python3"
  },
  "language_info": {
   "codemirror_mode": {
    "name": "ipython",
    "version": 3
   },
   "file_extension": ".py",
   "mimetype": "text/x-python",
   "name": "python",
   "nbconvert_exporter": "python",
   "pygments_lexer": "ipython3",
   "version": "3.6.7"
  }
 },
 "nbformat": 4,
 "nbformat_minor": 2
}
